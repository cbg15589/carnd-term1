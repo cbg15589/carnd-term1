{
 "cells": [
  {
   "cell_type": "code",
   "execution_count": 1,
   "metadata": {
    "collapsed": true,
    "deletable": true,
    "editable": true
   },
   "outputs": [],
   "source": [
    "import numpy as np\n",
    "import cv2\n",
    "import matplotlib.pyplot as plt\n",
    "import matplotlib.image as mpimg\n",
    "import glob\n",
    "import pickle\n",
    "%matplotlib inline\n"
   ]
  },
  {
   "cell_type": "code",
   "execution_count": null,
   "metadata": {
    "collapsed": false,
    "deletable": true,
    "editable": true
   },
   "outputs": [],
   "source": [
    "#Read in and make a list of calibration images\n",
    "images = glob.glob('C:\\carnd-term1\\CarND-Advanced-Lane-Lines\\camera_cal\\calibration*.jpg')"
   ]
  },
  {
   "cell_type": "code",
   "execution_count": null,
   "metadata": {
    "collapsed": false,
    "deletable": true,
    "editable": true
   },
   "outputs": [],
   "source": [
    "# Arrays to store object points and image points from all the images\n",
    "\n",
    "objpoints = [] # 3D points in the real world space\n",
    "imgpoints = [] # 2d points in image plane\n",
    "\n",
    "# Prepare object points, like (0,0,0), (1,0,0) ....,(8,5,0)\n",
    "objp = np.zeros((6*9,3), np.float32)\n",
    "objp[:,:2] = np.mgrid[0:9,0:6].T.reshape(-1,2) # x, y coordinates\n",
    "\n",
    "#Plot images identifying Chessboard corners\n",
    "plt.subplots(figsize=(20, 8))\n",
    "i = 0\n",
    "for fname in images:\n",
    "    # Read in each image\n",
    "    img = mpimg.imread(fname)\n",
    "    \n",
    "    # Convert image to grayscale\n",
    "    gray = cv2.cvtColor(img,cv2.COLOR_RGB2GRAY)\n",
    "\n",
    "    # Find the chessboard corners\n",
    "    ret, corners = cv2.findChessboardCorners(gray, (9,6),None)\n",
    "\n",
    "    # If corners are found, add object points, image points\n",
    "    if ret == True:\n",
    "        imgpoints.append(corners)\n",
    "        objpoints.append(objp)\n",
    "\n",
    "        # draw and display the corners\n",
    "        img = cv2.drawChessboardCorners(img, (9,6), corners, ret)\n",
    "        plt.subplot(4,5, 1 + i)\n",
    "        i+=1\n",
    "        plt.imshow(img)\n",
    "        \n",
    "# Calibrate Camera\n",
    "ret, mtx, dist, rvecs, tvecs = cv2.calibrateCamera(objpoints, imgpoints, gray.shape[::-1], None, None)\n",
    "\n",
    "# Undistort and plot images\n",
    "plt.subplots(figsize=(20, 8))\n",
    "i = 0\n",
    "for fname in images:\n",
    "    # Read in each image\n",
    "    img = mpimg.imread(fname)\n",
    "    \n",
    "    # Undistort and print image\n",
    "    dst = cv2.undistort(img, mtx, dist, None, mtx)\n",
    "    plt.subplot(4,5, 1 + i)\n",
    "    i+=1\n",
    "    plt.imshow(dst)\n",
    "\n",
    "# Save the camera calibration result for later use \n",
    "dist_pickle = {}\n",
    "dist_pickle[\"mtx\"] = mtx\n",
    "dist_pickle[\"dist\"] = dist\n",
    "pickle.dump( dist_pickle, open( \"C:\\carnd-term1\\CarND-Advanced-Lane-Lines\\camera_cal\\wide_dist_pickle.p\", \"wb\" ) )\n",
    "\n",
    "# Test undistortion on an image\n",
    "img = mpimg.imread('C:\\carnd-term1\\CarND-Advanced-Lane-Lines\\camera_cal\\calibration1.jpg')\n",
    "\n",
    "\n",
    "dst = cv2.undistort(img, mtx, dist, None, mtx)\n",
    "f, (ax1, ax2) = plt.subplots(1, 2, figsize=(24, 9))\n",
    "f.tight_layout()\n",
    "ax1.imshow(img)\n",
    "ax1.set_title('Original Image', fontsize=50)\n",
    "ax2.imshow(dst)\n",
    "ax2.set_title('Undistorted Image', fontsize=50)\n",
    "plt.subplots_adjust(left=0., right=1, top=0.9, bottom=0.)"
   ]
  },
  {
   "cell_type": "code",
   "execution_count": 2,
   "metadata": {
    "collapsed": true,
    "deletable": true,
    "editable": true
   },
   "outputs": [],
   "source": [
    "def load_calibration(path):\n",
    "    #Load image calibration\n",
    "    calibration_file = path\n",
    "\n",
    "    with open(calibration_file, mode='rb') as f:\n",
    "        calibration = pickle.load(f)\n",
    "    \n",
    "    mtx, dist = calibration['mtx'], calibration['dist']\n",
    "    \n",
    "    return mtx, dist\n",
    "\n",
    "def undistort(img,mtx,dist):\n",
    "    dst = cv2.undistort(img, mtx, dist, None, mtx)\n",
    "    return dst"
   ]
  },
  {
   "cell_type": "code",
   "execution_count": null,
   "metadata": {
    "collapsed": false,
    "deletable": true,
    "editable": true
   },
   "outputs": [],
   "source": [
    "#Read in and make a list of road images\n",
    "road_images = glob.glob('C:\\\\carnd-term1\\\\CarND-Advanced-Lane-Lines\\\\test_images\\\\test*.jpg')\n",
    "\n",
    "\n",
    "# Undistort images\n",
    "plt.subplots(figsize=(20, 20))\n",
    "i = 0\n",
    "for fname in road_images:\n",
    "    # Read in each image\n",
    "    img = cv2.imread(fname)\n",
    "    \n",
    "    # Undistort, save and print image\n",
    "    mtx, dist = load_calibration('C:\\carnd-term1\\CarND-Advanced-Lane-Lines\\camera_cal\\wide_dist_pickle.p')\n",
    "    dst = undistort(img, mtx, dist)\n",
    "    plt.subplot(9,2, 1 + i)\n",
    "    i+=1\n",
    "    plt.imshow(cv2.cvtColor(dst, cv2.COLOR_BGR2RGB))\n",
    "    cv2.imwrite('C:\\\\carnd-term1\\\\CarND-Advanced-Lane-Lines\\\\test_images\\\\undistort_test' + str(i) + '.jpg',dst)\n"
   ]
  },
  {
   "cell_type": "code",
   "execution_count": 3,
   "metadata": {
    "collapsed": false,
    "deletable": true,
    "editable": true
   },
   "outputs": [],
   "source": [
    "def abs_sobel_thresh(img, orient='x', sobel_kernel=3, thresh=(0, 255)):\n",
    "    # Apply the following steps to img\n",
    "    # 1) Take the derivative in x or y given orient = 'x' or 'y'\n",
    "    if orient == 'x':\n",
    "        sobel = cv2.Sobel(img, cv2.CV_64F, 1, 0)\n",
    "    else:\n",
    "        sobel = cv2.Sobel(img, cv2.CV_64F, 0, 1)\n",
    "    # 2) Take the absolute value of the derivative or gradient\n",
    "    abs_sobel = np.absolute(sobel)\n",
    "    # 3) Scale to 8-bit (0 - 255) then convert to type = np.uint8\n",
    "    scaled_sobel = np.uint8(255*abs_sobel/np.max(abs_sobel))\n",
    "    # 4) Create a mask of 1's where the scaled gradient magnitude \n",
    "            # is > thresh_min and < thresh_max\n",
    "    sxbinary = np.zeros_like(scaled_sobel)\n",
    "    sxbinary[(scaled_sobel >= thresh[0]) & (scaled_sobel <= thresh[1])] = 1\n",
    "    # 5) Return this mask as your binary_output image\n",
    "    grad_binary = sxbinary\n",
    "    return grad_binary\n",
    "\n",
    "def mag_thresh(img, sobel_kernel=3, mag_thresh=(0, 255)):\n",
    "    # Apply the following steps to img\n",
    "    # 1) Take the gradient in x and y separately\n",
    "    sobelx = cv2.Sobel(img, cv2.CV_64F, 1, 0,ksize=sobel_kernel)\n",
    "    sobely = cv2.Sobel(img, cv2.CV_64F, 0, 1,ksize=sobel_kernel)\n",
    "    # 2) Calculate the magnitude \n",
    "    sobelxy = (sobelx ** 2 + sobely ** 2) ** 0.5\n",
    "    # 3) Scale to 8-bit (0 - 255) and convert to type = np.uint8\n",
    "    scaled_sobel = np.uint8(255*sobelxy/np.max(sobelxy))\n",
    "    # 4) Create a binary mask where mag thresholds are met\n",
    "    sxbinary = np.zeros_like(scaled_sobel)\n",
    "    sxbinary[(scaled_sobel >= mag_thresh[0]) & (scaled_sobel <= mag_thresh[1])] = 1\n",
    "    # 5) Return this mask as your binary_output image\n",
    "    mag_binary = sxbinary\n",
    "    return mag_binary\n",
    "\n",
    "def dir_threshold(img, sobel_kernel=3, thresh=(0, np.pi/2)):\n",
    "    # Apply the following steps to img\n",
    "    # 1) Take the gradient in x and y separately\n",
    "    sobelx = cv2.Sobel(img, cv2.CV_64F, 1, 0,ksize=sobel_kernel)\n",
    "    sobely = cv2.Sobel(img, cv2.CV_64F, 0, 1,ksize=sobel_kernel)\n",
    "    # 2) Take the absolute value of the x and y gradients\n",
    "    abs_sobelx = np.absolute(sobelx)\n",
    "    abs_sobely = np.absolute(sobely)\n",
    "    # 3) Use np.arctan2(abs_sobely, abs_sobelx) to calculate the direction of the gradient\n",
    "    direct_sobel = np.arctan2(abs_sobely, abs_sobelx)\n",
    "    # 4) Create a binary mask where direction thresholds are met\n",
    "    sxbinary = np.zeros_like(direct_sobel)\n",
    "    sxbinary[(direct_sobel >= thresh[0]) & (direct_sobel <= thresh[1])] = 1\n",
    "    # 5) Return this mask as your binary_output image\n",
    "    dir_binary = sxbinary # Remove this line\n",
    "    return dir_binary\n",
    "\n",
    "def hsv_thres_w(hsv):\n",
    "    #hsv = cv2.cvtColor(img, cv2.COLOR_RGB2HSV).astype(np.float)\n",
    "    \n",
    "    hsv_binary_w = np.zeros_like(hsv[:,:,0])\n",
    "    lower = np.array([0, 0, 200], dtype = \"uint8\")\n",
    "    upper = np.array([255, 40, 255], dtype = \"uint8\")\n",
    "    mask = cv2.inRange(hsv, lower, upper)\n",
    "    if (cv2.findNonZero(mask) is not None):\n",
    "  \n",
    "        hsv_binary_w[cv2.findNonZero(mask)[:,0,1],cv2.findNonZero(mask)[:,0,0]] = 1\n",
    "    \n",
    "    return hsv_binary_w\n",
    "\n",
    "def lab_thres_y(lab):\n",
    "    #hsv = cv2.cvtColor(img, cv2.COLOR_RGB2HSV).astype(np.float)\n",
    "    \n",
    "    #hsv_binary_y = np.zeros_like(hsv[:,:,0])\n",
    "    #lower = np.array([20, 50, 50], dtype = \"uint8\")\n",
    "    #upper = np.array([40, 255, 255], dtype = \"uint8\")\n",
    "    #mask = cv2.inRange(hsv, lower, upper)\n",
    "    #if (mask is not None) and (hsv_binary_y is not None):\n",
    "        #hsv_binary_y[cv2.findNonZero(mask)[:,0,1],cv2.findNonZero(mask)[:,0,0]] = 1\n",
    "    \n",
    "    #return hsv_binary_y\n",
    "    lab_binary_y = np.zeros_like(lab[:,:,0])\n",
    "    lower = np.array([0, 0, 150], dtype = \"uint8\")\n",
    "    upper = np.array([255, 255, 255], dtype = \"uint8\")\n",
    "    mask = cv2.inRange(lab, lower, upper)\n",
    "    if (cv2.findNonZero(mask) is not None):\n",
    "\n",
    "            lab_binary_y[cv2.findNonZero(mask)[:,0,1],cv2.findNonZero(mask)[:,0,0]] = 1\n",
    "\n",
    "    \n",
    "    return lab_binary_y\n"
   ]
  },
  {
   "cell_type": "code",
   "execution_count": 4,
   "metadata": {
    "collapsed": false,
    "deletable": true,
    "editable": true
   },
   "outputs": [],
   "source": [
    "# Edit this function to create your own pipeline.\n",
    "def color_gradient_threshold(img, s_thresh=(175, 255), sx_thresh=(40, 100)):\n",
    "    img = np.copy(img)\n",
    "    # Convert to HSV color space and separate the V channel\n",
    "    hls = cv2.cvtColor(img, cv2.COLOR_RGB2HLS).astype(np.float)\n",
    "    l_channel = hls[:,:,1]\n",
    "    s_channel = hls[:,:,2]\n",
    "    \n",
    "    #f2, (ax4, ax5) = plt.subplots(1, 2, figsize=(24, 9))\n",
    "    #f2.tight_layout()\n",
    "    \n",
    "    \n",
    "    hsv = cv2.cvtColor(img, cv2.COLOR_RGB2HSV).astype(np.uint8)\n",
    "    v_channel = hsv[:,:,2]\n",
    "    #ax4.imshow(cv2.cvtColor(hsv, cv2.COLOR_HSV2RGB).astype(np.uint8))\n",
    "    clahe = cv2.createCLAHE(clipLimit=2.0, tileGridSize=(8,8))\n",
    "    v_channel_hist = clahe.apply(v_channel)\n",
    "    hsv_eq = np.zeros_like(hsv)\n",
    "    hsv_eq[:,:,0] = hsv[:,:,0]\n",
    "    hsv_eq[:,:,1] = hsv[:,:,1]\n",
    "    hsv_eq[:,:,2] = v_channel_hist\n",
    "    img_eq = cv2.cvtColor(hsv_eq, cv2.COLOR_HSV2RGB).astype(np.uint8)\n",
    "    lab = cv2.cvtColor(img_eq, cv2.COLOR_RGB2Lab).astype(np.uint8)\n",
    "    #ax5.imshow(img_eq)\n",
    "    #cv2.imwrite('C:\\\\carnd-term1\\\\CarND-Advanced-Lane-Lines\\\\test\\\\color_grad_test' + str(random.randint(0, 100)) + '.jpg',cv2.cvtColor(hsv_eq, cv2.COLOR_HSV2BGR))\n",
    "    # Sobel x\n",
    "    #sobelx = cv2.Sobel(l_channel, cv2.CV_64F, 1, 0, ksize=1) # Take the derivative in x\n",
    "    #abs_sobelx = np.absolute(sobelx) # Absolute x derivative to accentuate lines away from horizontal\n",
    "    #scaled_sobel = np.uint8(255*abs_sobelx/np.max(abs_sobelx))\n",
    "    \n",
    "    # Threshold x gradient\n",
    "    #sxbinary = np.zeros_like(scaled_sobel)\n",
    "    #sxbinary[(scaled_sobel >= sx_thresh[0]) & (scaled_sobel <= sx_thresh[1])] = 0\n",
    "    \n",
    "    # Choose a Sobel kernel size\n",
    "    ksize = 3 # Choose a larger odd number to smooth gradient measurements\n",
    "\n",
    "    # Apply each of the thresholding functions\n",
    "    gray_orig = cv2.cvtColor(img, cv2.COLOR_RGB2GRAY).astype(np.uint8)\n",
    "    clahe = cv2.createCLAHE(clipLimit=2.0, tileGridSize=(8,8))\n",
    "    gray = clahe.apply(gray_orig)\n",
    "    \n",
    "    \n",
    "\n",
    "    \n",
    "\n",
    "    gradx = abs_sobel_thresh(gray, orient='x', sobel_kernel=ksize, thresh=(40, 100))\n",
    "    grady = abs_sobel_thresh(gray, orient='y', sobel_kernel=ksize, thresh=(40, 100))\n",
    "    mag_binary = mag_thresh(gray, sobel_kernel=ksize, mag_thresh=(30, 100))\n",
    "    dir_binary = dir_threshold(gray, sobel_kernel=15, thresh=(0.7, 1.3))\n",
    "    \n",
    "    combined_sobel = np.zeros_like(s_channel)\n",
    "    combined_sobel[((gradx == 1) & (grady == 1) & (mag_binary == 1) & (dir_binary == 1))] = 0\n",
    "    \n",
    "    \n",
    "    # Threshold color channel\n",
    "    s_binary = np.zeros_like(s_channel)\n",
    "    s_binary[(s_channel >= s_thresh[0]) & (s_channel <= s_thresh[1])] = 0\n",
    "    \n",
    "    #Threshold HSV\n",
    " \n",
    "    lab_binary_y = lab_thres_y(lab)\n",
    "\n",
    "    hsv_binary_w = hsv_thres_w(hsv_eq)\n",
    "    \n",
    "    hsv_binary = cv2.bitwise_or(hsv_binary_w, lab_binary_y)\n",
    "    \n",
    "    R = img_eq[:,:,0]\n",
    "    thresh = (70, 80)\n",
    "    r_binary = np.zeros_like(R)\n",
    "    r_binary[(R > thresh[0]) & (R <= thresh[1])] = 0\n",
    "\n",
    "\n",
    "    # Stack each channel\n",
    "    # Note color_binary[:, :, 0] is all 0s, effectively an all black image. It might\n",
    "    # be beneficial to replace this channel with something else.\n",
    "    color_binary = np.dstack(( hsv_binary_w, lab_binary_y, r_binary)).astype(float)\n",
    "    \n",
    "    \n",
    "    \n",
    "    # Combine the two binary thresholds\n",
    "    combined_binary = np.uint8(np.zeros_like(s_channel))\n",
    "    combined_binary[(hsv_binary == 1) | (r_binary == 1) | (combined_sobel == 1)] = 255\n",
    "\n",
    "    return color_binary, combined_binary\n",
    "\n",
    "#src = np.float32([[283,663],[594,451],[686,451],[1019,663]])\n",
    "#dst = np.float32([[325,720],[325,0],[950,0],[950,720]]) \n",
    "\n",
    "src = np.float32([[258,682],[575,464],[707,464],[1049,682]])\n",
    "dst = np.float32([[450,720],[450,0],[830,0],[830,720]]) \n",
    "\n",
    "def warp_image(img,src,dst):\n",
    "    \n",
    "    # d) use cv2.getPerspectiveTransform() to get M, the transform matrix\n",
    "    M = cv2.getPerspectiveTransform(src, dst)\n",
    "    # e) use cv2.warpPerspective() to warp your image to a top-down view\n",
    "    img_size = (img.shape[1], img.shape[0])\n",
    "    warped = cv2.warpPerspective(img, M, img_size, flags=cv2.INTER_LINEAR)\n",
    "    \n",
    "    return warped\n"
   ]
  },
  {
   "cell_type": "code",
   "execution_count": null,
   "metadata": {
    "collapsed": false,
    "deletable": true,
    "editable": true
   },
   "outputs": [],
   "source": [
    "#Read in and make a list of undistorted road images\n",
    "undistorted_road_images = glob.glob('C:\\\\carnd-term1\\\\CarND-Advanced-Lane-Lines\\\\test_images\\\\undistort_test*.jpg')\n",
    "\n",
    "\n",
    "i=0\n",
    "for fname in undistorted_road_images:\n",
    "    \n",
    "    img = cv2.cvtColor(cv2.imread(fname), cv2.COLOR_BGR2RGB)\n",
    "    result, result_combined = color_gradient_threshold(img)\n",
    "    i+=1\n",
    "    cv2.imwrite('C:\\\\carnd-term1\\\\CarND-Advanced-Lane-Lines\\\\test_images\\\\color_grad_test' + str(i) + '.jpg',result_combined)\n",
    "\n",
    "    # Plot the result\n",
    "    f, (ax1, ax2, ax3) = plt.subplots(1, 3, figsize=(24, 9))\n",
    "    f.tight_layout()\n",
    "\n",
    "    ax1.imshow(img)\n",
    "    ax1.set_title('Original Image', fontsize=40)\n",
    "\n",
    "    ax2.imshow(result)\n",
    "    ax2.set_title('Color&Gradient Threshold Result', fontsize=40)\n",
    "    \n",
    "    ax3.imshow(result_combined, cmap='gray')\n",
    "    ax3.set_title('Combined Result', fontsize=40)\n",
    "    \n",
    "    plt.subplots_adjust(left=0., right=1, top=0.9, bottom=0.)\n",
    "    \n",
    "    warped = warp_image(result_combined,src,dst)\n",
    "    cv2.imwrite('C:\\\\carnd-term1\\\\CarND-Advanced-Lane-Lines\\\\test_images\\\\warped_test' + str(i) + '.jpg',warped)\n",
    "\n",
    "    f2, (ax4, ax5) = plt.subplots(1, 2, figsize=(24, 9))\n",
    "    f2.tight_layout()\n",
    "\n",
    "    ax4.imshow(result_combined, cmap='gray')\n",
    "    ax4.set_title('Combined Result', fontsize=40)\n",
    "    ax4.add_patch(plt.Polygon(src,fill=None,ec = 'r',lw = 3))\n",
    "\n",
    "    ax5.imshow(warped, cmap='gray')\n",
    "    ax5.set_title('Warped Image', fontsize=40)\n",
    "    ax5.add_patch(plt.Polygon(dst,fill=None,ec = 'r',lw = 3))"
   ]
  },
  {
   "cell_type": "code",
   "execution_count": 5,
   "metadata": {
    "collapsed": false,
    "deletable": true,
    "editable": true
   },
   "outputs": [],
   "source": [
    "def window_mask(width, height, img_ref, center,level):\n",
    "    output = np.zeros_like(img_ref)\n",
    "    output[int(img_ref.shape[0]-(level+1)*height):int(img_ref.shape[0]-level*height),max(0,int(center-width/2)):min(int(center+width/2),img_ref.shape[1])] = 1\n",
    "    return output\n",
    "\n",
    "\n",
    "\n",
    "def find_window_centroids(warped, window_width, window_height, margin):\n",
    "\n",
    "    window_centroids = [] # Store the (left,right) window centroid positions per level\n",
    "    window = np.ones(window_width) # Create our window template that we will use for convolutions\n",
    "\n",
    "    # First find the two starting positions for the left and right lane by using np.sum to get the vertical image slice\n",
    "    # and then np.convolve the vertical image slice with the window template \n",
    "\n",
    "    # Sum quarter bottom of image to get slice, could use a different ratio\n",
    "    l_sum = np.sum(warped[int(3*warped.shape[0]/4):,:int(warped.shape[1]/2)], axis=0)\n",
    "    l_center = np.argmax(np.convolve(window,l_sum))-window_width/2\n",
    "    r_sum = np.sum(warped[int(3*warped.shape[0]/4):,int(warped.shape[1]/2):], axis=0)\n",
    "    r_center = np.argmax(np.convolve(window,r_sum))-window_width/2+int(warped.shape[1]/2)\n",
    "\n",
    "    # Add what we found for the first layer\n",
    "    window_centroids.append((l_center,r_center))\n",
    "\n",
    "    # Go through each layer looking for max pixel locations\n",
    "    for level in range(1,(int)(warped.shape[0]/window_height)):\n",
    "            # convolve the window into the vertical slice of the image\n",
    "        image_layer = np.sum(warped[int(warped.shape[0]-(level+1)*window_height):int(warped.shape[0]-level*window_height),:], axis=0)\n",
    "        conv_signal = np.convolve(window, image_layer)\n",
    "        # Find the best left centroid by using past left center as a reference\n",
    "        # Use window_width/2 as offset because convolution signal reference is at right side of window, not center of window\n",
    "        offset = window_width/2\n",
    "        l_min_index = int(max(l_center+offset-margin,0))\n",
    "        l_max_index = int(min(l_center+offset+margin,warped.shape[1]))\n",
    "        \n",
    "        if (np.all((conv_signal[l_min_index:l_max_index])==0)) == False:\n",
    "            l_center = np.argmax(conv_signal[l_min_index:l_max_index])+l_min_index-offset\n",
    "\n",
    "        # Find the best right centroid by using past right center as a reference\n",
    "        r_min_index = int(max(r_center+offset-margin,0))\n",
    "        r_max_index = int(min(r_center+offset+margin,warped.shape[1]))\n",
    "        if (np.all((conv_signal[r_min_index:r_max_index])==0)) == False:\n",
    "            r_center = np.argmax(conv_signal[r_min_index:r_max_index])+r_min_index-offset\n",
    "        # Add what we found for that layer\n",
    "        window_centroids.append((l_center,r_center))\n",
    "\n",
    "    return window_centroids\n",
    "\n",
    "def mask_lines(warped, window_centroids = None, previous_fit = None, window_width = 50,window_height = 80, margin = 50):\n",
    "        \n",
    "    # Points used to draw all the left and right windows\n",
    "    l_points = np.zeros_like(warped)\n",
    "    r_points = np.zeros_like(warped)\n",
    "    \n",
    "    # If we found any window centers\n",
    "    if window_centroids != None:\n",
    "        #print('Got Window Centroids')\n",
    "        \n",
    "        \n",
    "\n",
    "        # Go through each level and draw the windows \t\n",
    "        for level in range(0,len(window_centroids)):\n",
    "            # Window_mask is a function to draw window areas\n",
    "            l_mask = window_mask(window_width,window_height,warped,window_centroids[level][0],level)\n",
    "            r_mask = window_mask(window_width,window_height,warped,window_centroids[level][1],level)\n",
    "            # Add graphic points from window mask here to total pixels found \n",
    "            l_points[(l_points == 255) | ((l_mask == 1) ) ] = 255\n",
    "            r_points[(r_points == 255) | ((r_mask == 1) ) ] = 255\n",
    "\n",
    "        # Draw the results\n",
    "        template = np.array(r_points+l_points,np.uint8) # add both left and right window pixels together\n",
    "        template_l = np.array(l_points,np.uint8) # add both left and right window pixels together\n",
    "        template_r = np.array(r_points,np.uint8) # add both left and right window pixels together\n",
    "        zero_channel = np.zeros_like(template) # create a zero color channel\n",
    "        template_3channels = np.array(cv2.merge((zero_channel,template_l,template_r)),np.uint8) # make window pixels green\n",
    "        warpage = np.array(cv2.merge((warped,warped,warped)),np.uint8) # making the original road pixels 3 color channels\n",
    "        windows_warped = cv2.addWeighted(warpage, 1, template_3channels, 0.5, 0.0) # overlay the orignal road image with window results\n",
    "        masked_warped = cv2.bitwise_and(template, warped)\n",
    "        pixels_left = cv2.findNonZero(cv2.bitwise_and(warped, template_l))\n",
    "        pixels_right = cv2.findNonZero(cv2.bitwise_and(warped, template_r))\n",
    "    \n",
    "    elif previous_fit != None:\n",
    "        #print('Got previous Fit')\n",
    "        nonzero = warped.nonzero()\n",
    "        nonzeroy = np.array(nonzero[0])\n",
    "        nonzerox = np.array(nonzero[1])\n",
    "        left_fit = previous_fit[0]\n",
    "        right_fit = previous_fit[1]\n",
    "        left_lane_inds = ((nonzerox > (left_fit[0]*(nonzeroy**2) + left_fit[1]*nonzeroy + left_fit[2] - margin)) & (nonzerox < (left_fit[0]*(nonzeroy**2) + left_fit[1]*nonzeroy + left_fit[2] + margin))) \n",
    "        right_lane_inds = ((nonzerox > (right_fit[0]*(nonzeroy**2) + right_fit[1]*nonzeroy + right_fit[2] - margin)) & (nonzerox < (right_fit[0]*(nonzeroy**2) + right_fit[1]*nonzeroy + right_fit[2] + margin)))  \n",
    "        #print(left_fit)\n",
    "        #print(right_fit)\n",
    "        \n",
    "        # Generate x and y values for plotting\n",
    "        ploty = np.linspace(0, warped.shape[0]-1, warped.shape[0] )\n",
    "        left_fitx = left_fit[0]*ploty**2 + left_fit[1]*ploty + left_fit[2]\n",
    "        right_fitx = right_fit[0]*ploty**2 + right_fit[1]*ploty + right_fit[2]\n",
    "        # Generate a polygon to illustrate the search window area\n",
    "        # And recast the x and y points into usable format for cv2.fillPoly()\n",
    "        left_line_window1 = np.array([np.transpose(np.vstack([left_fitx-int(window_width), ploty]))])\n",
    "        left_line_window2 = np.array([np.flipud(np.transpose(np.vstack([left_fitx+int(window_width), ploty])))])\n",
    "        left_line_pts = np.hstack((left_line_window1, left_line_window2))\n",
    "        right_line_window1 = np.array([np.transpose(np.vstack([right_fitx-int(window_width), ploty]))])\n",
    "        right_line_window2 = np.array([np.flipud(np.transpose(np.vstack([right_fitx+int(window_width), ploty])))])\n",
    "        right_line_pts = np.hstack((right_line_window1, right_line_window2))\n",
    "        \n",
    "        #window_img = np.zeros_like(warped)\n",
    "        window_img_l = np.zeros_like(warped)\n",
    "        window_img_r = np.zeros_like(warped)\n",
    "        l_mask = cv2.fillPoly(window_img_l, np.int_([left_line_pts]), (255,255,255))\n",
    "        r_mask = cv2.fillPoly(window_img_r, np.int_([right_line_pts]), (255,255,255))\n",
    "        template = np.array(l_mask+r_mask,np.uint8) # add both left and right window pixels together\n",
    "        template_l = np.array(l_mask,np.uint8) # add both left and right window pixels together\n",
    "        template_r = np.array(r_mask,np.uint8) # add both left and right window pixels together\n",
    "        zero_channel = np.zeros_like(template) # create a zero color channel\n",
    "        template_3channels = np.array(cv2.merge((zero_channel,template_l,template_r)),np.uint8) # make window pixels green\n",
    "        warpage = np.array(cv2.merge((warped,warped,warped)),np.uint8) # making the original road pixels 3 color channels\n",
    "        windows_warped = cv2.addWeighted(warpage, 1, template_3channels, 0.5, 0.0) # overlay the orignal road image with window results\n",
    "        masked_warped = cv2.bitwise_and(warped, template)\n",
    "        pixels_left = cv2.findNonZero(cv2.bitwise_and(warped, template_l))\n",
    "        pixels_right = cv2.findNonZero(cv2.bitwise_and(warped, template_r))\n",
    "        #f, (ax4, ax5) = plt.subplots(1, 2, figsize=(24, 9))\n",
    "        #f.tight_layout()\n",
    "        #ax4.imshow(windows_warped)\n",
    "        #ax5.imshow(masked_warped)\n",
    "        #(windows_warped.shape)\n",
    "        #print(masked_warped.shape)\n",
    "        \n",
    "    \n",
    "        \n",
    "    # If no window centers found, just display orginal road image\n",
    "    else:\n",
    "        windows_warped = np.array(cv2.merge((warped,warped,warped)),np.uint8)\n",
    "        masked_warped = warped\n",
    "        pixels_left = None\n",
    "        pixels_right = None\n",
    "\n",
    "    \n",
    "    return masked_warped, windows_warped, pixels_left, pixels_right"
   ]
  },
  {
   "cell_type": "code",
   "execution_count": null,
   "metadata": {
    "collapsed": false,
    "deletable": true,
    "editable": true
   },
   "outputs": [],
   "source": [
    "# window settings\n",
    "window_width = 50 \n",
    "window_height = 80 # Break image into 9 vertical layers since image height is 720\n",
    "margin = 35 # How much to slide left and right for searching\n",
    "previous_fit = None\n",
    "\n",
    "warped_images = glob.glob('C:\\\\carnd-term1\\\\CarND-Advanced-Lane-Lines\\\\test_images\\\\warped_test*.jpg')\n",
    "plt.subplots(figsize=(20, 20))\n",
    "i = 0\n",
    "for fname in warped_images:\n",
    "    # Read in a thresholded image\n",
    "    warped = mpimg.imread(fname)\n",
    "   \n",
    "    window_centroids = find_window_centroids(warped, window_width, window_height, margin)\n",
    "\n",
    "    masked_warped, windows_warped, pixels_left, pixels_right =  mask_lines(warped, window_centroids,previous_fit, window_width,window_height, margin)\n",
    "    \n",
    "    \n",
    "    # Display the final results\n",
    "    plt.subplot(9,2, 1 + i)\n",
    "    i+=1\n",
    "    plt.imshow(windows_warped)\n",
    "    cv2.imwrite('C:\\\\carnd-term1\\\\CarND-Advanced-Lane-Lines\\\\test_images\\\\warped_windows_test' + str(i) + '.jpg',windows_warped)\n",
    "    cv2.imwrite('C:\\\\carnd-term1\\\\CarND-Advanced-Lane-Lines\\\\test_images\\\\warped_masked_test' + str(i) + '.jpg',masked_warped)\n",
    "    "
   ]
  },
  {
   "cell_type": "code",
   "execution_count": 6,
   "metadata": {
    "collapsed": false,
    "deletable": true,
    "editable": true
   },
   "outputs": [],
   "source": [
    "def get_points(masked_warped):\n",
    "\n",
    "    pixels_left = cv2.findNonZero(masked_warped[:,:int(masked_warped.shape[1]/2)])\n",
    "    pixels_right = cv2.findNonZero(masked_warped[:,int(masked_warped.shape[1]/2):])\n",
    "\n",
    "    return pixels_left, pixels_right\n",
    "\n",
    "def fit_lines(masked_warped,pixels_left, pixels_right):\n",
    "    \n",
    "\n",
    "\n",
    "    #print(pixels.shape)\n",
    "    #print(pixels_left.shape)\n",
    "    #print(pixels_right.shape)\n",
    "    #print(pixels_left[0])\n",
    "    # Generate some fake data to represent lane-line pixels\n",
    "    if pixels_left == None or pixels_right == None:\n",
    "            left_fit = [np.array([False])]\n",
    "            right_fit = [np.array([False])]\n",
    "            left_fit_cr = None\n",
    "            right_fit_cr = None\n",
    "            left_curverad = None\n",
    "            right_curverad = None\n",
    "            pixels_left = None\n",
    "            pixels_right = None\n",
    "            offset = None\n",
    "            left_line_x = None\n",
    "            right_line_x = None\n",
    "    else:\n",
    "        #pixels_right[:,0,0] = pixels_right[:,0,0] + int(masked_warped.shape[1]/2)\n",
    "        lefty = pixels_left[:,0,1]\n",
    "        righty = pixels_right[:,0,1]\n",
    "        \n",
    "        leftx = pixels_left[:,0,0]\n",
    "        rightx = pixels_right[:,0,0]\n",
    "\n",
    "        left_fit = np.polyfit(lefty, leftx, 2)\n",
    "        right_fit = np.polyfit(righty, rightx, 2)\n",
    "        \n",
    "        # Define conversions in x and y from pixels space to meters\n",
    "        ym_per_pix = 21.95/720 # meters per pixel in y dimension\n",
    "        xm_per_pix = 3.7/380 # meters per pixel in x dimension\n",
    "        left_fit_cr = np.polyfit(lefty*ym_per_pix, leftx*xm_per_pix, 2)\n",
    "        right_fit_cr = np.polyfit(righty*ym_per_pix, rightx*xm_per_pix, 2)\n",
    "\n",
    "        # Calculate the new radii of curvature\n",
    "        y_eval = masked_warped.shape[0]\n",
    "        left_curverad = ((1 + (2*left_fit_cr[0]*y_eval*ym_per_pix + left_fit_cr[1])**2)**1.5) / (2*left_fit_cr[0])\n",
    "        right_curverad = ((1 + (2*right_fit_cr[0]*y_eval*ym_per_pix + right_fit_cr[1])**2)**1.5) / (2*right_fit_cr[0])\n",
    "        #left_curverad = ((1 + (2*left_fit_cr[0]*y_eval*ym_per_pix + left_fit_cr[1])**2)**1.5) / np.absolute(2*left_fit_cr[0])\n",
    "        #right_curverad = ((1 + (2*right_fit_cr[0]*y_eval*ym_per_pix + right_fit_cr[1])**2)**1.5) / np.absolute(2*right_fit_cr[0])\n",
    "        #Calculate offset from line center\n",
    "        left_line_x = [left_fit[0]*y_eval**2 + left_fit[1]*y_eval + left_fit[2], left_fit[2]]\n",
    "        right_line_x = [right_fit[0]*y_eval**2 + right_fit[1]*y_eval + right_fit[2], right_fit[2]]\n",
    "        lane_center = (left_line_x[0] + right_line_x[1])/2\n",
    "\n",
    "        offset = (lane_center - masked_warped.shape[1]/2)*xm_per_pix\n",
    "    return left_fit, right_fit , left_fit_cr,right_fit_cr, left_curverad, right_curverad, offset, left_line_x, right_line_x\n"
   ]
  },
  {
   "cell_type": "code",
   "execution_count": 7,
   "metadata": {
    "collapsed": false,
    "deletable": true,
    "editable": true
   },
   "outputs": [],
   "source": [
    "def fitted_lines_image(masked_warped,left_fit, right_fit, pixels_left, pixels_right):\n",
    "    \n",
    "    ploty = np.linspace(0, int(masked_warped.shape[0])-1, num=int(masked_warped.shape[0]))# to cover same y-range as image\n",
    "    left_fitx = left_fit[0]*ploty**2 + left_fit[1]*ploty + left_fit[2]\n",
    "    right_fitx = right_fit[0]*ploty**2 + right_fit[1]*ploty + right_fit[2]\n",
    "    \n",
    "    lines_img = np.zeros_like(masked_warped)\n",
    "    lines_img = np.array(cv2.merge((lines_img,lines_img,lines_img)),np.uint8)\n",
    "    for pixel in pixels_left:\n",
    "        lines_img[pixel[0,1],pixel[0,0],0] = 255 \n",
    "    for pixel in pixels_right:\n",
    "        lines_img[pixel[0,1],pixel[0,0],2] = 255\n",
    "        \n",
    "    ploty = np.linspace(0, int(masked_warped.shape[0])-1, num=int(masked_warped.shape[0]))# to cover same y-range as image\n",
    "    left_fitx = left_fit[0]*ploty**2 + left_fit[1]*ploty + left_fit[2]\n",
    "    right_fitx = right_fit[0]*ploty**2 + right_fit[1]*ploty + right_fit[2]\n",
    "    left_fit_pixels = np.stack((left_fitx,ploty),axis=1)\n",
    "    right_fit_pixels = np.stack((right_fitx,ploty),axis=1)  \n",
    "    for pixel in left_fit_pixels:\n",
    "        if (pixel[0] <= 1279) and (pixel[0] >= 0):  \n",
    "            lines_img[pixel[1],pixel[0]] = (0,255,0) \n",
    "    for pixel in right_fit_pixels:\n",
    "        if (pixel[0] <= 1279) and (pixel[0] >= 0):\n",
    "            lines_img[pixel[1],pixel[0]] = (0,255,0)\n",
    "        \n",
    "    return lines_img\n",
    "        "
   ]
  },
  {
   "cell_type": "code",
   "execution_count": null,
   "metadata": {
    "collapsed": false,
    "deletable": true,
    "editable": true
   },
   "outputs": [],
   "source": [
    "warped_images = glob.glob('C:\\\\carnd-term1\\\\CarND-Advanced-Lane-Lines\\\\test_images\\\\warped_test*.jpg')\n",
    "plt.subplots(figsize=(20, 20))\n",
    "i = 0\n",
    "for fname in warped_images:   \n",
    "\n",
    "    warped = mpimg.imread(fname)\n",
    "   \n",
    "    window_centroids = find_window_centroids(warped, window_width, window_height, margin)\n",
    "\n",
    "    masked_warped, windows_warped, pixels_left, pixels_right =  mask_lines(warped, window_centroids,previous_fit, window_width,window_height, margin)\n",
    "\n",
    "    left_fit, right_fit , left_fit_cr,right_fit_cr, left_curverad, right_curverad, offset, left_line_x, right_line_x = fit_lines(masked_warped, pixels_left, pixels_right)\n",
    "\n",
    "    lines_img = fitted_lines_image(masked_warped,left_fit, right_fit, pixels_left, pixels_right)\n",
    "    # Plot up the point data\n",
    "    plt.subplot(9,2, 1 + i)\n",
    "    i+=1\n",
    "    plt.imshow(lines_img)"
   ]
  },
  {
   "cell_type": "code",
   "execution_count": null,
   "metadata": {
    "collapsed": false,
    "deletable": true,
    "editable": true
   },
   "outputs": [],
   "source": [
    "#masked_warped_images = glob.glob('C:\\\\carnd-term1\\\\CarND-Advanced-Lane-Lines\\\\test_images\\\\warped_masked_test*.jpg')\n",
    "warped_images = glob.glob('C:\\\\carnd-term1\\\\CarND-Advanced-Lane-Lines\\\\test_images\\\\warped_test*.jpg')\n",
    "plt.subplots(figsize=(20, 20))\n",
    "i = 0\n",
    "for fname in warped_images:    \n",
    "    \n",
    "    warped = mpimg.imread(fname)\n",
    "   \n",
    "    window_centroids = find_window_centroids(warped, window_width, window_height, margin)\n",
    "\n",
    "    masked_warped, windows_warped, pixels_left, pixels_right =  mask_lines(warped, window_centroids,previous_fit, window_width,window_height, margin)\n",
    "\n",
    "    left_fit, right_fit , left_fit_cr,right_fit_cr, left_curverad, right_curverad, offset, left_line_x, right_line_x = fit_lines(masked_warped, pixels_left, pixels_right)\n",
    "\n",
    "    # Fit a second order polynomial to pixel positions in each fake lane line\n",
    "    ploty = np.linspace(0, int(masked_warped.shape[0])-1, num=int(masked_warped.shape[0]))# to cover same y-range as image\n",
    "    left_fitx = left_fit[0]*ploty**2 + left_fit[1]*ploty + left_fit[2]\n",
    "    right_fitx = right_fit[0]*ploty**2 + right_fit[1]*ploty + right_fit[2]\n",
    "\n",
    "    # Plot up the point data\n",
    "    plt.subplot(9,2, 1 + i)\n",
    "    mark_size = 3\n",
    "    plt.plot(pixels_left[:,0,0], pixels_left[:,0,1], 'o', color='red', markersize=mark_size)\n",
    "    plt.plot(pixels_right[:,0,0], pixels_right[:,0,1], 'o', color='blue', markersize=mark_size)\n",
    "    plt.xlim(0, 1280)\n",
    "    plt.ylim(0, 720)\n",
    "    plt.plot(left_fitx, ploty, color='green', linewidth=3)\n",
    "    plt.plot(right_fitx, ploty, color='green', linewidth=3)\n",
    "    plt.gca().invert_yaxis() # to visualize as we do the images\n",
    "    i+=1\n",
    "    \n",
    "    # Now our radius of curvature is in meters\n",
    "    print(left_curverad, 'm', right_curverad, 'm')\n",
    "    # Example values: 632.1 m    626.2 m\n"
   ]
  },
  {
   "cell_type": "code",
   "execution_count": 8,
   "metadata": {
    "collapsed": true,
    "deletable": true,
    "editable": true
   },
   "outputs": [],
   "source": [
    "# Define a class to receive the characteristics of each line detection\n",
    "class Line():\n",
    "    def __init__(self):\n",
    "        # was the line detected in the last iteration?\n",
    "        self.detected = False  \n",
    "        self.detected_counter = 0\n",
    "        # x values of the last n fits of the line\n",
    "        self.recent_xfitted = [] \n",
    "        #average x values of the fitted line over the last n iterations\n",
    "        self.bestx = None\n",
    "        # fit values of the last n fits of the line\n",
    "        self.recent_fits = None\n",
    "        #polynomial coefficients averaged over the last n iterations\n",
    "        self.best_fit = [np.array([False])]  \n",
    "        #polynomial coefficients for the most recent fit\n",
    "        self.current_fit = [np.array([False])]  \n",
    "        #radius of curvature of the line in some units\n",
    "        self.radius_of_curvature = None \n",
    "        #distance in meters of vehicle center from the line\n",
    "        self.line_base_pos = None \n",
    "        #difference in fit coefficients between last and new fits\n",
    "        self.diffs = np.array([0,0,0], dtype='float') \n",
    "        #difference in fit coefficients between last and new fits (percent)\n",
    "        self.diffsper = np.array([0,0,0], dtype='float') \n",
    "        #x values for detected line pixels\n",
    "        self.allx = None  \n",
    "        #y values for detected line pixels\n",
    "        self.ally = None"
   ]
  },
  {
   "cell_type": "code",
   "execution_count": 15,
   "metadata": {
    "collapsed": false,
    "deletable": true,
    "editable": true
   },
   "outputs": [],
   "source": [
    "def sanity_check(left_fit_cr,right_fit_cr, left_curverad, right_curverad, offset, left_line_x, right_line_x):\n",
    "    result = True\n",
    "    width_0 = (right_line_x[0] - left_line_x[0])*3.7/380\n",
    "    width_1 = (right_line_x[1] - left_line_x[1])*3.7/380\n",
    "    curvature_ratio_abs = abs(left_curverad/right_curverad)\n",
    "    curvature_ratio = left_curverad/right_curverad\n",
    "    curvature = (left_curverad+right_curverad)/2\n",
    "    if width_0 > 4.4 or width_0 < 2.8:\n",
    "        result = False\n",
    "        print(\"Sanity Check Failed due to width at the start\")\n",
    "        print(width_0)\n",
    "    if width_1 >= width_0*1.08 or width_1 < 1.8:\n",
    "        result = False\n",
    "        print(\"Sanity Check Failed due to width at the end\")\n",
    "        print(width_1)\n",
    "    if curvature_ratio_abs > 6 or curvature_ratio_abs < 0.166:\n",
    "        print(\"Sanity Check Failed due to curvature\")\n",
    "        print(curvature_ratio)\n",
    "        result = False\n",
    "    #if (curvature_ratio > 6 or curvature_ratio < 0.166) and curvature < 2000:\n",
    "        #print(\"Sanity Check Failed due to negative curvature ratio\")\n",
    "        #print(curvature_ratio)\n",
    "        #result = False\n",
    "    return result"
   ]
  },
  {
   "cell_type": "code",
   "execution_count": 10,
   "metadata": {
    "collapsed": false,
    "deletable": true,
    "editable": true
   },
   "outputs": [],
   "source": [
    "import random\n",
    "left_line = Line()\n",
    "right_line = Line()\n",
    "\n",
    "def process_image(img):\n",
    "    mtx, dist = load_calibration('C:\\carnd-term1\\CarND-Advanced-Lane-Lines\\camera_cal\\wide_dist_pickle.p')\n",
    "    undist = undistort(img, mtx, dist)\n",
    "    result, result_combined = color_gradient_threshold(undist)\n",
    "    #src = np.float32([[283,663],[594,451],[686,451],[1019,663]])\n",
    "    #dst = np.float32([[325,720],[325,0],[950,0],[950,720]]) \n",
    "    src = np.float32([[258,682],[575,464],[707,464],[1049,682]])\n",
    "    dst = np.float32([[450,720],[450,0],[830,0],[830,720]]) \n",
    "    M = cv2.getPerspectiveTransform(src, dst)\n",
    "    img_size = (img.shape[1], img.shape[0])\n",
    "    warped = cv2.warpPerspective(result_combined, M, img_size, flags=cv2.INTER_LINEAR)\n",
    "    orig_warped = cv2.warpPerspective(img, M, img_size, flags=cv2.INTER_LINEAR)\n",
    "    # window settings\n",
    "    #left_line.bestx = random.random()\n",
    "    #print(left_line.bestx)\n",
    "    window_width = 50 \n",
    "    window_height = 80 # Break image into 9 vertical layers since image height is 720\n",
    "    margin = 35 # How much to slide left and right for searching\n",
    "    #print(left_line.current_fit[0] == False)\n",
    "    previous_fit = np.array([left_line.current_fit, right_line.current_fit])\n",
    "    best_fit = np.array([left_line.best_fit, right_line.best_fit])\n",
    "    #print(previous_fit.shape)\n",
    "    #print(previous_fit == False)\n",
    "    lines_img = np.zeros_like(img)\n",
    "    \n",
    "    if (previous_fit == False).any() or left_line.detected_counter >= 10 or right_line.detected_counter >= 10:\n",
    "        print('Calculating Centroids')\n",
    "        window_centroids = find_window_centroids(warped, window_width, window_height, margin = margin)\n",
    "        #left_line.best_fit = [np.array([False])]\n",
    "        #left_line.recent_fits = None\n",
    "        #right_line.best_fit = [np.array([False])]\n",
    "        #right_line.recent_fits = None\n",
    "        #left_line.detected_counter = 0\n",
    "        #right_line.detected_counter = 0\n",
    "    else:\n",
    "        window_centroids = None        \n",
    "        \n",
    "    masked_warped, windows_warped, pixels_left, pixels_right =  mask_lines(warped, window_centroids,best_fit, window_width,window_height, margin)\n",
    "    #print(pixels_left)\n",
    "    #print(pixels_right)\n",
    "    if pixels_left == None:\n",
    "        left_line.detected = False\n",
    "        left_line.detected_counter += 1\n",
    "        left_curverad = None\n",
    "        right_curverad = None\n",
    "        print('No Left Pixels')\n",
    "    elif pixels_right == None:\n",
    "        right_line.detected = False\n",
    "        right_line.detected_counter += 1\n",
    "        right_curverad = None\n",
    "        left_curverad = None\n",
    "        print('No Right Pixels')\n",
    "    else:\n",
    "        #print(pixels_left.shape)\n",
    "        #print(pixels_right.shape)\n",
    "        left_line.allx = pixels_left[:,0,0]\n",
    "        left_line.ally = pixels_left[:,0,1]\n",
    "        right_line.allx = pixels_right[:,0,0]\n",
    "        right_line.ally = pixels_right[:,0,1]\n",
    "        \n",
    "        left_fit, right_fit , left_fit_cr,right_fit_cr, left_curverad, right_curverad, offset, left_line_x, right_line_x = fit_lines(masked_warped,pixels_left, pixels_right)\n",
    "        lines_img = fitted_lines_image(masked_warped,left_fit, right_fit, pixels_left, pixels_right)\n",
    "        sanity_check_result = sanity_check(left_fit_cr,right_fit_cr, left_curverad, right_curverad, offset, left_line_x, right_line_x)\n",
    "        if sanity_check_result == False:\n",
    "            left_line.detected = False\n",
    "            left_line.detected_counter += 1\n",
    "            right_line.detected = False\n",
    "            right_line.detected_counter += 1\n",
    "        else:\n",
    "            left_line.detected = True \n",
    "            right_line.detected = True\n",
    "            \n",
    "            if window_centroids == None:\n",
    "                left_line.recent_xfitted.append(left_line_x)\n",
    "                left_line.recent_xfitted = left_line.recent_xfitted[-10:]\n",
    "                right_line.recent_xfitted.append(right_line_x)\n",
    "                right_line.recent_xfitted = right_line.recent_xfitted[-10:]\n",
    "                \n",
    "                left_line.diffs = left_line.best_fit - left_fit\n",
    "                left_line.diffsper = (left_line.diffs / left_line.best_fit) * 100\n",
    "                right_line.diffs = right_line.best_fit - right_fit\n",
    "                right_line.diffsper = (right_line.diffs / right_line.best_fit) * 100\n",
    "                \n",
    "                left_line.recent_fits = np.column_stack((left_line.recent_fits,left_fit))\n",
    "                left_line.recent_fits = left_line.recent_fits[:,-10:]\n",
    "                left_line.best_fit = [np.mean(left_line.recent_fits[0,:]),np.mean(left_line.recent_fits[1,:]),np.mean(left_line.recent_fits[2,:])]\n",
    "                #left_line.detected_counter = max(0,left_line.detected_counter-1)\n",
    "                left_line.detected_counter = 0  \n",
    "                right_line.recent_fits = np.column_stack((right_line.recent_fits,right_fit))\n",
    "                right_line.recent_fits = right_line.recent_fits[:,-10:]\n",
    "                right_line.best_fit = [np.mean(right_line.recent_fits[0,:]),np.mean(right_line.recent_fits[1,:]),np.mean(right_line.recent_fits[2,:])] \n",
    "                #right_line.detected_counter = max(0,right_line.detected_counter-1)\n",
    "                right_line.detected_counter = 0\n",
    "                \n",
    "                left_line.radius_of_curvature = (left_line.radius_of_curvature*9 + left_curverad)/10 \n",
    "                left_line.line_base_pos = (left_line.line_base_pos*9 + offset)/10 \n",
    "                right_line.radius_of_curvature = (right_line.radius_of_curvature*9 + right_curverad)/10 \n",
    "                right_line.line_base_pos = (right_line.line_base_pos*9 + offset)/10\n",
    "                \n",
    "                left_line.current_fit = left_fit\n",
    "                right_line.current_fit = right_fit\n",
    "            else:\n",
    "                left_line.recent_xfitted = []\n",
    "                left_line.recent_xfitted.append(left_line_x)\n",
    "                right_line.recent_xfitted = []\n",
    "                right_line.recent_xfitted.append(right_line_x)\n",
    "                \n",
    "                left_line.recent_fits = left_fit\n",
    "                left_line.best_fit = left_fit\n",
    "                left_line.detected_counter = 0  \n",
    "                right_line.recent_fits = right_fit\n",
    "                right_line.best_fit = right_fit\n",
    "                right_line.detected_counter = 0\n",
    "                \n",
    "                left_line.diffs = left_line.best_fit - left_fit\n",
    "                left_line.diffsper = (left_line.diffs / left_line.best_fit) * 100\n",
    "                right_line.diffs = right_line.best_fit - right_fit\n",
    "                right_line.diffsper = (right_line.diffs / right_line.best_fit) * 100\n",
    "                \n",
    "                left_line.radius_of_curvature = left_curverad\n",
    "                left_line.line_base_pos = offset\n",
    "                right_line.radius_of_curvature = right_curverad \n",
    "                right_line.line_base_pos = offset\n",
    "                \n",
    "                left_line.current_fit = left_fit\n",
    "                right_line.current_fit = right_fit\n",
    "    \n",
    "    \n",
    "    #left_line.bestx = None\n",
    "    #right_line.bestx = None\n",
    "    best_fit = np.array([left_line.best_fit, right_line.best_fit])\n",
    "    if (best_fit != False).all():\n",
    "  \n",
    "        ploty = np.linspace(0, int(masked_warped.shape[0])-1, num=int(masked_warped.shape[0]))# to cover same y-range as image\n",
    "        left_fitx = left_line.best_fit[0]*ploty**2 + left_line.best_fit[1]*ploty + left_line.best_fit[2]\n",
    "        right_fitx = right_line.best_fit[0]*ploty**2 + right_line.best_fit[1]*ploty + right_line.best_fit[2]\n",
    "\n",
    "        # Create an image to draw the lines on\n",
    "        warp_zero = np.zeros_like(warped).astype(np.uint8)\n",
    "        color_warp = np.dstack((warp_zero, warp_zero, warp_zero))\n",
    "\n",
    "        # Recast the x and y points into usable format for cv2.fillPoly()\n",
    "        pts_left = np.array([np.transpose(np.vstack([left_fitx, ploty]))])\n",
    "        pts_right = np.array([np.flipud(np.transpose(np.vstack([right_fitx, ploty])))])\n",
    "        pts = np.hstack((pts_left, pts_right))\n",
    "\n",
    "        # Draw the lane onto the warped blank image\n",
    "        cv2.fillPoly(color_warp, np.int_([pts]), (0,255, 0))\n",
    "        # Warp the blank back to original image space using inverse perspective matrix (Minv)\n",
    "        newwarp = cv2.warpPerspective(color_warp, M, (img.shape[1], img.shape[0]), flags=cv2.WARP_INVERSE_MAP) \n",
    "        # Combine the result with the original image\n",
    "        output_warped = cv2.addWeighted(orig_warped, 1, color_warp, 0.3, 0)\n",
    "        output = cv2.addWeighted(undist, 1, newwarp, 0.3, 0)\n",
    "        curverad = (left_line.radius_of_curvature + right_line.radius_of_curvature)/2\n",
    "    else:\n",
    "        output = undist\n",
    "        output_warped = orig_warped\n",
    "        curverad = 0\n",
    "    output_image = cv2.putText(output,'Line detected: L ' + str(left_line.detected) + ' R ' + str(right_line.detected),(50,70), cv2.FONT_HERSHEY_SIMPLEX, 0.5,(255,255,255),1)\n",
    "    #output_image = cv2.putText(output,'L Last X Values:' + str([round(elem, 4) for elem in left_line.recent_xfitted]),(50,130), cv2.FONT_HERSHEY_SIMPLEX, 0.5,(255,255,255),1)\n",
    "    #output_image = cv2.putText(output,'R Last X Values:' + str([round(elem, 4) for elem in right_line.recent_xfitted]),(50,190), cv2.FONT_HERSHEY_SIMPLEX, 0.5,(255,255,255),1)\n",
    "    output_image = cv2.putText(output,'Average X value: L ' + str(left_line.bestx) + ' R ' + str(right_line.bestx),(50,250), cv2.FONT_HERSHEY_SIMPLEX, 0.5,(255,255,255),1)\n",
    "    output_image = cv2.putText(output,'Average Fit: L ' + str(left_line.best_fit) + ' R ' + str(right_line.best_fit),(50,310), cv2.FONT_HERSHEY_SIMPLEX, 0.5,(255,255,255),1)\n",
    "    output_image = cv2.putText(output,'Current Fit: L ' + str(left_line.current_fit) + ' R ' + str(right_line.current_fit),(50,370), cv2.FONT_HERSHEY_SIMPLEX, 0.5,(255,255,255),1)\n",
    "    output_image = cv2.putText(output,'Best Fit Difference: L ' + str(left_line.diffs) + ' R ' + str(right_line.diffs),(50,430), cv2.FONT_HERSHEY_SIMPLEX, 0.5,(255,255,255),1)\n",
    "    output_image = cv2.putText(output,'Best Fit Difference Percent: L ' + str(left_line.diffsper) + ' R ' + str(right_line.diffsper),(50,490), cv2.FONT_HERSHEY_SIMPLEX, 0.5,(255,255,255),1)\n",
    "    output_image = cv2.putText(output,'Curve Radio:' + str(curverad) + ' L ' + str(left_line.radius_of_curvature) + ' R ' + str(right_line.radius_of_curvature) + ' AL ' + str(left_curverad) + ' AR ' + str(right_curverad),(50,550), cv2.FONT_HERSHEY_SIMPLEX, 0.5,(255,255,255),1)\n",
    "    output_image = cv2.putText(output,'Offset From Center:' + str(right_line.line_base_pos),(50,610), cv2.FONT_HERSHEY_SIMPLEX, 0.5,(255,255,255),1)\n",
    "    \n",
    "    shape = output_image.shape\n",
    "    new_shape = (int(output_image.shape[0] * 1.5), int(output_image.shape[1] * 1.5), 3)\n",
    "    half_shape = (shape[0] // 2, shape[1] // 2)\n",
    "    debug_image = np.zeros(new_shape, dtype=output_image.dtype)\n",
    "    \n",
    "    debug_image[:shape[0], :shape[1]] = output_image\n",
    "    debug_image[shape[0]:, :half_shape[1]] =  cv2.resize(result, half_shape[::-1])*255\n",
    "    debug_image[shape[0]:, half_shape[1]:int(2*half_shape[1])] =  cv2.resize(np.dstack((result_combined, result_combined, result_combined)), half_shape[::-1])\n",
    "    debug_image[shape[0]:, int(2*half_shape[1]):] = cv2.resize(windows_warped, half_shape[::-1])\n",
    "    debug_image[half_shape[0]:int(2*half_shape[0]), shape[1]:] = cv2.resize(lines_img, half_shape[::-1])\n",
    "    debug_image[:half_shape[0], shape[1]:] = cv2.resize(output_warped, half_shape[::-1])\n",
    "    \n",
    "    output_image = debug_image\n",
    "    return output_image "
   ]
  },
  {
   "cell_type": "code",
   "execution_count": null,
   "metadata": {
    "collapsed": false,
    "deletable": true,
    "editable": true
   },
   "outputs": [],
   "source": [
    "#Read in and make a list of road images\n",
    "road_images = glob.glob('C:\\\\carnd-term1\\\\CarND-Advanced-Lane-Lines\\\\test_images\\\\test*.jpg')\n",
    "for fname in road_images:\n",
    "    img = masked_warped = mpimg.imread(fname)  \n",
    "    output_image = process_image(img)\n",
    "    fig = plt.figure()\n",
    "    ax = fig.add_subplot(111)\n",
    "    ax.imshow(output_image)\n",
    "    "
   ]
  },
  {
   "cell_type": "code",
   "execution_count": 11,
   "metadata": {
    "collapsed": false,
    "deletable": true,
    "editable": true
   },
   "outputs": [
    {
     "name": "stderr",
     "output_type": "stream",
     "text": [
      "WARNING:root:Warning: could not find imageio's ffmpeg executable:\n",
      "[WinError 5] Access is denied: 'C:\\\\ProgramData\\\\Miniconda3\\\\envs\\\\carnd-term1-gpu\\\\lib\\\\site-packages\\\\imageio\\\\resources\\\\ffmpeg\\\\ffmpeg.win32.exe'\n",
      "WARNING:py.warnings:C:\\ProgramData\\Miniconda3\\envs\\carnd-term1-gpu\\lib\\site-packages\\skimage\\filter\\__init__.py:6: skimage_deprecation: The `skimage.filter` module has been renamed to `skimage.filters`.  This placeholder module will be removed in v0.13.\n",
      "  warn(skimage_deprecation('The `skimage.filter` module has been renamed '\n",
      "\n"
     ]
    }
   ],
   "source": [
    "# Import everything needed to edit/save/watch video clips\n",
    "from moviepy.editor import VideoFileClip\n",
    "from IPython.display import HTML"
   ]
  },
  {
   "cell_type": "code",
   "execution_count": null,
   "metadata": {
    "collapsed": false,
    "deletable": true,
    "editable": true
   },
   "outputs": [
    {
     "name": "stdout",
     "output_type": "stream",
     "text": [
      "Calculating Centroids\n"
     ]
    },
    {
     "name": "stderr",
     "output_type": "stream",
     "text": [
      "WARNING:py.warnings:C:\\ProgramData\\Miniconda3\\envs\\carnd-term1-gpu\\lib\\site-packages\\ipykernel\\__main__.py:45: FutureWarning: comparison to `None` will result in an elementwise object comparison in the future.\n",
      "\n",
      "WARNING:py.warnings:C:\\ProgramData\\Miniconda3\\envs\\carnd-term1-gpu\\lib\\site-packages\\ipykernel\\__main__.py:51: FutureWarning: comparison to `None` will result in an elementwise object comparison in the future.\n",
      "\n",
      "WARNING:py.warnings:C:\\ProgramData\\Miniconda3\\envs\\carnd-term1-gpu\\lib\\site-packages\\ipykernel\\__main__.py:17: FutureWarning: comparison to `None` will result in an elementwise object comparison in the future.\n",
      "\n",
      "WARNING:py.warnings:C:\\ProgramData\\Miniconda3\\envs\\carnd-term1-gpu\\lib\\site-packages\\ipykernel\\__main__.py:21: VisibleDeprecationWarning: using a non-integer number instead of an integer will result in an error in the future\n",
      "\n",
      "WARNING:py.warnings:C:\\ProgramData\\Miniconda3\\envs\\carnd-term1-gpu\\lib\\site-packages\\ipykernel\\__main__.py:24: VisibleDeprecationWarning: using a non-integer number instead of an integer will result in an error in the future\n",
      "\n"
     ]
    },
    {
     "name": "stdout",
     "output_type": "stream",
     "text": [
      "[MoviePy] >>>> Building video project_video_out.mp4\n",
      "[MoviePy] Writing video project_video_out.mp4\n"
     ]
    },
    {
     "name": "stderr",
     "output_type": "stream",
     "text": [
      "\n",
      "  0%|                                                                                         | 0/1261 [00:00<?, ?it/s]WARNING:py.warnings:C:\\ProgramData\\Miniconda3\\envs\\carnd-term1-gpu\\lib\\site-packages\\ipykernel\\__main__.py:82: FutureWarning: comparison to `None` will result in an elementwise object comparison in the future.\n",
      "\n",
      "WARNING:py.warnings:C:\\ProgramData\\Miniconda3\\envs\\carnd-term1-gpu\\lib\\site-packages\\ipykernel\\__main__.py:45: FutureWarning: comparison to `None` will result in an elementwise object comparison in the future.\n",
      "\n",
      "WARNING:py.warnings:C:\\ProgramData\\Miniconda3\\envs\\carnd-term1-gpu\\lib\\site-packages\\ipykernel\\__main__.py:51: FutureWarning: comparison to `None` will result in an elementwise object comparison in the future.\n",
      "\n",
      "WARNING:py.warnings:C:\\ProgramData\\Miniconda3\\envs\\carnd-term1-gpu\\lib\\site-packages\\ipykernel\\__main__.py:17: FutureWarning: comparison to `None` will result in an elementwise object comparison in the future.\n",
      "\n",
      "WARNING:py.warnings:C:\\ProgramData\\Miniconda3\\envs\\carnd-term1-gpu\\lib\\site-packages\\ipykernel\\__main__.py:21: VisibleDeprecationWarning: using a non-integer number instead of an integer will result in an error in the future\n",
      "\n",
      "WARNING:py.warnings:C:\\ProgramData\\Miniconda3\\envs\\carnd-term1-gpu\\lib\\site-packages\\ipykernel\\__main__.py:24: VisibleDeprecationWarning: using a non-integer number instead of an integer will result in an error in the future\n",
      "\n",
      "\n",
      "  0%|                                                                                 | 1/1261 [00:00<11:40,  1.80it/s]\n",
      "  0%|▏                                                                                | 2/1261 [00:01<11:30,  1.82it/s]\n",
      "  0%|▏                                                                                | 3/1261 [00:01<11:28,  1.83it/s]\n",
      "  0%|▎                                                                                | 4/1261 [00:02<11:29,  1.82it/s]\n",
      "  0%|▎                                                                                | 5/1261 [00:02<11:25,  1.83it/s]\n",
      "  0%|▍                                                                                | 6/1261 [00:03<11:18,  1.85it/s]\n",
      "  1%|▍                                                                                | 7/1261 [00:03<11:22,  1.84it/s]\n",
      "  1%|▌                                                                                | 8/1261 [00:04<11:14,  1.86it/s]\n",
      "  1%|▌                                                                                | 9/1261 [00:04<11:08,  1.87it/s]\n",
      "  1%|▋                                                                               | 10/1261 [00:05<11:01,  1.89it/s]\n",
      "  1%|▋                                                                               | 11/1261 [00:05<10:53,  1.91it/s]\n",
      "  1%|▊                                                                               | 12/1261 [00:06<10:50,  1.92it/s]"
     ]
    },
    {
     "name": "stdout",
     "output_type": "stream",
     "text": [
      "Sanity Check Failed due to curvature\n",
      "-0.113292368839\n"
     ]
    },
    {
     "name": "stderr",
     "output_type": "stream",
     "text": [
      "\n",
      "  1%|▊                                                                               | 13/1261 [00:06<10:42,  1.94it/s]\n",
      "  1%|▉                                                                               | 14/1261 [00:07<10:41,  1.94it/s]"
     ]
    },
    {
     "name": "stdout",
     "output_type": "stream",
     "text": [
      "Sanity Check Failed due to curvature\n",
      "0.0477790843849\n"
     ]
    },
    {
     "name": "stderr",
     "output_type": "stream",
     "text": [
      "\n",
      "  1%|▉                                                                               | 15/1261 [00:07<10:42,  1.94it/s]\n",
      "  1%|█                                                                               | 16/1261 [00:08<10:42,  1.94it/s]\n",
      "  1%|█                                                                               | 17/1261 [00:08<10:37,  1.95it/s]\n",
      "  1%|█▏                                                                              | 18/1261 [00:09<10:37,  1.95it/s]\n",
      "  2%|█▏                                                                              | 19/1261 [00:09<10:44,  1.93it/s]\n",
      "  2%|█▎                                                                              | 20/1261 [00:10<10:36,  1.95it/s]\n",
      "  2%|█▎                                                                              | 21/1261 [00:10<10:32,  1.96it/s]\n",
      "  2%|█▍                                                                              | 22/1261 [00:11<10:33,  1.96it/s]\n",
      "  2%|█▍                                                                              | 23/1261 [00:12<10:36,  1.95it/s]\n",
      "  2%|█▌                                                                              | 24/1261 [00:12<10:32,  1.96it/s]\n",
      "  2%|█▌                                                                              | 25/1261 [00:13<10:28,  1.97it/s]\n",
      "  2%|█▋                                                                              | 26/1261 [00:13<10:36,  1.94it/s]\n",
      "  2%|█▋                                                                              | 27/1261 [00:14<10:36,  1.94it/s]\n",
      "  2%|█▊                                                                              | 28/1261 [00:14<10:46,  1.91it/s]\n",
      "  2%|█▊                                                                              | 29/1261 [00:15<10:53,  1.89it/s]\n",
      "  2%|█▉                                                                              | 30/1261 [00:15<10:42,  1.92it/s]\n",
      "  2%|█▉                                                                              | 31/1261 [00:16<10:42,  1.91it/s]\n",
      "  3%|██                                                                              | 32/1261 [00:16<10:35,  1.93it/s]\n",
      "  3%|██                                                                              | 33/1261 [00:17<10:37,  1.93it/s]\n",
      "  3%|██▏                                                                             | 34/1261 [00:17<10:32,  1.94it/s]\n",
      "  3%|██▏                                                                             | 35/1261 [00:18<10:34,  1.93it/s]\n",
      "  3%|██▎                                                                             | 36/1261 [00:18<10:42,  1.91it/s]\n",
      "  3%|██▎                                                                             | 37/1261 [00:19<10:32,  1.94it/s]\n",
      "  3%|██▍                                                                             | 38/1261 [00:19<10:27,  1.95it/s]\n",
      "  3%|██▍                                                                             | 39/1261 [00:20<10:27,  1.95it/s]\n",
      "  3%|██▌                                                                             | 40/1261 [00:20<10:28,  1.94it/s]\n",
      "  3%|██▌                                                                             | 41/1261 [00:21<10:25,  1.95it/s]\n",
      "  3%|██▋                                                                             | 42/1261 [00:21<10:18,  1.97it/s]\n",
      "  3%|██▋                                                                             | 43/1261 [00:22<10:37,  1.91it/s]\n",
      "  3%|██▊                                                                             | 44/1261 [00:22<10:29,  1.93it/s]\n",
      "  4%|██▊                                                                             | 45/1261 [00:23<10:30,  1.93it/s]\n",
      "  4%|██▉                                                                             | 46/1261 [00:23<10:21,  1.95it/s]\n",
      "  4%|██▉                                                                             | 47/1261 [00:24<10:21,  1.95it/s]\n",
      "  4%|███                                                                             | 48/1261 [00:24<10:14,  1.97it/s]\n",
      "  4%|███                                                                             | 49/1261 [00:25<10:22,  1.95it/s]\n",
      "  4%|███▏                                                                            | 50/1261 [00:26<10:36,  1.90it/s]\n",
      "  4%|███▏                                                                            | 51/1261 [00:26<10:40,  1.89it/s]\n",
      "  4%|███▎                                                                            | 52/1261 [00:27<10:35,  1.90it/s]\n",
      "  4%|███▎                                                                            | 53/1261 [00:27<10:43,  1.88it/s]\n",
      "  4%|███▍                                                                            | 54/1261 [00:28<10:44,  1.87it/s]\n",
      "  4%|███▍                                                                            | 55/1261 [00:28<10:54,  1.84it/s]\n",
      "  4%|███▌                                                                            | 56/1261 [00:29<10:53,  1.84it/s]\n",
      "  5%|███▌                                                                            | 57/1261 [00:29<10:50,  1.85it/s]\n",
      "  5%|███▋                                                                            | 58/1261 [00:30<10:44,  1.87it/s]\n",
      "  5%|███▋                                                                            | 59/1261 [00:30<10:42,  1.87it/s]\n",
      "  5%|███▊                                                                            | 60/1261 [00:31<10:30,  1.90it/s]\n",
      "  5%|███▊                                                                            | 61/1261 [00:31<10:25,  1.92it/s]\n",
      "  5%|███▉                                                                            | 62/1261 [00:32<10:27,  1.91it/s]\n",
      "  5%|███▉                                                                            | 63/1261 [00:32<10:19,  1.93it/s]\n",
      "  5%|████                                                                            | 64/1261 [00:33<10:26,  1.91it/s]\n",
      "  5%|████                                                                            | 65/1261 [00:33<10:19,  1.93it/s]\n",
      "  5%|████▏                                                                           | 66/1261 [00:34<10:23,  1.92it/s]\n",
      "  5%|████▎                                                                           | 67/1261 [00:35<10:29,  1.90it/s]\n",
      "  5%|████▎                                                                           | 68/1261 [00:35<10:27,  1.90it/s]\n",
      "  5%|████▍                                                                           | 69/1261 [00:36<10:24,  1.91it/s]\n",
      "  6%|████▍                                                                           | 70/1261 [00:36<10:14,  1.94it/s]\n",
      "  6%|████▌                                                                           | 71/1261 [00:37<10:14,  1.94it/s]\n",
      "  6%|████▌                                                                           | 72/1261 [00:37<10:18,  1.92it/s]\n",
      "  6%|████▋                                                                           | 73/1261 [00:38<10:11,  1.94it/s]\n",
      "  6%|████▋                                                                           | 74/1261 [00:38<10:17,  1.92it/s]\n",
      "  6%|████▊                                                                           | 75/1261 [00:39<10:08,  1.95it/s]\n",
      "  6%|████▊                                                                           | 76/1261 [00:39<10:08,  1.95it/s]\n",
      "  6%|████▉                                                                           | 77/1261 [00:40<10:06,  1.95it/s]\n",
      "  6%|████▉                                                                           | 78/1261 [00:40<10:09,  1.94it/s]\n",
      "  6%|█████                                                                           | 79/1261 [00:41<10:13,  1.93it/s]\n",
      "  6%|█████                                                                           | 80/1261 [00:41<10:05,  1.95it/s]\n",
      "  6%|█████▏                                                                          | 81/1261 [00:42<10:07,  1.94it/s]\n",
      "  7%|█████▏                                                                          | 82/1261 [00:42<10:06,  1.94it/s]\n",
      "  7%|█████▎                                                                          | 83/1261 [00:43<10:08,  1.94it/s]\n",
      "  7%|█████▎                                                                          | 84/1261 [00:43<10:03,  1.95it/s]\n",
      "  7%|█████▍                                                                          | 85/1261 [00:44<10:04,  1.95it/s]\n",
      "  7%|█████▍                                                                          | 86/1261 [00:44<10:11,  1.92it/s]\n",
      "  7%|█████▌                                                                          | 87/1261 [00:45<10:01,  1.95it/s]\n",
      "  7%|█████▌                                                                          | 88/1261 [00:45<10:08,  1.93it/s]\n",
      "  7%|█████▋                                                                          | 89/1261 [00:46<10:07,  1.93it/s]\n",
      "  7%|█████▋                                                                          | 90/1261 [00:46<09:59,  1.95it/s]\n",
      "  7%|█████▊                                                                          | 91/1261 [00:47<09:56,  1.96it/s]\n",
      "  7%|█████▊                                                                          | 92/1261 [00:47<09:53,  1.97it/s]\n",
      "  7%|█████▉                                                                          | 93/1261 [00:48<09:54,  1.96it/s]\n",
      "  7%|█████▉                                                                          | 94/1261 [00:48<09:51,  1.97it/s]\n",
      "  8%|██████                                                                          | 95/1261 [00:49<09:54,  1.96it/s]\n",
      "  8%|██████                                                                          | 96/1261 [00:49<09:49,  1.98it/s]\n",
      "  8%|██████▏                                                                         | 97/1261 [00:50<09:52,  1.97it/s]\n",
      "  8%|██████▏                                                                         | 98/1261 [00:50<09:54,  1.96it/s]\n",
      "  8%|██████▎                                                                         | 99/1261 [00:51<09:56,  1.95it/s]\n",
      "  8%|██████▎                                                                        | 100/1261 [00:51<09:51,  1.96it/s]\n",
      "  8%|██████▎                                                                        | 101/1261 [00:52<09:51,  1.96it/s]\n",
      "  8%|██████▍                                                                        | 102/1261 [00:52<09:46,  1.98it/s]\n",
      "  8%|██████▍                                                                        | 103/1261 [00:53<09:48,  1.97it/s]\n",
      "  8%|██████▌                                                                        | 104/1261 [00:53<09:43,  1.98it/s]\n",
      "  8%|██████▌                                                                        | 105/1261 [00:54<09:56,  1.94it/s]\n",
      "  8%|██████▋                                                                        | 106/1261 [00:55<10:03,  1.91it/s]\n",
      "  8%|██████▋                                                                        | 107/1261 [00:55<09:55,  1.94it/s]\n",
      "  9%|██████▊                                                                        | 108/1261 [00:56<09:55,  1.94it/s]\n",
      "  9%|██████▊                                                                        | 109/1261 [00:56<09:50,  1.95it/s]\n",
      "  9%|██████▉                                                                        | 110/1261 [00:57<09:48,  1.95it/s]\n",
      "  9%|██████▉                                                                        | 111/1261 [00:57<09:50,  1.95it/s]\n",
      "  9%|███████                                                                        | 112/1261 [00:58<09:52,  1.94it/s]\n",
      "  9%|███████                                                                        | 113/1261 [00:58<09:53,  1.93it/s]\n",
      "  9%|███████▏                                                                       | 114/1261 [00:59<09:52,  1.94it/s]\n",
      "  9%|███████▏                                                                       | 115/1261 [00:59<09:47,  1.95it/s]\n",
      "  9%|███████▎                                                                       | 116/1261 [01:00<09:42,  1.96it/s]\n",
      "  9%|███████▎                                                                       | 117/1261 [01:00<09:47,  1.95it/s]\n",
      "  9%|███████▍                                                                       | 118/1261 [01:01<09:37,  1.98it/s]\n",
      "  9%|███████▍                                                                       | 119/1261 [01:01<09:42,  1.96it/s]\n",
      " 10%|███████▌                                                                       | 120/1261 [01:02<09:36,  1.98it/s]\n",
      " 10%|███████▌                                                                       | 121/1261 [01:02<09:46,  1.94it/s]\n",
      " 10%|███████▋                                                                       | 122/1261 [01:03<09:48,  1.93it/s]\n",
      " 10%|███████▋                                                                       | 123/1261 [01:03<09:46,  1.94it/s]\n",
      " 10%|███████▊                                                                       | 124/1261 [01:04<09:46,  1.94it/s]\n",
      " 10%|███████▊                                                                       | 125/1261 [01:04<09:43,  1.95it/s]\n",
      " 10%|███████▉                                                                       | 126/1261 [01:05<09:39,  1.96it/s]\n",
      " 10%|███████▉                                                                       | 127/1261 [01:05<09:30,  1.99it/s]\n",
      " 10%|████████                                                                       | 128/1261 [01:06<09:30,  1.99it/s]\n",
      " 10%|████████                                                                       | 129/1261 [01:06<09:27,  2.00it/s]\n",
      " 10%|████████▏                                                                      | 130/1261 [01:07<09:28,  1.99it/s]\n",
      " 10%|████████▏                                                                      | 131/1261 [01:07<09:24,  2.00it/s]\n",
      " 10%|████████▎                                                                      | 132/1261 [01:08<09:29,  1.98it/s]\n",
      " 11%|████████▎                                                                      | 133/1261 [01:08<09:26,  1.99it/s]\n",
      " 11%|████████▍                                                                      | 134/1261 [01:09<09:30,  1.97it/s]\n",
      " 11%|████████▍                                                                      | 135/1261 [01:09<09:39,  1.94it/s]\n",
      " 11%|████████▌                                                                      | 136/1261 [01:10<09:40,  1.94it/s]\n",
      " 11%|████████▌                                                                      | 137/1261 [01:10<09:44,  1.92it/s]\n",
      " 11%|████████▋                                                                      | 138/1261 [01:11<09:37,  1.94it/s]\n",
      " 11%|████████▋                                                                      | 139/1261 [01:11<09:36,  1.95it/s]\n",
      " 11%|████████▊                                                                      | 140/1261 [01:12<09:39,  1.94it/s]\n",
      " 11%|████████▊                                                                      | 141/1261 [01:12<09:32,  1.96it/s]\n",
      " 11%|████████▉                                                                      | 142/1261 [01:13<09:33,  1.95it/s]\n",
      " 11%|████████▉                                                                      | 143/1261 [01:13<09:35,  1.94it/s]\n",
      " 11%|█████████                                                                      | 144/1261 [01:14<09:36,  1.94it/s]\n",
      " 11%|█████████                                                                      | 145/1261 [01:14<09:27,  1.97it/s]\n",
      " 12%|█████████▏                                                                     | 146/1261 [01:15<09:23,  1.98it/s]\n",
      " 12%|█████████▏                                                                     | 147/1261 [01:15<09:20,  1.99it/s]\n",
      " 12%|█████████▎                                                                     | 148/1261 [01:16<09:27,  1.96it/s]\n",
      " 12%|█████████▎                                                                     | 149/1261 [01:16<09:25,  1.97it/s]\n",
      " 12%|█████████▍                                                                     | 150/1261 [01:17<09:29,  1.95it/s]\n",
      " 12%|█████████▍                                                                     | 151/1261 [01:18<09:32,  1.94it/s]\n",
      " 12%|█████████▌                                                                     | 152/1261 [01:18<09:32,  1.94it/s]\n",
      " 12%|█████████▌                                                                     | 153/1261 [01:19<09:30,  1.94it/s]\n",
      " 12%|█████████▋                                                                     | 154/1261 [01:19<09:29,  1.94it/s]\n",
      " 12%|█████████▋                                                                     | 155/1261 [01:20<09:26,  1.95it/s]\n",
      " 12%|█████████▊                                                                     | 156/1261 [01:20<09:21,  1.97it/s]\n",
      " 12%|█████████▊                                                                     | 157/1261 [01:21<09:25,  1.95it/s]\n",
      " 13%|█████████▉                                                                     | 158/1261 [01:21<09:22,  1.96it/s]\n",
      " 13%|█████████▉                                                                     | 159/1261 [01:22<09:31,  1.93it/s]\n",
      " 13%|██████████                                                                     | 160/1261 [01:22<09:34,  1.92it/s]\n",
      " 13%|██████████                                                                     | 161/1261 [01:23<09:28,  1.94it/s]\n",
      " 13%|██████████▏                                                                    | 162/1261 [01:23<09:32,  1.92it/s]\n",
      " 13%|██████████▏                                                                    | 163/1261 [01:24<09:22,  1.95it/s]"
     ]
    },
    {
     "name": "stdout",
     "output_type": "stream",
     "text": [
      "Sanity Check Failed due to curvature\n",
      "0.0658455994241\n"
     ]
    },
    {
     "name": "stderr",
     "output_type": "stream",
     "text": [
      "\n",
      " 13%|██████████▎                                                                    | 164/1261 [01:24<09:25,  1.94it/s]\n",
      " 13%|██████████▎                                                                    | 165/1261 [01:25<09:34,  1.91it/s]"
     ]
    },
    {
     "name": "stdout",
     "output_type": "stream",
     "text": [
      "Sanity Check Failed due to curvature\n",
      "0.161331359364\n"
     ]
    },
    {
     "name": "stderr",
     "output_type": "stream",
     "text": [
      "\n",
      " 13%|██████████▍                                                                    | 166/1261 [01:25<09:32,  1.91it/s]\n",
      " 13%|██████████▍                                                                    | 167/1261 [01:26<09:32,  1.91it/s]\n",
      " 13%|██████████▌                                                                    | 168/1261 [01:26<09:23,  1.94it/s]\n",
      " 13%|██████████▌                                                                    | 169/1261 [01:27<09:17,  1.96it/s]\n",
      " 13%|██████████▋                                                                    | 170/1261 [01:27<09:36,  1.89it/s]\n",
      " 14%|██████████▋                                                                    | 171/1261 [01:28<09:26,  1.92it/s]\n",
      " 14%|██████████▊                                                                    | 172/1261 [01:28<09:27,  1.92it/s]\n",
      " 14%|██████████▊                                                                    | 173/1261 [01:29<09:27,  1.92it/s]\n",
      " 14%|██████████▉                                                                    | 174/1261 [01:29<09:20,  1.94it/s]\n",
      " 14%|██████████▉                                                                    | 175/1261 [01:30<09:27,  1.91it/s]\n",
      " 14%|███████████                                                                    | 176/1261 [01:30<09:29,  1.90it/s]\n",
      " 14%|███████████                                                                    | 177/1261 [01:31<09:33,  1.89it/s]\n",
      " 14%|███████████▏                                                                   | 178/1261 [01:32<09:28,  1.90it/s]\n",
      " 14%|███████████▏                                                                   | 179/1261 [01:32<09:22,  1.92it/s]\n",
      " 14%|███████████▎                                                                   | 180/1261 [01:33<09:26,  1.91it/s]\n",
      " 14%|███████████▎                                                                   | 181/1261 [01:33<09:20,  1.93it/s]\n",
      " 14%|███████████▍                                                                   | 182/1261 [01:34<09:17,  1.93it/s]\n",
      " 15%|███████████▍                                                                   | 183/1261 [01:34<09:18,  1.93it/s]\n",
      " 15%|███████████▌                                                                   | 184/1261 [01:35<09:15,  1.94it/s]\n",
      " 15%|███████████▌                                                                   | 185/1261 [01:35<09:17,  1.93it/s]\n",
      " 15%|███████████▋                                                                   | 186/1261 [01:36<09:08,  1.96it/s]\n",
      " 15%|███████████▋                                                                   | 187/1261 [01:36<09:11,  1.95it/s]\n",
      " 15%|███████████▊                                                                   | 188/1261 [01:37<09:03,  1.97it/s]\n",
      " 15%|███████████▊                                                                   | 189/1261 [01:37<09:16,  1.93it/s]\n",
      " 15%|███████████▉                                                                   | 190/1261 [01:38<09:33,  1.87it/s]\n",
      " 15%|███████████▉                                                                   | 191/1261 [01:38<09:50,  1.81it/s]\n",
      " 15%|████████████                                                                   | 192/1261 [01:39<09:51,  1.81it/s]\n",
      " 15%|████████████                                                                   | 193/1261 [01:39<09:51,  1.81it/s]\n",
      " 15%|████████████▏                                                                  | 194/1261 [01:40<09:38,  1.85it/s]\n",
      " 15%|████████████▏                                                                  | 195/1261 [01:40<09:24,  1.89it/s]\n",
      " 16%|████████████▎                                                                  | 196/1261 [01:41<09:19,  1.90it/s]\n",
      " 16%|████████████▎                                                                  | 197/1261 [01:42<09:21,  1.89it/s]\n",
      " 16%|████████████▍                                                                  | 198/1261 [01:42<09:15,  1.91it/s]\n",
      " 16%|████████████▍                                                                  | 199/1261 [01:43<09:14,  1.92it/s]\n",
      " 16%|████████████▌                                                                  | 200/1261 [01:43<09:12,  1.92it/s]\n",
      " 16%|████████████▌                                                                  | 201/1261 [01:44<09:11,  1.92it/s]\n",
      " 16%|████████████▋                                                                  | 202/1261 [01:44<09:20,  1.89it/s]\n",
      " 16%|████████████▋                                                                  | 203/1261 [01:45<09:15,  1.91it/s]\n",
      " 16%|████████████▊                                                                  | 204/1261 [01:45<09:23,  1.88it/s]\n",
      " 16%|████████████▊                                                                  | 205/1261 [01:46<09:18,  1.89it/s]\n",
      " 16%|████████████▉                                                                  | 206/1261 [01:46<09:07,  1.93it/s]\n",
      " 16%|████████████▉                                                                  | 207/1261 [01:47<09:08,  1.92it/s]\n",
      " 16%|█████████████                                                                  | 208/1261 [01:47<08:59,  1.95it/s]\n",
      " 17%|█████████████                                                                  | 209/1261 [01:48<08:57,  1.96it/s]\n",
      " 17%|█████████████▏                                                                 | 210/1261 [01:48<08:51,  1.98it/s]\n",
      " 17%|█████████████▏                                                                 | 211/1261 [01:49<08:58,  1.95it/s]\n",
      " 17%|█████████████▎                                                                 | 212/1261 [01:49<09:02,  1.94it/s]\n",
      " 17%|█████████████▎                                                                 | 213/1261 [01:50<09:02,  1.93it/s]\n",
      " 17%|█████████████▍                                                                 | 214/1261 [01:50<09:05,  1.92it/s]\n",
      " 17%|█████████████▍                                                                 | 215/1261 [01:51<09:02,  1.93it/s]\n",
      " 17%|█████████████▌                                                                 | 216/1261 [01:51<09:01,  1.93it/s]\n",
      " 17%|█████████████▌                                                                 | 217/1261 [01:52<08:57,  1.94it/s]\n",
      " 17%|█████████████▋                                                                 | 218/1261 [01:52<08:55,  1.95it/s]\n",
      " 17%|█████████████▋                                                                 | 219/1261 [01:53<08:55,  1.94it/s]\n",
      " 17%|█████████████▊                                                                 | 220/1261 [01:53<08:52,  1.95it/s]\n",
      " 18%|█████████████▊                                                                 | 221/1261 [01:54<08:56,  1.94it/s]\n",
      " 18%|█████████████▉                                                                 | 222/1261 [01:54<08:49,  1.96it/s]\n",
      " 18%|█████████████▉                                                                 | 223/1261 [01:55<08:50,  1.96it/s]\n",
      " 18%|██████████████                                                                 | 224/1261 [01:55<08:46,  1.97it/s]"
     ]
    },
    {
     "name": "stdout",
     "output_type": "stream",
     "text": [
      "Sanity Check Failed due to curvature\n",
      "0.163271341688\n"
     ]
    },
    {
     "name": "stderr",
     "output_type": "stream",
     "text": [
      "\n",
      " 18%|██████████████                                                                 | 225/1261 [01:56<08:52,  1.94it/s]\n",
      " 18%|██████████████▏                                                                | 226/1261 [01:57<08:48,  1.96it/s]\n",
      " 18%|██████████████▏                                                                | 227/1261 [01:57<08:50,  1.95it/s]\n",
      " 18%|██████████████▎                                                                | 228/1261 [01:58<08:53,  1.94it/s]\n",
      " 18%|██████████████▎                                                                | 229/1261 [01:58<08:52,  1.94it/s]\n",
      " 18%|██████████████▍                                                                | 230/1261 [01:59<08:55,  1.93it/s]\n",
      " 18%|██████████████▍                                                                | 231/1261 [01:59<08:47,  1.95it/s]\n",
      " 18%|██████████████▌                                                                | 232/1261 [02:00<08:48,  1.95it/s]\n",
      " 18%|██████████████▌                                                                | 233/1261 [02:00<08:45,  1.96it/s]\n",
      " 19%|██████████████▋                                                                | 234/1261 [02:01<08:50,  1.94it/s]\n",
      " 19%|██████████████▋                                                                | 235/1261 [02:01<09:02,  1.89it/s]\n",
      " 19%|██████████████▊                                                                | 236/1261 [02:02<08:54,  1.92it/s]\n",
      " 19%|██████████████▊                                                                | 237/1261 [02:02<08:56,  1.91it/s]\n",
      " 19%|██████████████▉                                                                | 238/1261 [02:03<08:51,  1.92it/s]\n",
      " 19%|██████████████▉                                                                | 239/1261 [02:03<08:48,  1.93it/s]\n",
      " 19%|███████████████                                                                | 240/1261 [02:04<08:48,  1.93it/s]\n",
      " 19%|███████████████                                                                | 241/1261 [02:04<08:44,  1.94it/s]\n",
      " 19%|███████████████▏                                                               | 242/1261 [02:05<08:53,  1.91it/s]\n",
      " 19%|███████████████▏                                                               | 243/1261 [02:05<08:47,  1.93it/s]\n",
      " 19%|███████████████▎                                                               | 244/1261 [02:06<08:51,  1.91it/s]\n",
      " 19%|███████████████▎                                                               | 245/1261 [02:06<08:53,  1.91it/s]\n",
      " 20%|███████████████▍                                                               | 246/1261 [02:07<08:45,  1.93it/s]\n",
      " 20%|███████████████▍                                                               | 247/1261 [02:07<08:44,  1.93it/s]\n",
      " 20%|███████████████▌                                                               | 248/1261 [02:08<08:43,  1.94it/s]\n",
      " 20%|███████████████▌                                                               | 249/1261 [02:08<08:46,  1.92it/s]\n",
      " 20%|███████████████▋                                                               | 250/1261 [02:09<08:48,  1.91it/s]\n",
      " 20%|███████████████▋                                                               | 251/1261 [02:10<08:49,  1.91it/s]\n",
      " 20%|███████████████▊                                                               | 252/1261 [02:10<08:54,  1.89it/s]\n",
      " 20%|███████████████▊                                                               | 253/1261 [02:11<08:49,  1.90it/s]\n",
      " 20%|███████████████▉                                                               | 254/1261 [02:11<08:46,  1.91it/s]\n",
      " 20%|███████████████▉                                                               | 255/1261 [02:12<08:48,  1.91it/s]\n",
      " 20%|████████████████                                                               | 256/1261 [02:12<08:40,  1.93it/s]\n",
      " 20%|████████████████                                                               | 257/1261 [02:13<08:44,  1.91it/s]\n",
      " 20%|████████████████▏                                                              | 258/1261 [02:13<08:48,  1.90it/s]\n",
      " 21%|████████████████▏                                                              | 259/1261 [02:14<08:38,  1.93it/s]\n",
      " 21%|████████████████▎                                                              | 260/1261 [02:14<08:38,  1.93it/s]\n",
      " 21%|████████████████▎                                                              | 261/1261 [02:15<08:33,  1.95it/s]\n",
      " 21%|████████████████▍                                                              | 262/1261 [02:15<08:36,  1.93it/s]\n",
      " 21%|████████████████▍                                                              | 263/1261 [02:16<08:31,  1.95it/s]\n",
      " 21%|████████████████▌                                                              | 264/1261 [02:16<08:39,  1.92it/s]\n",
      " 21%|████████████████▌                                                              | 265/1261 [02:17<08:40,  1.91it/s]\n",
      " 21%|████████████████▋                                                              | 266/1261 [02:17<08:30,  1.95it/s]\n",
      " 21%|████████████████▋                                                              | 267/1261 [02:18<08:31,  1.94it/s]\n",
      " 21%|████████████████▊                                                              | 268/1261 [02:18<08:27,  1.96it/s]\n",
      " 21%|████████████████▊                                                              | 269/1261 [02:19<08:29,  1.95it/s]\n",
      " 21%|████████████████▉                                                              | 270/1261 [02:19<08:25,  1.96it/s]\n",
      " 21%|████████████████▉                                                              | 271/1261 [02:20<08:36,  1.92it/s]\n",
      " 22%|█████████████████                                                              | 272/1261 [02:20<08:41,  1.90it/s]\n",
      " 22%|█████████████████                                                              | 273/1261 [02:21<08:40,  1.90it/s]\n",
      " 22%|█████████████████▏                                                             | 274/1261 [02:21<08:35,  1.92it/s]\n",
      " 22%|█████████████████▏                                                             | 275/1261 [02:22<08:39,  1.90it/s]\n",
      " 22%|█████████████████▎                                                             | 276/1261 [02:23<08:39,  1.89it/s]\n",
      " 22%|█████████████████▎                                                             | 277/1261 [02:23<08:34,  1.91it/s]\n",
      " 22%|█████████████████▍                                                             | 278/1261 [02:24<08:21,  1.96it/s]\n",
      " 22%|█████████████████▍                                                             | 279/1261 [02:24<08:30,  1.92it/s]\n",
      " 22%|█████████████████▌                                                             | 280/1261 [02:25<08:20,  1.96it/s]\n",
      " 22%|█████████████████▌                                                             | 281/1261 [02:25<08:23,  1.95it/s]\n",
      " 22%|█████████████████▋                                                             | 282/1261 [02:26<08:27,  1.93it/s]\n",
      " 22%|█████████████████▋                                                             | 283/1261 [02:26<08:19,  1.96it/s]\n",
      " 23%|█████████████████▊                                                             | 284/1261 [02:27<08:27,  1.93it/s]\n",
      " 23%|█████████████████▊                                                             | 285/1261 [02:27<08:27,  1.92it/s]\n",
      " 23%|█████████████████▉                                                             | 286/1261 [02:28<08:27,  1.92it/s]\n",
      " 23%|█████████████████▉                                                             | 287/1261 [02:28<08:29,  1.91it/s]\n",
      " 23%|██████████████████                                                             | 288/1261 [02:29<08:23,  1.93it/s]\n",
      " 23%|██████████████████                                                             | 289/1261 [02:29<08:24,  1.93it/s]\n",
      " 23%|██████████████████▏                                                            | 290/1261 [02:30<08:16,  1.96it/s]\n",
      " 23%|██████████████████▏                                                            | 291/1261 [02:30<08:18,  1.94it/s]\n",
      " 23%|██████████████████▎                                                            | 292/1261 [02:31<08:12,  1.97it/s]\n",
      " 23%|██████████████████▎                                                            | 293/1261 [02:31<08:12,  1.96it/s]\n",
      " 23%|██████████████████▍                                                            | 294/1261 [02:32<08:13,  1.96it/s]\n",
      " 23%|██████████████████▍                                                            | 295/1261 [02:32<08:09,  1.97it/s]\n",
      " 23%|██████████████████▌                                                            | 296/1261 [02:33<08:16,  1.94it/s]\n",
      " 24%|██████████████████▌                                                            | 297/1261 [02:33<08:13,  1.95it/s]\n",
      " 24%|██████████████████▋                                                            | 298/1261 [02:34<08:14,  1.95it/s]\n",
      " 24%|██████████████████▋                                                            | 299/1261 [02:34<08:08,  1.97it/s]\n",
      " 24%|██████████████████▊                                                            | 300/1261 [02:35<08:07,  1.97it/s]\n",
      " 24%|██████████████████▊                                                            | 301/1261 [02:35<08:04,  1.98it/s]\n",
      " 24%|██████████████████▉                                                            | 302/1261 [02:36<08:06,  1.97it/s]\n",
      " 24%|██████████████████▉                                                            | 303/1261 [02:36<08:06,  1.97it/s]\n",
      " 24%|███████████████████                                                            | 304/1261 [02:37<08:11,  1.95it/s]\n",
      " 24%|███████████████████                                                            | 305/1261 [02:37<08:14,  1.94it/s]\n",
      " 24%|███████████████████▏                                                           | 306/1261 [02:38<08:10,  1.95it/s]"
     ]
    },
    {
     "name": "stdout",
     "output_type": "stream",
     "text": [
      "Sanity Check Failed due to curvature\n",
      "-0.0531383914779\n"
     ]
    },
    {
     "name": "stderr",
     "output_type": "stream",
     "text": [
      "\n",
      " 24%|███████████████████▏                                                           | 307/1261 [02:38<08:25,  1.89it/s]\n",
      " 24%|███████████████████▎                                                           | 308/1261 [02:39<08:15,  1.92it/s]\n",
      " 25%|███████████████████▎                                                           | 309/1261 [02:39<08:10,  1.94it/s]\n",
      " 25%|███████████████████▍                                                           | 310/1261 [02:40<08:12,  1.93it/s]\n",
      " 25%|███████████████████▍                                                           | 311/1261 [02:41<08:17,  1.91it/s]\n",
      " 25%|███████████████████▌                                                           | 312/1261 [02:41<08:16,  1.91it/s]\n",
      " 25%|███████████████████▌                                                           | 313/1261 [02:42<08:10,  1.93it/s]\n",
      " 25%|███████████████████▋                                                           | 314/1261 [02:42<08:08,  1.94it/s]\n",
      " 25%|███████████████████▋                                                           | 315/1261 [02:43<08:04,  1.95it/s]\n",
      " 25%|███████████████████▊                                                           | 316/1261 [02:43<08:04,  1.95it/s]\n",
      " 25%|███████████████████▊                                                           | 317/1261 [02:44<08:07,  1.94it/s]\n",
      " 25%|███████████████████▉                                                           | 318/1261 [02:44<08:02,  1.96it/s]\n",
      " 25%|███████████████████▉                                                           | 319/1261 [02:45<08:03,  1.95it/s]"
     ]
    },
    {
     "name": "stdout",
     "output_type": "stream",
     "text": [
      "Sanity Check Failed due to curvature\n",
      "11.852599618\n"
     ]
    },
    {
     "name": "stderr",
     "output_type": "stream",
     "text": [
      "\n",
      " 25%|████████████████████                                                           | 320/1261 [02:45<07:59,  1.96it/s]"
     ]
    },
    {
     "name": "stdout",
     "output_type": "stream",
     "text": [
      "Sanity Check Failed due to curvature\n",
      "-9.34202776927\n"
     ]
    },
    {
     "name": "stderr",
     "output_type": "stream",
     "text": [
      "\n",
      " 25%|████████████████████                                                           | 321/1261 [02:46<08:07,  1.93it/s]\n",
      " 26%|████████████████████▏                                                          | 322/1261 [02:46<08:09,  1.92it/s]\n",
      " 26%|████████████████████▏                                                          | 323/1261 [02:47<08:09,  1.92it/s]"
     ]
    },
    {
     "name": "stdout",
     "output_type": "stream",
     "text": [
      "Sanity Check Failed due to curvature\n",
      "-0.0951859449431\n"
     ]
    },
    {
     "name": "stderr",
     "output_type": "stream",
     "text": [
      "\n",
      " 26%|████████████████████▎                                                          | 324/1261 [02:47<08:12,  1.90it/s]\n",
      " 26%|████████████████████▎                                                          | 325/1261 [02:48<08:04,  1.93it/s]\n",
      " 26%|████████████████████▍                                                          | 326/1261 [02:48<08:04,  1.93it/s]\n",
      " 26%|████████████████████▍                                                          | 327/1261 [02:49<07:58,  1.95it/s]\n",
      " 26%|████████████████████▌                                                          | 328/1261 [02:49<07:57,  1.95it/s]\n",
      " 26%|████████████████████▌                                                          | 329/1261 [02:50<08:01,  1.93it/s]\n",
      " 26%|████████████████████▋                                                          | 330/1261 [02:50<07:56,  1.95it/s]\n",
      " 26%|████████████████████▋                                                          | 331/1261 [02:51<08:03,  1.92it/s]\n",
      " 26%|████████████████████▊                                                          | 332/1261 [02:51<08:01,  1.93it/s]\n",
      " 26%|████████████████████▊                                                          | 333/1261 [02:52<08:05,  1.91it/s]\n",
      " 26%|████████████████████▉                                                          | 334/1261 [02:52<07:56,  1.94it/s]\n",
      " 27%|████████████████████▉                                                          | 335/1261 [02:53<08:02,  1.92it/s]\n",
      " 27%|█████████████████████                                                          | 336/1261 [02:53<07:59,  1.93it/s]"
     ]
    },
    {
     "name": "stdout",
     "output_type": "stream",
     "text": [
      "Sanity Check Failed due to curvature\n",
      "-12.8982979678\n"
     ]
    },
    {
     "name": "stderr",
     "output_type": "stream",
     "text": [
      "\n",
      " 27%|█████████████████████                                                          | 337/1261 [02:54<07:58,  1.93it/s]\n",
      " 27%|█████████████████████▏                                                         | 338/1261 [02:54<07:56,  1.94it/s]\n",
      " 27%|█████████████████████▏                                                         | 339/1261 [02:55<07:48,  1.97it/s]\n",
      " 27%|█████████████████████▎                                                         | 340/1261 [02:55<07:49,  1.96it/s]"
     ]
    },
    {
     "name": "stdout",
     "output_type": "stream",
     "text": [
      "Sanity Check Failed due to curvature\n",
      "12.6033456066\n"
     ]
    },
    {
     "name": "stderr",
     "output_type": "stream",
     "text": [
      "\n",
      " 27%|█████████████████████▎                                                         | 341/1261 [02:56<07:48,  1.96it/s]"
     ]
    },
    {
     "name": "stdout",
     "output_type": "stream",
     "text": [
      "Sanity Check Failed due to curvature\n",
      "12.1145575472\n"
     ]
    },
    {
     "name": "stderr",
     "output_type": "stream",
     "text": [
      "\n",
      " 27%|█████████████████████▍                                                         | 342/1261 [02:56<07:50,  1.95it/s]\n",
      " 27%|█████████████████████▍                                                         | 343/1261 [02:57<07:54,  1.93it/s]\n",
      " 27%|█████████████████████▌                                                         | 344/1261 [02:58<07:50,  1.95it/s]\n",
      " 27%|█████████████████████▌                                                         | 345/1261 [02:58<07:54,  1.93it/s]\n",
      " 27%|█████████████████████▋                                                         | 346/1261 [02:59<07:48,  1.95it/s]\n",
      " 28%|█████████████████████▋                                                         | 347/1261 [02:59<07:51,  1.94it/s]\n",
      " 28%|█████████████████████▊                                                         | 348/1261 [03:00<07:44,  1.96it/s]\n",
      " 28%|█████████████████████▊                                                         | 349/1261 [03:00<07:51,  1.93it/s]\n",
      " 28%|█████████████████████▉                                                         | 350/1261 [03:01<07:56,  1.91it/s]\n",
      " 28%|█████████████████████▉                                                         | 351/1261 [03:01<07:50,  1.93it/s]\n",
      " 28%|██████████████████████                                                         | 352/1261 [03:02<07:53,  1.92it/s]\n",
      " 28%|██████████████████████                                                         | 353/1261 [03:02<07:46,  1.95it/s]"
     ]
    },
    {
     "name": "stdout",
     "output_type": "stream",
     "text": [
      "Sanity Check Failed due to curvature\n",
      "-0.0933181570544\n"
     ]
    },
    {
     "name": "stderr",
     "output_type": "stream",
     "text": [
      "\n",
      " 28%|██████████████████████▏                                                        | 354/1261 [03:03<07:52,  1.92it/s]\n",
      " 28%|██████████████████████▏                                                        | 355/1261 [03:03<07:55,  1.91it/s]\n",
      " 28%|██████████████████████▎                                                        | 356/1261 [03:04<07:46,  1.94it/s]\n",
      " 28%|██████████████████████▎                                                        | 357/1261 [03:04<07:49,  1.92it/s]\n",
      " 28%|██████████████████████▍                                                        | 358/1261 [03:05<07:43,  1.95it/s]\n",
      " 28%|██████████████████████▍                                                        | 359/1261 [03:05<07:44,  1.94it/s]\n",
      " 29%|██████████████████████▌                                                        | 360/1261 [03:06<07:40,  1.95it/s]\n",
      " 29%|██████████████████████▌                                                        | 361/1261 [03:06<07:41,  1.95it/s]"
     ]
    },
    {
     "name": "stdout",
     "output_type": "stream",
     "text": [
      "Sanity Check Failed due to curvature\n",
      "18.3234648052\n"
     ]
    },
    {
     "name": "stderr",
     "output_type": "stream",
     "text": [
      "\n",
      " 29%|██████████████████████▋                                                        | 362/1261 [03:07<07:47,  1.92it/s]\n",
      " 29%|██████████████████████▋                                                        | 363/1261 [03:07<07:47,  1.92it/s]\n",
      " 29%|██████████████████████▊                                                        | 364/1261 [03:08<07:46,  1.92it/s]\n",
      " 29%|██████████████████████▊                                                        | 365/1261 [03:08<07:40,  1.95it/s]\n",
      " 29%|██████████████████████▉                                                        | 366/1261 [03:09<07:40,  1.94it/s]\n",
      " 29%|██████████████████████▉                                                        | 367/1261 [03:09<07:42,  1.93it/s]"
     ]
    },
    {
     "name": "stdout",
     "output_type": "stream",
     "text": [
      "Sanity Check Failed due to curvature\n",
      "0.158188693605\n"
     ]
    },
    {
     "name": "stderr",
     "output_type": "stream",
     "text": [
      "\n",
      " 29%|███████████████████████                                                        | 368/1261 [03:10<07:42,  1.93it/s]"
     ]
    },
    {
     "name": "stdout",
     "output_type": "stream",
     "text": [
      "Sanity Check Failed due to curvature\n",
      "-0.0445727010754\n"
     ]
    },
    {
     "name": "stderr",
     "output_type": "stream",
     "text": [
      "\n",
      " 29%|███████████████████████                                                        | 369/1261 [03:10<07:43,  1.92it/s]\n",
      " 29%|███████████████████████▏                                                       | 370/1261 [03:11<07:41,  1.93it/s]\n",
      " 29%|███████████████████████▏                                                       | 371/1261 [03:12<07:41,  1.93it/s]\n",
      " 30%|███████████████████████▎                                                       | 372/1261 [03:12<07:35,  1.95it/s]\n",
      " 30%|███████████████████████▎                                                       | 373/1261 [03:13<07:34,  1.95it/s]\n",
      " 30%|███████████████████████▍                                                       | 374/1261 [03:13<07:45,  1.91it/s]\n",
      " 30%|███████████████████████▍                                                       | 375/1261 [03:14<07:40,  1.92it/s]"
     ]
    },
    {
     "name": "stdout",
     "output_type": "stream",
     "text": [
      "Sanity Check Failed due to curvature\n",
      "-0.0458418329608\n"
     ]
    },
    {
     "name": "stderr",
     "output_type": "stream",
     "text": [
      "\n",
      " 30%|███████████████████████▌                                                       | 376/1261 [03:14<07:43,  1.91it/s]\n",
      " 30%|███████████████████████▌                                                       | 377/1261 [03:15<07:48,  1.89it/s]"
     ]
    },
    {
     "name": "stdout",
     "output_type": "stream",
     "text": [
      "Sanity Check Failed due to curvature\n",
      "10.3084491683\n"
     ]
    },
    {
     "name": "stderr",
     "output_type": "stream",
     "text": [
      "\n",
      " 30%|███████████████████████▋                                                       | 378/1261 [03:15<07:43,  1.90it/s]"
     ]
    },
    {
     "name": "stdout",
     "output_type": "stream",
     "text": [
      "Sanity Check Failed due to curvature\n",
      "-10.4165127242\n"
     ]
    },
    {
     "name": "stderr",
     "output_type": "stream",
     "text": [
      "\n",
      " 30%|███████████████████████▋                                                       | 379/1261 [03:16<07:44,  1.90it/s]\n",
      " 30%|███████████████████████▊                                                       | 380/1261 [03:16<07:37,  1.92it/s]\n",
      " 30%|███████████████████████▊                                                       | 381/1261 [03:17<07:36,  1.93it/s]\n",
      " 30%|███████████████████████▉                                                       | 382/1261 [03:17<07:36,  1.92it/s]\n",
      " 30%|███████████████████████▉                                                       | 383/1261 [03:18<07:40,  1.91it/s]\n",
      " 30%|████████████████████████                                                       | 384/1261 [03:18<07:48,  1.87it/s]\n",
      " 31%|████████████████████████                                                       | 385/1261 [03:19<07:58,  1.83it/s]"
     ]
    },
    {
     "name": "stdout",
     "output_type": "stream",
     "text": [
      "Sanity Check Failed due to curvature\n",
      "6.65502992209\n"
     ]
    },
    {
     "name": "stderr",
     "output_type": "stream",
     "text": [
      "\n",
      " 31%|████████████████████████▏                                                      | 386/1261 [03:19<07:51,  1.86it/s]\n",
      " 31%|████████████████████████▏                                                      | 387/1261 [03:20<07:49,  1.86it/s]\n",
      " 31%|████████████████████████▎                                                      | 388/1261 [03:21<07:52,  1.85it/s]"
     ]
    },
    {
     "name": "stdout",
     "output_type": "stream",
     "text": [
      "Sanity Check Failed due to curvature\n",
      "0.107153687377\n"
     ]
    },
    {
     "name": "stderr",
     "output_type": "stream",
     "text": [
      "\n",
      " 31%|████████████████████████▎                                                      | 389/1261 [03:21<07:46,  1.87it/s]"
     ]
    },
    {
     "name": "stdout",
     "output_type": "stream",
     "text": [
      "Sanity Check Failed due to curvature\n",
      "18.9628931437\n"
     ]
    },
    {
     "name": "stderr",
     "output_type": "stream",
     "text": [
      "\n",
      " 31%|████████████████████████▍                                                      | 390/1261 [03:22<07:48,  1.86it/s]"
     ]
    },
    {
     "name": "stdout",
     "output_type": "stream",
     "text": [
      "Sanity Check Failed due to curvature\n",
      "7.49749006195\n"
     ]
    },
    {
     "name": "stderr",
     "output_type": "stream",
     "text": [
      "\n",
      " 31%|████████████████████████▍                                                      | 391/1261 [03:22<07:49,  1.85it/s]"
     ]
    },
    {
     "name": "stdout",
     "output_type": "stream",
     "text": [
      "Sanity Check Failed due to curvature\n",
      "17.6602137458\n"
     ]
    },
    {
     "name": "stderr",
     "output_type": "stream",
     "text": [
      "\n",
      " 31%|████████████████████████▌                                                      | 392/1261 [03:23<07:44,  1.87it/s]"
     ]
    },
    {
     "name": "stdout",
     "output_type": "stream",
     "text": [
      "Sanity Check Failed due to curvature\n",
      "9.24915459105\n"
     ]
    },
    {
     "name": "stderr",
     "output_type": "stream",
     "text": [
      "\n",
      " 31%|████████████████████████▌                                                      | 393/1261 [03:23<07:40,  1.88it/s]"
     ]
    },
    {
     "name": "stdout",
     "output_type": "stream",
     "text": [
      "Sanity Check Failed due to curvature\n",
      "-13.4619122938\n"
     ]
    },
    {
     "name": "stderr",
     "output_type": "stream",
     "text": [
      "\n",
      " 31%|████████████████████████▋                                                      | 394/1261 [03:24<07:55,  1.82it/s]"
     ]
    },
    {
     "name": "stdout",
     "output_type": "stream",
     "text": [
      "Sanity Check Failed due to curvature\n",
      "-18.5199808062\n"
     ]
    },
    {
     "name": "stderr",
     "output_type": "stream",
     "text": [
      "\n",
      " 31%|████████████████████████▋                                                      | 395/1261 [03:24<08:02,  1.80it/s]\n",
      " 31%|████████████████████████▊                                                      | 396/1261 [03:25<07:58,  1.81it/s]\n",
      " 31%|████████████████████████▊                                                      | 397/1261 [03:25<07:52,  1.83it/s]\n",
      " 32%|████████████████████████▉                                                      | 398/1261 [03:26<07:46,  1.85it/s]\n",
      " 32%|████████████████████████▉                                                      | 399/1261 [03:26<07:47,  1.84it/s]\n",
      " 32%|█████████████████████████                                                      | 400/1261 [03:27<07:35,  1.89it/s]"
     ]
    },
    {
     "name": "stdout",
     "output_type": "stream",
     "text": [
      "Sanity Check Failed due to curvature\n",
      "-0.0630801678856\n"
     ]
    },
    {
     "name": "stderr",
     "output_type": "stream",
     "text": [
      "\n",
      " 32%|█████████████████████████                                                      | 401/1261 [03:28<07:37,  1.88it/s]\n",
      " 32%|█████████████████████████▏                                                     | 402/1261 [03:28<07:27,  1.92it/s]\n",
      " 32%|█████████████████████████▏                                                     | 403/1261 [03:29<07:24,  1.93it/s]\n",
      " 32%|█████████████████████████▎                                                     | 404/1261 [03:29<07:28,  1.91it/s]\n",
      " 32%|█████████████████████████▎                                                     | 405/1261 [03:30<07:24,  1.93it/s]"
     ]
    },
    {
     "name": "stdout",
     "output_type": "stream",
     "text": [
      "Sanity Check Failed due to curvature\n",
      "-20.599345418\n"
     ]
    },
    {
     "name": "stderr",
     "output_type": "stream",
     "text": [
      "\n",
      " 32%|█████████████████████████▍                                                     | 406/1261 [03:30<07:27,  1.91it/s]"
     ]
    },
    {
     "name": "stdout",
     "output_type": "stream",
     "text": [
      "Sanity Check Failed due to curvature\n",
      "9.22296178152\n"
     ]
    },
    {
     "name": "stderr",
     "output_type": "stream",
     "text": [
      "\n",
      " 32%|█████████████████████████▍                                                     | 407/1261 [03:31<07:20,  1.94it/s]\n",
      " 32%|█████████████████████████▌                                                     | 408/1261 [03:31<07:20,  1.94it/s]\n",
      " 32%|█████████████████████████▌                                                     | 409/1261 [03:32<07:20,  1.93it/s]"
     ]
    },
    {
     "name": "stdout",
     "output_type": "stream",
     "text": [
      "Sanity Check Failed due to curvature\n",
      "6.99791364388\n"
     ]
    },
    {
     "name": "stderr",
     "output_type": "stream",
     "text": [
      "\n",
      " 33%|█████████████████████████▋                                                     | 410/1261 [03:32<07:24,  1.91it/s]\n",
      " 33%|█████████████████████████▋                                                     | 411/1261 [03:33<07:20,  1.93it/s]"
     ]
    },
    {
     "name": "stdout",
     "output_type": "stream",
     "text": [
      "Sanity Check Failed due to curvature\n",
      "-7.8277140968\n"
     ]
    },
    {
     "name": "stderr",
     "output_type": "stream",
     "text": [
      "\n",
      " 33%|█████████████████████████▊                                                     | 412/1261 [03:33<07:19,  1.93it/s]\n",
      " 33%|█████████████████████████▊                                                     | 413/1261 [03:34<07:20,  1.93it/s]\n",
      " 33%|█████████████████████████▉                                                     | 414/1261 [03:34<07:25,  1.90it/s]\n",
      " 33%|█████████████████████████▉                                                     | 415/1261 [03:35<07:19,  1.92it/s]\n",
      " 33%|██████████████████████████                                                     | 416/1261 [03:35<07:18,  1.93it/s]\n",
      " 33%|██████████████████████████                                                     | 417/1261 [03:36<07:14,  1.94it/s]\n",
      " 33%|██████████████████████████▏                                                    | 418/1261 [03:36<07:16,  1.93it/s]\n",
      " 33%|██████████████████████████▏                                                    | 419/1261 [03:37<07:13,  1.94it/s]\n",
      " 33%|██████████████████████████▎                                                    | 420/1261 [03:37<07:11,  1.95it/s]\n",
      " 33%|██████████████████████████▍                                                    | 421/1261 [03:38<07:21,  1.90it/s]\n",
      " 33%|██████████████████████████▍                                                    | 422/1261 [03:38<07:24,  1.89it/s]\n",
      " 34%|██████████████████████████▌                                                    | 423/1261 [03:39<07:29,  1.86it/s]\n",
      " 34%|██████████████████████████▌                                                    | 424/1261 [03:40<07:28,  1.86it/s]\n",
      " 34%|██████████████████████████▋                                                    | 425/1261 [03:40<07:21,  1.89it/s]\n",
      " 34%|██████████████████████████▋                                                    | 426/1261 [03:41<07:18,  1.90it/s]\n",
      " 34%|██████████████████████████▊                                                    | 427/1261 [03:41<07:23,  1.88it/s]\n",
      " 34%|██████████████████████████▊                                                    | 428/1261 [03:42<07:21,  1.89it/s]\n",
      " 34%|██████████████████████████▉                                                    | 429/1261 [03:42<07:16,  1.91it/s]\n",
      " 34%|██████████████████████████▉                                                    | 430/1261 [03:43<07:09,  1.93it/s]\n",
      " 34%|███████████████████████████                                                    | 431/1261 [03:43<07:11,  1.92it/s]\n",
      " 34%|███████████████████████████                                                    | 432/1261 [03:44<07:12,  1.92it/s]\n",
      " 34%|███████████████████████████▏                                                   | 433/1261 [03:44<07:10,  1.92it/s]"
     ]
    },
    {
     "name": "stdout",
     "output_type": "stream",
     "text": [
      "Sanity Check Failed due to curvature\n",
      "-7.68299780376\n"
     ]
    },
    {
     "name": "stderr",
     "output_type": "stream",
     "text": [
      "\n",
      " 34%|███████████████████████████▏                                                   | 434/1261 [03:45<07:13,  1.91it/s]\n",
      " 34%|███████████████████████████▎                                                   | 435/1261 [03:45<07:06,  1.94it/s]"
     ]
    },
    {
     "name": "stdout",
     "output_type": "stream",
     "text": [
      "Sanity Check Failed due to curvature\n",
      "16.2113699114\n"
     ]
    },
    {
     "name": "stderr",
     "output_type": "stream",
     "text": [
      "\n",
      " 35%|███████████████████████████▎                                                   | 436/1261 [03:46<07:07,  1.93it/s]\n",
      " 35%|███████████████████████████▍                                                   | 437/1261 [03:46<07:17,  1.88it/s]\n",
      " 35%|███████████████████████████▍                                                   | 438/1261 [03:47<07:13,  1.90it/s]\n",
      " 35%|███████████████████████████▌                                                   | 439/1261 [03:47<07:12,  1.90it/s]\n",
      " 35%|███████████████████████████▌                                                   | 440/1261 [03:48<07:13,  1.89it/s]\n",
      " 35%|███████████████████████████▋                                                   | 441/1261 [03:48<07:06,  1.92it/s]\n",
      " 35%|███████████████████████████▋                                                   | 442/1261 [03:49<07:15,  1.88it/s]\n",
      " 35%|███████████████████████████▊                                                   | 443/1261 [03:49<07:04,  1.92it/s]\n",
      " 35%|███████████████████████████▊                                                   | 444/1261 [03:50<06:59,  1.95it/s]\n",
      " 35%|███████████████████████████▉                                                   | 445/1261 [03:50<07:03,  1.93it/s]\n",
      " 35%|███████████████████████████▉                                                   | 446/1261 [03:51<06:59,  1.94it/s]\n",
      " 35%|████████████████████████████                                                   | 447/1261 [03:51<07:02,  1.93it/s]\n",
      " 36%|████████████████████████████                                                   | 448/1261 [03:52<07:00,  1.94it/s]\n",
      " 36%|████████████████████████████▏                                                  | 449/1261 [03:53<06:58,  1.94it/s]\n",
      " 36%|████████████████████████████▏                                                  | 450/1261 [03:53<06:55,  1.95it/s]\n",
      " 36%|████████████████████████████▎                                                  | 451/1261 [03:54<07:03,  1.91it/s]\n",
      " 36%|████████████████████████████▎                                                  | 452/1261 [03:54<06:59,  1.93it/s]\n",
      " 36%|████████████████████████████▍                                                  | 453/1261 [03:55<07:00,  1.92it/s]\n",
      " 36%|████████████████████████████▍                                                  | 454/1261 [03:55<07:00,  1.92it/s]\n",
      " 36%|████████████████████████████▌                                                  | 455/1261 [03:56<06:53,  1.95it/s]\n",
      " 36%|████████████████████████████▌                                                  | 456/1261 [03:56<06:51,  1.96it/s]\n",
      " 36%|████████████████████████████▋                                                  | 457/1261 [03:57<06:50,  1.96it/s]\n",
      " 36%|████████████████████████████▋                                                  | 458/1261 [03:57<06:50,  1.96it/s]"
     ]
    },
    {
     "name": "stdout",
     "output_type": "stream",
     "text": [
      "Sanity Check Failed due to curvature\n",
      "129.2662716\n"
     ]
    },
    {
     "name": "stderr",
     "output_type": "stream",
     "text": [
      "\n",
      " 36%|████████████████████████████▊                                                  | 459/1261 [03:58<06:57,  1.92it/s]\n",
      " 36%|████████████████████████████▊                                                  | 460/1261 [03:58<06:53,  1.94it/s]"
     ]
    },
    {
     "name": "stdout",
     "output_type": "stream",
     "text": [
      "Sanity Check Failed due to curvature\n",
      "-10.9090701726\n"
     ]
    },
    {
     "name": "stderr",
     "output_type": "stream",
     "text": [
      "\n",
      " 37%|████████████████████████████▉                                                  | 461/1261 [03:59<06:56,  1.92it/s]\n",
      " 37%|████████████████████████████▉                                                  | 462/1261 [03:59<06:55,  1.92it/s]\n",
      " 37%|█████████████████████████████                                                  | 463/1261 [04:00<06:51,  1.94it/s]\n",
      " 37%|█████████████████████████████                                                  | 464/1261 [04:00<07:02,  1.88it/s]\n",
      " 37%|█████████████████████████████▏                                                 | 465/1261 [04:01<06:54,  1.92it/s]\n",
      " 37%|█████████████████████████████▏                                                 | 466/1261 [04:01<06:52,  1.93it/s]\n",
      " 37%|█████████████████████████████▎                                                 | 467/1261 [04:02<06:52,  1.93it/s]\n",
      " 37%|█████████████████████████████▎                                                 | 468/1261 [04:02<06:46,  1.95it/s]\n",
      " 37%|█████████████████████████████▍                                                 | 469/1261 [04:03<06:51,  1.93it/s]\n",
      " 37%|█████████████████████████████▍                                                 | 470/1261 [04:03<06:48,  1.94it/s]\n",
      " 37%|█████████████████████████████▌                                                 | 471/1261 [04:04<06:49,  1.93it/s]\n",
      " 37%|█████████████████████████████▌                                                 | 472/1261 [04:04<06:45,  1.94it/s]\n",
      " 38%|█████████████████████████████▋                                                 | 473/1261 [04:05<06:46,  1.94it/s]\n",
      " 38%|█████████████████████████████▋                                                 | 474/1261 [04:05<06:48,  1.93it/s]\n",
      " 38%|█████████████████████████████▊                                                 | 475/1261 [04:06<06:44,  1.94it/s]\n",
      " 38%|█████████████████████████████▊                                                 | 476/1261 [04:06<06:46,  1.93it/s]\n",
      " 38%|█████████████████████████████▉                                                 | 477/1261 [04:07<06:45,  1.93it/s]"
     ]
    },
    {
     "name": "stdout",
     "output_type": "stream",
     "text": [
      "Sanity Check Failed due to curvature\n",
      "-6.48103949771\n"
     ]
    },
    {
     "name": "stderr",
     "output_type": "stream",
     "text": [
      "\n",
      " 38%|█████████████████████████████▉                                                 | 478/1261 [04:08<06:48,  1.92it/s]\n",
      " 38%|██████████████████████████████                                                 | 479/1261 [04:08<06:45,  1.93it/s]\n",
      " 38%|██████████████████████████████                                                 | 480/1261 [04:09<06:42,  1.94it/s]\n",
      " 38%|██████████████████████████████▏                                                | 481/1261 [04:09<06:46,  1.92it/s]"
     ]
    },
    {
     "name": "stdout",
     "output_type": "stream",
     "text": [
      "Sanity Check Failed due to width at the end\n",
      "4.01622872473\n"
     ]
    },
    {
     "name": "stderr",
     "output_type": "stream",
     "text": [
      "\n",
      " 38%|██████████████████████████████▏                                                | 482/1261 [04:10<06:43,  1.93it/s]"
     ]
    },
    {
     "name": "stdout",
     "output_type": "stream",
     "text": [
      "Sanity Check Failed due to width at the end\n",
      "4.02923006961\n"
     ]
    },
    {
     "name": "stderr",
     "output_type": "stream",
     "text": [
      "\n",
      " 38%|██████████████████████████████▎                                                | 483/1261 [04:10<06:46,  1.91it/s]\n",
      " 38%|██████████████████████████████▎                                                | 484/1261 [04:11<06:41,  1.94it/s]\n",
      " 38%|██████████████████████████████▍                                                | 485/1261 [04:11<06:39,  1.94it/s]\n",
      " 39%|██████████████████████████████▍                                                | 486/1261 [04:12<06:46,  1.91it/s]"
     ]
    },
    {
     "name": "stdout",
     "output_type": "stream",
     "text": [
      "Sanity Check Failed due to curvature\n",
      "8.94555854705\n"
     ]
    },
    {
     "name": "stderr",
     "output_type": "stream",
     "text": [
      "\n",
      " 39%|██████████████████████████████▌                                                | 487/1261 [04:12<06:43,  1.92it/s]"
     ]
    },
    {
     "name": "stdout",
     "output_type": "stream",
     "text": [
      "Sanity Check Failed due to curvature\n",
      "14.4040229618\n"
     ]
    },
    {
     "name": "stderr",
     "output_type": "stream",
     "text": [
      "\n",
      " 39%|██████████████████████████████▌                                                | 488/1261 [04:13<06:39,  1.94it/s]"
     ]
    },
    {
     "name": "stdout",
     "output_type": "stream",
     "text": [
      "Sanity Check Failed due to curvature\n",
      "7.88493622498\n"
     ]
    },
    {
     "name": "stderr",
     "output_type": "stream",
     "text": [
      "\n",
      " 39%|██████████████████████████████▋                                                | 489/1261 [04:13<06:40,  1.93it/s]"
     ]
    },
    {
     "name": "stdout",
     "output_type": "stream",
     "text": [
      "Sanity Check Failed due to curvature\n",
      "6.84081366892\n"
     ]
    },
    {
     "name": "stderr",
     "output_type": "stream",
     "text": [
      "\n",
      " 39%|██████████████████████████████▋                                                | 490/1261 [04:14<06:37,  1.94it/s]"
     ]
    },
    {
     "name": "stdout",
     "output_type": "stream",
     "text": [
      "Sanity Check Failed due to curvature\n",
      "8.43197196339\n"
     ]
    },
    {
     "name": "stderr",
     "output_type": "stream",
     "text": [
      "\n",
      " 39%|██████████████████████████████▊                                                | 491/1261 [04:14<06:43,  1.91it/s]"
     ]
    },
    {
     "name": "stdout",
     "output_type": "stream",
     "text": [
      "Sanity Check Failed due to curvature\n",
      "-25.8304563966\n"
     ]
    },
    {
     "name": "stderr",
     "output_type": "stream",
     "text": [
      "\n",
      " 39%|██████████████████████████████▊                                                | 492/1261 [04:15<06:40,  1.92it/s]\n",
      " 39%|██████████████████████████████▉                                                | 493/1261 [04:15<06:40,  1.92it/s]\n",
      " 39%|██████████████████████████████▉                                                | 494/1261 [04:16<06:47,  1.88it/s]"
     ]
    },
    {
     "name": "stdout",
     "output_type": "stream",
     "text": [
      "Sanity Check Failed due to curvature\n",
      "-9.05065312764\n"
     ]
    },
    {
     "name": "stderr",
     "output_type": "stream",
     "text": [
      "\n",
      " 39%|███████████████████████████████                                                | 495/1261 [04:16<06:45,  1.89it/s]"
     ]
    },
    {
     "name": "stdout",
     "output_type": "stream",
     "text": [
      "Sanity Check Failed due to curvature\n",
      "-6.77802707746\n"
     ]
    },
    {
     "name": "stderr",
     "output_type": "stream",
     "text": [
      "\n",
      " 39%|███████████████████████████████                                                | 496/1261 [04:17<06:41,  1.90it/s]\n",
      " 39%|███████████████████████████████▏                                               | 497/1261 [04:17<06:33,  1.94it/s]\n",
      " 39%|███████████████████████████████▏                                               | 498/1261 [04:18<06:36,  1.93it/s]"
     ]
    },
    {
     "name": "stdout",
     "output_type": "stream",
     "text": [
      "Sanity Check Failed due to curvature\n",
      "-6.60543845464\n"
     ]
    },
    {
     "name": "stderr",
     "output_type": "stream",
     "text": [
      "\n",
      " 40%|███████████████████████████████▎                                               | 499/1261 [04:18<06:32,  1.94it/s]\n",
      " 40%|███████████████████████████████▎                                               | 500/1261 [04:19<06:30,  1.95it/s]\n",
      " 40%|███████████████████████████████▍                                               | 501/1261 [04:20<06:35,  1.92it/s]\n",
      " 40%|███████████████████████████████▍                                               | 502/1261 [04:20<06:32,  1.94it/s]\n",
      " 40%|███████████████████████████████▌                                               | 503/1261 [04:21<06:38,  1.90it/s]\n",
      " 40%|███████████████████████████████▌                                               | 504/1261 [04:21<06:31,  1.93it/s]\n",
      " 40%|███████████████████████████████▋                                               | 505/1261 [04:22<06:30,  1.94it/s]\n",
      " 40%|███████████████████████████████▋                                               | 506/1261 [04:22<06:33,  1.92it/s]\n",
      " 40%|███████████████████████████████▊                                               | 507/1261 [04:23<06:33,  1.92it/s]\n",
      " 40%|███████████████████████████████▊                                               | 508/1261 [04:23<06:38,  1.89it/s]\n",
      " 40%|███████████████████████████████▉                                               | 509/1261 [04:24<06:35,  1.90it/s]\n",
      " 40%|███████████████████████████████▉                                               | 510/1261 [04:24<06:34,  1.90it/s]\n",
      " 41%|████████████████████████████████                                               | 511/1261 [04:25<06:32,  1.91it/s]\n",
      " 41%|████████████████████████████████                                               | 512/1261 [04:25<06:31,  1.91it/s]\n",
      " 41%|████████████████████████████████▏                                              | 513/1261 [04:26<06:30,  1.92it/s]\n",
      " 41%|████████████████████████████████▏                                              | 514/1261 [04:26<06:33,  1.90it/s]\n",
      " 41%|████████████████████████████████▎                                              | 515/1261 [04:27<06:29,  1.91it/s]\n",
      " 41%|████████████████████████████████▎                                              | 516/1261 [04:27<06:31,  1.90it/s]\n",
      " 41%|████████████████████████████████▍                                              | 517/1261 [04:28<06:26,  1.93it/s]\n",
      " 41%|████████████████████████████████▍                                              | 518/1261 [04:28<06:25,  1.93it/s]\n",
      " 41%|████████████████████████████████▌                                              | 519/1261 [04:29<06:26,  1.92it/s]\n",
      " 41%|████████████████████████████████▌                                              | 520/1261 [04:29<06:24,  1.93it/s]\n",
      " 41%|████████████████████████████████▋                                              | 521/1261 [04:30<06:29,  1.90it/s]\n",
      " 41%|████████████████████████████████▋                                              | 522/1261 [04:30<06:22,  1.93it/s]\n",
      " 41%|████████████████████████████████▊                                              | 523/1261 [04:31<06:23,  1.93it/s]\n",
      " 42%|████████████████████████████████▊                                              | 524/1261 [04:32<06:23,  1.92it/s]\n",
      " 42%|████████████████████████████████▉                                              | 525/1261 [04:32<06:22,  1.92it/s]\n",
      " 42%|████████████████████████████████▉                                              | 526/1261 [04:33<06:25,  1.91it/s]\n",
      " 42%|█████████████████████████████████                                              | 527/1261 [04:33<06:25,  1.90it/s]\n",
      " 42%|█████████████████████████████████                                              | 528/1261 [04:34<06:26,  1.90it/s]\n",
      " 42%|█████████████████████████████████▏                                             | 529/1261 [04:34<06:30,  1.87it/s]\n",
      " 42%|█████████████████████████████████▏                                             | 530/1261 [04:35<06:21,  1.92it/s]"
     ]
    },
    {
     "name": "stdout",
     "output_type": "stream",
     "text": [
      "Sanity Check Failed due to curvature\n",
      "15.0471698709\n"
     ]
    },
    {
     "name": "stderr",
     "output_type": "stream",
     "text": [
      "\n",
      " 42%|█████████████████████████████████▎                                             | 531/1261 [04:35<06:23,  1.90it/s]\n",
      " 42%|█████████████████████████████████▎                                             | 532/1261 [04:36<06:24,  1.90it/s]\n",
      " 42%|█████████████████████████████████▍                                             | 533/1261 [04:36<06:22,  1.90it/s]\n",
      " 42%|█████████████████████████████████▍                                             | 534/1261 [04:37<06:30,  1.86it/s]"
     ]
    },
    {
     "name": "stdout",
     "output_type": "stream",
     "text": [
      "Sanity Check Failed due to curvature\n",
      "10.6101994097\n"
     ]
    },
    {
     "name": "stderr",
     "output_type": "stream",
     "text": [
      "\n",
      " 42%|█████████████████████████████████▌                                             | 535/1261 [04:37<06:29,  1.86it/s]"
     ]
    },
    {
     "name": "stdout",
     "output_type": "stream",
     "text": [
      "Sanity Check Failed due to curvature\n",
      "18.5219600934\n"
     ]
    },
    {
     "name": "stderr",
     "output_type": "stream",
     "text": [
      "\n",
      " 43%|█████████████████████████████████▌                                             | 536/1261 [04:38<06:28,  1.87it/s]\n",
      " 43%|█████████████████████████████████▋                                             | 537/1261 [04:38<06:26,  1.87it/s]\n",
      " 43%|█████████████████████████████████▋                                             | 538/1261 [04:39<06:27,  1.87it/s]\n",
      " 43%|█████████████████████████████████▊                                             | 539/1261 [04:39<06:22,  1.89it/s]"
     ]
    },
    {
     "name": "stdout",
     "output_type": "stream",
     "text": [
      "Sanity Check Failed due to curvature\n",
      "13.7550286955\n"
     ]
    },
    {
     "name": "stderr",
     "output_type": "stream",
     "text": [
      "\n",
      " 43%|█████████████████████████████████▊                                             | 540/1261 [04:40<06:29,  1.85it/s]\n",
      " 43%|█████████████████████████████████▉                                             | 541/1261 [04:41<06:31,  1.84it/s]\n",
      " 43%|█████████████████████████████████▉                                             | 542/1261 [04:41<06:28,  1.85it/s]"
     ]
    },
    {
     "name": "stdout",
     "output_type": "stream",
     "text": [
      "Sanity Check Failed due to curvature\n",
      "72.4143233132\n"
     ]
    },
    {
     "name": "stderr",
     "output_type": "stream",
     "text": [
      "\n",
      " 43%|██████████████████████████████████                                             | 543/1261 [04:42<06:32,  1.83it/s]\n",
      " 43%|██████████████████████████████████                                             | 544/1261 [04:42<06:31,  1.83it/s]"
     ]
    },
    {
     "name": "stdout",
     "output_type": "stream",
     "text": [
      "Sanity Check Failed due to curvature\n",
      "-11.6989154078\n"
     ]
    },
    {
     "name": "stderr",
     "output_type": "stream",
     "text": [
      "\n",
      " 43%|██████████████████████████████████▏                                            | 545/1261 [04:43<06:36,  1.81it/s]\n",
      " 43%|██████████████████████████████████▏                                            | 546/1261 [04:43<06:34,  1.81it/s]"
     ]
    },
    {
     "name": "stdout",
     "output_type": "stream",
     "text": [
      "Sanity Check Failed due to width at the end\n",
      "4.1924670933\n"
     ]
    },
    {
     "name": "stderr",
     "output_type": "stream",
     "text": [
      "\n",
      " 43%|██████████████████████████████████▎                                            | 547/1261 [04:44<06:37,  1.80it/s]"
     ]
    },
    {
     "name": "stdout",
     "output_type": "stream",
     "text": [
      "Sanity Check Failed due to width at the end\n",
      "4.17576213877\n"
     ]
    },
    {
     "name": "stderr",
     "output_type": "stream",
     "text": [
      "\n",
      " 43%|██████████████████████████████████▎                                            | 548/1261 [04:44<06:41,  1.77it/s]"
     ]
    },
    {
     "name": "stdout",
     "output_type": "stream",
     "text": [
      "Sanity Check Failed due to width at the end\n",
      "4.12369286404\n",
      "Sanity Check Failed due to curvature\n",
      "-32.338062323\n"
     ]
    },
    {
     "name": "stderr",
     "output_type": "stream",
     "text": [
      "\n",
      " 44%|██████████████████████████████████▍                                            | 549/1261 [04:45<06:43,  1.76it/s]"
     ]
    },
    {
     "name": "stdout",
     "output_type": "stream",
     "text": [
      "Sanity Check Failed due to width at the end\n",
      "4.11856781\n"
     ]
    },
    {
     "name": "stderr",
     "output_type": "stream",
     "text": [
      "\n",
      " 44%|██████████████████████████████████▍                                            | 550/1261 [04:46<06:44,  1.76it/s]"
     ]
    },
    {
     "name": "stdout",
     "output_type": "stream",
     "text": [
      "Sanity Check Failed due to width at the end\n",
      "3.82325368507\n"
     ]
    },
    {
     "name": "stderr",
     "output_type": "stream",
     "text": [
      "\n",
      " 44%|██████████████████████████████████▌                                            | 551/1261 [04:46<06:44,  1.75it/s]"
     ]
    },
    {
     "name": "stdout",
     "output_type": "stream",
     "text": [
      "Sanity Check Failed due to width at the end\n",
      "3.81057717801\n"
     ]
    },
    {
     "name": "stderr",
     "output_type": "stream",
     "text": [
      "\n",
      " 44%|██████████████████████████████████▌                                            | 552/1261 [04:47<06:46,  1.74it/s]"
     ]
    },
    {
     "name": "stdout",
     "output_type": "stream",
     "text": [
      "Sanity Check Failed due to width at the end\n",
      "3.82222023275\n"
     ]
    },
    {
     "name": "stderr",
     "output_type": "stream",
     "text": [
      "\n",
      " 44%|██████████████████████████████████▋                                            | 553/1261 [04:47<06:48,  1.73it/s]"
     ]
    },
    {
     "name": "stdout",
     "output_type": "stream",
     "text": [
      "Sanity Check Failed due to width at the end\n",
      "3.81299032074\n"
     ]
    },
    {
     "name": "stderr",
     "output_type": "stream",
     "text": [
      "\n",
      " 44%|██████████████████████████████████▋                                            | 554/1261 [04:48<06:50,  1.72it/s]\n",
      " 44%|██████████████████████████████████▊                                            | 555/1261 [04:49<06:42,  1.75it/s]\n",
      " 44%|██████████████████████████████████▊                                            | 556/1261 [04:49<07:03,  1.66it/s]"
     ]
    },
    {
     "name": "stdout",
     "output_type": "stream",
     "text": [
      "Sanity Check Failed due to curvature\n",
      "3693.24977486\n"
     ]
    },
    {
     "name": "stderr",
     "output_type": "stream",
     "text": [
      "\n",
      " 44%|██████████████████████████████████▉                                            | 557/1261 [04:50<06:53,  1.70it/s]"
     ]
    },
    {
     "name": "stdout",
     "output_type": "stream",
     "text": [
      "Sanity Check Failed due to curvature\n",
      "6.53829316807\n"
     ]
    },
    {
     "name": "stderr",
     "output_type": "stream",
     "text": [
      "\n",
      " 44%|██████████████████████████████████▉                                            | 558/1261 [04:50<06:47,  1.72it/s]\n",
      " 44%|███████████████████████████████████                                            | 559/1261 [04:51<06:41,  1.75it/s]"
     ]
    },
    {
     "name": "stdout",
     "output_type": "stream",
     "text": [
      "Sanity Check Failed due to curvature\n",
      "14.0145980313\n"
     ]
    },
    {
     "name": "stderr",
     "output_type": "stream",
     "text": [
      "\n",
      " 44%|███████████████████████████████████                                            | 560/1261 [04:51<06:37,  1.76it/s]"
     ]
    },
    {
     "name": "stdout",
     "output_type": "stream",
     "text": [
      "Sanity Check Failed due to curvature\n",
      "11.846361081\n"
     ]
    },
    {
     "name": "stderr",
     "output_type": "stream",
     "text": [
      "\n",
      " 44%|███████████████████████████████████▏                                           | 561/1261 [04:52<06:32,  1.79it/s]\n",
      " 45%|███████████████████████████████████▏                                           | 562/1261 [04:52<06:22,  1.83it/s]\n",
      " 45%|███████████████████████████████████▎                                           | 563/1261 [04:53<06:19,  1.84it/s]\n",
      " 45%|███████████████████████████████████▎                                           | 564/1261 [04:54<06:18,  1.84it/s]\n",
      " 45%|███████████████████████████████████▍                                           | 565/1261 [04:54<06:15,  1.85it/s]"
     ]
    },
    {
     "name": "stdout",
     "output_type": "stream",
     "text": [
      "Sanity Check Failed due to curvature\n",
      "-0.123948659941\n"
     ]
    },
    {
     "name": "stderr",
     "output_type": "stream",
     "text": [
      "\n",
      " 45%|███████████████████████████████████▍                                           | 566/1261 [04:55<06:21,  1.82it/s]"
     ]
    },
    {
     "name": "stdout",
     "output_type": "stream",
     "text": [
      "Sanity Check Failed due to curvature\n",
      "-0.0720203815355\n"
     ]
    },
    {
     "name": "stderr",
     "output_type": "stream",
     "text": [
      "\n",
      " 45%|███████████████████████████████████▌                                           | 567/1261 [04:55<06:26,  1.80it/s]"
     ]
    },
    {
     "name": "stdout",
     "output_type": "stream",
     "text": [
      "Sanity Check Failed due to curvature\n",
      "-0.0208152217119\n"
     ]
    },
    {
     "name": "stderr",
     "output_type": "stream",
     "text": [
      "\n",
      " 45%|███████████████████████████████████▌                                           | 568/1261 [04:56<06:31,  1.77it/s]\n",
      " 45%|███████████████████████████████████▋                                           | 569/1261 [04:56<06:27,  1.79it/s]\n",
      " 45%|███████████████████████████████████▋                                           | 570/1261 [04:57<06:24,  1.80it/s]\n",
      " 45%|███████████████████████████████████▊                                           | 571/1261 [04:57<06:27,  1.78it/s]"
     ]
    },
    {
     "name": "stdout",
     "output_type": "stream",
     "text": [
      "Sanity Check Failed due to width at the end\n",
      "4.18592832992\n"
     ]
    },
    {
     "name": "stderr",
     "output_type": "stream",
     "text": [
      "\n",
      " 45%|███████████████████████████████████▊                                           | 572/1261 [04:58<06:30,  1.77it/s]"
     ]
    },
    {
     "name": "stdout",
     "output_type": "stream",
     "text": [
      "Sanity Check Failed due to width at the end\n",
      "4.24027493651\n"
     ]
    },
    {
     "name": "stderr",
     "output_type": "stream",
     "text": [
      "\n",
      " 45%|███████████████████████████████████▉                                           | 573/1261 [04:59<06:25,  1.78it/s]"
     ]
    },
    {
     "name": "stdout",
     "output_type": "stream",
     "text": [
      "Sanity Check Failed due to width at the end\n",
      "4.44530730474\n"
     ]
    },
    {
     "name": "stderr",
     "output_type": "stream",
     "text": [
      "\n",
      " 46%|███████████████████████████████████▉                                           | 574/1261 [04:59<06:23,  1.79it/s]"
     ]
    },
    {
     "name": "stdout",
     "output_type": "stream",
     "text": [
      "Sanity Check Failed due to width at the end\n",
      "4.37347185421\n",
      "Sanity Check Failed due to curvature\n",
      "-342.028855666\n"
     ]
    },
    {
     "name": "stderr",
     "output_type": "stream",
     "text": [
      "\n",
      " 46%|████████████████████████████████████                                           | 575/1261 [05:00<06:18,  1.81it/s]"
     ]
    },
    {
     "name": "stdout",
     "output_type": "stream",
     "text": [
      "Sanity Check Failed due to width at the end\n",
      "4.26497981564\n",
      "Sanity Check Failed due to curvature\n",
      "-9.80885358203\n"
     ]
    },
    {
     "name": "stderr",
     "output_type": "stream",
     "text": [
      "\n",
      " 46%|████████████████████████████████████                                           | 576/1261 [05:00<06:17,  1.81it/s]\n",
      " 46%|████████████████████████████████████▏                                          | 577/1261 [05:01<06:16,  1.82it/s]"
     ]
    },
    {
     "name": "stdout",
     "output_type": "stream",
     "text": [
      "Sanity Check Failed due to width at the end\n",
      "4.16107351251\n",
      "Sanity Check Failed due to curvature\n",
      "-15.5114074628\n"
     ]
    },
    {
     "name": "stderr",
     "output_type": "stream",
     "text": [
      "\n",
      " 46%|████████████████████████████████████▏                                          | 578/1261 [05:01<06:15,  1.82it/s]\n",
      " 46%|████████████████████████████████████▎                                          | 579/1261 [05:02<06:12,  1.83it/s]\n",
      " 46%|████████████████████████████████████▎                                          | 580/1261 [05:02<06:10,  1.84it/s]\n",
      " 46%|████████████████████████████████████▍                                          | 581/1261 [05:03<06:10,  1.84it/s]\n",
      " 46%|████████████████████████████████████▍                                          | 582/1261 [05:03<06:06,  1.85it/s]\n",
      " 46%|████████████████████████████████████▌                                          | 583/1261 [05:04<06:05,  1.85it/s]\n",
      " 46%|████████████████████████████████████▌                                          | 584/1261 [05:05<06:09,  1.83it/s]\n",
      " 46%|████████████████████████████████████▋                                          | 585/1261 [05:05<06:04,  1.85it/s]\n",
      " 46%|████████████████████████████████████▋                                          | 586/1261 [05:06<06:00,  1.87it/s]"
     ]
    },
    {
     "name": "stdout",
     "output_type": "stream",
     "text": [
      "Sanity Check Failed due to curvature\n",
      "0.155164808982\n"
     ]
    },
    {
     "name": "stderr",
     "output_type": "stream",
     "text": [
      "\n",
      " 47%|████████████████████████████████████▊                                          | 587/1261 [05:06<06:10,  1.82it/s]\n",
      " 47%|████████████████████████████████████▊                                          | 588/1261 [05:07<06:07,  1.83it/s]\n",
      " 47%|████████████████████████████████████▉                                          | 589/1261 [05:07<06:02,  1.85it/s]\n",
      " 47%|████████████████████████████████████▉                                          | 590/1261 [05:08<06:01,  1.86it/s]"
     ]
    },
    {
     "name": "stdout",
     "output_type": "stream",
     "text": [
      "Sanity Check Failed due to curvature\n",
      "-0.0225185995487\n"
     ]
    },
    {
     "name": "stderr",
     "output_type": "stream",
     "text": [
      "\n",
      " 47%|█████████████████████████████████████                                          | 591/1261 [05:08<06:05,  1.84it/s]"
     ]
    },
    {
     "name": "stdout",
     "output_type": "stream",
     "text": [
      "Sanity Check Failed due to curvature\n",
      "-0.0512483549531\n"
     ]
    },
    {
     "name": "stderr",
     "output_type": "stream",
     "text": [
      "\n",
      " 47%|█████████████████████████████████████                                          | 592/1261 [05:09<06:05,  1.83it/s]"
     ]
    },
    {
     "name": "stdout",
     "output_type": "stream",
     "text": [
      "Sanity Check Failed due to curvature\n",
      "-0.0150694284347\n"
     ]
    },
    {
     "name": "stderr",
     "output_type": "stream",
     "text": [
      "\n",
      " 47%|█████████████████████████████████████▏                                         | 593/1261 [05:09<06:04,  1.83it/s]"
     ]
    },
    {
     "name": "stdout",
     "output_type": "stream",
     "text": [
      "Sanity Check Failed due to curvature\n",
      "0.15686536509\n"
     ]
    },
    {
     "name": "stderr",
     "output_type": "stream",
     "text": [
      "\n",
      " 47%|█████████████████████████████████████▏                                         | 594/1261 [05:10<06:06,  1.82it/s]\n",
      " 47%|█████████████████████████████████████▎                                         | 595/1261 [05:11<06:06,  1.82it/s]\n",
      " 47%|█████████████████████████████████████▎                                         | 596/1261 [05:11<06:02,  1.84it/s]\n",
      " 47%|█████████████████████████████████████▍                                         | 597/1261 [05:12<05:59,  1.85it/s]"
     ]
    },
    {
     "name": "stdout",
     "output_type": "stream",
     "text": [
      "Sanity Check Failed due to width at the end\n",
      "4.22135586971\n"
     ]
    },
    {
     "name": "stderr",
     "output_type": "stream",
     "text": [
      "\n",
      " 47%|█████████████████████████████████████▍                                         | 598/1261 [05:12<06:03,  1.82it/s]"
     ]
    },
    {
     "name": "stdout",
     "output_type": "stream",
     "text": [
      "Sanity Check Failed due to width at the end\n",
      "4.17617107737\n",
      "Sanity Check Failed due to curvature\n",
      "-0.145842039808\n"
     ]
    },
    {
     "name": "stderr",
     "output_type": "stream",
     "text": [
      "\n",
      " 48%|█████████████████████████████████████▌                                         | 599/1261 [05:13<05:57,  1.85it/s]"
     ]
    },
    {
     "name": "stdout",
     "output_type": "stream",
     "text": [
      "Sanity Check Failed due to width at the end\n",
      "4.38416022339\n"
     ]
    },
    {
     "name": "stderr",
     "output_type": "stream",
     "text": [
      "\n",
      " 48%|█████████████████████████████████████▌                                         | 600/1261 [05:13<05:59,  1.84it/s]"
     ]
    },
    {
     "name": "stdout",
     "output_type": "stream",
     "text": [
      "Sanity Check Failed due to width at the end\n",
      "4.70339941759\n"
     ]
    },
    {
     "name": "stderr",
     "output_type": "stream",
     "text": [
      "\n",
      " 48%|█████████████████████████████████████▋                                         | 601/1261 [05:14<06:00,  1.83it/s]"
     ]
    },
    {
     "name": "stdout",
     "output_type": "stream",
     "text": [
      "Sanity Check Failed due to width at the end\n",
      "4.91486817488\n"
     ]
    },
    {
     "name": "stderr",
     "output_type": "stream",
     "text": [
      "\n",
      " 48%|█████████████████████████████████████▋                                         | 602/1261 [05:14<05:57,  1.84it/s]"
     ]
    },
    {
     "name": "stdout",
     "output_type": "stream",
     "text": [
      "Sanity Check Failed due to width at the end\n",
      "4.58392974756\n"
     ]
    },
    {
     "name": "stderr",
     "output_type": "stream",
     "text": [
      "\n",
      " 48%|█████████████████████████████████████▊                                         | 603/1261 [05:15<05:54,  1.86it/s]"
     ]
    },
    {
     "name": "stdout",
     "output_type": "stream",
     "text": [
      "Sanity Check Failed due to width at the end\n",
      "4.46344374935\n"
     ]
    },
    {
     "name": "stderr",
     "output_type": "stream",
     "text": [
      "\n",
      " 48%|█████████████████████████████████████▊                                         | 604/1261 [05:15<05:53,  1.86it/s]"
     ]
    },
    {
     "name": "stdout",
     "output_type": "stream",
     "text": [
      "Sanity Check Failed due to width at the end\n",
      "5.30595885929\n"
     ]
    },
    {
     "name": "stderr",
     "output_type": "stream",
     "text": [
      "\n",
      " 48%|█████████████████████████████████████▉                                         | 605/1261 [05:16<05:55,  1.85it/s]\n",
      " 48%|█████████████████████████████████████▉                                         | 606/1261 [05:17<05:48,  1.88it/s]\n",
      " 48%|██████████████████████████████████████                                         | 607/1261 [05:17<05:47,  1.88it/s]\n",
      " 48%|██████████████████████████████████████                                         | 608/1261 [05:18<05:46,  1.88it/s]\n",
      " 48%|██████████████████████████████████████▏                                        | 609/1261 [05:18<05:44,  1.90it/s]\n",
      " 48%|██████████████████████████████████████▏                                        | 610/1261 [05:19<05:42,  1.90it/s]\n",
      " 48%|██████████████████████████████████████▎                                        | 611/1261 [05:19<05:45,  1.88it/s]\n",
      " 49%|██████████████████████████████████████▎                                        | 612/1261 [05:20<05:39,  1.91it/s]"
     ]
    },
    {
     "name": "stdout",
     "output_type": "stream",
     "text": [
      "Sanity Check Failed due to width at the end\n",
      "4.42832123391\n"
     ]
    },
    {
     "name": "stderr",
     "output_type": "stream",
     "text": [
      "\n",
      " 49%|██████████████████████████████████████▍                                        | 613/1261 [05:20<05:42,  1.89it/s]"
     ]
    },
    {
     "name": "stdout",
     "output_type": "stream",
     "text": [
      "Sanity Check Failed due to width at the end\n",
      "4.63791869947\n"
     ]
    },
    {
     "name": "stderr",
     "output_type": "stream",
     "text": [
      "\n",
      " 49%|██████████████████████████████████████▍                                        | 614/1261 [05:21<05:39,  1.91it/s]"
     ]
    },
    {
     "name": "stdout",
     "output_type": "stream",
     "text": [
      "Sanity Check Failed due to width at the end\n",
      "4.03325484209\n"
     ]
    },
    {
     "name": "stderr",
     "output_type": "stream",
     "text": [
      "\n",
      " 49%|██████████████████████████████████████▌                                        | 615/1261 [05:21<05:40,  1.90it/s]\n",
      " 49%|██████████████████████████████████████▌                                        | 616/1261 [05:22<05:44,  1.87it/s]\n",
      " 49%|██████████████████████████████████████▋                                        | 617/1261 [05:22<05:36,  1.92it/s]\n",
      " 49%|██████████████████████████████████████▋                                        | 618/1261 [05:23<05:39,  1.90it/s]\n",
      " 49%|██████████████████████████████████████▊                                        | 619/1261 [05:23<05:36,  1.91it/s]\n",
      " 49%|██████████████████████████████████████▊                                        | 620/1261 [05:24<05:36,  1.91it/s]\n",
      " 49%|██████████████████████████████████████▉                                        | 621/1261 [05:24<05:35,  1.90it/s]\n",
      " 49%|██████████████████████████████████████▉                                        | 622/1261 [05:25<05:37,  1.90it/s]\n",
      " 49%|███████████████████████████████████████                                        | 623/1261 [05:25<05:32,  1.92it/s]\n",
      " 49%|███████████████████████████████████████                                        | 624/1261 [05:26<05:34,  1.91it/s]\n",
      " 50%|███████████████████████████████████████▏                                       | 625/1261 [05:26<05:29,  1.93it/s]\n",
      " 50%|███████████████████████████████████████▏                                       | 626/1261 [05:27<05:33,  1.90it/s]\n",
      " 50%|███████████████████████████████████████▎                                       | 627/1261 [05:28<05:34,  1.90it/s]\n",
      " 50%|███████████████████████████████████████▎                                       | 628/1261 [05:28<05:29,  1.92it/s]\n",
      " 50%|███████████████████████████████████████▍                                       | 629/1261 [05:29<05:28,  1.92it/s]\n",
      " 50%|███████████████████████████████████████▍                                       | 630/1261 [05:29<05:29,  1.91it/s]\n",
      " 50%|███████████████████████████████████████▌                                       | 631/1261 [05:30<05:31,  1.90it/s]\n",
      " 50%|███████████████████████████████████████▌                                       | 632/1261 [05:30<05:31,  1.90it/s]\n",
      " 50%|███████████████████████████████████████▋                                       | 633/1261 [05:31<05:29,  1.90it/s]\n",
      " 50%|███████████████████████████████████████▋                                       | 634/1261 [05:31<05:30,  1.90it/s]\n",
      " 50%|███████████████████████████████████████▊                                       | 635/1261 [05:32<05:27,  1.91it/s]\n",
      " 50%|███████████████████████████████████████▊                                       | 636/1261 [05:32<05:28,  1.90it/s]\n",
      " 51%|███████████████████████████████████████▉                                       | 637/1261 [05:33<05:32,  1.88it/s]\n",
      " 51%|███████████████████████████████████████▉                                       | 638/1261 [05:33<05:27,  1.90it/s]\n",
      " 51%|████████████████████████████████████████                                       | 639/1261 [05:34<05:25,  1.91it/s]\n",
      " 51%|████████████████████████████████████████                                       | 640/1261 [05:34<05:30,  1.88it/s]\n",
      " 51%|████████████████████████████████████████▏                                      | 641/1261 [05:35<05:24,  1.91it/s]\n",
      " 51%|████████████████████████████████████████▏                                      | 642/1261 [05:35<05:28,  1.89it/s]\n",
      " 51%|████████████████████████████████████████▎                                      | 643/1261 [05:36<05:29,  1.88it/s]\n",
      " 51%|████████████████████████████████████████▎                                      | 644/1261 [05:36<05:23,  1.91it/s]\n",
      " 51%|████████████████████████████████████████▍                                      | 645/1261 [05:37<05:25,  1.89it/s]\n",
      " 51%|████████████████████████████████████████▍                                      | 646/1261 [05:38<05:19,  1.93it/s]\n",
      " 51%|████████████████████████████████████████▌                                      | 647/1261 [05:38<05:20,  1.91it/s]\n",
      " 51%|████████████████████████████████████████▌                                      | 648/1261 [05:39<05:28,  1.87it/s]\n",
      " 51%|████████████████████████████████████████▋                                      | 649/1261 [05:39<05:26,  1.87it/s]\n",
      " 52%|████████████████████████████████████████▋                                      | 650/1261 [05:40<05:27,  1.87it/s]\n",
      " 52%|████████████████████████████████████████▊                                      | 651/1261 [05:40<05:23,  1.89it/s]\n",
      " 52%|████████████████████████████████████████▊                                      | 652/1261 [05:41<05:19,  1.91it/s]\n",
      " 52%|████████████████████████████████████████▉                                      | 653/1261 [05:41<05:22,  1.89it/s]\n",
      " 52%|████████████████████████████████████████▉                                      | 654/1261 [05:42<05:22,  1.88it/s]\n",
      " 52%|█████████████████████████████████████████                                      | 655/1261 [05:42<05:17,  1.91it/s]\n",
      " 52%|█████████████████████████████████████████                                      | 656/1261 [05:43<05:21,  1.88it/s]\n",
      " 52%|█████████████████████████████████████████▏                                     | 657/1261 [05:43<05:23,  1.87it/s]\n",
      " 52%|█████████████████████████████████████████▏                                     | 658/1261 [05:44<05:19,  1.89it/s]\n",
      " 52%|█████████████████████████████████████████▎                                     | 659/1261 [05:44<05:22,  1.87it/s]\n",
      " 52%|█████████████████████████████████████████▎                                     | 660/1261 [05:45<05:20,  1.87it/s]\n",
      " 52%|█████████████████████████████████████████▍                                     | 661/1261 [05:45<05:15,  1.90it/s]\n",
      " 52%|█████████████████████████████████████████▍                                     | 662/1261 [05:46<05:17,  1.89it/s]\n",
      " 53%|█████████████████████████████████████████▌                                     | 663/1261 [05:47<05:19,  1.87it/s]\n",
      " 53%|█████████████████████████████████████████▌                                     | 664/1261 [05:47<05:15,  1.89it/s]\n",
      " 53%|█████████████████████████████████████████▋                                     | 665/1261 [05:48<05:21,  1.86it/s]\n",
      " 53%|█████████████████████████████████████████▋                                     | 666/1261 [05:48<05:21,  1.85it/s]\n",
      " 53%|█████████████████████████████████████████▊                                     | 667/1261 [05:49<05:14,  1.89it/s]\n",
      " 53%|█████████████████████████████████████████▊                                     | 668/1261 [05:49<05:18,  1.86it/s]\n",
      " 53%|█████████████████████████████████████████▉                                     | 669/1261 [05:50<05:17,  1.86it/s]\n",
      " 53%|█████████████████████████████████████████▉                                     | 670/1261 [05:50<05:14,  1.88it/s]\n",
      " 53%|██████████████████████████████████████████                                     | 671/1261 [05:51<05:13,  1.88it/s]\n",
      " 53%|██████████████████████████████████████████                                     | 672/1261 [05:51<05:10,  1.90it/s]\n",
      " 53%|██████████████████████████████████████████▏                                    | 673/1261 [05:52<05:07,  1.91it/s]\n",
      " 53%|██████████████████████████████████████████▏                                    | 674/1261 [05:52<05:08,  1.90it/s]\n",
      " 54%|██████████████████████████████████████████▎                                    | 675/1261 [05:53<05:06,  1.91it/s]\n",
      " 54%|██████████████████████████████████████████▎                                    | 676/1261 [05:53<05:04,  1.92it/s]\n",
      " 54%|██████████████████████████████████████████▍                                    | 677/1261 [05:54<04:59,  1.95it/s]\n",
      " 54%|██████████████████████████████████████████▍                                    | 678/1261 [05:54<05:05,  1.91it/s]\n",
      " 54%|██████████████████████████████████████████▌                                    | 679/1261 [05:55<05:05,  1.91it/s]\n",
      " 54%|██████████████████████████████████████████▌                                    | 680/1261 [05:56<05:03,  1.92it/s]\n",
      " 54%|██████████████████████████████████████████▋                                    | 681/1261 [05:56<05:01,  1.93it/s]\n",
      " 54%|██████████████████████████████████████████▋                                    | 682/1261 [05:57<05:03,  1.91it/s]\n",
      " 54%|██████████████████████████████████████████▊                                    | 683/1261 [05:57<05:03,  1.90it/s]\n",
      " 54%|██████████████████████████████████████████▊                                    | 684/1261 [05:58<05:04,  1.90it/s]\n",
      " 54%|██████████████████████████████████████████▉                                    | 685/1261 [05:58<04:58,  1.93it/s]\n",
      " 54%|██████████████████████████████████████████▉                                    | 686/1261 [05:59<04:57,  1.93it/s]\n",
      " 54%|███████████████████████████████████████████                                    | 687/1261 [05:59<05:00,  1.91it/s]\n",
      " 55%|███████████████████████████████████████████                                    | 688/1261 [06:00<04:58,  1.92it/s]\n",
      " 55%|███████████████████████████████████████████▏                                   | 689/1261 [06:00<04:57,  1.92it/s]\n",
      " 55%|███████████████████████████████████████████▏                                   | 690/1261 [06:01<04:58,  1.91it/s]\n",
      " 55%|███████████████████████████████████████████▎                                   | 691/1261 [06:01<05:02,  1.89it/s]\n",
      " 55%|███████████████████████████████████████████▎                                   | 692/1261 [06:02<05:02,  1.88it/s]\n",
      " 55%|███████████████████████████████████████████▍                                   | 693/1261 [06:02<04:55,  1.92it/s]\n",
      " 55%|███████████████████████████████████████████▍                                   | 694/1261 [06:03<04:56,  1.91it/s]\n",
      " 55%|███████████████████████████████████████████▌                                   | 695/1261 [06:03<04:57,  1.90it/s]\n",
      " 55%|███████████████████████████████████████████▌                                   | 696/1261 [06:04<04:56,  1.91it/s]\n",
      " 55%|███████████████████████████████████████████▋                                   | 697/1261 [06:04<04:57,  1.90it/s]\n",
      " 55%|███████████████████████████████████████████▋                                   | 698/1261 [06:05<04:57,  1.89it/s]\n",
      " 55%|███████████████████████████████████████████▊                                   | 699/1261 [06:05<04:54,  1.91it/s]\n",
      " 56%|███████████████████████████████████████████▊                                   | 700/1261 [06:06<04:56,  1.89it/s]\n",
      " 56%|███████████████████████████████████████████▉                                   | 701/1261 [06:07<04:52,  1.91it/s]\n",
      " 56%|███████████████████████████████████████████▉                                   | 702/1261 [06:07<04:51,  1.92it/s]\n",
      " 56%|████████████████████████████████████████████                                   | 703/1261 [06:08<04:53,  1.90it/s]\n",
      " 56%|████████████████████████████████████████████                                   | 704/1261 [06:08<04:52,  1.91it/s]\n",
      " 56%|████████████████████████████████████████████▏                                  | 705/1261 [06:09<04:47,  1.93it/s]\n",
      " 56%|████████████████████████████████████████████▏                                  | 706/1261 [06:09<04:44,  1.95it/s]\n",
      " 56%|████████████████████████████████████████████▎                                  | 707/1261 [06:10<04:47,  1.93it/s]\n",
      " 56%|████████████████████████████████████████████▎                                  | 708/1261 [06:10<04:45,  1.94it/s]\n",
      " 56%|████████████████████████████████████████████▍                                  | 709/1261 [06:11<04:44,  1.94it/s]\n",
      " 56%|████████████████████████████████████████████▍                                  | 710/1261 [06:11<04:47,  1.92it/s]\n",
      " 56%|████████████████████████████████████████████▌                                  | 711/1261 [06:12<04:43,  1.94it/s]\n",
      " 56%|████████████████████████████████████████████▌                                  | 712/1261 [06:12<04:44,  1.93it/s]\n",
      " 57%|████████████████████████████████████████████▋                                  | 713/1261 [06:13<04:40,  1.95it/s]\n",
      " 57%|████████████████████████████████████████████▋                                  | 714/1261 [06:13<04:43,  1.93it/s]\n",
      " 57%|████████████████████████████████████████████▊                                  | 715/1261 [06:14<04:44,  1.92it/s]\n",
      " 57%|████████████████████████████████████████████▊                                  | 716/1261 [06:14<04:41,  1.93it/s]\n",
      " 57%|████████████████████████████████████████████▉                                  | 717/1261 [06:15<04:43,  1.92it/s]\n",
      " 57%|████████████████████████████████████████████▉                                  | 718/1261 [06:15<04:39,  1.94it/s]\n",
      " 57%|█████████████████████████████████████████████                                  | 719/1261 [06:16<04:40,  1.93it/s]\n",
      " 57%|█████████████████████████████████████████████                                  | 720/1261 [06:16<04:36,  1.95it/s]\n",
      " 57%|█████████████████████████████████████████████▏                                 | 721/1261 [06:17<04:37,  1.95it/s]"
     ]
    }
   ],
   "source": [
    "left_line = Line()\n",
    "right_line = Line()\n",
    "video_output = 'project_video_out.mp4'\n",
    "clip1 = VideoFileClip(\"project_video.mp4\")\n",
    "video_output_clip = clip1.fl_image(process_image) #NOTE: this function expects color images!!\n",
    "%time video_output_clip.write_videofile(video_output, audio=False)"
   ]
  },
  {
   "cell_type": "code",
   "execution_count": null,
   "metadata": {
    "collapsed": false,
    "deletable": true,
    "editable": true
   },
   "outputs": [],
   "source": [
    "left_line = Line()\n",
    "right_line = Line()\n",
    "video_output = 'challenge_video_out.mp4'\n",
    "clip1 = VideoFileClip(\"challenge_video.mp4\")\n",
    "video_output_clip = clip1.fl_image(process_image) #NOTE: this function expects color images!!\n",
    "%time video_output_clip.write_videofile(video_output, audio=False)"
   ]
  },
  {
   "cell_type": "code",
   "execution_count": 14,
   "metadata": {
    "collapsed": false,
    "deletable": true,
    "editable": true
   },
   "outputs": [
    {
     "name": "stdout",
     "output_type": "stream",
     "text": [
      "Calculating Centroids\n"
     ]
    },
    {
     "name": "stderr",
     "output_type": "stream",
     "text": [
      "WARNING:py.warnings:C:\\ProgramData\\Miniconda3\\envs\\carnd-term1-gpu\\lib\\site-packages\\ipykernel\\__main__.py:45: FutureWarning: comparison to `None` will result in an elementwise object comparison in the future.\n",
      "\n",
      "WARNING:py.warnings:C:\\ProgramData\\Miniconda3\\envs\\carnd-term1-gpu\\lib\\site-packages\\ipykernel\\__main__.py:51: FutureWarning: comparison to `None` will result in an elementwise object comparison in the future.\n",
      "\n",
      "WARNING:py.warnings:C:\\ProgramData\\Miniconda3\\envs\\carnd-term1-gpu\\lib\\site-packages\\ipykernel\\__main__.py:17: FutureWarning: comparison to `None` will result in an elementwise object comparison in the future.\n",
      "\n",
      "WARNING:py.warnings:C:\\ProgramData\\Miniconda3\\envs\\carnd-term1-gpu\\lib\\site-packages\\ipykernel\\__main__.py:21: VisibleDeprecationWarning: using a non-integer number instead of an integer will result in an error in the future\n",
      "\n",
      "WARNING:py.warnings:C:\\ProgramData\\Miniconda3\\envs\\carnd-term1-gpu\\lib\\site-packages\\ipykernel\\__main__.py:24: VisibleDeprecationWarning: using a non-integer number instead of an integer will result in an error in the future\n",
      "\n"
     ]
    },
    {
     "name": "stdout",
     "output_type": "stream",
     "text": [
      "Sanity Check Failed due to width at the end\n",
      "3.5904330915\n",
      "[MoviePy] >>>> Building video harder_challenge_video_out.mp4\n",
      "[MoviePy] Writing video harder_challenge_video_out.mp4\n"
     ]
    },
    {
     "name": "stderr",
     "output_type": "stream",
     "text": [
      "\r",
      "  0%|                                                                                         | 0/1200 [00:00<?, ?it/s]"
     ]
    },
    {
     "name": "stdout",
     "output_type": "stream",
     "text": [
      "Calculating Centroids\n"
     ]
    },
    {
     "name": "stderr",
     "output_type": "stream",
     "text": [
      "WARNING:py.warnings:C:\\ProgramData\\Miniconda3\\envs\\carnd-term1-gpu\\lib\\site-packages\\ipykernel\\__main__.py:45: FutureWarning: comparison to `None` will result in an elementwise object comparison in the future.\n",
      "\n",
      "WARNING:py.warnings:C:\\ProgramData\\Miniconda3\\envs\\carnd-term1-gpu\\lib\\site-packages\\ipykernel\\__main__.py:51: FutureWarning: comparison to `None` will result in an elementwise object comparison in the future.\n",
      "\n",
      "WARNING:py.warnings:C:\\ProgramData\\Miniconda3\\envs\\carnd-term1-gpu\\lib\\site-packages\\ipykernel\\__main__.py:17: FutureWarning: comparison to `None` will result in an elementwise object comparison in the future.\n",
      "\n",
      "WARNING:py.warnings:C:\\ProgramData\\Miniconda3\\envs\\carnd-term1-gpu\\lib\\site-packages\\ipykernel\\__main__.py:21: VisibleDeprecationWarning: using a non-integer number instead of an integer will result in an error in the future\n",
      "\n",
      "WARNING:py.warnings:C:\\ProgramData\\Miniconda3\\envs\\carnd-term1-gpu\\lib\\site-packages\\ipykernel\\__main__.py:24: VisibleDeprecationWarning: using a non-integer number instead of an integer will result in an error in the future\n",
      "\n"
     ]
    },
    {
     "name": "stdout",
     "output_type": "stream",
     "text": [
      "Sanity Check Failed due to width at the end\n",
      "3.5904330915\n"
     ]
    },
    {
     "name": "stderr",
     "output_type": "stream",
     "text": [
      "\r",
      "  0%|                                                                                 | 1/1200 [00:00<12:24,  1.61it/s]"
     ]
    },
    {
     "name": "stdout",
     "output_type": "stream",
     "text": [
      "Calculating Centroids\n",
      "Sanity Check Failed due to width at the end\n",
      "3.70566622127\n"
     ]
    },
    {
     "name": "stderr",
     "output_type": "stream",
     "text": [
      "\r",
      "  0%|▏                                                                                | 2/1200 [00:01<12:17,  1.62it/s]"
     ]
    },
    {
     "name": "stdout",
     "output_type": "stream",
     "text": [
      "Calculating Centroids\n",
      "Sanity Check Failed due to width at the end\n",
      "3.78391131349\n"
     ]
    },
    {
     "name": "stderr",
     "output_type": "stream",
     "text": [
      "\r",
      "  0%|▏                                                                                | 3/1200 [00:01<12:07,  1.64it/s]"
     ]
    },
    {
     "name": "stdout",
     "output_type": "stream",
     "text": [
      "Calculating Centroids\n",
      "Sanity Check Failed due to width at the end\n",
      "3.82620829219\n"
     ]
    },
    {
     "name": "stderr",
     "output_type": "stream",
     "text": [
      "\r",
      "  0%|▎                                                                                | 4/1200 [00:02<12:03,  1.65it/s]"
     ]
    },
    {
     "name": "stdout",
     "output_type": "stream",
     "text": [
      "Calculating Centroids\n",
      "Sanity Check Failed due to width at the end\n",
      "3.83993128811\n"
     ]
    },
    {
     "name": "stderr",
     "output_type": "stream",
     "text": [
      "\r",
      "  0%|▎                                                                                | 5/1200 [00:02<11:54,  1.67it/s]"
     ]
    },
    {
     "name": "stdout",
     "output_type": "stream",
     "text": [
      "Calculating Centroids\n",
      "Sanity Check Failed due to width at the end\n",
      "3.87587204735\n"
     ]
    },
    {
     "name": "stderr",
     "output_type": "stream",
     "text": [
      "\r",
      "  0%|▍                                                                                | 6/1200 [00:03<11:57,  1.66it/s]"
     ]
    },
    {
     "name": "stdout",
     "output_type": "stream",
     "text": [
      "Calculating Centroids\n",
      "Sanity Check Failed due to width at the end\n",
      "3.81326458001\n"
     ]
    },
    {
     "name": "stderr",
     "output_type": "stream",
     "text": [
      "\r",
      "  1%|▍                                                                                | 7/1200 [00:04<11:48,  1.69it/s]"
     ]
    },
    {
     "name": "stdout",
     "output_type": "stream",
     "text": [
      "Calculating Centroids\n",
      "Sanity Check Failed due to width at the end\n",
      "3.58935698712\n"
     ]
    },
    {
     "name": "stderr",
     "output_type": "stream",
     "text": [
      "\r",
      "  1%|▌                                                                                | 8/1200 [00:04<11:44,  1.69it/s]"
     ]
    },
    {
     "name": "stdout",
     "output_type": "stream",
     "text": [
      "Calculating Centroids\n",
      "Sanity Check Failed due to width at the end\n",
      "3.44744303425\n"
     ]
    },
    {
     "name": "stderr",
     "output_type": "stream",
     "text": [
      "\r",
      "  1%|▌                                                                                | 9/1200 [00:05<11:33,  1.72it/s]"
     ]
    },
    {
     "name": "stdout",
     "output_type": "stream",
     "text": [
      "Calculating Centroids\n"
     ]
    },
    {
     "name": "stderr",
     "output_type": "stream",
     "text": [
      "  1%|▋                                                                               | 10/1200 [00:05<11:36,  1.71it/s]WARNING:py.warnings:C:\\ProgramData\\Miniconda3\\envs\\carnd-term1-gpu\\lib\\site-packages\\ipykernel\\__main__.py:82: FutureWarning: comparison to `None` will result in an elementwise object comparison in the future.\n",
      "\n"
     ]
    },
    {
     "name": "stdout",
     "output_type": "stream",
     "text": [
      "Sanity Check Failed due to width at the end\n",
      "3.47714957393\n"
     ]
    },
    {
     "name": "stderr",
     "output_type": "stream",
     "text": [
      "\r",
      "  1%|▋                                                                               | 11/1200 [00:06<11:43,  1.69it/s]"
     ]
    },
    {
     "name": "stdout",
     "output_type": "stream",
     "text": [
      "Sanity Check Failed due to width at the end\n",
      "3.5161856363\n"
     ]
    },
    {
     "name": "stderr",
     "output_type": "stream",
     "text": [
      "\r",
      "  1%|▊                                                                               | 12/1200 [00:07<11:45,  1.68it/s]"
     ]
    },
    {
     "name": "stdout",
     "output_type": "stream",
     "text": [
      "Sanity Check Failed due to width at the end\n",
      "3.57581247736\n"
     ]
    },
    {
     "name": "stderr",
     "output_type": "stream",
     "text": [
      "\r",
      "  1%|▊                                                                               | 13/1200 [00:07<11:39,  1.70it/s]"
     ]
    },
    {
     "name": "stdout",
     "output_type": "stream",
     "text": [
      "Sanity Check Failed due to width at the end\n",
      "3.49601499368\n"
     ]
    },
    {
     "name": "stderr",
     "output_type": "stream",
     "text": [
      "  2%|█▏                                                                              | 18/1200 [00:10<11:15,  1.75it/s]"
     ]
    },
    {
     "name": "stdout",
     "output_type": "stream",
     "text": [
      "Sanity Check Failed due to width at the end\n",
      "4.1048194951\n"
     ]
    },
    {
     "name": "stderr",
     "output_type": "stream",
     "text": [
      "\r",
      "  2%|█▎                                                                              | 19/1200 [00:11<11:06,  1.77it/s]"
     ]
    },
    {
     "name": "stdout",
     "output_type": "stream",
     "text": [
      "Sanity Check Failed due to width at the end\n",
      "3.82725294968\n"
     ]
    },
    {
     "name": "stderr",
     "output_type": "stream",
     "text": [
      "\r",
      "  2%|█▎                                                                              | 20/1200 [00:11<10:57,  1.80it/s]"
     ]
    },
    {
     "name": "stdout",
     "output_type": "stream",
     "text": [
      "Sanity Check Failed due to width at the end\n",
      "3.83149786508\n"
     ]
    },
    {
     "name": "stderr",
     "output_type": "stream",
     "text": [
      "\r",
      "  2%|█▍                                                                              | 21/1200 [00:12<10:59,  1.79it/s]"
     ]
    },
    {
     "name": "stdout",
     "output_type": "stream",
     "text": [
      "Sanity Check Failed due to width at the end\n",
      "4.07547750296\n"
     ]
    },
    {
     "name": "stderr",
     "output_type": "stream",
     "text": [
      "\r",
      "  2%|█▍                                                                              | 22/1200 [00:12<10:49,  1.81it/s]"
     ]
    },
    {
     "name": "stdout",
     "output_type": "stream",
     "text": [
      "Sanity Check Failed due to width at the end\n",
      "4.21308328\n"
     ]
    },
    {
     "name": "stderr",
     "output_type": "stream",
     "text": [
      "\r",
      "  2%|█▌                                                                              | 23/1200 [00:13<10:45,  1.82it/s]"
     ]
    },
    {
     "name": "stdout",
     "output_type": "stream",
     "text": [
      "Sanity Check Failed due to width at the end\n",
      "4.20467109328\n"
     ]
    },
    {
     "name": "stderr",
     "output_type": "stream",
     "text": [
      "\r",
      "  2%|█▌                                                                              | 24/1200 [00:13<10:46,  1.82it/s]"
     ]
    },
    {
     "name": "stdout",
     "output_type": "stream",
     "text": [
      "Sanity Check Failed due to width at the end\n",
      "4.25995966382\n"
     ]
    },
    {
     "name": "stderr",
     "output_type": "stream",
     "text": [
      "\r",
      "  2%|█▋                                                                              | 25/1200 [00:14<10:53,  1.80it/s]"
     ]
    },
    {
     "name": "stdout",
     "output_type": "stream",
     "text": [
      "Sanity Check Failed due to width at the end\n",
      "4.02443905193\n"
     ]
    },
    {
     "name": "stderr",
     "output_type": "stream",
     "text": [
      "\r",
      "  2%|█▋                                                                              | 26/1200 [00:14<10:43,  1.82it/s]"
     ]
    },
    {
     "name": "stdout",
     "output_type": "stream",
     "text": [
      "Sanity Check Failed due to width at the end\n",
      "3.99226653822\n"
     ]
    },
    {
     "name": "stderr",
     "output_type": "stream",
     "text": [
      "\r",
      "  2%|█▊                                                                              | 27/1200 [00:15<10:48,  1.81it/s]"
     ]
    },
    {
     "name": "stdout",
     "output_type": "stream",
     "text": [
      "Sanity Check Failed due to width at the end\n",
      "4.01633507307\n"
     ]
    },
    {
     "name": "stderr",
     "output_type": "stream",
     "text": [
      "\r",
      "  2%|█▊                                                                              | 28/1200 [00:16<10:48,  1.81it/s]"
     ]
    },
    {
     "name": "stdout",
     "output_type": "stream",
     "text": [
      "Calculating Centroids\n",
      "Sanity Check Failed due to width at the start\n",
      "4.49280266022\n",
      "Sanity Check Failed due to width at the end\n",
      "7.82064629995\n"
     ]
    },
    {
     "name": "stderr",
     "output_type": "stream",
     "text": [
      "\r",
      "  2%|█▉                                                                              | 29/1200 [00:16<11:08,  1.75it/s]"
     ]
    },
    {
     "name": "stdout",
     "output_type": "stream",
     "text": [
      "Calculating Centroids\n",
      "Sanity Check Failed due to width at the start\n",
      "4.82569244022\n",
      "Sanity Check Failed due to width at the end\n",
      "8.40163135531\n"
     ]
    },
    {
     "name": "stderr",
     "output_type": "stream",
     "text": [
      "\r",
      "  2%|██                                                                              | 30/1200 [00:17<11:17,  1.73it/s]"
     ]
    },
    {
     "name": "stdout",
     "output_type": "stream",
     "text": [
      "Calculating Centroids\n",
      "Sanity Check Failed due to width at the start\n",
      "5.12303545549\n",
      "Sanity Check Failed due to width at the end\n",
      "8.31670776958\n",
      "Sanity Check Failed due to curvature\n",
      "-0.120963246739\n"
     ]
    },
    {
     "name": "stderr",
     "output_type": "stream",
     "text": [
      "\r",
      "  3%|██                                                                              | 31/1200 [00:17<11:23,  1.71it/s]"
     ]
    },
    {
     "name": "stdout",
     "output_type": "stream",
     "text": [
      "Calculating Centroids\n",
      "Sanity Check Failed due to width at the start\n",
      "5.05401477693\n",
      "Sanity Check Failed due to width at the end\n",
      "8.32776190001\n"
     ]
    },
    {
     "name": "stderr",
     "output_type": "stream",
     "text": [
      "\r",
      "  3%|██▏                                                                             | 32/1200 [00:18<11:27,  1.70it/s]"
     ]
    },
    {
     "name": "stdout",
     "output_type": "stream",
     "text": [
      "Calculating Centroids\n",
      "Sanity Check Failed due to width at the start\n",
      "5.1720751666\n",
      "Sanity Check Failed due to width at the end\n",
      "8.60511962049\n",
      "Sanity Check Failed due to curvature\n",
      "-0.00761432900862\n"
     ]
    },
    {
     "name": "stderr",
     "output_type": "stream",
     "text": [
      "\r",
      "  3%|██▏                                                                             | 33/1200 [00:19<11:40,  1.67it/s]"
     ]
    },
    {
     "name": "stdout",
     "output_type": "stream",
     "text": [
      "Calculating Centroids\n",
      "Sanity Check Failed due to width at the start\n",
      "5.22036912111\n",
      "Sanity Check Failed due to width at the end\n",
      "8.75258730589\n",
      "Sanity Check Failed due to curvature\n",
      "-0.00610794764561\n"
     ]
    },
    {
     "name": "stderr",
     "output_type": "stream",
     "text": [
      "\r",
      "  3%|██▎                                                                             | 34/1200 [00:19<11:38,  1.67it/s]"
     ]
    },
    {
     "name": "stdout",
     "output_type": "stream",
     "text": [
      "Calculating Centroids\n",
      "Sanity Check Failed due to width at the start\n",
      "6.48655557854\n",
      "Sanity Check Failed due to width at the end\n",
      "8.94607777456\n"
     ]
    },
    {
     "name": "stderr",
     "output_type": "stream",
     "text": [
      "\r",
      "  3%|██▎                                                                             | 35/1200 [00:20<11:35,  1.67it/s]"
     ]
    },
    {
     "name": "stdout",
     "output_type": "stream",
     "text": [
      "Calculating Centroids\n",
      "Sanity Check Failed due to width at the start\n",
      "6.49205438059\n",
      "Sanity Check Failed due to width at the end\n",
      "9.00244880524\n"
     ]
    },
    {
     "name": "stderr",
     "output_type": "stream",
     "text": [
      "\r",
      "  3%|██▍                                                                             | 36/1200 [00:20<11:41,  1.66it/s]"
     ]
    },
    {
     "name": "stdout",
     "output_type": "stream",
     "text": [
      "Calculating Centroids\n",
      "Sanity Check Failed due to width at the start\n",
      "6.53876869498\n",
      "Sanity Check Failed due to width at the end\n",
      "9.26801701593\n"
     ]
    },
    {
     "name": "stderr",
     "output_type": "stream",
     "text": [
      "\r",
      "  3%|██▍                                                                             | 37/1200 [00:21<11:42,  1.66it/s]"
     ]
    },
    {
     "name": "stdout",
     "output_type": "stream",
     "text": [
      "Calculating Centroids\n",
      "Sanity Check Failed due to width at the start\n",
      "4.81144863114\n",
      "Sanity Check Failed due to width at the end\n",
      "7.59955895741\n"
     ]
    },
    {
     "name": "stderr",
     "output_type": "stream",
     "text": [
      "\r",
      "  3%|██▌                                                                             | 38/1200 [00:22<11:39,  1.66it/s]"
     ]
    },
    {
     "name": "stdout",
     "output_type": "stream",
     "text": [
      "Calculating Centroids\n",
      "Sanity Check Failed due to width at the start\n",
      "4.75342431353\n",
      "Sanity Check Failed due to width at the end\n",
      "7.0877536148\n",
      "Sanity Check Failed due to curvature\n",
      "11.7368502455\n"
     ]
    },
    {
     "name": "stderr",
     "output_type": "stream",
     "text": [
      "\r",
      "  3%|██▌                                                                             | 39/1200 [00:22<11:30,  1.68it/s]"
     ]
    },
    {
     "name": "stdout",
     "output_type": "stream",
     "text": [
      "Calculating Centroids\n",
      "Sanity Check Failed due to width at the start\n",
      "4.71204977879\n",
      "Sanity Check Failed due to width at the end\n",
      "7.08021011859\n",
      "Sanity Check Failed due to curvature\n",
      "35.2425312854\n"
     ]
    },
    {
     "name": "stderr",
     "output_type": "stream",
     "text": [
      "\r",
      "  3%|██▋                                                                             | 40/1200 [00:23<11:24,  1.69it/s]"
     ]
    },
    {
     "name": "stdout",
     "output_type": "stream",
     "text": [
      "Calculating Centroids\n",
      "Sanity Check Failed due to width at the start\n",
      "4.94886276004\n",
      "Sanity Check Failed due to width at the end\n",
      "6.89403909165\n"
     ]
    },
    {
     "name": "stderr",
     "output_type": "stream",
     "text": [
      "\r",
      "  3%|██▋                                                                             | 41/1200 [00:23<11:19,  1.71it/s]"
     ]
    },
    {
     "name": "stdout",
     "output_type": "stream",
     "text": [
      "Calculating Centroids\n",
      "Sanity Check Failed due to width at the start\n",
      "4.94500815194\n",
      "Sanity Check Failed due to width at the end\n",
      "7.01579381843\n"
     ]
    },
    {
     "name": "stderr",
     "output_type": "stream",
     "text": [
      "\r",
      "  4%|██▊                                                                             | 42/1200 [00:24<11:13,  1.72it/s]"
     ]
    },
    {
     "name": "stdout",
     "output_type": "stream",
     "text": [
      "Calculating Centroids\n",
      "Sanity Check Failed due to width at the start\n",
      "5.24292793964\n",
      "Sanity Check Failed due to width at the end\n",
      "7.10904109987\n"
     ]
    },
    {
     "name": "stderr",
     "output_type": "stream",
     "text": [
      "\r",
      "  4%|██▊                                                                             | 43/1200 [00:25<11:21,  1.70it/s]"
     ]
    },
    {
     "name": "stdout",
     "output_type": "stream",
     "text": [
      "Calculating Centroids\n",
      "Sanity Check Failed due to width at the start\n",
      "5.80805899088\n",
      "Sanity Check Failed due to width at the end\n",
      "7.62311519568\n",
      "Sanity Check Failed due to curvature\n",
      "-19.0999511496\n"
     ]
    },
    {
     "name": "stderr",
     "output_type": "stream",
     "text": [
      "\r",
      "  4%|██▉                                                                             | 44/1200 [00:25<11:19,  1.70it/s]"
     ]
    },
    {
     "name": "stdout",
     "output_type": "stream",
     "text": [
      "Calculating Centroids\n",
      "Sanity Check Failed due to width at the start\n",
      "5.90432834116\n",
      "Sanity Check Failed due to width at the end\n",
      "7.3792285875\n"
     ]
    },
    {
     "name": "stderr",
     "output_type": "stream",
     "text": [
      "\r",
      "  4%|███                                                                             | 45/1200 [00:26<11:15,  1.71it/s]"
     ]
    },
    {
     "name": "stdout",
     "output_type": "stream",
     "text": [
      "Calculating Centroids\n",
      "Sanity Check Failed due to width at the start\n",
      "5.43872725415\n",
      "Sanity Check Failed due to width at the end\n",
      "7.49473961202\n"
     ]
    },
    {
     "name": "stderr",
     "output_type": "stream",
     "text": [
      "\r",
      "  4%|███                                                                             | 46/1200 [00:26<11:15,  1.71it/s]"
     ]
    },
    {
     "name": "stdout",
     "output_type": "stream",
     "text": [
      "Calculating Centroids\n",
      "Sanity Check Failed due to width at the start\n",
      "5.05525476892\n",
      "Sanity Check Failed due to width at the end\n",
      "7.72045397125\n"
     ]
    },
    {
     "name": "stderr",
     "output_type": "stream",
     "text": [
      "\r",
      "  4%|███▏                                                                            | 47/1200 [00:27<11:21,  1.69it/s]"
     ]
    },
    {
     "name": "stdout",
     "output_type": "stream",
     "text": [
      "Calculating Centroids\n",
      "Sanity Check Failed due to width at the start\n",
      "5.20111634959\n",
      "Sanity Check Failed due to width at the end\n",
      "7.63991585276\n"
     ]
    },
    {
     "name": "stderr",
     "output_type": "stream",
     "text": [
      "\r",
      "  4%|███▏                                                                            | 48/1200 [00:27<11:20,  1.69it/s]"
     ]
    },
    {
     "name": "stdout",
     "output_type": "stream",
     "text": [
      "Calculating Centroids\n",
      "Sanity Check Failed due to width at the start\n",
      "5.41885430274\n",
      "Sanity Check Failed due to width at the end\n",
      "7.87660109465\n"
     ]
    },
    {
     "name": "stderr",
     "output_type": "stream",
     "text": [
      "\r",
      "  4%|███▎                                                                            | 49/1200 [00:28<11:24,  1.68it/s]"
     ]
    },
    {
     "name": "stdout",
     "output_type": "stream",
     "text": [
      "Calculating Centroids\n",
      "Sanity Check Failed due to width at the start\n",
      "5.52427901955\n",
      "Sanity Check Failed due to width at the end\n",
      "7.96079873411\n"
     ]
    },
    {
     "name": "stderr",
     "output_type": "stream",
     "text": [
      "\r",
      "  4%|███▎                                                                            | 50/1200 [00:29<11:20,  1.69it/s]"
     ]
    },
    {
     "name": "stdout",
     "output_type": "stream",
     "text": [
      "Calculating Centroids\n",
      "Sanity Check Failed due to width at the start\n",
      "5.60586163222\n",
      "Sanity Check Failed due to width at the end\n",
      "8.2086906382\n"
     ]
    },
    {
     "name": "stderr",
     "output_type": "stream",
     "text": [
      "\r",
      "  4%|███▍                                                                            | 51/1200 [00:29<11:18,  1.69it/s]"
     ]
    },
    {
     "name": "stdout",
     "output_type": "stream",
     "text": [
      "Calculating Centroids\n",
      "Sanity Check Failed due to width at the start\n",
      "5.51937753967\n",
      "Sanity Check Failed due to width at the end\n",
      "8.3064092614\n"
     ]
    },
    {
     "name": "stderr",
     "output_type": "stream",
     "text": [
      "\r",
      "  4%|███▍                                                                            | 52/1200 [00:30<11:25,  1.68it/s]"
     ]
    },
    {
     "name": "stdout",
     "output_type": "stream",
     "text": [
      "Calculating Centroids\n",
      "Sanity Check Failed due to width at the start\n",
      "5.31782489606\n",
      "Sanity Check Failed due to width at the end\n",
      "8.33338502355\n"
     ]
    },
    {
     "name": "stderr",
     "output_type": "stream",
     "text": [
      "\r",
      "  4%|███▌                                                                            | 53/1200 [00:30<11:20,  1.68it/s]"
     ]
    },
    {
     "name": "stdout",
     "output_type": "stream",
     "text": [
      "Calculating Centroids\n",
      "Sanity Check Failed due to width at the start\n",
      "5.35480405654\n",
      "Sanity Check Failed due to width at the end\n",
      "8.48071505503\n"
     ]
    },
    {
     "name": "stderr",
     "output_type": "stream",
     "text": [
      "\r",
      "  4%|███▌                                                                            | 54/1200 [00:31<11:23,  1.68it/s]"
     ]
    },
    {
     "name": "stdout",
     "output_type": "stream",
     "text": [
      "Calculating Centroids\n",
      "Sanity Check Failed due to width at the start\n",
      "5.31515334824\n",
      "Sanity Check Failed due to width at the end\n",
      "8.88324269402\n"
     ]
    },
    {
     "name": "stderr",
     "output_type": "stream",
     "text": [
      "\r",
      "  5%|███▋                                                                            | 55/1200 [00:32<11:26,  1.67it/s]"
     ]
    },
    {
     "name": "stdout",
     "output_type": "stream",
     "text": [
      "Calculating Centroids\n",
      "Sanity Check Failed due to width at the start\n",
      "5.21100893216\n",
      "Sanity Check Failed due to width at the end\n",
      "6.81984422019\n"
     ]
    },
    {
     "name": "stderr",
     "output_type": "stream",
     "text": [
      "\r",
      "  5%|███▋                                                                            | 56/1200 [00:32<11:31,  1.65it/s]"
     ]
    },
    {
     "name": "stdout",
     "output_type": "stream",
     "text": [
      "Calculating Centroids\n",
      "Sanity Check Failed due to width at the start\n",
      "5.34112300912\n",
      "Sanity Check Failed due to width at the end\n",
      "6.72794166603\n"
     ]
    },
    {
     "name": "stderr",
     "output_type": "stream",
     "text": [
      "\r",
      "  5%|███▊                                                                            | 57/1200 [00:33<11:31,  1.65it/s]"
     ]
    },
    {
     "name": "stdout",
     "output_type": "stream",
     "text": [
      "Calculating Centroids\n",
      "Sanity Check Failed due to width at the start\n",
      "5.08002017813\n",
      "Sanity Check Failed due to width at the end\n",
      "8.97327056374\n"
     ]
    },
    {
     "name": "stderr",
     "output_type": "stream",
     "text": [
      "\r",
      "  5%|███▊                                                                            | 58/1200 [00:34<11:37,  1.64it/s]"
     ]
    },
    {
     "name": "stdout",
     "output_type": "stream",
     "text": [
      "Calculating Centroids\n",
      "Sanity Check Failed due to width at the start\n",
      "5.1237873981\n",
      "Sanity Check Failed due to width at the end\n",
      "9.30669883691\n"
     ]
    },
    {
     "name": "stderr",
     "output_type": "stream",
     "text": [
      "\r",
      "  5%|███▉                                                                            | 59/1200 [00:34<11:30,  1.65it/s]"
     ]
    },
    {
     "name": "stdout",
     "output_type": "stream",
     "text": [
      "Calculating Centroids\n",
      "Sanity Check Failed due to width at the start\n",
      "5.02397983585\n",
      "Sanity Check Failed due to width at the end\n",
      "9.37947817821\n"
     ]
    },
    {
     "name": "stderr",
     "output_type": "stream",
     "text": [
      "\r",
      "  5%|████                                                                            | 60/1200 [00:35<11:21,  1.67it/s]"
     ]
    },
    {
     "name": "stdout",
     "output_type": "stream",
     "text": [
      "Calculating Centroids\n",
      "Sanity Check Failed due to width at the start\n",
      "4.90538409955\n",
      "Sanity Check Failed due to width at the end\n",
      "9.50671048172\n"
     ]
    },
    {
     "name": "stderr",
     "output_type": "stream",
     "text": [
      "\r",
      "  5%|████                                                                            | 61/1200 [00:35<11:19,  1.68it/s]"
     ]
    },
    {
     "name": "stdout",
     "output_type": "stream",
     "text": [
      "Calculating Centroids\n",
      "Sanity Check Failed due to width at the start\n",
      "5.26655988502\n",
      "Sanity Check Failed due to width at the end\n",
      "11.0634356027\n"
     ]
    },
    {
     "name": "stderr",
     "output_type": "stream",
     "text": [
      "\r",
      "  5%|████▏                                                                           | 62/1200 [00:36<11:12,  1.69it/s]"
     ]
    },
    {
     "name": "stdout",
     "output_type": "stream",
     "text": [
      "Calculating Centroids\n",
      "Sanity Check Failed due to width at the start\n",
      "5.30506435604\n",
      "Sanity Check Failed due to width at the end\n",
      "10.5772919166\n"
     ]
    },
    {
     "name": "stderr",
     "output_type": "stream",
     "text": [
      "\r",
      "  5%|████▏                                                                           | 63/1200 [00:36<11:12,  1.69it/s]"
     ]
    },
    {
     "name": "stdout",
     "output_type": "stream",
     "text": [
      "Calculating Centroids\n",
      "Sanity Check Failed due to width at the start\n",
      "4.74506185768\n",
      "Sanity Check Failed due to width at the end\n",
      "7.26909544918\n"
     ]
    },
    {
     "name": "stderr",
     "output_type": "stream",
     "text": [
      "\r",
      "  5%|████▎                                                                           | 64/1200 [00:37<11:07,  1.70it/s]"
     ]
    },
    {
     "name": "stdout",
     "output_type": "stream",
     "text": [
      "Calculating Centroids\n",
      "Sanity Check Failed due to width at the start\n",
      "6.36879050966\n",
      "Sanity Check Failed due to width at the end\n",
      "6.97788589957\n"
     ]
    },
    {
     "name": "stderr",
     "output_type": "stream",
     "text": [
      "\r",
      "  5%|████▎                                                                           | 65/1200 [00:38<11:11,  1.69it/s]"
     ]
    },
    {
     "name": "stdout",
     "output_type": "stream",
     "text": [
      "Calculating Centroids\n",
      "Sanity Check Failed due to width at the start\n",
      "8.45854497022\n"
     ]
    },
    {
     "name": "stderr",
     "output_type": "stream",
     "text": [
      "\r",
      "  6%|████▍                                                                           | 66/1200 [00:38<11:07,  1.70it/s]"
     ]
    },
    {
     "name": "stdout",
     "output_type": "stream",
     "text": [
      "Calculating Centroids\n",
      "Sanity Check Failed due to width at the start\n",
      "8.35783851024\n"
     ]
    },
    {
     "name": "stderr",
     "output_type": "stream",
     "text": [
      "\r",
      "  6%|████▍                                                                           | 67/1200 [00:39<11:02,  1.71it/s]"
     ]
    },
    {
     "name": "stdout",
     "output_type": "stream",
     "text": [
      "Calculating Centroids\n",
      "Sanity Check Failed due to width at the start\n",
      "7.99124935641\n"
     ]
    },
    {
     "name": "stderr",
     "output_type": "stream",
     "text": [
      "\r",
      "  6%|████▌                                                                           | 68/1200 [00:39<11:05,  1.70it/s]"
     ]
    },
    {
     "name": "stdout",
     "output_type": "stream",
     "text": [
      "Calculating Centroids\n",
      "Sanity Check Failed due to width at the start\n",
      "7.81839050527\n",
      "Sanity Check Failed due to width at the end\n",
      "9.01398543994\n"
     ]
    },
    {
     "name": "stderr",
     "output_type": "stream",
     "text": [
      "\r",
      "  6%|████▌                                                                           | 69/1200 [00:40<11:15,  1.67it/s]"
     ]
    },
    {
     "name": "stdout",
     "output_type": "stream",
     "text": [
      "Calculating Centroids\n",
      "Sanity Check Failed due to width at the start\n",
      "7.2382696985\n",
      "Sanity Check Failed due to width at the end\n",
      "8.38486826347\n"
     ]
    },
    {
     "name": "stderr",
     "output_type": "stream",
     "text": [
      "\r",
      "  6%|████▋                                                                           | 70/1200 [00:41<11:21,  1.66it/s]"
     ]
    },
    {
     "name": "stdout",
     "output_type": "stream",
     "text": [
      "Calculating Centroids\n",
      "Sanity Check Failed due to width at the start\n",
      "7.77700533015\n",
      "Sanity Check Failed due to width at the end\n",
      "9.45803673294\n"
     ]
    },
    {
     "name": "stderr",
     "output_type": "stream",
     "text": [
      "\r",
      "  6%|████▋                                                                           | 71/1200 [00:41<11:15,  1.67it/s]"
     ]
    },
    {
     "name": "stdout",
     "output_type": "stream",
     "text": [
      "Calculating Centroids\n",
      "Sanity Check Failed due to width at the start\n",
      "7.28803766768\n",
      "Sanity Check Failed due to width at the end\n",
      "10.0007909471\n",
      "Sanity Check Failed due to curvature\n",
      "6.0121796889\n"
     ]
    },
    {
     "name": "stderr",
     "output_type": "stream",
     "text": [
      "\r",
      "  6%|████▊                                                                           | 72/1200 [00:42<11:24,  1.65it/s]"
     ]
    },
    {
     "name": "stdout",
     "output_type": "stream",
     "text": [
      "Calculating Centroids\n",
      "Sanity Check Failed due to width at the start\n",
      "7.23119296139\n",
      "Sanity Check Failed due to width at the end\n",
      "10.2458096595\n"
     ]
    },
    {
     "name": "stderr",
     "output_type": "stream",
     "text": [
      "\r",
      "  6%|████▊                                                                           | 73/1200 [00:42<11:24,  1.65it/s]"
     ]
    },
    {
     "name": "stdout",
     "output_type": "stream",
     "text": [
      "Calculating Centroids\n",
      "Sanity Check Failed due to width at the start\n",
      "7.29101904751\n",
      "Sanity Check Failed due to width at the end\n",
      "10.3687852162\n"
     ]
    },
    {
     "name": "stderr",
     "output_type": "stream",
     "text": [
      "\r",
      "  6%|████▉                                                                           | 74/1200 [00:43<11:13,  1.67it/s]"
     ]
    },
    {
     "name": "stdout",
     "output_type": "stream",
     "text": [
      "Calculating Centroids\n",
      "Sanity Check Failed due to width at the start\n",
      "7.95651526225\n",
      "Sanity Check Failed due to width at the end\n",
      "11.6836219221\n",
      "Sanity Check Failed due to curvature\n",
      "185.617540221\n"
     ]
    },
    {
     "name": "stderr",
     "output_type": "stream",
     "text": [
      "\r",
      "  6%|█████                                                                           | 75/1200 [00:44<11:05,  1.69it/s]"
     ]
    },
    {
     "name": "stdout",
     "output_type": "stream",
     "text": [
      "Calculating Centroids\n",
      "Sanity Check Failed due to width at the start\n",
      "5.36087635049\n",
      "Sanity Check Failed due to width at the end\n",
      "6.29332496879\n"
     ]
    },
    {
     "name": "stderr",
     "output_type": "stream",
     "text": [
      "\r",
      "  6%|█████                                                                           | 76/1200 [00:44<11:07,  1.68it/s]"
     ]
    },
    {
     "name": "stdout",
     "output_type": "stream",
     "text": [
      "Calculating Centroids\n",
      "Sanity Check Failed due to width at the start\n",
      "6.53268090188\n",
      "Sanity Check Failed due to width at the end\n",
      "7.60773483561\n",
      "Sanity Check Failed due to curvature\n",
      "-10.4762370549\n"
     ]
    },
    {
     "name": "stderr",
     "output_type": "stream",
     "text": [
      "\r",
      "  6%|█████▏                                                                          | 77/1200 [00:45<11:13,  1.67it/s]"
     ]
    },
    {
     "name": "stdout",
     "output_type": "stream",
     "text": [
      "Calculating Centroids\n",
      "Sanity Check Failed due to width at the start\n",
      "7.03394341605\n"
     ]
    },
    {
     "name": "stderr",
     "output_type": "stream",
     "text": [
      "\r",
      "  6%|█████▏                                                                          | 78/1200 [00:45<11:07,  1.68it/s]"
     ]
    },
    {
     "name": "stdout",
     "output_type": "stream",
     "text": [
      "Calculating Centroids\n",
      "Sanity Check Failed due to width at the start\n",
      "6.15169044104\n",
      "Sanity Check Failed due to width at the end\n",
      "1.11978111686\n",
      "Sanity Check Failed due to curvature\n",
      "9.88712635554\n"
     ]
    },
    {
     "name": "stderr",
     "output_type": "stream",
     "text": [
      "\r",
      "  7%|█████▎                                                                          | 79/1200 [00:46<11:11,  1.67it/s]"
     ]
    },
    {
     "name": "stdout",
     "output_type": "stream",
     "text": [
      "Calculating Centroids\n",
      "Sanity Check Failed due to width at the start\n",
      "5.99071182779\n",
      "Sanity Check Failed due to width at the end\n",
      "0.378514438023\n",
      "Sanity Check Failed due to curvature\n",
      "-11.2204309327\n"
     ]
    },
    {
     "name": "stderr",
     "output_type": "stream",
     "text": [
      "\r",
      "  7%|█████▎                                                                          | 80/1200 [00:47<11:14,  1.66it/s]"
     ]
    },
    {
     "name": "stdout",
     "output_type": "stream",
     "text": [
      "Calculating Centroids\n",
      "Sanity Check Failed due to width at the start\n",
      "5.78344147458\n",
      "Sanity Check Failed due to width at the end\n",
      "-0.285125244363\n"
     ]
    },
    {
     "name": "stderr",
     "output_type": "stream",
     "text": [
      "\r",
      "  7%|█████▍                                                                          | 81/1200 [00:47<11:08,  1.67it/s]"
     ]
    },
    {
     "name": "stdout",
     "output_type": "stream",
     "text": [
      "Calculating Centroids\n",
      "Sanity Check Failed due to width at the start\n",
      "6.52286947461\n"
     ]
    },
    {
     "name": "stderr",
     "output_type": "stream",
     "text": [
      "\r",
      "  7%|█████▍                                                                          | 82/1200 [00:48<11:10,  1.67it/s]"
     ]
    },
    {
     "name": "stdout",
     "output_type": "stream",
     "text": [
      "Calculating Centroids\n",
      "Sanity Check Failed due to width at the start\n",
      "6.17036765166\n",
      "Sanity Check Failed due to width at the end\n",
      "-0.737005631126\n",
      "Sanity Check Failed due to curvature\n",
      "24.7862921951\n"
     ]
    },
    {
     "name": "stderr",
     "output_type": "stream",
     "text": [
      "\r",
      "  7%|█████▌                                                                          | 83/1200 [00:48<11:08,  1.67it/s]"
     ]
    },
    {
     "name": "stdout",
     "output_type": "stream",
     "text": [
      "Calculating Centroids\n",
      "Sanity Check Failed due to width at the start\n",
      "6.29044933186\n",
      "Sanity Check Failed due to curvature\n",
      "940.42980128\n"
     ]
    },
    {
     "name": "stderr",
     "output_type": "stream",
     "text": [
      "\r",
      "  7%|█████▌                                                                          | 84/1200 [00:49<11:09,  1.67it/s]"
     ]
    },
    {
     "name": "stdout",
     "output_type": "stream",
     "text": [
      "Calculating Centroids\n",
      "Sanity Check Failed due to width at the start\n",
      "6.40616237943\n"
     ]
    },
    {
     "name": "stderr",
     "output_type": "stream",
     "text": [
      "\r",
      "  7%|█████▋                                                                          | 85/1200 [00:50<11:12,  1.66it/s]"
     ]
    },
    {
     "name": "stdout",
     "output_type": "stream",
     "text": [
      "Calculating Centroids\n",
      "Sanity Check Failed due to width at the start\n",
      "7.7320972326\n",
      "Sanity Check Failed due to width at the end\n",
      "10.9213062437\n"
     ]
    },
    {
     "name": "stderr",
     "output_type": "stream",
     "text": [
      "\r",
      "  7%|█████▋                                                                          | 86/1200 [00:50<11:01,  1.68it/s]"
     ]
    },
    {
     "name": "stdout",
     "output_type": "stream",
     "text": [
      "Calculating Centroids\n",
      "Sanity Check Failed due to width at the start\n",
      "7.70785250436\n",
      "Sanity Check Failed due to width at the end\n",
      "11.4829785906\n"
     ]
    },
    {
     "name": "stderr",
     "output_type": "stream",
     "text": [
      "\r",
      "  7%|█████▊                                                                          | 87/1200 [00:51<11:07,  1.67it/s]"
     ]
    },
    {
     "name": "stdout",
     "output_type": "stream",
     "text": [
      "Calculating Centroids\n",
      "Sanity Check Failed due to width at the start\n",
      "6.20795354944\n"
     ]
    },
    {
     "name": "stderr",
     "output_type": "stream",
     "text": [
      "\r",
      "  7%|█████▊                                                                          | 88/1200 [00:51<11:05,  1.67it/s]"
     ]
    },
    {
     "name": "stdout",
     "output_type": "stream",
     "text": [
      "Calculating Centroids\n",
      "Sanity Check Failed due to width at the start\n",
      "6.09623916134\n"
     ]
    },
    {
     "name": "stderr",
     "output_type": "stream",
     "text": [
      "\r",
      "  7%|█████▉                                                                          | 89/1200 [00:52<11:04,  1.67it/s]"
     ]
    },
    {
     "name": "stdout",
     "output_type": "stream",
     "text": [
      "Calculating Centroids\n",
      "Sanity Check Failed due to width at the start\n",
      "6.12357633554\n"
     ]
    },
    {
     "name": "stderr",
     "output_type": "stream",
     "text": [
      "\r",
      "  8%|██████                                                                          | 90/1200 [00:53<11:13,  1.65it/s]"
     ]
    },
    {
     "name": "stdout",
     "output_type": "stream",
     "text": [
      "Calculating Centroids\n",
      "Sanity Check Failed due to width at the start\n",
      "5.60719952488\n",
      "Sanity Check Failed due to width at the end\n",
      "8.47963125902\n"
     ]
    },
    {
     "name": "stderr",
     "output_type": "stream",
     "text": [
      "\r",
      "  8%|██████                                                                          | 91/1200 [00:53<11:05,  1.67it/s]"
     ]
    },
    {
     "name": "stdout",
     "output_type": "stream",
     "text": [
      "Calculating Centroids\n",
      "Sanity Check Failed due to width at the start\n",
      "8.81185277123\n",
      "Sanity Check Failed due to width at the end\n",
      "9.81366905005\n"
     ]
    },
    {
     "name": "stderr",
     "output_type": "stream",
     "text": [
      "\r",
      "  8%|██████▏                                                                         | 92/1200 [00:54<11:05,  1.67it/s]"
     ]
    },
    {
     "name": "stdout",
     "output_type": "stream",
     "text": [
      "Calculating Centroids\n",
      "Sanity Check Failed due to width at the start\n",
      "10.0030311821\n",
      "Sanity Check Failed due to curvature\n",
      "8.51081462032\n"
     ]
    },
    {
     "name": "stderr",
     "output_type": "stream",
     "text": [
      "\r",
      "  8%|██████▏                                                                         | 93/1200 [00:54<11:04,  1.67it/s]"
     ]
    },
    {
     "name": "stdout",
     "output_type": "stream",
     "text": [
      "Calculating Centroids\n",
      "Sanity Check Failed due to width at the start\n",
      "9.84266877788\n"
     ]
    },
    {
     "name": "stderr",
     "output_type": "stream",
     "text": [
      "\r",
      "  8%|██████▎                                                                         | 94/1200 [00:55<11:03,  1.67it/s]"
     ]
    },
    {
     "name": "stdout",
     "output_type": "stream",
     "text": [
      "Calculating Centroids\n",
      "Sanity Check Failed due to width at the start\n",
      "10.3401018885\n",
      "Sanity Check Failed due to curvature\n",
      "-7.99771831825\n"
     ]
    },
    {
     "name": "stderr",
     "output_type": "stream",
     "text": [
      "\r",
      "  8%|██████▎                                                                         | 95/1200 [00:56<10:55,  1.69it/s]"
     ]
    },
    {
     "name": "stdout",
     "output_type": "stream",
     "text": [
      "Calculating Centroids\n",
      "Sanity Check Failed due to width at the start\n",
      "10.5537844257\n",
      "Sanity Check Failed due to curvature\n",
      "8.69495253505\n"
     ]
    },
    {
     "name": "stderr",
     "output_type": "stream",
     "text": [
      "\r",
      "  8%|██████▍                                                                         | 96/1200 [00:56<10:49,  1.70it/s]"
     ]
    },
    {
     "name": "stdout",
     "output_type": "stream",
     "text": [
      "Calculating Centroids\n",
      "Sanity Check Failed due to width at the start\n",
      "10.6403767677\n"
     ]
    },
    {
     "name": "stderr",
     "output_type": "stream",
     "text": [
      "\r",
      "  8%|██████▍                                                                         | 97/1200 [00:57<10:40,  1.72it/s]"
     ]
    },
    {
     "name": "stdout",
     "output_type": "stream",
     "text": [
      "Calculating Centroids\n",
      "Sanity Check Failed due to width at the start\n",
      "10.6507453171\n",
      "Sanity Check Failed due to width at the end\n",
      "10.7500201405\n",
      "Sanity Check Failed due to curvature\n",
      "6.57285266479\n"
     ]
    },
    {
     "name": "stderr",
     "output_type": "stream",
     "text": [
      "\r",
      "  8%|██████▌                                                                         | 98/1200 [00:57<10:38,  1.73it/s]"
     ]
    },
    {
     "name": "stdout",
     "output_type": "stream",
     "text": [
      "Calculating Centroids\n",
      "Sanity Check Failed due to width at the start\n",
      "6.86098269892\n",
      "Sanity Check Failed due to width at the end\n",
      "9.38660482552\n"
     ]
    },
    {
     "name": "stderr",
     "output_type": "stream",
     "text": [
      "\r",
      "  8%|██████▌                                                                         | 99/1200 [00:58<10:48,  1.70it/s]"
     ]
    },
    {
     "name": "stdout",
     "output_type": "stream",
     "text": [
      "Calculating Centroids\n",
      "Sanity Check Failed due to width at the start\n",
      "6.94536895863\n",
      "Sanity Check Failed due to width at the end\n",
      "9.61560715485\n"
     ]
    },
    {
     "name": "stderr",
     "output_type": "stream",
     "text": [
      "\r",
      "  8%|██████▌                                                                        | 100/1200 [00:59<10:45,  1.70it/s]"
     ]
    },
    {
     "name": "stdout",
     "output_type": "stream",
     "text": [
      "Calculating Centroids\n",
      "Sanity Check Failed due to width at the start\n",
      "7.11726310272\n",
      "Sanity Check Failed due to width at the end\n",
      "10.2814018732\n"
     ]
    },
    {
     "name": "stderr",
     "output_type": "stream",
     "text": [
      "\r",
      "  8%|██████▋                                                                        | 101/1200 [00:59<10:45,  1.70it/s]"
     ]
    },
    {
     "name": "stdout",
     "output_type": "stream",
     "text": [
      "Calculating Centroids\n",
      "Sanity Check Failed due to width at the start\n",
      "6.57102423878\n",
      "Sanity Check Failed due to width at the end\n",
      "8.59464312081\n"
     ]
    },
    {
     "name": "stderr",
     "output_type": "stream",
     "text": [
      "\r",
      "  8%|██████▋                                                                        | 102/1200 [01:00<10:44,  1.70it/s]"
     ]
    },
    {
     "name": "stdout",
     "output_type": "stream",
     "text": [
      "Calculating Centroids\n",
      "Sanity Check Failed due to width at the start\n",
      "6.95763651745\n",
      "Sanity Check Failed due to width at the end\n",
      "8.45087675994\n"
     ]
    },
    {
     "name": "stderr",
     "output_type": "stream",
     "text": [
      "\r",
      "  9%|██████▊                                                                        | 103/1200 [01:00<10:47,  1.70it/s]"
     ]
    },
    {
     "name": "stdout",
     "output_type": "stream",
     "text": [
      "Calculating Centroids\n",
      "Sanity Check Failed due to width at the start\n",
      "6.60486750353\n",
      "Sanity Check Failed due to width at the end\n",
      "8.57753525277\n"
     ]
    },
    {
     "name": "stderr",
     "output_type": "stream",
     "text": [
      "\r",
      "  9%|██████▊                                                                        | 104/1200 [01:01<10:43,  1.70it/s]"
     ]
    },
    {
     "name": "stdout",
     "output_type": "stream",
     "text": [
      "Calculating Centroids\n",
      "Sanity Check Failed due to width at the start\n",
      "6.62740760135\n",
      "Sanity Check Failed due to width at the end\n",
      "8.9772381162\n"
     ]
    },
    {
     "name": "stderr",
     "output_type": "stream",
     "text": [
      "\r",
      "  9%|██████▉                                                                        | 105/1200 [01:01<10:45,  1.70it/s]"
     ]
    },
    {
     "name": "stdout",
     "output_type": "stream",
     "text": [
      "Calculating Centroids\n",
      "Sanity Check Failed due to width at the start\n",
      "6.56219135186\n",
      "Sanity Check Failed due to width at the end\n",
      "9.23970255833\n"
     ]
    },
    {
     "name": "stderr",
     "output_type": "stream",
     "text": [
      "\r",
      "  9%|██████▉                                                                        | 106/1200 [01:02<10:51,  1.68it/s]"
     ]
    },
    {
     "name": "stdout",
     "output_type": "stream",
     "text": [
      "Calculating Centroids\n",
      "Sanity Check Failed due to width at the start\n",
      "6.41859934596\n",
      "Sanity Check Failed due to width at the end\n",
      "9.40344876733\n"
     ]
    },
    {
     "name": "stderr",
     "output_type": "stream",
     "text": [
      "\r",
      "  9%|███████                                                                        | 107/1200 [01:03<11:01,  1.65it/s]"
     ]
    },
    {
     "name": "stdout",
     "output_type": "stream",
     "text": [
      "Calculating Centroids\n",
      "Sanity Check Failed due to width at the start\n",
      "6.15504134775\n",
      "Sanity Check Failed due to width at the end\n",
      "9.10872131189\n"
     ]
    },
    {
     "name": "stderr",
     "output_type": "stream",
     "text": [
      "\r",
      "  9%|███████                                                                        | 108/1200 [01:03<10:56,  1.66it/s]"
     ]
    },
    {
     "name": "stdout",
     "output_type": "stream",
     "text": [
      "Calculating Centroids\n",
      "Sanity Check Failed due to width at the start\n",
      "5.83473909722\n",
      "Sanity Check Failed due to width at the end\n",
      "9.22287812822\n"
     ]
    },
    {
     "name": "stderr",
     "output_type": "stream",
     "text": [
      "\r",
      "  9%|███████▏                                                                       | 109/1200 [01:04<10:53,  1.67it/s]"
     ]
    },
    {
     "name": "stdout",
     "output_type": "stream",
     "text": [
      "Calculating Centroids\n",
      "Sanity Check Failed due to width at the start\n",
      "5.800952839\n",
      "Sanity Check Failed due to width at the end\n",
      "9.14126613492\n"
     ]
    },
    {
     "name": "stderr",
     "output_type": "stream",
     "text": [
      "\r",
      "  9%|███████▏                                                                       | 110/1200 [01:04<10:56,  1.66it/s]"
     ]
    },
    {
     "name": "stdout",
     "output_type": "stream",
     "text": [
      "Calculating Centroids\n",
      "Sanity Check Failed due to width at the start\n",
      "5.80190348312\n",
      "Sanity Check Failed due to width at the end\n",
      "9.3122924503\n"
     ]
    },
    {
     "name": "stderr",
     "output_type": "stream",
     "text": [
      "\r",
      "  9%|███████▎                                                                       | 111/1200 [01:05<10:54,  1.66it/s]"
     ]
    },
    {
     "name": "stdout",
     "output_type": "stream",
     "text": [
      "Calculating Centroids\n",
      "Sanity Check Failed due to width at the start\n",
      "5.62636885361\n",
      "Sanity Check Failed due to width at the end\n",
      "9.17566758295\n"
     ]
    },
    {
     "name": "stderr",
     "output_type": "stream",
     "text": [
      "\r",
      "  9%|███████▎                                                                       | 112/1200 [01:06<11:02,  1.64it/s]"
     ]
    },
    {
     "name": "stdout",
     "output_type": "stream",
     "text": [
      "Calculating Centroids\n",
      "Sanity Check Failed due to width at the start\n",
      "4.94975791105\n",
      "Sanity Check Failed due to width at the end\n",
      "8.69024893849\n"
     ]
    },
    {
     "name": "stderr",
     "output_type": "stream",
     "text": [
      "\r",
      "  9%|███████▍                                                                       | 113/1200 [01:06<10:53,  1.66it/s]"
     ]
    },
    {
     "name": "stdout",
     "output_type": "stream",
     "text": [
      "Calculating Centroids\n",
      "Sanity Check Failed due to width at the end\n",
      "7.3938767015\n"
     ]
    },
    {
     "name": "stderr",
     "output_type": "stream",
     "text": [
      "\r",
      " 10%|███████▌                                                                       | 114/1200 [01:07<10:48,  1.68it/s]"
     ]
    },
    {
     "name": "stdout",
     "output_type": "stream",
     "text": [
      "Calculating Centroids\n",
      "Sanity Check Failed due to width at the start\n",
      "5.32263937021\n",
      "Sanity Check Failed due to width at the end\n",
      "6.17424074292\n"
     ]
    },
    {
     "name": "stderr",
     "output_type": "stream",
     "text": [
      "\r",
      " 10%|███████▌                                                                       | 115/1200 [01:07<10:55,  1.66it/s]"
     ]
    },
    {
     "name": "stdout",
     "output_type": "stream",
     "text": [
      "Calculating Centroids\n",
      "Sanity Check Failed due to width at the start\n",
      "5.34351024795\n",
      "Sanity Check Failed due to width at the end\n",
      "5.69487850222\n"
     ]
    },
    {
     "name": "stderr",
     "output_type": "stream",
     "text": [
      "\r",
      " 10%|███████▋                                                                       | 116/1200 [01:08<10:46,  1.68it/s]"
     ]
    },
    {
     "name": "stdout",
     "output_type": "stream",
     "text": [
      "Calculating Centroids\n",
      "Sanity Check Failed due to width at the start\n",
      "5.31394927225\n",
      "Sanity Check Failed due to width at the end\n",
      "5.35622466035\n"
     ]
    },
    {
     "name": "stderr",
     "output_type": "stream",
     "text": [
      "\r",
      " 10%|███████▋                                                                       | 117/1200 [01:09<10:46,  1.67it/s]"
     ]
    },
    {
     "name": "stdout",
     "output_type": "stream",
     "text": [
      "Calculating Centroids\n",
      "Sanity Check Failed due to width at the start\n",
      "5.51632707127\n",
      "Sanity Check Failed due to width at the end\n",
      "7.14540619657\n"
     ]
    },
    {
     "name": "stderr",
     "output_type": "stream",
     "text": [
      "\r",
      " 10%|███████▊                                                                       | 118/1200 [01:09<10:41,  1.69it/s]"
     ]
    },
    {
     "name": "stdout",
     "output_type": "stream",
     "text": [
      "Calculating Centroids\n",
      "Sanity Check Failed due to width at the start\n",
      "5.52843514097\n",
      "Sanity Check Failed due to width at the end\n",
      "7.28795549841\n"
     ]
    },
    {
     "name": "stderr",
     "output_type": "stream",
     "text": [
      "\r",
      " 10%|███████▊                                                                       | 119/1200 [01:10<10:44,  1.68it/s]"
     ]
    },
    {
     "name": "stdout",
     "output_type": "stream",
     "text": [
      "Calculating Centroids\n",
      "Sanity Check Failed due to width at the end\n",
      "4.48839686645\n"
     ]
    },
    {
     "name": "stderr",
     "output_type": "stream",
     "text": [
      "\r",
      " 10%|███████▉                                                                       | 120/1200 [01:10<10:46,  1.67it/s]"
     ]
    },
    {
     "name": "stdout",
     "output_type": "stream",
     "text": [
      "Calculating Centroids\n",
      "Sanity Check Failed due to width at the end\n",
      "4.2927048101\n"
     ]
    },
    {
     "name": "stderr",
     "output_type": "stream",
     "text": [
      "\r",
      " 10%|███████▉                                                                       | 121/1200 [01:11<10:45,  1.67it/s]"
     ]
    },
    {
     "name": "stdout",
     "output_type": "stream",
     "text": [
      "Calculating Centroids\n",
      "Sanity Check Failed due to width at the end\n",
      "4.34682907375\n"
     ]
    },
    {
     "name": "stderr",
     "output_type": "stream",
     "text": [
      "\r",
      " 10%|████████                                                                       | 122/1200 [01:12<10:49,  1.66it/s]"
     ]
    },
    {
     "name": "stdout",
     "output_type": "stream",
     "text": [
      "Calculating Centroids\n",
      "Sanity Check Failed due to width at the end\n",
      "4.85568440266\n"
     ]
    },
    {
     "name": "stderr",
     "output_type": "stream",
     "text": [
      "\r",
      " 10%|████████                                                                       | 123/1200 [01:12<10:41,  1.68it/s]"
     ]
    },
    {
     "name": "stdout",
     "output_type": "stream",
     "text": [
      "Calculating Centroids\n",
      "Sanity Check Failed due to width at the end\n",
      "4.79395883214\n"
     ]
    },
    {
     "name": "stderr",
     "output_type": "stream",
     "text": [
      "\r",
      " 10%|████████▏                                                                      | 124/1200 [01:13<10:39,  1.68it/s]"
     ]
    },
    {
     "name": "stdout",
     "output_type": "stream",
     "text": [
      "Calculating Centroids\n",
      "Sanity Check Failed due to width at the end\n",
      "5.15637383396\n"
     ]
    },
    {
     "name": "stderr",
     "output_type": "stream",
     "text": [
      "\r",
      " 10%|████████▏                                                                      | 125/1200 [01:13<10:38,  1.68it/s]"
     ]
    },
    {
     "name": "stdout",
     "output_type": "stream",
     "text": [
      "Calculating Centroids\n",
      "Sanity Check Failed due to width at the end\n",
      "5.07132010114\n"
     ]
    },
    {
     "name": "stderr",
     "output_type": "stream",
     "text": [
      "\r",
      " 10%|████████▎                                                                      | 126/1200 [01:14<10:37,  1.68it/s]"
     ]
    },
    {
     "name": "stdout",
     "output_type": "stream",
     "text": [
      "Calculating Centroids\n",
      "Sanity Check Failed due to width at the end\n",
      "4.43882216728\n"
     ]
    },
    {
     "name": "stderr",
     "output_type": "stream",
     "text": [
      "\r",
      " 11%|████████▎                                                                      | 127/1200 [01:15<10:39,  1.68it/s]"
     ]
    },
    {
     "name": "stdout",
     "output_type": "stream",
     "text": [
      "Calculating Centroids\n",
      "Sanity Check Failed due to width at the end\n",
      "4.79111125001\n"
     ]
    },
    {
     "name": "stderr",
     "output_type": "stream",
     "text": [
      "\r",
      " 11%|████████▍                                                                      | 128/1200 [01:15<10:36,  1.69it/s]"
     ]
    },
    {
     "name": "stdout",
     "output_type": "stream",
     "text": [
      "Calculating Centroids\n",
      "Sanity Check Failed due to width at the end\n",
      "4.44494970348\n"
     ]
    },
    {
     "name": "stderr",
     "output_type": "stream",
     "text": [
      "\r",
      " 11%|████████▍                                                                      | 129/1200 [01:16<10:29,  1.70it/s]"
     ]
    },
    {
     "name": "stdout",
     "output_type": "stream",
     "text": [
      "Calculating Centroids\n",
      "Sanity Check Failed due to curvature\n",
      "-0.101548188974\n"
     ]
    },
    {
     "name": "stderr",
     "output_type": "stream",
     "text": [
      "\r",
      " 11%|████████▌                                                                      | 130/1200 [01:16<10:20,  1.72it/s]"
     ]
    },
    {
     "name": "stdout",
     "output_type": "stream",
     "text": [
      "Calculating Centroids\n",
      "Sanity Check Failed due to curvature\n",
      "-0.00346071546407\n"
     ]
    },
    {
     "name": "stderr",
     "output_type": "stream",
     "text": [
      "\r",
      " 11%|████████▌                                                                      | 131/1200 [01:17<10:37,  1.68it/s]"
     ]
    },
    {
     "name": "stdout",
     "output_type": "stream",
     "text": [
      "Calculating Centroids\n"
     ]
    },
    {
     "name": "stderr",
     "output_type": "stream",
     "text": [
      "\r",
      " 11%|████████▋                                                                      | 132/1200 [01:18<10:21,  1.72it/s]"
     ]
    },
    {
     "name": "stdout",
     "output_type": "stream",
     "text": [
      "Sanity Check Failed due to width at the start\n",
      "4.47925212029\n"
     ]
    },
    {
     "name": "stderr",
     "output_type": "stream",
     "text": [
      "\r",
      " 11%|████████▊                                                                      | 133/1200 [01:18<10:08,  1.75it/s]"
     ]
    },
    {
     "name": "stdout",
     "output_type": "stream",
     "text": [
      "Sanity Check Failed due to width at the start\n",
      "4.46657886041\n"
     ]
    },
    {
     "name": "stderr",
     "output_type": "stream",
     "text": [
      "\r",
      " 11%|████████▊                                                                      | 134/1200 [01:19<10:01,  1.77it/s]"
     ]
    },
    {
     "name": "stdout",
     "output_type": "stream",
     "text": [
      "Sanity Check Failed due to width at the start\n",
      "4.40497573194\n",
      "Sanity Check Failed due to curvature\n",
      "0.131063316088\n"
     ]
    },
    {
     "name": "stderr",
     "output_type": "stream",
     "text": [
      "\r",
      " 11%|████████▉                                                                      | 135/1200 [01:19<09:59,  1.78it/s]"
     ]
    },
    {
     "name": "stdout",
     "output_type": "stream",
     "text": [
      "Sanity Check Failed due to width at the start\n",
      "4.41593921574\n",
      "Sanity Check Failed due to curvature\n",
      "-0.0602668303468\n"
     ]
    },
    {
     "name": "stderr",
     "output_type": "stream",
     "text": [
      "\r",
      " 11%|████████▉                                                                      | 136/1200 [01:20<09:48,  1.81it/s]"
     ]
    },
    {
     "name": "stdout",
     "output_type": "stream",
     "text": [
      "Sanity Check Failed due to width at the start\n",
      "4.41182672188\n",
      "Sanity Check Failed due to width at the end\n",
      "1.7323813991\n",
      "Sanity Check Failed due to curvature\n",
      "-0.151595118223\n"
     ]
    },
    {
     "name": "stderr",
     "output_type": "stream",
     "text": [
      "\r",
      " 11%|█████████                                                                      | 137/1200 [01:20<09:42,  1.83it/s]"
     ]
    },
    {
     "name": "stdout",
     "output_type": "stream",
     "text": [
      "Sanity Check Failed due to width at the start\n",
      "4.48753501891\n",
      "Sanity Check Failed due to curvature\n",
      "-0.028272663023\n"
     ]
    },
    {
     "name": "stderr",
     "output_type": "stream",
     "text": [
      "\r",
      " 12%|█████████                                                                      | 138/1200 [01:21<09:46,  1.81it/s]"
     ]
    },
    {
     "name": "stdout",
     "output_type": "stream",
     "text": [
      "Sanity Check Failed due to width at the start\n",
      "4.55407398301\n",
      "Sanity Check Failed due to curvature\n",
      "0.0975381727331\n"
     ]
    },
    {
     "name": "stderr",
     "output_type": "stream",
     "text": [
      "\r",
      " 12%|█████████▏                                                                     | 139/1200 [01:21<09:33,  1.85it/s]"
     ]
    },
    {
     "name": "stdout",
     "output_type": "stream",
     "text": [
      "Sanity Check Failed due to width at the start\n",
      "4.60300146818\n"
     ]
    },
    {
     "name": "stderr",
     "output_type": "stream",
     "text": [
      "\r",
      " 12%|█████████▏                                                                     | 140/1200 [01:22<09:30,  1.86it/s]"
     ]
    },
    {
     "name": "stdout",
     "output_type": "stream",
     "text": [
      "Sanity Check Failed due to width at the start\n",
      "4.64562069839\n"
     ]
    },
    {
     "name": "stderr",
     "output_type": "stream",
     "text": [
      "\r",
      " 12%|█████████▎                                                                     | 141/1200 [01:22<09:22,  1.88it/s]"
     ]
    },
    {
     "name": "stdout",
     "output_type": "stream",
     "text": [
      "Sanity Check Failed due to width at the start\n",
      "4.66090801095\n"
     ]
    },
    {
     "name": "stderr",
     "output_type": "stream",
     "text": [
      "\r",
      " 12%|█████████▎                                                                     | 142/1200 [01:23<09:22,  1.88it/s]"
     ]
    },
    {
     "name": "stdout",
     "output_type": "stream",
     "text": [
      "Calculating Centroids\n",
      "Sanity Check Failed due to width at the start\n",
      "5.1866092461\n",
      "Sanity Check Failed due to width at the end\n",
      "7.58972255732\n"
     ]
    },
    {
     "name": "stderr",
     "output_type": "stream",
     "text": [
      "\r",
      " 12%|█████████▍                                                                     | 143/1200 [01:23<09:34,  1.84it/s]"
     ]
    },
    {
     "name": "stdout",
     "output_type": "stream",
     "text": [
      "Calculating Centroids\n",
      "Sanity Check Failed due to width at the start\n",
      "5.237225012\n",
      "Sanity Check Failed due to width at the end\n",
      "5.66171903069\n"
     ]
    },
    {
     "name": "stderr",
     "output_type": "stream",
     "text": [
      "\r",
      " 12%|█████████▍                                                                     | 144/1200 [01:24<09:53,  1.78it/s]"
     ]
    },
    {
     "name": "stdout",
     "output_type": "stream",
     "text": [
      "Calculating Centroids\n",
      "Sanity Check Failed due to width at the start\n",
      "5.01454613635\n"
     ]
    },
    {
     "name": "stderr",
     "output_type": "stream",
     "text": [
      "\r",
      " 12%|█████████▌                                                                     | 145/1200 [01:25<09:56,  1.77it/s]"
     ]
    },
    {
     "name": "stdout",
     "output_type": "stream",
     "text": [
      "Calculating Centroids\n",
      "Sanity Check Failed due to width at the start\n",
      "5.01412322779\n"
     ]
    },
    {
     "name": "stderr",
     "output_type": "stream",
     "text": [
      "\r",
      " 12%|█████████▌                                                                     | 146/1200 [01:25<10:03,  1.75it/s]"
     ]
    },
    {
     "name": "stdout",
     "output_type": "stream",
     "text": [
      "Calculating Centroids\n",
      "Sanity Check Failed due to width at the start\n",
      "4.85024880618\n",
      "Sanity Check Failed due to width at the end\n",
      "0.63462643887\n"
     ]
    },
    {
     "name": "stderr",
     "output_type": "stream",
     "text": [
      "\r",
      " 12%|█████████▋                                                                     | 147/1200 [01:26<10:08,  1.73it/s]"
     ]
    },
    {
     "name": "stdout",
     "output_type": "stream",
     "text": [
      "Calculating Centroids\n",
      "Sanity Check Failed due to width at the start\n",
      "5.00573371272\n",
      "Sanity Check Failed due to width at the end\n",
      "1.37611393764\n",
      "Sanity Check Failed due to curvature\n",
      "-0.0659602464301\n"
     ]
    },
    {
     "name": "stderr",
     "output_type": "stream",
     "text": [
      "\r",
      " 12%|█████████▋                                                                     | 148/1200 [01:26<10:12,  1.72it/s]"
     ]
    },
    {
     "name": "stdout",
     "output_type": "stream",
     "text": [
      "Calculating Centroids\n",
      "Sanity Check Failed due to width at the start\n",
      "5.09707309464\n",
      "Sanity Check Failed due to width at the end\n",
      "-0.133155188674\n"
     ]
    },
    {
     "name": "stderr",
     "output_type": "stream",
     "text": [
      "\r",
      " 12%|█████████▊                                                                     | 149/1200 [01:27<10:15,  1.71it/s]"
     ]
    },
    {
     "name": "stdout",
     "output_type": "stream",
     "text": [
      "Calculating Centroids\n",
      "Sanity Check Failed due to width at the start\n",
      "5.23599914485\n",
      "Sanity Check Failed due to width at the end\n",
      "0.700671229696\n",
      "Sanity Check Failed due to curvature\n",
      "-0.11184768074\n"
     ]
    },
    {
     "name": "stderr",
     "output_type": "stream",
     "text": [
      "\r",
      " 12%|█████████▉                                                                     | 150/1200 [01:28<10:10,  1.72it/s]"
     ]
    },
    {
     "name": "stdout",
     "output_type": "stream",
     "text": [
      "Calculating Centroids\n",
      "Sanity Check Failed due to width at the start\n",
      "5.28932875901\n",
      "Sanity Check Failed due to width at the end\n",
      "1.52179789735\n",
      "Sanity Check Failed due to curvature\n",
      "0.0390862343016\n"
     ]
    },
    {
     "name": "stderr",
     "output_type": "stream",
     "text": [
      "\r",
      " 13%|█████████▉                                                                     | 151/1200 [01:28<10:02,  1.74it/s]"
     ]
    },
    {
     "name": "stdout",
     "output_type": "stream",
     "text": [
      "Calculating Centroids\n",
      "Sanity Check Failed due to width at the start\n",
      "5.33381315483\n"
     ]
    },
    {
     "name": "stderr",
     "output_type": "stream",
     "text": [
      "\r",
      " 13%|██████████                                                                     | 152/1200 [01:29<09:59,  1.75it/s]"
     ]
    },
    {
     "name": "stdout",
     "output_type": "stream",
     "text": [
      "Calculating Centroids\n",
      "Sanity Check Failed due to width at the start\n",
      "4.85602474755\n",
      "Sanity Check Failed due to width at the end\n",
      "-2.44029173585\n"
     ]
    },
    {
     "name": "stderr",
     "output_type": "stream",
     "text": [
      "\r",
      " 13%|██████████                                                                     | 153/1200 [01:29<09:54,  1.76it/s]"
     ]
    },
    {
     "name": "stdout",
     "output_type": "stream",
     "text": [
      "Calculating Centroids\n",
      "Sanity Check Failed due to width at the start\n",
      "5.14538183594\n"
     ]
    },
    {
     "name": "stderr",
     "output_type": "stream",
     "text": [
      "\r",
      " 13%|██████████▏                                                                    | 154/1200 [01:30<10:02,  1.74it/s]"
     ]
    },
    {
     "name": "stdout",
     "output_type": "stream",
     "text": [
      "Calculating Centroids\n",
      "Sanity Check Failed due to width at the start\n",
      "5.14088515741\n"
     ]
    },
    {
     "name": "stderr",
     "output_type": "stream",
     "text": [
      "\r",
      " 13%|██████████▏                                                                    | 155/1200 [01:30<10:01,  1.74it/s]"
     ]
    },
    {
     "name": "stdout",
     "output_type": "stream",
     "text": [
      "Calculating Centroids\n",
      "Sanity Check Failed due to width at the start\n",
      "4.74255266332\n",
      "Sanity Check Failed due to width at the end\n",
      "-1.72963234082\n"
     ]
    },
    {
     "name": "stderr",
     "output_type": "stream",
     "text": [
      "\r",
      " 13%|██████████▎                                                                    | 156/1200 [01:31<10:01,  1.74it/s]"
     ]
    },
    {
     "name": "stdout",
     "output_type": "stream",
     "text": [
      "Calculating Centroids\n",
      "Sanity Check Failed due to width at the start\n",
      "4.83563547326\n",
      "Sanity Check Failed due to width at the end\n",
      "0.339815220111\n"
     ]
    },
    {
     "name": "stderr",
     "output_type": "stream",
     "text": [
      "\r",
      " 13%|██████████▎                                                                    | 157/1200 [01:32<10:08,  1.71it/s]"
     ]
    },
    {
     "name": "stdout",
     "output_type": "stream",
     "text": [
      "Calculating Centroids\n",
      "Sanity Check Failed due to width at the start\n",
      "4.83797664434\n",
      "Sanity Check Failed due to width at the end\n",
      "0.741054485695\n"
     ]
    },
    {
     "name": "stderr",
     "output_type": "stream",
     "text": [
      "\r",
      " 13%|██████████▍                                                                    | 158/1200 [01:32<10:11,  1.70it/s]"
     ]
    },
    {
     "name": "stdout",
     "output_type": "stream",
     "text": [
      "Calculating Centroids\n",
      "Sanity Check Failed due to width at the start\n",
      "4.71761944261\n",
      "Sanity Check Failed due to width at the end\n",
      "-9.73147280764\n"
     ]
    },
    {
     "name": "stderr",
     "output_type": "stream",
     "text": [
      "\r",
      " 13%|██████████▍                                                                    | 159/1200 [01:33<10:10,  1.71it/s]"
     ]
    },
    {
     "name": "stdout",
     "output_type": "stream",
     "text": [
      "Calculating Centroids\n",
      "Sanity Check Failed due to width at the start\n",
      "4.67904358852\n",
      "Sanity Check Failed due to width at the end\n",
      "-9.87344503388\n"
     ]
    },
    {
     "name": "stderr",
     "output_type": "stream",
     "text": [
      "\r",
      " 13%|██████████▌                                                                    | 160/1200 [01:33<09:56,  1.74it/s]"
     ]
    },
    {
     "name": "stdout",
     "output_type": "stream",
     "text": [
      "Calculating Centroids\n",
      "Sanity Check Failed due to width at the start\n",
      "4.71528968577\n",
      "Sanity Check Failed due to width at the end\n",
      "-1.19357077284\n"
     ]
    },
    {
     "name": "stderr",
     "output_type": "stream",
     "text": [
      "\r",
      " 13%|██████████▌                                                                    | 161/1200 [01:34<09:59,  1.73it/s]"
     ]
    },
    {
     "name": "stdout",
     "output_type": "stream",
     "text": [
      "Calculating Centroids\n",
      "Sanity Check Failed due to width at the start\n",
      "4.69171913335\n",
      "Sanity Check Failed due to width at the end\n",
      "-1.41857198257\n"
     ]
    },
    {
     "name": "stderr",
     "output_type": "stream",
     "text": [
      "\r",
      " 14%|██████████▋                                                                    | 162/1200 [01:34<09:51,  1.76it/s]"
     ]
    },
    {
     "name": "stdout",
     "output_type": "stream",
     "text": [
      "Calculating Centroids\n",
      "Sanity Check Failed due to width at the start\n",
      "4.73618399469\n",
      "Sanity Check Failed due to width at the end\n",
      "-0.904658679861\n"
     ]
    },
    {
     "name": "stderr",
     "output_type": "stream",
     "text": [
      "\r",
      " 14%|██████████▋                                                                    | 163/1200 [01:35<09:54,  1.75it/s]"
     ]
    },
    {
     "name": "stdout",
     "output_type": "stream",
     "text": [
      "Calculating Centroids\n",
      "Sanity Check Failed due to width at the start\n",
      "4.90358969502\n",
      "Sanity Check Failed due to width at the end\n",
      "0.154492640983\n"
     ]
    },
    {
     "name": "stderr",
     "output_type": "stream",
     "text": [
      "\r",
      " 14%|██████████▊                                                                    | 164/1200 [01:36<10:04,  1.71it/s]"
     ]
    },
    {
     "name": "stdout",
     "output_type": "stream",
     "text": [
      "Calculating Centroids\n",
      "Sanity Check Failed due to width at the start\n",
      "4.847677143\n",
      "Sanity Check Failed due to width at the end\n",
      "1.14713262073\n",
      "Sanity Check Failed due to curvature\n",
      "-0.0513676667301\n"
     ]
    },
    {
     "name": "stderr",
     "output_type": "stream",
     "text": [
      "\r",
      " 14%|██████████▊                                                                    | 165/1200 [01:36<10:01,  1.72it/s]"
     ]
    },
    {
     "name": "stdout",
     "output_type": "stream",
     "text": [
      "Calculating Centroids\n",
      "Sanity Check Failed due to width at the start\n",
      "6.03984519481\n",
      "Sanity Check Failed due to width at the end\n",
      "0.25523465643\n",
      "Sanity Check Failed due to curvature\n",
      "0.0779937123474\n"
     ]
    },
    {
     "name": "stderr",
     "output_type": "stream",
     "text": [
      "\r",
      " 14%|██████████▉                                                                    | 166/1200 [01:37<10:01,  1.72it/s]"
     ]
    },
    {
     "name": "stdout",
     "output_type": "stream",
     "text": [
      "Calculating Centroids\n",
      "Sanity Check Failed due to width at the start\n",
      "6.82001515506\n",
      "Sanity Check Failed due to width at the end\n",
      "11.7310160295\n"
     ]
    },
    {
     "name": "stderr",
     "output_type": "stream",
     "text": [
      "\r",
      " 14%|██████████▉                                                                    | 167/1200 [01:37<10:03,  1.71it/s]"
     ]
    },
    {
     "name": "stdout",
     "output_type": "stream",
     "text": [
      "Calculating Centroids\n",
      "Sanity Check Failed due to width at the start\n",
      "8.17094348021\n",
      "Sanity Check Failed due to width at the end\n",
      "10.2341320843\n"
     ]
    },
    {
     "name": "stderr",
     "output_type": "stream",
     "text": [
      "\r",
      " 14%|███████████                                                                    | 168/1200 [01:38<10:03,  1.71it/s]"
     ]
    },
    {
     "name": "stdout",
     "output_type": "stream",
     "text": [
      "Calculating Centroids\n",
      "Sanity Check Failed due to width at the start\n",
      "5.07172669758\n",
      "Sanity Check Failed due to width at the end\n",
      "7.48272810843\n"
     ]
    },
    {
     "name": "stderr",
     "output_type": "stream",
     "text": [
      "\r",
      " 14%|███████████▏                                                                   | 169/1200 [01:39<09:51,  1.74it/s]"
     ]
    },
    {
     "name": "stdout",
     "output_type": "stream",
     "text": [
      "Calculating Centroids\n",
      "Sanity Check Failed due to width at the start\n",
      "5.00637995099\n",
      "Sanity Check Failed due to width at the end\n",
      "9.61961379908\n"
     ]
    },
    {
     "name": "stderr",
     "output_type": "stream",
     "text": [
      "\r",
      " 14%|███████████▏                                                                   | 170/1200 [01:39<09:46,  1.76it/s]"
     ]
    },
    {
     "name": "stdout",
     "output_type": "stream",
     "text": [
      "Calculating Centroids\n",
      "Sanity Check Failed due to width at the start\n",
      "4.9510685866\n",
      "Sanity Check Failed due to width at the end\n",
      "11.8599596762\n"
     ]
    },
    {
     "name": "stderr",
     "output_type": "stream",
     "text": [
      "\r",
      " 14%|███████████▎                                                                   | 171/1200 [01:40<09:44,  1.76it/s]"
     ]
    },
    {
     "name": "stdout",
     "output_type": "stream",
     "text": [
      "Calculating Centroids\n",
      "Sanity Check Failed due to width at the start\n",
      "4.94433721661\n",
      "Sanity Check Failed due to width at the end\n",
      "12.5204337137\n"
     ]
    },
    {
     "name": "stderr",
     "output_type": "stream",
     "text": [
      "\r",
      " 14%|███████████▎                                                                   | 172/1200 [01:40<09:41,  1.77it/s]"
     ]
    },
    {
     "name": "stdout",
     "output_type": "stream",
     "text": [
      "Calculating Centroids\n",
      "Sanity Check Failed due to width at the start\n",
      "4.66292297996\n",
      "Sanity Check Failed due to width at the end\n",
      "-8.01657490079\n"
     ]
    },
    {
     "name": "stderr",
     "output_type": "stream",
     "text": [
      "\r",
      " 14%|███████████▍                                                                   | 173/1200 [01:41<09:43,  1.76it/s]"
     ]
    },
    {
     "name": "stdout",
     "output_type": "stream",
     "text": [
      "Calculating Centroids\n",
      "Sanity Check Failed due to width at the end\n",
      "-27.5395093988\n",
      "Sanity Check Failed due to curvature\n",
      "-6.85941469785\n"
     ]
    },
    {
     "name": "stderr",
     "output_type": "stream",
     "text": [
      "\r",
      " 14%|███████████▍                                                                   | 174/1200 [01:41<09:46,  1.75it/s]"
     ]
    },
    {
     "name": "stdout",
     "output_type": "stream",
     "text": [
      "Calculating Centroids\n",
      "Sanity Check Failed due to width at the end\n",
      "-35.257960515\n"
     ]
    },
    {
     "name": "stderr",
     "output_type": "stream",
     "text": [
      "\r",
      " 15%|███████████▌                                                                   | 175/1200 [01:42<09:36,  1.78it/s]"
     ]
    },
    {
     "name": "stdout",
     "output_type": "stream",
     "text": [
      "Calculating Centroids\n",
      "Sanity Check Failed due to width at the end\n",
      "-37.1375571746\n"
     ]
    },
    {
     "name": "stderr",
     "output_type": "stream",
     "text": [
      "\r",
      " 15%|███████████▌                                                                   | 176/1200 [01:43<09:36,  1.78it/s]"
     ]
    },
    {
     "name": "stdout",
     "output_type": "stream",
     "text": [
      "Calculating Centroids\n",
      "Sanity Check Failed due to width at the end\n",
      "-37.3458367366\n"
     ]
    },
    {
     "name": "stderr",
     "output_type": "stream",
     "text": [
      "\r",
      " 15%|███████████▋                                                                   | 177/1200 [01:43<09:36,  1.78it/s]"
     ]
    },
    {
     "name": "stdout",
     "output_type": "stream",
     "text": [
      "Calculating Centroids\n",
      "Sanity Check Failed due to width at the start\n",
      "4.83311040748\n",
      "Sanity Check Failed due to width at the end\n",
      "-28.4287394061\n"
     ]
    },
    {
     "name": "stderr",
     "output_type": "stream",
     "text": [
      "\r",
      " 15%|███████████▋                                                                   | 178/1200 [01:44<09:41,  1.76it/s]"
     ]
    },
    {
     "name": "stdout",
     "output_type": "stream",
     "text": [
      "Calculating Centroids\n",
      "Sanity Check Failed due to width at the start\n",
      "4.85495988594\n",
      "Sanity Check Failed due to width at the end\n",
      "-21.2575776586\n"
     ]
    },
    {
     "name": "stderr",
     "output_type": "stream",
     "text": [
      "\r",
      " 15%|███████████▊                                                                   | 179/1200 [01:44<09:47,  1.74it/s]"
     ]
    },
    {
     "name": "stdout",
     "output_type": "stream",
     "text": [
      "Calculating Centroids\n",
      "Sanity Check Failed due to width at the start\n",
      "5.48053515546\n",
      "Sanity Check Failed due to width at the end\n",
      "-10.0921301151\n"
     ]
    },
    {
     "name": "stderr",
     "output_type": "stream",
     "text": [
      "\r",
      " 15%|███████████▊                                                                   | 180/1200 [01:45<09:58,  1.71it/s]"
     ]
    },
    {
     "name": "stdout",
     "output_type": "stream",
     "text": [
      "Calculating Centroids\n",
      "Sanity Check Failed due to width at the start\n",
      "5.36222471135\n",
      "Sanity Check Failed due to width at the end\n",
      "-10.4968856236\n"
     ]
    },
    {
     "name": "stderr",
     "output_type": "stream",
     "text": [
      "\r",
      " 15%|███████████▉                                                                   | 181/1200 [01:45<09:53,  1.72it/s]"
     ]
    },
    {
     "name": "stdout",
     "output_type": "stream",
     "text": [
      "Calculating Centroids\n",
      "Sanity Check Failed due to width at the start\n",
      "6.45922675872\n",
      "Sanity Check Failed due to width at the end\n",
      "-7.51013457071\n",
      "Sanity Check Failed due to curvature\n",
      "0.0169120234288\n"
     ]
    },
    {
     "name": "stderr",
     "output_type": "stream",
     "text": [
      "\r",
      " 15%|███████████▉                                                                   | 182/1200 [01:46<09:49,  1.73it/s]"
     ]
    },
    {
     "name": "stdout",
     "output_type": "stream",
     "text": [
      "Calculating Centroids\n",
      "Sanity Check Failed due to width at the start\n",
      "6.5405365801\n",
      "Sanity Check Failed due to width at the end\n",
      "-8.61516936433\n",
      "Sanity Check Failed due to curvature\n",
      "-0.142054498231\n"
     ]
    },
    {
     "name": "stderr",
     "output_type": "stream",
     "text": [
      "\r",
      " 15%|████████████                                                                   | 183/1200 [01:47<09:43,  1.74it/s]"
     ]
    },
    {
     "name": "stdout",
     "output_type": "stream",
     "text": [
      "Calculating Centroids\n",
      "Sanity Check Failed due to width at the start\n",
      "7.17010317801\n",
      "Sanity Check Failed due to width at the end\n",
      "23.5000728162\n",
      "Sanity Check Failed due to curvature\n",
      "-0.0144033182083\n"
     ]
    },
    {
     "name": "stderr",
     "output_type": "stream",
     "text": [
      "\r",
      " 15%|████████████                                                                   | 184/1200 [01:47<09:46,  1.73it/s]"
     ]
    },
    {
     "name": "stdout",
     "output_type": "stream",
     "text": [
      "Calculating Centroids\n",
      "Sanity Check Failed due to width at the start\n",
      "7.26352668206\n",
      "Sanity Check Failed due to width at the end\n",
      "24.7903804578\n",
      "Sanity Check Failed due to curvature\n",
      "0.0308709950638\n"
     ]
    },
    {
     "name": "stderr",
     "output_type": "stream",
     "text": [
      "\r",
      " 15%|████████████▏                                                                  | 185/1200 [01:48<09:44,  1.74it/s]"
     ]
    },
    {
     "name": "stdout",
     "output_type": "stream",
     "text": [
      "Calculating Centroids\n",
      "Sanity Check Failed due to width at the start\n",
      "6.97557934813\n",
      "Sanity Check Failed due to width at the end\n",
      "13.8049474967\n"
     ]
    },
    {
     "name": "stderr",
     "output_type": "stream",
     "text": [
      "\r",
      " 16%|████████████▏                                                                  | 186/1200 [01:48<09:42,  1.74it/s]"
     ]
    },
    {
     "name": "stdout",
     "output_type": "stream",
     "text": [
      "Calculating Centroids\n",
      "Sanity Check Failed due to width at the start\n",
      "10.4753017614\n",
      "Sanity Check Failed due to width at the end\n",
      "71.5024705631\n"
     ]
    },
    {
     "name": "stderr",
     "output_type": "stream",
     "text": [
      "\r",
      " 16%|████████████▎                                                                  | 187/1200 [01:49<09:42,  1.74it/s]"
     ]
    },
    {
     "name": "stdout",
     "output_type": "stream",
     "text": [
      "Calculating Centroids\n",
      "Sanity Check Failed due to width at the start\n",
      "12.9978027442\n",
      "Sanity Check Failed due to width at the end\n",
      "97.7948275852\n"
     ]
    },
    {
     "name": "stderr",
     "output_type": "stream",
     "text": [
      "\r",
      " 16%|████████████▍                                                                  | 188/1200 [01:49<09:44,  1.73it/s]"
     ]
    },
    {
     "name": "stdout",
     "output_type": "stream",
     "text": [
      "Calculating Centroids\n",
      "Sanity Check Failed due to width at the start\n",
      "14.0315405014\n",
      "Sanity Check Failed due to width at the end\n",
      "82.8628754726\n"
     ]
    },
    {
     "name": "stderr",
     "output_type": "stream",
     "text": [
      "\r",
      " 16%|████████████▍                                                                  | 189/1200 [01:50<09:48,  1.72it/s]"
     ]
    },
    {
     "name": "stdout",
     "output_type": "stream",
     "text": [
      "Calculating Centroids\n",
      "Sanity Check Failed due to width at the start\n",
      "14.4186155622\n",
      "Sanity Check Failed due to width at the end\n",
      "80.0856368905\n",
      "Sanity Check Failed due to curvature\n",
      "-0.154315242252\n"
     ]
    },
    {
     "name": "stderr",
     "output_type": "stream",
     "text": [
      "\r",
      " 16%|████████████▌                                                                  | 190/1200 [01:51<09:49,  1.71it/s]"
     ]
    },
    {
     "name": "stdout",
     "output_type": "stream",
     "text": [
      "Calculating Centroids\n",
      "Sanity Check Failed due to width at the start\n",
      "7.51887752638\n",
      "Sanity Check Failed due to width at the end\n",
      "-56.6237534274\n"
     ]
    },
    {
     "name": "stderr",
     "output_type": "stream",
     "text": [
      "\r",
      " 16%|████████████▌                                                                  | 191/1200 [01:51<09:42,  1.73it/s]"
     ]
    },
    {
     "name": "stdout",
     "output_type": "stream",
     "text": [
      "Calculating Centroids\n",
      "Sanity Check Failed due to width at the start\n",
      "15.5232618325\n",
      "Sanity Check Failed due to width at the end\n",
      "80.3934875448\n"
     ]
    },
    {
     "name": "stderr",
     "output_type": "stream",
     "text": [
      "\r",
      " 16%|████████████▋                                                                  | 192/1200 [01:52<09:35,  1.75it/s]"
     ]
    },
    {
     "name": "stdout",
     "output_type": "stream",
     "text": [
      "Calculating Centroids\n",
      "Sanity Check Failed due to width at the start\n",
      "1.57024875284\n",
      "Sanity Check Failed due to width at the end\n",
      "-86.774543847\n",
      "Sanity Check Failed due to curvature\n",
      "-0.159224814575\n"
     ]
    },
    {
     "name": "stderr",
     "output_type": "stream",
     "text": [
      "\r",
      " 16%|████████████▋                                                                  | 193/1200 [01:52<10:01,  1.67it/s]"
     ]
    },
    {
     "name": "stdout",
     "output_type": "stream",
     "text": [
      "Calculating Centroids\n",
      "Sanity Check Failed due to width at the start\n",
      "0.447891432504\n",
      "Sanity Check Failed due to width at the end\n",
      "-106.154183126\n"
     ]
    },
    {
     "name": "stderr",
     "output_type": "stream",
     "text": [
      "\r",
      " 16%|████████████▊                                                                  | 194/1200 [01:53<09:51,  1.70it/s]"
     ]
    },
    {
     "name": "stdout",
     "output_type": "stream",
     "text": [
      "Calculating Centroids\n",
      "Sanity Check Failed due to width at the end\n",
      "-59.53381633\n"
     ]
    },
    {
     "name": "stderr",
     "output_type": "stream",
     "text": [
      "\r",
      " 16%|████████████▊                                                                  | 195/1200 [01:54<09:40,  1.73it/s]"
     ]
    },
    {
     "name": "stdout",
     "output_type": "stream",
     "text": [
      "Calculating Centroids\n",
      "Sanity Check Failed due to width at the start\n",
      "2.76823054986\n",
      "Sanity Check Failed due to width at the end\n",
      "-52.6783515348\n"
     ]
    },
    {
     "name": "stderr",
     "output_type": "stream",
     "text": [
      "\r",
      " 16%|████████████▉                                                                  | 196/1200 [01:54<09:32,  1.75it/s]"
     ]
    },
    {
     "name": "stdout",
     "output_type": "stream",
     "text": [
      "Calculating Centroids\n",
      "Sanity Check Failed due to width at the end\n",
      "5.14281262892\n"
     ]
    },
    {
     "name": "stderr",
     "output_type": "stream",
     "text": [
      "\r",
      " 16%|████████████▉                                                                  | 197/1200 [01:55<09:44,  1.72it/s]"
     ]
    },
    {
     "name": "stdout",
     "output_type": "stream",
     "text": [
      "Calculating Centroids\n",
      "Sanity Check Failed due to width at the end\n",
      "4.53436091314\n"
     ]
    },
    {
     "name": "stderr",
     "output_type": "stream",
     "text": [
      "\r",
      " 16%|█████████████                                                                  | 198/1200 [01:55<09:42,  1.72it/s]"
     ]
    },
    {
     "name": "stdout",
     "output_type": "stream",
     "text": [
      "Calculating Centroids\n",
      "Sanity Check Failed due to width at the start\n",
      "2.02720245781\n",
      "Sanity Check Failed due to width at the end\n",
      "4.94355087929\n"
     ]
    },
    {
     "name": "stderr",
     "output_type": "stream",
     "text": [
      "\r",
      " 17%|█████████████                                                                  | 199/1200 [01:56<09:46,  1.71it/s]"
     ]
    },
    {
     "name": "stdout",
     "output_type": "stream",
     "text": [
      "Calculating Centroids\n",
      "Sanity Check Failed due to width at the start\n",
      "6.40931612251\n",
      "Sanity Check Failed due to curvature\n",
      "-0.0469773102546\n"
     ]
    },
    {
     "name": "stderr",
     "output_type": "stream",
     "text": [
      "\r",
      " 17%|█████████████▏                                                                 | 200/1200 [01:56<09:50,  1.69it/s]"
     ]
    },
    {
     "name": "stdout",
     "output_type": "stream",
     "text": [
      "Calculating Centroids\n",
      "Sanity Check Failed due to width at the start\n",
      "6.25341197493\n"
     ]
    },
    {
     "name": "stderr",
     "output_type": "stream",
     "text": [
      "\r",
      " 17%|█████████████▏                                                                 | 201/1200 [01:57<09:50,  1.69it/s]"
     ]
    },
    {
     "name": "stdout",
     "output_type": "stream",
     "text": [
      "Calculating Centroids\n",
      "Sanity Check Failed due to width at the end\n",
      "3.29138244931\n"
     ]
    },
    {
     "name": "stderr",
     "output_type": "stream",
     "text": [
      "\r",
      " 17%|█████████████▎                                                                 | 202/1200 [01:58<09:53,  1.68it/s]"
     ]
    },
    {
     "name": "stdout",
     "output_type": "stream",
     "text": [
      "Calculating Centroids\n",
      "Sanity Check Failed due to curvature\n",
      "-9.55898699651\n"
     ]
    },
    {
     "name": "stderr",
     "output_type": "stream",
     "text": [
      "\r",
      " 17%|█████████████▎                                                                 | 203/1200 [01:58<09:59,  1.66it/s]"
     ]
    },
    {
     "name": "stdout",
     "output_type": "stream",
     "text": [
      "Calculating Centroids\n"
     ]
    },
    {
     "name": "stderr",
     "output_type": "stream",
     "text": [
      " 17%|█████████████▌                                                                 | 206/1200 [02:00<09:35,  1.73it/s]"
     ]
    },
    {
     "name": "stdout",
     "output_type": "stream",
     "text": [
      "Sanity Check Failed due to curvature\n",
      "6.54839560113\n"
     ]
    },
    {
     "name": "stderr",
     "output_type": "stream",
     "text": [
      "\r",
      " 17%|█████████████▋                                                                 | 207/1200 [02:01<09:24,  1.76it/s]"
     ]
    },
    {
     "name": "stdout",
     "output_type": "stream",
     "text": [
      "Sanity Check Failed due to curvature\n",
      "120.252573464\n"
     ]
    },
    {
     "name": "stderr",
     "output_type": "stream",
     "text": [
      "\r",
      " 17%|█████████████▋                                                                 | 208/1200 [02:01<09:22,  1.76it/s]"
     ]
    },
    {
     "name": "stdout",
     "output_type": "stream",
     "text": [
      "Sanity Check Failed due to curvature\n",
      "9.33563900283\n"
     ]
    },
    {
     "name": "stderr",
     "output_type": "stream",
     "text": [
      "\r",
      " 17%|█████████████▊                                                                 | 209/1200 [02:02<09:21,  1.77it/s]"
     ]
    },
    {
     "name": "stdout",
     "output_type": "stream",
     "text": [
      "Sanity Check Failed due to width at the end\n",
      "5.28422720044\n"
     ]
    },
    {
     "name": "stderr",
     "output_type": "stream",
     "text": [
      " 18%|██████████████▍                                                                | 220/1200 [02:08<09:51,  1.66it/s]"
     ]
    },
    {
     "name": "stdout",
     "output_type": "stream",
     "text": [
      "Sanity Check Failed due to width at the end\n",
      "4.20264137333\n"
     ]
    },
    {
     "name": "stderr",
     "output_type": "stream",
     "text": [
      "\r",
      " 18%|██████████████▌                                                                | 221/1200 [02:09<09:51,  1.65it/s]"
     ]
    },
    {
     "name": "stdout",
     "output_type": "stream",
     "text": [
      "Sanity Check Failed due to width at the end\n",
      "4.2909529572\n"
     ]
    },
    {
     "name": "stderr",
     "output_type": "stream",
     "text": [
      "\r",
      " 18%|██████████████▌                                                                | 222/1200 [02:09<09:44,  1.67it/s]"
     ]
    },
    {
     "name": "stdout",
     "output_type": "stream",
     "text": [
      "Sanity Check Failed due to width at the end\n",
      "4.1299931462\n"
     ]
    },
    {
     "name": "stderr",
     "output_type": "stream",
     "text": [
      "\r",
      " 19%|██████████████▋                                                                | 223/1200 [02:10<09:32,  1.71it/s]"
     ]
    },
    {
     "name": "stdout",
     "output_type": "stream",
     "text": [
      "Sanity Check Failed due to width at the end\n",
      "4.06909196135\n"
     ]
    },
    {
     "name": "stderr",
     "output_type": "stream",
     "text": [
      "\r",
      " 19%|██████████████▋                                                                | 224/1200 [02:11<09:32,  1.70it/s]"
     ]
    },
    {
     "name": "stdout",
     "output_type": "stream",
     "text": [
      "Sanity Check Failed due to width at the end\n",
      "4.07977926589\n"
     ]
    },
    {
     "name": "stderr",
     "output_type": "stream",
     "text": [
      " 19%|███████████████                                                                | 229/1200 [02:13<09:05,  1.78it/s]"
     ]
    },
    {
     "name": "stdout",
     "output_type": "stream",
     "text": [
      "Sanity Check Failed due to width at the end\n",
      "4.20914555535\n"
     ]
    },
    {
     "name": "stderr",
     "output_type": "stream",
     "text": [
      " 20%|███████████████▍                                                               | 235/1200 [02:17<09:06,  1.77it/s]"
     ]
    },
    {
     "name": "stdout",
     "output_type": "stream",
     "text": [
      "Sanity Check Failed due to width at the end\n",
      "-1.75538643063\n"
     ]
    },
    {
     "name": "stderr",
     "output_type": "stream",
     "text": [
      "\r",
      " 20%|███████████████▌                                                               | 236/1200 [02:17<09:08,  1.76it/s]"
     ]
    },
    {
     "name": "stdout",
     "output_type": "stream",
     "text": [
      "Sanity Check Failed due to width at the end\n",
      "0.263789870044\n"
     ]
    },
    {
     "name": "stderr",
     "output_type": "stream",
     "text": [
      " 20%|███████████████▉                                                               | 242/1200 [02:21<09:07,  1.75it/s]"
     ]
    },
    {
     "name": "stdout",
     "output_type": "stream",
     "text": [
      "Sanity Check Failed due to width at the end\n",
      "4.03471791659\n"
     ]
    },
    {
     "name": "stderr",
     "output_type": "stream",
     "text": [
      "\r",
      " 20%|███████████████▉                                                               | 243/1200 [02:21<09:09,  1.74it/s]"
     ]
    },
    {
     "name": "stdout",
     "output_type": "stream",
     "text": [
      "Sanity Check Failed due to width at the end\n",
      "5.78861014744\n"
     ]
    },
    {
     "name": "stderr",
     "output_type": "stream",
     "text": [
      "\r",
      " 20%|████████████████                                                               | 244/1200 [02:22<09:06,  1.75it/s]"
     ]
    },
    {
     "name": "stdout",
     "output_type": "stream",
     "text": [
      "Sanity Check Failed due to width at the end\n",
      "6.27256714813\n"
     ]
    },
    {
     "name": "stderr",
     "output_type": "stream",
     "text": [
      " 21%|████████████████▌                                                              | 251/1200 [02:26<08:57,  1.76it/s]"
     ]
    },
    {
     "name": "stdout",
     "output_type": "stream",
     "text": [
      "Sanity Check Failed due to width at the end\n",
      "1.56601611194\n"
     ]
    },
    {
     "name": "stderr",
     "output_type": "stream",
     "text": [
      "\r",
      " 21%|████████████████▌                                                              | 252/1200 [02:26<09:02,  1.75it/s]"
     ]
    },
    {
     "name": "stdout",
     "output_type": "stream",
     "text": [
      "Sanity Check Failed due to width at the end\n",
      "0.416765507651\n"
     ]
    },
    {
     "name": "stderr",
     "output_type": "stream",
     "text": [
      "\r",
      " 21%|████████████████▋                                                              | 253/1200 [02:27<08:55,  1.77it/s]"
     ]
    },
    {
     "name": "stdout",
     "output_type": "stream",
     "text": [
      "Sanity Check Failed due to width at the end\n",
      "-1.21437709368\n"
     ]
    },
    {
     "name": "stderr",
     "output_type": "stream",
     "text": [
      "\r",
      " 21%|████████████████▋                                                              | 254/1200 [02:28<08:53,  1.77it/s]"
     ]
    },
    {
     "name": "stdout",
     "output_type": "stream",
     "text": [
      "Sanity Check Failed due to curvature\n",
      "12.0806807385\n"
     ]
    },
    {
     "name": "stderr",
     "output_type": "stream",
     "text": [
      " 21%|████████████████▊                                                              | 256/1200 [02:29<08:49,  1.78it/s]"
     ]
    },
    {
     "name": "stdout",
     "output_type": "stream",
     "text": [
      "Sanity Check Failed due to curvature\n",
      "-6.06778651039\n"
     ]
    },
    {
     "name": "stderr",
     "output_type": "stream",
     "text": [
      "\r",
      " 21%|████████████████▉                                                              | 257/1200 [02:29<08:48,  1.78it/s]"
     ]
    },
    {
     "name": "stdout",
     "output_type": "stream",
     "text": [
      "Sanity Check Failed due to curvature\n",
      "6.45390427076\n"
     ]
    },
    {
     "name": "stderr",
     "output_type": "stream",
     "text": [
      " 22%|█████████████████                                                              | 260/1200 [02:31<08:49,  1.77it/s]"
     ]
    },
    {
     "name": "stdout",
     "output_type": "stream",
     "text": [
      "Sanity Check Failed due to width at the end\n",
      "4.96916170256\n",
      "Sanity Check Failed due to curvature\n",
      "0.0789893433486\n"
     ]
    },
    {
     "name": "stderr",
     "output_type": "stream",
     "text": [
      "\r",
      " 22%|█████████████████▏                                                             | 261/1200 [02:32<09:01,  1.73it/s]"
     ]
    },
    {
     "name": "stdout",
     "output_type": "stream",
     "text": [
      "Sanity Check Failed due to width at the end\n",
      "5.85824080666\n"
     ]
    },
    {
     "name": "stderr",
     "output_type": "stream",
     "text": [
      "\r",
      " 22%|█████████████████▏                                                             | 262/1200 [02:32<09:03,  1.73it/s]"
     ]
    },
    {
     "name": "stdout",
     "output_type": "stream",
     "text": [
      "Sanity Check Failed due to width at the end\n",
      "6.49265156431\n"
     ]
    },
    {
     "name": "stderr",
     "output_type": "stream",
     "text": [
      " 22%|█████████████████▍                                                             | 264/1200 [02:33<09:10,  1.70it/s]"
     ]
    },
    {
     "name": "stdout",
     "output_type": "stream",
     "text": [
      "Sanity Check Failed due to width at the end\n",
      "1.77583354872\n"
     ]
    },
    {
     "name": "stderr",
     "output_type": "stream",
     "text": [
      "\r",
      " 22%|█████████████████▍                                                             | 265/1200 [02:34<09:02,  1.72it/s]"
     ]
    },
    {
     "name": "stdout",
     "output_type": "stream",
     "text": [
      "Sanity Check Failed due to width at the end\n",
      "1.21613327767\n"
     ]
    },
    {
     "name": "stderr",
     "output_type": "stream",
     "text": [
      "\r",
      " 22%|█████████████████▌                                                             | 266/1200 [02:34<08:59,  1.73it/s]"
     ]
    },
    {
     "name": "stdout",
     "output_type": "stream",
     "text": [
      "Sanity Check Failed due to width at the end\n",
      "0.9787513187\n"
     ]
    },
    {
     "name": "stderr",
     "output_type": "stream",
     "text": [
      "\r",
      " 22%|█████████████████▌                                                             | 267/1200 [02:35<08:53,  1.75it/s]"
     ]
    },
    {
     "name": "stdout",
     "output_type": "stream",
     "text": [
      "Sanity Check Failed due to width at the end\n",
      "-0.969549490399\n"
     ]
    },
    {
     "name": "stderr",
     "output_type": "stream",
     "text": [
      "\r",
      " 22%|█████████████████▋                                                             | 268/1200 [02:36<08:51,  1.75it/s]"
     ]
    },
    {
     "name": "stdout",
     "output_type": "stream",
     "text": [
      "Sanity Check Failed due to width at the end\n",
      "-1.02786458527\n"
     ]
    },
    {
     "name": "stderr",
     "output_type": "stream",
     "text": [
      "\r",
      " 22%|█████████████████▋                                                             | 269/1200 [02:36<08:46,  1.77it/s]"
     ]
    },
    {
     "name": "stdout",
     "output_type": "stream",
     "text": [
      "Sanity Check Failed due to width at the end\n",
      "-1.8951132226\n"
     ]
    },
    {
     "name": "stderr",
     "output_type": "stream",
     "text": [
      "\r",
      " 22%|█████████████████▊                                                             | 270/1200 [02:37<08:45,  1.77it/s]"
     ]
    },
    {
     "name": "stdout",
     "output_type": "stream",
     "text": [
      "Sanity Check Failed due to width at the end\n",
      "-2.54465821581\n"
     ]
    },
    {
     "name": "stderr",
     "output_type": "stream",
     "text": [
      "\r",
      " 23%|█████████████████▊                                                             | 271/1200 [02:37<08:46,  1.77it/s]"
     ]
    },
    {
     "name": "stdout",
     "output_type": "stream",
     "text": [
      "Sanity Check Failed due to curvature\n",
      "-8.74724818347\n"
     ]
    },
    {
     "name": "stderr",
     "output_type": "stream",
     "text": [
      " 23%|██████████████████▏                                                            | 277/1200 [02:41<08:12,  1.87it/s]"
     ]
    },
    {
     "name": "stdout",
     "output_type": "stream",
     "text": [
      "Sanity Check Failed due to width at the end\n",
      "4.11579544463\n"
     ]
    },
    {
     "name": "stderr",
     "output_type": "stream",
     "text": [
      "\r",
      " 23%|██████████████████▎                                                            | 278/1200 [02:41<08:18,  1.85it/s]"
     ]
    },
    {
     "name": "stdout",
     "output_type": "stream",
     "text": [
      "Sanity Check Failed due to width at the end\n",
      "4.48379860663\n"
     ]
    },
    {
     "name": "stderr",
     "output_type": "stream",
     "text": [
      "\r",
      " 23%|██████████████████▎                                                            | 279/1200 [02:42<08:11,  1.87it/s]"
     ]
    },
    {
     "name": "stdout",
     "output_type": "stream",
     "text": [
      "Sanity Check Failed due to width at the end\n",
      "4.1994172965\n"
     ]
    },
    {
     "name": "stderr",
     "output_type": "stream",
     "text": [
      "\r",
      " 23%|██████████████████▍                                                            | 280/1200 [02:42<08:13,  1.86it/s]"
     ]
    },
    {
     "name": "stdout",
     "output_type": "stream",
     "text": [
      "Sanity Check Failed due to width at the end\n",
      "4.29444917933\n"
     ]
    },
    {
     "name": "stderr",
     "output_type": "stream",
     "text": [
      "\r",
      " 23%|██████████████████▍                                                            | 281/1200 [02:43<08:19,  1.84it/s]"
     ]
    },
    {
     "name": "stdout",
     "output_type": "stream",
     "text": [
      "Sanity Check Failed due to width at the end\n",
      "3.85127488273\n"
     ]
    },
    {
     "name": "stderr",
     "output_type": "stream",
     "text": [
      "\r",
      " 24%|██████████████████▌                                                            | 282/1200 [02:43<08:14,  1.86it/s]"
     ]
    },
    {
     "name": "stdout",
     "output_type": "stream",
     "text": [
      "Sanity Check Failed due to width at the end\n",
      "3.47812730131\n"
     ]
    },
    {
     "name": "stderr",
     "output_type": "stream",
     "text": [
      "\r",
      " 24%|██████████████████▋                                                            | 283/1200 [02:44<08:07,  1.88it/s]"
     ]
    },
    {
     "name": "stdout",
     "output_type": "stream",
     "text": [
      "Sanity Check Failed due to width at the end\n",
      "6.19038801404\n"
     ]
    },
    {
     "name": "stderr",
     "output_type": "stream",
     "text": [
      "\r",
      " 24%|██████████████████▋                                                            | 284/1200 [02:44<08:08,  1.88it/s]"
     ]
    },
    {
     "name": "stdout",
     "output_type": "stream",
     "text": [
      "Sanity Check Failed due to width at the end\n",
      "19.253631389\n",
      "Sanity Check Failed due to curvature\n",
      "-9.74823570999\n"
     ]
    },
    {
     "name": "stderr",
     "output_type": "stream",
     "text": [
      "\r",
      " 24%|██████████████████▊                                                            | 285/1200 [02:45<08:02,  1.90it/s]"
     ]
    },
    {
     "name": "stdout",
     "output_type": "stream",
     "text": [
      "Sanity Check Failed due to width at the end\n",
      "12.124192757\n",
      "Sanity Check Failed due to curvature\n",
      "40.8508399663\n"
     ]
    },
    {
     "name": "stderr",
     "output_type": "stream",
     "text": [
      "\r",
      " 24%|██████████████████▊                                                            | 286/1200 [02:45<08:06,  1.88it/s]"
     ]
    },
    {
     "name": "stdout",
     "output_type": "stream",
     "text": [
      "Sanity Check Failed due to width at the end\n",
      "4.71499865016\n",
      "Sanity Check Failed due to curvature\n",
      "0.0070579860416\n"
     ]
    },
    {
     "name": "stderr",
     "output_type": "stream",
     "text": [
      "\r",
      " 24%|██████████████████▉                                                            | 287/1200 [02:46<08:09,  1.86it/s]"
     ]
    },
    {
     "name": "stdout",
     "output_type": "stream",
     "text": [
      "Calculating Centroids\n",
      "Sanity Check Failed due to width at the end\n",
      "-37.3791345554\n",
      "Sanity Check Failed due to curvature\n",
      "-0.0382863134327\n"
     ]
    },
    {
     "name": "stderr",
     "output_type": "stream",
     "text": [
      "\r",
      " 24%|██████████████████▉                                                            | 288/1200 [02:46<08:18,  1.83it/s]"
     ]
    },
    {
     "name": "stdout",
     "output_type": "stream",
     "text": [
      "Calculating Centroids\n"
     ]
    },
    {
     "name": "stderr",
     "output_type": "stream",
     "text": [
      " 24%|███████████████████                                                            | 290/1200 [02:48<08:19,  1.82it/s]"
     ]
    },
    {
     "name": "stdout",
     "output_type": "stream",
     "text": [
      "Sanity Check Failed due to curvature\n",
      "-0.0674369105639\n"
     ]
    },
    {
     "name": "stderr",
     "output_type": "stream",
     "text": [
      "\r",
      " 24%|███████████████████▏                                                           | 291/1200 [02:48<08:16,  1.83it/s]"
     ]
    },
    {
     "name": "stdout",
     "output_type": "stream",
     "text": [
      "Sanity Check Failed due to width at the end\n",
      "1.71182201449\n"
     ]
    },
    {
     "name": "stderr",
     "output_type": "stream",
     "text": [
      " 24%|███████████████████▎                                                           | 293/1200 [02:49<08:06,  1.86it/s]"
     ]
    },
    {
     "name": "stdout",
     "output_type": "stream",
     "text": [
      "Sanity Check Failed due to width at the end\n",
      "4.25891774759\n"
     ]
    },
    {
     "name": "stderr",
     "output_type": "stream",
     "text": [
      "\r",
      " 24%|███████████████████▎                                                           | 294/1200 [02:50<08:13,  1.84it/s]"
     ]
    },
    {
     "name": "stdout",
     "output_type": "stream",
     "text": [
      "Sanity Check Failed due to width at the end\n",
      "4.32738700983\n"
     ]
    },
    {
     "name": "stderr",
     "output_type": "stream",
     "text": [
      "\r",
      " 25%|███████████████████▍                                                           | 295/1200 [02:50<08:06,  1.86it/s]"
     ]
    },
    {
     "name": "stdout",
     "output_type": "stream",
     "text": [
      "Sanity Check Failed due to width at the end\n",
      "4.56156413735\n"
     ]
    },
    {
     "name": "stderr",
     "output_type": "stream",
     "text": [
      "\r",
      " 25%|███████████████████▍                                                           | 296/1200 [02:51<08:03,  1.87it/s]"
     ]
    },
    {
     "name": "stdout",
     "output_type": "stream",
     "text": [
      "Sanity Check Failed due to width at the end\n",
      "4.54647422635\n"
     ]
    },
    {
     "name": "stderr",
     "output_type": "stream",
     "text": [
      "\r",
      " 25%|███████████████████▌                                                           | 297/1200 [02:51<08:08,  1.85it/s]"
     ]
    },
    {
     "name": "stdout",
     "output_type": "stream",
     "text": [
      "Sanity Check Failed due to width at the end\n",
      "4.44229549082\n",
      "Sanity Check Failed due to curvature\n",
      "48.986938177\n"
     ]
    },
    {
     "name": "stderr",
     "output_type": "stream",
     "text": [
      "\r",
      " 25%|███████████████████▌                                                           | 298/1200 [02:52<08:07,  1.85it/s]"
     ]
    },
    {
     "name": "stdout",
     "output_type": "stream",
     "text": [
      "Sanity Check Failed due to width at the end\n",
      "4.41379888093\n",
      "Sanity Check Failed due to curvature\n",
      "15.0929647392\n"
     ]
    },
    {
     "name": "stderr",
     "output_type": "stream",
     "text": [
      "\r",
      " 25%|███████████████████▋                                                           | 299/1200 [02:52<08:09,  1.84it/s]"
     ]
    },
    {
     "name": "stdout",
     "output_type": "stream",
     "text": [
      "Sanity Check Failed due to width at the end\n",
      "4.14113855176\n"
     ]
    },
    {
     "name": "stderr",
     "output_type": "stream",
     "text": [
      "\r",
      " 25%|███████████████████▊                                                           | 300/1200 [02:53<08:10,  1.84it/s]"
     ]
    },
    {
     "name": "stdout",
     "output_type": "stream",
     "text": [
      "Sanity Check Failed due to width at the end\n",
      "4.28312478981\n"
     ]
    },
    {
     "name": "stderr",
     "output_type": "stream",
     "text": [
      "\r",
      " 25%|███████████████████▊                                                           | 301/1200 [02:53<08:05,  1.85it/s]"
     ]
    },
    {
     "name": "stdout",
     "output_type": "stream",
     "text": [
      "Sanity Check Failed due to width at the end\n",
      "4.34206529773\n",
      "Sanity Check Failed due to curvature\n",
      "7.84172659508\n"
     ]
    },
    {
     "name": "stderr",
     "output_type": "stream",
     "text": [
      "\r",
      " 25%|███████████████████▉                                                           | 302/1200 [02:54<08:06,  1.84it/s]"
     ]
    },
    {
     "name": "stdout",
     "output_type": "stream",
     "text": [
      "Sanity Check Failed due to width at the end\n",
      "3.86519978428\n"
     ]
    },
    {
     "name": "stderr",
     "output_type": "stream",
     "text": [
      "\r",
      " 25%|███████████████████▉                                                           | 303/1200 [02:55<08:08,  1.84it/s]"
     ]
    },
    {
     "name": "stdout",
     "output_type": "stream",
     "text": [
      "Calculating Centroids\n",
      "Sanity Check Failed due to width at the end\n",
      "4.29960774247\n"
     ]
    },
    {
     "name": "stderr",
     "output_type": "stream",
     "text": [
      "\r",
      " 25%|████████████████████                                                           | 304/1200 [02:55<08:18,  1.80it/s]"
     ]
    },
    {
     "name": "stdout",
     "output_type": "stream",
     "text": [
      "Calculating Centroids\n",
      "Sanity Check Failed due to width at the end\n",
      "4.13431590944\n"
     ]
    },
    {
     "name": "stderr",
     "output_type": "stream",
     "text": [
      "\r",
      " 25%|████████████████████                                                           | 305/1200 [02:56<08:29,  1.76it/s]"
     ]
    },
    {
     "name": "stdout",
     "output_type": "stream",
     "text": [
      "Calculating Centroids\n",
      "Sanity Check Failed due to width at the end\n",
      "4.20304128845\n"
     ]
    },
    {
     "name": "stderr",
     "output_type": "stream",
     "text": [
      "\r",
      " 26%|████████████████████▏                                                          | 306/1200 [02:56<08:32,  1.74it/s]"
     ]
    },
    {
     "name": "stdout",
     "output_type": "stream",
     "text": [
      "Calculating Centroids\n",
      "Sanity Check Failed due to width at the end\n",
      "4.26741243533\n"
     ]
    },
    {
     "name": "stderr",
     "output_type": "stream",
     "text": [
      "\r",
      " 26%|████████████████████▏                                                          | 307/1200 [02:57<08:37,  1.73it/s]"
     ]
    },
    {
     "name": "stdout",
     "output_type": "stream",
     "text": [
      "Calculating Centroids\n",
      "Sanity Check Failed due to width at the end\n",
      "4.17452500288\n"
     ]
    },
    {
     "name": "stderr",
     "output_type": "stream",
     "text": [
      "\r",
      " 26%|████████████████████▎                                                          | 308/1200 [02:58<08:40,  1.71it/s]"
     ]
    },
    {
     "name": "stdout",
     "output_type": "stream",
     "text": [
      "Calculating Centroids\n",
      "Sanity Check Failed due to width at the end\n",
      "4.70503411968\n"
     ]
    },
    {
     "name": "stderr",
     "output_type": "stream",
     "text": [
      "\r",
      " 26%|████████████████████▎                                                          | 309/1200 [02:58<08:44,  1.70it/s]"
     ]
    },
    {
     "name": "stdout",
     "output_type": "stream",
     "text": [
      "Calculating Centroids\n",
      "Sanity Check Failed due to width at the end\n",
      "5.38688148374\n"
     ]
    },
    {
     "name": "stderr",
     "output_type": "stream",
     "text": [
      "\r",
      " 26%|████████████████████▍                                                          | 310/1200 [02:59<08:41,  1.71it/s]"
     ]
    },
    {
     "name": "stdout",
     "output_type": "stream",
     "text": [
      "Calculating Centroids\n"
     ]
    },
    {
     "name": "stderr",
     "output_type": "stream",
     "text": [
      " 26%|████████████████████▌                                                          | 312/1200 [03:00<08:30,  1.74it/s]"
     ]
    },
    {
     "name": "stdout",
     "output_type": "stream",
     "text": [
      "Sanity Check Failed due to curvature\n",
      "0.129565197255\n"
     ]
    },
    {
     "name": "stderr",
     "output_type": "stream",
     "text": [
      "\r",
      " 26%|████████████████████▌                                                          | 313/1200 [03:00<08:11,  1.80it/s]"
     ]
    },
    {
     "name": "stdout",
     "output_type": "stream",
     "text": [
      "Sanity Check Failed due to width at the end\n",
      "1.62181001411\n",
      "Sanity Check Failed due to curvature\n",
      "0.139816135124\n"
     ]
    },
    {
     "name": "stderr",
     "output_type": "stream",
     "text": [
      "\r",
      " 26%|████████████████████▋                                                          | 314/1200 [03:01<08:06,  1.82it/s]"
     ]
    },
    {
     "name": "stdout",
     "output_type": "stream",
     "text": [
      "Sanity Check Failed due to width at the end\n",
      "1.63787457254\n",
      "Sanity Check Failed due to curvature\n",
      "0.147454943825\n"
     ]
    },
    {
     "name": "stderr",
     "output_type": "stream",
     "text": [
      "\r",
      " 26%|████████████████████▋                                                          | 315/1200 [03:01<07:55,  1.86it/s]"
     ]
    },
    {
     "name": "stdout",
     "output_type": "stream",
     "text": [
      "Sanity Check Failed due to width at the end\n",
      "1.11090171083\n",
      "Sanity Check Failed due to curvature\n",
      "-0.056293449457\n"
     ]
    },
    {
     "name": "stderr",
     "output_type": "stream",
     "text": [
      "\r",
      " 26%|████████████████████▊                                                          | 316/1200 [03:02<07:54,  1.86it/s]"
     ]
    },
    {
     "name": "stdout",
     "output_type": "stream",
     "text": [
      "Sanity Check Failed due to curvature\n",
      "0.153941982183\n"
     ]
    },
    {
     "name": "stderr",
     "output_type": "stream",
     "text": [
      "\r",
      " 26%|████████████████████▊                                                          | 317/1200 [03:02<07:58,  1.84it/s]"
     ]
    },
    {
     "name": "stdout",
     "output_type": "stream",
     "text": [
      "Sanity Check Failed due to width at the end\n",
      "1.60114625475\n"
     ]
    },
    {
     "name": "stderr",
     "output_type": "stream",
     "text": [
      "\r",
      " 26%|████████████████████▉                                                          | 318/1200 [03:03<07:54,  1.86it/s]"
     ]
    },
    {
     "name": "stdout",
     "output_type": "stream",
     "text": [
      "Sanity Check Failed due to width at the end\n",
      "1.47438865065\n",
      "Sanity Check Failed due to curvature\n",
      "-0.147467837498\n"
     ]
    },
    {
     "name": "stderr",
     "output_type": "stream",
     "text": [
      " 27%|█████████████████████                                                          | 320/1200 [03:04<07:53,  1.86it/s]"
     ]
    },
    {
     "name": "stdout",
     "output_type": "stream",
     "text": [
      "Sanity Check Failed due to width at the end\n",
      "1.09568595141\n"
     ]
    },
    {
     "name": "stderr",
     "output_type": "stream",
     "text": [
      " 28%|█████████████████████▊                                                         | 331/1200 [03:10<07:50,  1.85it/s]"
     ]
    },
    {
     "name": "stdout",
     "output_type": "stream",
     "text": [
      "Sanity Check Failed due to curvature\n",
      "-0.0518842154093\n"
     ]
    },
    {
     "name": "stderr",
     "output_type": "stream",
     "text": [
      "\r",
      " 28%|█████████████████████▊                                                         | 332/1200 [03:11<07:50,  1.84it/s]"
     ]
    },
    {
     "name": "stdout",
     "output_type": "stream",
     "text": [
      "Sanity Check Failed due to curvature\n",
      "-0.124414353776\n"
     ]
    },
    {
     "name": "stderr",
     "output_type": "stream",
     "text": [
      "\r",
      " 28%|█████████████████████▉                                                         | 333/1200 [03:11<07:51,  1.84it/s]"
     ]
    },
    {
     "name": "stdout",
     "output_type": "stream",
     "text": [
      "Sanity Check Failed due to width at the end\n",
      "4.04941458973\n"
     ]
    },
    {
     "name": "stderr",
     "output_type": "stream",
     "text": [
      " 28%|██████████████████████▎                                                        | 339/1200 [03:15<07:44,  1.85it/s]"
     ]
    },
    {
     "name": "stdout",
     "output_type": "stream",
     "text": [
      "Sanity Check Failed due to curvature\n",
      "-0.13277532625\n"
     ]
    },
    {
     "name": "stderr",
     "output_type": "stream",
     "text": [
      "\r",
      " 28%|██████████████████████▍                                                        | 340/1200 [03:15<07:41,  1.86it/s]"
     ]
    },
    {
     "name": "stdout",
     "output_type": "stream",
     "text": [
      "Sanity Check Failed due to curvature\n",
      "0.10747437811\n"
     ]
    },
    {
     "name": "stderr",
     "output_type": "stream",
     "text": [
      " 29%|██████████████████████▊                                                        | 346/1200 [03:18<07:51,  1.81it/s]"
     ]
    },
    {
     "name": "stdout",
     "output_type": "stream",
     "text": [
      "Sanity Check Failed due to width at the end\n",
      "4.02521639908\n"
     ]
    },
    {
     "name": "stderr",
     "output_type": "stream",
     "text": [
      " 29%|██████████████████████▉                                                        | 348/1200 [03:19<07:37,  1.86it/s]"
     ]
    },
    {
     "name": "stdout",
     "output_type": "stream",
     "text": [
      "Sanity Check Failed due to curvature\n",
      "0.143839626817\n"
     ]
    },
    {
     "name": "stderr",
     "output_type": "stream",
     "text": [
      " 29%|███████████████████████                                                        | 350/1200 [03:21<07:46,  1.82it/s]"
     ]
    },
    {
     "name": "stdout",
     "output_type": "stream",
     "text": [
      "Sanity Check Failed due to width at the end\n",
      "0.140546804739\n"
     ]
    },
    {
     "name": "stderr",
     "output_type": "stream",
     "text": [
      "\r",
      " 29%|███████████████████████                                                        | 351/1200 [03:21<07:44,  1.83it/s]"
     ]
    },
    {
     "name": "stdout",
     "output_type": "stream",
     "text": [
      "Sanity Check Failed due to width at the end\n",
      "-2.16254422556\n"
     ]
    },
    {
     "name": "stderr",
     "output_type": "stream",
     "text": [
      " 29%|███████████████████████▏                                                       | 353/1200 [03:22<07:41,  1.84it/s]"
     ]
    },
    {
     "name": "stdout",
     "output_type": "stream",
     "text": [
      "Sanity Check Failed due to width at the end\n",
      "1.33592698279\n"
     ]
    },
    {
     "name": "stderr",
     "output_type": "stream",
     "text": [
      " 30%|███████████████████████▌                                                       | 357/1200 [03:24<07:44,  1.82it/s]"
     ]
    },
    {
     "name": "stdout",
     "output_type": "stream",
     "text": [
      "Sanity Check Failed due to width at the end\n",
      "1.53785424557\n"
     ]
    },
    {
     "name": "stderr",
     "output_type": "stream",
     "text": [
      " 30%|███████████████████████▊                                                       | 361/1200 [03:27<08:22,  1.67it/s]"
     ]
    },
    {
     "name": "stdout",
     "output_type": "stream",
     "text": [
      "Sanity Check Failed due to width at the end\n",
      "1.03563180503\n"
     ]
    },
    {
     "name": "stderr",
     "output_type": "stream",
     "text": [
      "\r",
      " 30%|███████████████████████▊                                                       | 362/1200 [03:27<08:09,  1.71it/s]"
     ]
    },
    {
     "name": "stdout",
     "output_type": "stream",
     "text": [
      "Sanity Check Failed due to width at the end\n",
      "1.51288087756\n"
     ]
    },
    {
     "name": "stderr",
     "output_type": "stream",
     "text": [
      " 30%|████████████████████████                                                       | 365/1200 [03:29<08:14,  1.69it/s]"
     ]
    },
    {
     "name": "stdout",
     "output_type": "stream",
     "text": [
      "Sanity Check Failed due to width at the start\n",
      "4.46309603456\n",
      "Sanity Check Failed due to curvature\n",
      "0.156291148905\n"
     ]
    },
    {
     "name": "stderr",
     "output_type": "stream",
     "text": [
      "\r",
      " 30%|████████████████████████                                                       | 366/1200 [03:30<08:22,  1.66it/s]"
     ]
    },
    {
     "name": "stdout",
     "output_type": "stream",
     "text": [
      "Sanity Check Failed due to width at the start\n",
      "4.40078827033\n",
      "Sanity Check Failed due to curvature\n",
      "0.131836181293\n"
     ]
    },
    {
     "name": "stderr",
     "output_type": "stream",
     "text": [
      "\r",
      " 31%|████████████████████████▏                                                      | 367/1200 [03:30<08:27,  1.64it/s]"
     ]
    },
    {
     "name": "stdout",
     "output_type": "stream",
     "text": [
      "Sanity Check Failed due to width at the end\n",
      "1.07969346243\n"
     ]
    },
    {
     "name": "stderr",
     "output_type": "stream",
     "text": [
      " 31%|████████████████████████▎                                                      | 370/1200 [03:32<08:30,  1.63it/s]"
     ]
    },
    {
     "name": "stdout",
     "output_type": "stream",
     "text": [
      "Sanity Check Failed due to curvature\n",
      "0.100224370625\n"
     ]
    },
    {
     "name": "stderr",
     "output_type": "stream",
     "text": [
      " 34%|██████████████████████████▍                                                    | 402/1200 [03:54<09:01,  1.47it/s]"
     ]
    },
    {
     "name": "stdout",
     "output_type": "stream",
     "text": [
      "Sanity Check Failed due to width at the start\n",
      "4.483651182\n"
     ]
    },
    {
     "name": "stderr",
     "output_type": "stream",
     "text": [
      "\r",
      " 34%|██████████████████████████▌                                                    | 403/1200 [03:55<09:03,  1.47it/s]"
     ]
    },
    {
     "name": "stdout",
     "output_type": "stream",
     "text": [
      "Sanity Check Failed due to width at the start\n",
      "4.44032770752\n"
     ]
    },
    {
     "name": "stderr",
     "output_type": "stream",
     "text": [
      " 34%|██████████████████████████▋                                                    | 406/1200 [03:57<08:56,  1.48it/s]"
     ]
    },
    {
     "name": "stdout",
     "output_type": "stream",
     "text": [
      "Sanity Check Failed due to width at the start\n",
      "4.48508455307\n"
     ]
    },
    {
     "name": "stderr",
     "output_type": "stream",
     "text": [
      "\r",
      " 34%|██████████████████████████▊                                                    | 407/1200 [03:58<08:51,  1.49it/s]"
     ]
    },
    {
     "name": "stdout",
     "output_type": "stream",
     "text": [
      "Sanity Check Failed due to width at the start\n",
      "4.45589697223\n"
     ]
    },
    {
     "name": "stderr",
     "output_type": "stream",
     "text": [
      "\r",
      " 34%|██████████████████████████▊                                                    | 408/1200 [03:58<08:49,  1.50it/s]"
     ]
    },
    {
     "name": "stdout",
     "output_type": "stream",
     "text": [
      "Sanity Check Failed due to width at the start\n",
      "4.51284138716\n"
     ]
    },
    {
     "name": "stderr",
     "output_type": "stream",
     "text": [
      "\r",
      " 34%|██████████████████████████▉                                                    | 409/1200 [03:59<08:49,  1.49it/s]"
     ]
    },
    {
     "name": "stdout",
     "output_type": "stream",
     "text": [
      "Sanity Check Failed due to width at the start\n",
      "4.48294304108\n"
     ]
    },
    {
     "name": "stderr",
     "output_type": "stream",
     "text": [
      "\r",
      " 34%|██████████████████████████▉                                                    | 410/1200 [04:00<08:46,  1.50it/s]"
     ]
    },
    {
     "name": "stdout",
     "output_type": "stream",
     "text": [
      "Sanity Check Failed due to width at the start\n",
      "4.4420826878\n"
     ]
    },
    {
     "name": "stderr",
     "output_type": "stream",
     "text": [
      " 34%|███████████████████████████▎                                                   | 414/1200 [04:02<08:31,  1.54it/s]"
     ]
    },
    {
     "name": "stdout",
     "output_type": "stream",
     "text": [
      "Sanity Check Failed due to width at the start\n",
      "4.47371131239\n"
     ]
    },
    {
     "name": "stderr",
     "output_type": "stream",
     "text": [
      "\r",
      " 35%|███████████████████████████▎                                                   | 415/1200 [04:03<08:27,  1.55it/s]"
     ]
    },
    {
     "name": "stdout",
     "output_type": "stream",
     "text": [
      "Sanity Check Failed due to width at the start\n",
      "4.66209740689\n"
     ]
    },
    {
     "name": "stderr",
     "output_type": "stream",
     "text": [
      "\r",
      " 35%|███████████████████████████▍                                                   | 416/1200 [04:03<08:24,  1.55it/s]"
     ]
    },
    {
     "name": "stdout",
     "output_type": "stream",
     "text": [
      "Sanity Check Failed due to width at the start\n",
      "4.64161639637\n"
     ]
    },
    {
     "name": "stderr",
     "output_type": "stream",
     "text": [
      "\r",
      " 35%|███████████████████████████▍                                                   | 417/1200 [04:04<08:25,  1.55it/s]"
     ]
    },
    {
     "name": "stdout",
     "output_type": "stream",
     "text": [
      "Sanity Check Failed due to width at the start\n",
      "4.70986398352\n"
     ]
    },
    {
     "name": "stderr",
     "output_type": "stream",
     "text": [
      "\r",
      " 35%|███████████████████████████▌                                                   | 418/1200 [04:05<08:25,  1.55it/s]"
     ]
    },
    {
     "name": "stdout",
     "output_type": "stream",
     "text": [
      "Sanity Check Failed due to width at the start\n",
      "4.67584373357\n"
     ]
    },
    {
     "name": "stderr",
     "output_type": "stream",
     "text": [
      "\r",
      " 35%|███████████████████████████▌                                                   | 419/1200 [04:05<08:24,  1.55it/s]"
     ]
    },
    {
     "name": "stdout",
     "output_type": "stream",
     "text": [
      "Sanity Check Failed due to width at the start\n",
      "4.70928872416\n"
     ]
    },
    {
     "name": "stderr",
     "output_type": "stream",
     "text": [
      "\r",
      " 35%|███████████████████████████▋                                                   | 420/1200 [04:06<08:26,  1.54it/s]"
     ]
    },
    {
     "name": "stdout",
     "output_type": "stream",
     "text": [
      "Sanity Check Failed due to width at the start\n",
      "4.74419278814\n",
      "Sanity Check Failed due to curvature\n",
      "0.0610765162998\n"
     ]
    },
    {
     "name": "stderr",
     "output_type": "stream",
     "text": [
      "\r",
      " 35%|███████████████████████████▋                                                   | 421/1200 [04:07<08:33,  1.52it/s]"
     ]
    },
    {
     "name": "stdout",
     "output_type": "stream",
     "text": [
      "Sanity Check Failed due to width at the start\n",
      "4.58571059861\n",
      "Sanity Check Failed due to curvature\n",
      "0.130737333452\n"
     ]
    },
    {
     "name": "stderr",
     "output_type": "stream",
     "text": [
      "\r",
      " 35%|███████████████████████████▊                                                   | 422/1200 [04:07<08:26,  1.54it/s]"
     ]
    },
    {
     "name": "stdout",
     "output_type": "stream",
     "text": [
      "Sanity Check Failed due to width at the start\n",
      "4.51102939183\n"
     ]
    },
    {
     "name": "stderr",
     "output_type": "stream",
     "text": [
      "\r",
      " 35%|███████████████████████████▊                                                   | 423/1200 [04:08<08:17,  1.56it/s]"
     ]
    },
    {
     "name": "stdout",
     "output_type": "stream",
     "text": [
      "Sanity Check Failed due to width at the start\n",
      "4.78909000247\n"
     ]
    },
    {
     "name": "stderr",
     "output_type": "stream",
     "text": [
      "\r",
      " 35%|███████████████████████████▉                                                   | 424/1200 [04:09<08:14,  1.57it/s]"
     ]
    },
    {
     "name": "stdout",
     "output_type": "stream",
     "text": [
      "Calculating Centroids\n",
      "Sanity Check Failed due to width at the start\n",
      "5.50314166975\n",
      "Sanity Check Failed due to width at the end\n",
      "8.50443877638\n"
     ]
    },
    {
     "name": "stderr",
     "output_type": "stream",
     "text": [
      "\r",
      " 35%|███████████████████████████▉                                                   | 425/1200 [04:09<08:18,  1.55it/s]"
     ]
    },
    {
     "name": "stdout",
     "output_type": "stream",
     "text": [
      "Calculating Centroids\n",
      "Sanity Check Failed due to width at the start\n",
      "5.29167405613\n",
      "Sanity Check Failed due to width at the end\n",
      "7.29963543254\n"
     ]
    },
    {
     "name": "stderr",
     "output_type": "stream",
     "text": [
      "\r",
      " 36%|████████████████████████████                                                   | 426/1200 [04:10<08:19,  1.55it/s]"
     ]
    },
    {
     "name": "stdout",
     "output_type": "stream",
     "text": [
      "Calculating Centroids\n",
      "Sanity Check Failed due to width at the start\n",
      "5.52723316695\n",
      "Sanity Check Failed due to width at the end\n",
      "6.09740938961\n"
     ]
    },
    {
     "name": "stderr",
     "output_type": "stream",
     "text": [
      "\r",
      " 36%|████████████████████████████                                                   | 427/1200 [04:11<08:05,  1.59it/s]"
     ]
    },
    {
     "name": "stdout",
     "output_type": "stream",
     "text": [
      "Calculating Centroids\n",
      "Sanity Check Failed due to width at the start\n",
      "7.48959990489\n",
      "Sanity Check Failed due to curvature\n",
      "-109.893090638\n"
     ]
    },
    {
     "name": "stderr",
     "output_type": "stream",
     "text": [
      "\r",
      " 36%|████████████████████████████▏                                                  | 428/1200 [04:11<07:59,  1.61it/s]"
     ]
    },
    {
     "name": "stdout",
     "output_type": "stream",
     "text": [
      "Calculating Centroids\n",
      "Sanity Check Failed due to width at the start\n",
      "7.50872846025\n",
      "Sanity Check Failed due to width at the end\n",
      "8.12864555754\n"
     ]
    },
    {
     "name": "stderr",
     "output_type": "stream",
     "text": [
      "\r",
      " 36%|████████████████████████████▏                                                  | 429/1200 [04:12<07:52,  1.63it/s]"
     ]
    },
    {
     "name": "stdout",
     "output_type": "stream",
     "text": [
      "Calculating Centroids\n",
      "Sanity Check Failed due to width at the start\n",
      "6.9406016195\n"
     ]
    },
    {
     "name": "stderr",
     "output_type": "stream",
     "text": [
      "\r",
      " 36%|████████████████████████████▎                                                  | 430/1200 [04:12<07:47,  1.65it/s]"
     ]
    },
    {
     "name": "stdout",
     "output_type": "stream",
     "text": [
      "Calculating Centroids\n",
      "Sanity Check Failed due to width at the start\n",
      "6.95009641603\n"
     ]
    },
    {
     "name": "stderr",
     "output_type": "stream",
     "text": [
      "\r",
      " 36%|████████████████████████████▎                                                  | 431/1200 [04:13<07:41,  1.67it/s]"
     ]
    },
    {
     "name": "stdout",
     "output_type": "stream",
     "text": [
      "Calculating Centroids\n",
      "Sanity Check Failed due to width at the start\n",
      "7.17590619367\n"
     ]
    },
    {
     "name": "stderr",
     "output_type": "stream",
     "text": [
      "\r",
      " 36%|████████████████████████████▍                                                  | 432/1200 [04:14<07:42,  1.66it/s]"
     ]
    },
    {
     "name": "stdout",
     "output_type": "stream",
     "text": [
      "Calculating Centroids\n",
      "Sanity Check Failed due to width at the start\n",
      "7.06751438147\n"
     ]
    },
    {
     "name": "stderr",
     "output_type": "stream",
     "text": [
      "\r",
      " 36%|████████████████████████████▌                                                  | 433/1200 [04:14<07:42,  1.66it/s]"
     ]
    },
    {
     "name": "stdout",
     "output_type": "stream",
     "text": [
      "Calculating Centroids\n",
      "Sanity Check Failed due to width at the start\n",
      "6.88492083231\n"
     ]
    },
    {
     "name": "stderr",
     "output_type": "stream",
     "text": [
      "\r",
      " 36%|████████████████████████████▌                                                  | 434/1200 [04:15<07:40,  1.66it/s]"
     ]
    },
    {
     "name": "stdout",
     "output_type": "stream",
     "text": [
      "Calculating Centroids\n",
      "Sanity Check Failed due to width at the start\n",
      "6.64797379967\n"
     ]
    },
    {
     "name": "stderr",
     "output_type": "stream",
     "text": [
      "\r",
      " 36%|████████████████████████████▋                                                  | 435/1200 [04:15<07:44,  1.65it/s]"
     ]
    },
    {
     "name": "stdout",
     "output_type": "stream",
     "text": [
      "Calculating Centroids\n",
      "Sanity Check Failed due to width at the start\n",
      "6.64849895315\n"
     ]
    },
    {
     "name": "stderr",
     "output_type": "stream",
     "text": [
      "\r",
      " 36%|████████████████████████████▋                                                  | 436/1200 [04:16<07:41,  1.66it/s]"
     ]
    },
    {
     "name": "stdout",
     "output_type": "stream",
     "text": [
      "Calculating Centroids\n",
      "Sanity Check Failed due to width at the start\n",
      "6.62192788612\n"
     ]
    },
    {
     "name": "stderr",
     "output_type": "stream",
     "text": [
      "\r",
      " 36%|████████████████████████████▊                                                  | 437/1200 [04:17<07:38,  1.67it/s]"
     ]
    },
    {
     "name": "stdout",
     "output_type": "stream",
     "text": [
      "Calculating Centroids\n",
      "Sanity Check Failed due to width at the start\n",
      "6.49522602701\n"
     ]
    },
    {
     "name": "stderr",
     "output_type": "stream",
     "text": [
      "\r",
      " 36%|████████████████████████████▊                                                  | 438/1200 [04:17<07:33,  1.68it/s]"
     ]
    },
    {
     "name": "stdout",
     "output_type": "stream",
     "text": [
      "Calculating Centroids\n",
      "Sanity Check Failed due to width at the start\n",
      "6.4200578011\n"
     ]
    },
    {
     "name": "stderr",
     "output_type": "stream",
     "text": [
      "\r",
      " 37%|████████████████████████████▉                                                  | 439/1200 [04:18<07:27,  1.70it/s]"
     ]
    },
    {
     "name": "stdout",
     "output_type": "stream",
     "text": [
      "Calculating Centroids\n",
      "Sanity Check Failed due to width at the start\n",
      "8.41528425475\n",
      "Sanity Check Failed due to width at the end\n",
      "8.68241704053\n",
      "Sanity Check Failed due to curvature\n",
      "-213.921604805\n"
     ]
    },
    {
     "name": "stderr",
     "output_type": "stream",
     "text": [
      "\r",
      " 37%|████████████████████████████▉                                                  | 440/1200 [04:18<07:29,  1.69it/s]"
     ]
    },
    {
     "name": "stdout",
     "output_type": "stream",
     "text": [
      "Calculating Centroids\n",
      "Sanity Check Failed due to width at the start\n",
      "10.2290978228\n",
      "Sanity Check Failed due to width at the end\n",
      "11.1241195384\n",
      "Sanity Check Failed due to curvature\n",
      "-16.1299002947\n"
     ]
    },
    {
     "name": "stderr",
     "output_type": "stream",
     "text": [
      "\r",
      " 37%|█████████████████████████████                                                  | 441/1200 [04:19<07:35,  1.67it/s]"
     ]
    },
    {
     "name": "stdout",
     "output_type": "stream",
     "text": [
      "Calculating Centroids\n",
      "Sanity Check Failed due to width at the start\n",
      "10.0729703556\n",
      "Sanity Check Failed due to width at the end\n",
      "11.8252989208\n"
     ]
    },
    {
     "name": "stderr",
     "output_type": "stream",
     "text": [
      "\r",
      " 37%|█████████████████████████████                                                  | 442/1200 [04:20<07:41,  1.64it/s]"
     ]
    },
    {
     "name": "stdout",
     "output_type": "stream",
     "text": [
      "Calculating Centroids\n",
      "Sanity Check Failed due to width at the start\n",
      "6.53030605968\n",
      "Sanity Check Failed due to width at the end\n",
      "7.47722101488\n",
      "Sanity Check Failed due to curvature\n",
      "-29.0141373573\n"
     ]
    },
    {
     "name": "stderr",
     "output_type": "stream",
     "text": [
      "\r",
      " 37%|█████████████████████████████▏                                                 | 443/1200 [04:20<07:36,  1.66it/s]"
     ]
    },
    {
     "name": "stdout",
     "output_type": "stream",
     "text": [
      "Calculating Centroids\n",
      "Sanity Check Failed due to width at the start\n",
      "9.14001696797\n",
      "Sanity Check Failed due to width at the end\n",
      "10.7667825601\n"
     ]
    },
    {
     "name": "stderr",
     "output_type": "stream",
     "text": [
      "\r",
      " 37%|█████████████████████████████▏                                                 | 444/1200 [04:21<07:37,  1.65it/s]"
     ]
    },
    {
     "name": "stdout",
     "output_type": "stream",
     "text": [
      "Calculating Centroids\n",
      "Sanity Check Failed due to width at the start\n",
      "5.87315365551\n",
      "Sanity Check Failed due to width at the end\n",
      "5.95617482155\n",
      "Sanity Check Failed due to curvature\n",
      "6.40637891711\n"
     ]
    },
    {
     "name": "stderr",
     "output_type": "stream",
     "text": [
      "\r",
      " 37%|█████████████████████████████▎                                                 | 445/1200 [04:21<07:29,  1.68it/s]"
     ]
    },
    {
     "name": "stdout",
     "output_type": "stream",
     "text": [
      "Calculating Centroids\n",
      "Sanity Check Failed due to width at the start\n",
      "5.56821328347\n"
     ]
    },
    {
     "name": "stderr",
     "output_type": "stream",
     "text": [
      "\r",
      " 37%|█████████████████████████████▎                                                 | 446/1200 [04:22<07:30,  1.67it/s]"
     ]
    },
    {
     "name": "stdout",
     "output_type": "stream",
     "text": [
      "Calculating Centroids\n",
      "Sanity Check Failed due to width at the start\n",
      "5.6210920326\n"
     ]
    },
    {
     "name": "stderr",
     "output_type": "stream",
     "text": [
      "\r",
      " 37%|█████████████████████████████▍                                                 | 447/1200 [04:22<07:27,  1.68it/s]"
     ]
    },
    {
     "name": "stdout",
     "output_type": "stream",
     "text": [
      "Calculating Centroids\n",
      "Sanity Check Failed due to width at the start\n",
      "5.77468318588\n"
     ]
    },
    {
     "name": "stderr",
     "output_type": "stream",
     "text": [
      "\r",
      " 37%|█████████████████████████████▍                                                 | 448/1200 [04:23<07:26,  1.68it/s]"
     ]
    },
    {
     "name": "stdout",
     "output_type": "stream",
     "text": [
      "Calculating Centroids\n",
      "Sanity Check Failed due to width at the start\n",
      "6.3189239426\n"
     ]
    },
    {
     "name": "stderr",
     "output_type": "stream",
     "text": [
      "\r",
      " 37%|█████████████████████████████▌                                                 | 449/1200 [04:24<07:24,  1.69it/s]"
     ]
    },
    {
     "name": "stdout",
     "output_type": "stream",
     "text": [
      "Calculating Centroids\n",
      "Sanity Check Failed due to width at the start\n",
      "6.64895816079\n"
     ]
    },
    {
     "name": "stderr",
     "output_type": "stream",
     "text": [
      "\r",
      " 38%|█████████████████████████████▋                                                 | 450/1200 [04:24<07:19,  1.71it/s]"
     ]
    },
    {
     "name": "stdout",
     "output_type": "stream",
     "text": [
      "Calculating Centroids\n",
      "Sanity Check Failed due to width at the start\n",
      "5.88224509503\n",
      "Sanity Check Failed due to width at the end\n",
      "5.89818085205\n"
     ]
    },
    {
     "name": "stderr",
     "output_type": "stream",
     "text": [
      "\r",
      " 38%|█████████████████████████████▋                                                 | 451/1200 [04:25<07:21,  1.70it/s]"
     ]
    },
    {
     "name": "stdout",
     "output_type": "stream",
     "text": [
      "Calculating Centroids\n",
      "Sanity Check Failed due to width at the start\n",
      "5.74183348385\n",
      "Sanity Check Failed due to width at the end\n",
      "6.01130066596\n"
     ]
    },
    {
     "name": "stderr",
     "output_type": "stream",
     "text": [
      "\r",
      " 38%|█████████████████████████████▊                                                 | 452/1200 [04:25<07:20,  1.70it/s]"
     ]
    },
    {
     "name": "stdout",
     "output_type": "stream",
     "text": [
      "Calculating Centroids\n",
      "Sanity Check Failed due to width at the start\n",
      "5.6142990574\n",
      "Sanity Check Failed due to width at the end\n",
      "5.77188116905\n"
     ]
    },
    {
     "name": "stderr",
     "output_type": "stream",
     "text": [
      "\r",
      " 38%|█████████████████████████████▊                                                 | 453/1200 [04:26<07:23,  1.68it/s]"
     ]
    },
    {
     "name": "stdout",
     "output_type": "stream",
     "text": [
      "Calculating Centroids\n",
      "Sanity Check Failed due to width at the start\n",
      "5.38701672911\n",
      "Sanity Check Failed due to width at the end\n",
      "6.7503849828\n",
      "Sanity Check Failed due to curvature\n",
      "-71.6717523763\n"
     ]
    },
    {
     "name": "stderr",
     "output_type": "stream",
     "text": [
      "\r",
      " 38%|█████████████████████████████▉                                                 | 454/1200 [04:27<07:23,  1.68it/s]"
     ]
    },
    {
     "name": "stdout",
     "output_type": "stream",
     "text": [
      "Calculating Centroids\n",
      "Sanity Check Failed due to width at the start\n",
      "5.12969516456\n",
      "Sanity Check Failed due to width at the end\n",
      "5.95143506707\n",
      "Sanity Check Failed due to curvature\n",
      "6.42960732096\n"
     ]
    },
    {
     "name": "stderr",
     "output_type": "stream",
     "text": [
      "\r",
      " 38%|█████████████████████████████▉                                                 | 455/1200 [04:27<07:30,  1.66it/s]"
     ]
    },
    {
     "name": "stdout",
     "output_type": "stream",
     "text": [
      "Calculating Centroids\n",
      "Sanity Check Failed due to width at the start\n",
      "5.05719379282\n",
      "Sanity Check Failed due to width at the end\n",
      "6.48277297117\n"
     ]
    },
    {
     "name": "stderr",
     "output_type": "stream",
     "text": [
      "\r",
      " 38%|██████████████████████████████                                                 | 456/1200 [04:28<07:30,  1.65it/s]"
     ]
    },
    {
     "name": "stdout",
     "output_type": "stream",
     "text": [
      "Calculating Centroids\n"
     ]
    },
    {
     "name": "stderr",
     "output_type": "stream",
     "text": [
      " 40%|███████████████████████████████▎                                               | 475/1200 [04:38<06:28,  1.87it/s]"
     ]
    },
    {
     "name": "stdout",
     "output_type": "stream",
     "text": [
      "Sanity Check Failed due to width at the end\n",
      "-22.6526085905\n",
      "Sanity Check Failed due to curvature\n",
      "-8.92231087562\n"
     ]
    },
    {
     "name": "stderr",
     "output_type": "stream",
     "text": [
      "\r",
      " 40%|███████████████████████████████▎                                               | 476/1200 [04:39<06:28,  1.86it/s]"
     ]
    },
    {
     "name": "stdout",
     "output_type": "stream",
     "text": [
      "Sanity Check Failed due to width at the end\n",
      "-22.6260312657\n",
      "Sanity Check Failed due to curvature\n",
      "-9.14650624619\n"
     ]
    },
    {
     "name": "stderr",
     "output_type": "stream",
     "text": [
      "\r",
      " 40%|███████████████████████████████▍                                               | 477/1200 [04:39<06:33,  1.84it/s]"
     ]
    },
    {
     "name": "stdout",
     "output_type": "stream",
     "text": [
      "Sanity Check Failed due to width at the end\n",
      "-20.3730385335\n",
      "Sanity Check Failed due to curvature\n",
      "-26.9784616132\n"
     ]
    },
    {
     "name": "stderr",
     "output_type": "stream",
     "text": [
      "\r",
      " 40%|███████████████████████████████▍                                               | 478/1200 [04:40<06:31,  1.84it/s]"
     ]
    },
    {
     "name": "stdout",
     "output_type": "stream",
     "text": [
      "Sanity Check Failed due to width at the start\n",
      "4.44843015759\n",
      "Sanity Check Failed due to width at the end\n",
      "-15.5428213544\n"
     ]
    },
    {
     "name": "stderr",
     "output_type": "stream",
     "text": [
      "\r",
      " 40%|███████████████████████████████▌                                               | 479/1200 [04:40<06:28,  1.86it/s]"
     ]
    },
    {
     "name": "stdout",
     "output_type": "stream",
     "text": [
      "Sanity Check Failed due to width at the start\n",
      "4.55865395764\n",
      "Sanity Check Failed due to width at the end\n",
      "-13.2787051084\n"
     ]
    },
    {
     "name": "stderr",
     "output_type": "stream",
     "text": [
      "\r",
      " 40%|███████████████████████████████▌                                               | 480/1200 [04:41<06:31,  1.84it/s]"
     ]
    },
    {
     "name": "stdout",
     "output_type": "stream",
     "text": [
      "Sanity Check Failed due to width at the start\n",
      "4.60376848361\n",
      "Sanity Check Failed due to width at the end\n",
      "-12.7197977686\n"
     ]
    },
    {
     "name": "stderr",
     "output_type": "stream",
     "text": [
      "\r",
      " 40%|███████████████████████████████▋                                               | 481/1200 [04:42<06:27,  1.85it/s]"
     ]
    },
    {
     "name": "stdout",
     "output_type": "stream",
     "text": [
      "Sanity Check Failed due to width at the start\n",
      "4.61405430416\n",
      "Sanity Check Failed due to width at the end\n",
      "-11.5686643547\n"
     ]
    },
    {
     "name": "stderr",
     "output_type": "stream",
     "text": [
      "\r",
      " 40%|███████████████████████████████▋                                               | 482/1200 [04:42<06:28,  1.85it/s]"
     ]
    },
    {
     "name": "stdout",
     "output_type": "stream",
     "text": [
      "Sanity Check Failed due to width at the start\n",
      "4.64884073574\n",
      "Sanity Check Failed due to width at the end\n",
      "-11.0550566443\n"
     ]
    },
    {
     "name": "stderr",
     "output_type": "stream",
     "text": [
      "\r",
      " 40%|███████████████████████████████▊                                               | 483/1200 [04:43<06:28,  1.85it/s]"
     ]
    },
    {
     "name": "stdout",
     "output_type": "stream",
     "text": [
      "Sanity Check Failed due to width at the start\n",
      "4.69963809753\n",
      "Sanity Check Failed due to width at the end\n",
      "-10.6589815813\n"
     ]
    },
    {
     "name": "stderr",
     "output_type": "stream",
     "text": [
      "\r",
      " 40%|███████████████████████████████▊                                               | 484/1200 [04:43<06:31,  1.83it/s]"
     ]
    },
    {
     "name": "stdout",
     "output_type": "stream",
     "text": [
      "Sanity Check Failed due to width at the start\n",
      "4.7166166088\n",
      "Sanity Check Failed due to width at the end\n",
      "-10.4348456273\n"
     ]
    },
    {
     "name": "stderr",
     "output_type": "stream",
     "text": [
      "\r",
      " 40%|███████████████████████████████▉                                               | 485/1200 [04:44<06:30,  1.83it/s]"
     ]
    },
    {
     "name": "stdout",
     "output_type": "stream",
     "text": [
      "Calculating Centroids\n",
      "Sanity Check Failed due to width at the start\n",
      "6.58010137818\n"
     ]
    },
    {
     "name": "stderr",
     "output_type": "stream",
     "text": [
      "\r",
      " 40%|███████████████████████████████▉                                               | 486/1200 [04:44<06:39,  1.79it/s]"
     ]
    },
    {
     "name": "stdout",
     "output_type": "stream",
     "text": [
      "Calculating Centroids\n",
      "Sanity Check Failed due to width at the start\n",
      "6.5808518352\n"
     ]
    },
    {
     "name": "stderr",
     "output_type": "stream",
     "text": [
      "\r",
      " 41%|████████████████████████████████                                               | 487/1200 [04:45<06:40,  1.78it/s]"
     ]
    },
    {
     "name": "stdout",
     "output_type": "stream",
     "text": [
      "Calculating Centroids\n",
      "Sanity Check Failed due to width at the start\n",
      "6.6384821538\n",
      "Sanity Check Failed due to curvature\n",
      "0.165923983835\n"
     ]
    },
    {
     "name": "stderr",
     "output_type": "stream",
     "text": [
      "\r",
      " 41%|████████████████████████████████▏                                              | 488/1200 [04:45<06:44,  1.76it/s]"
     ]
    },
    {
     "name": "stdout",
     "output_type": "stream",
     "text": [
      "Calculating Centroids\n",
      "Sanity Check Failed due to width at the start\n",
      "6.65181543707\n",
      "Sanity Check Failed due to curvature\n",
      "0.137559102096\n"
     ]
    },
    {
     "name": "stderr",
     "output_type": "stream",
     "text": [
      "\r",
      " 41%|████████████████████████████████▏                                              | 489/1200 [04:46<06:48,  1.74it/s]"
     ]
    },
    {
     "name": "stdout",
     "output_type": "stream",
     "text": [
      "Calculating Centroids\n",
      "Sanity Check Failed due to width at the start\n",
      "6.26013661608\n"
     ]
    },
    {
     "name": "stderr",
     "output_type": "stream",
     "text": [
      "\r",
      " 41%|████████████████████████████████▎                                              | 490/1200 [04:47<06:47,  1.74it/s]"
     ]
    },
    {
     "name": "stdout",
     "output_type": "stream",
     "text": [
      "Calculating Centroids\n",
      "Sanity Check Failed due to width at the start\n",
      "6.7960500365\n",
      "Sanity Check Failed due to curvature\n",
      "0.0810021905098\n"
     ]
    },
    {
     "name": "stderr",
     "output_type": "stream",
     "text": [
      "\r",
      " 41%|████████████████████████████████▎                                              | 491/1200 [04:47<06:44,  1.75it/s]"
     ]
    },
    {
     "name": "stdout",
     "output_type": "stream",
     "text": [
      "Calculating Centroids\n",
      "Sanity Check Failed due to width at the start\n",
      "6.78919784588\n",
      "Sanity Check Failed due to curvature\n",
      "0.0737257887186\n"
     ]
    },
    {
     "name": "stderr",
     "output_type": "stream",
     "text": [
      "\r",
      " 41%|████████████████████████████████▍                                              | 492/1200 [04:48<06:44,  1.75it/s]"
     ]
    },
    {
     "name": "stdout",
     "output_type": "stream",
     "text": [
      "Calculating Centroids\n",
      "Sanity Check Failed due to width at the start\n",
      "6.68688313402\n",
      "Sanity Check Failed due to curvature\n",
      "0.0634678159823\n"
     ]
    },
    {
     "name": "stderr",
     "output_type": "stream",
     "text": [
      "\r",
      " 41%|████████████████████████████████▍                                              | 493/1200 [04:48<06:41,  1.76it/s]"
     ]
    },
    {
     "name": "stdout",
     "output_type": "stream",
     "text": [
      "Calculating Centroids\n",
      "Sanity Check Failed due to width at the start\n",
      "6.82605763248\n",
      "Sanity Check Failed due to curvature\n",
      "0.0578915916582\n"
     ]
    },
    {
     "name": "stderr",
     "output_type": "stream",
     "text": [
      "\r",
      " 41%|████████████████████████████████▌                                              | 494/1200 [04:49<06:42,  1.75it/s]"
     ]
    },
    {
     "name": "stdout",
     "output_type": "stream",
     "text": [
      "Calculating Centroids\n",
      "Sanity Check Failed due to width at the start\n",
      "6.94150925843\n",
      "Sanity Check Failed due to width at the end\n",
      "7.05533859024\n",
      "Sanity Check Failed due to curvature\n",
      "0.0451210405498\n"
     ]
    },
    {
     "name": "stderr",
     "output_type": "stream",
     "text": [
      "\r",
      " 41%|████████████████████████████████▌                                              | 495/1200 [04:49<06:46,  1.73it/s]"
     ]
    },
    {
     "name": "stdout",
     "output_type": "stream",
     "text": [
      "Calculating Centroids\n",
      "Sanity Check Failed due to width at the start\n",
      "9.36957374098\n",
      "Sanity Check Failed due to width at the end\n",
      "10.9702778831\n",
      "Sanity Check Failed due to curvature\n",
      "0.0468345276685\n"
     ]
    },
    {
     "name": "stderr",
     "output_type": "stream",
     "text": [
      "\r",
      " 41%|████████████████████████████████▋                                              | 496/1200 [04:50<07:02,  1.67it/s]"
     ]
    },
    {
     "name": "stdout",
     "output_type": "stream",
     "text": [
      "Calculating Centroids\n",
      "Sanity Check Failed due to width at the start\n",
      "9.05749618343\n",
      "Sanity Check Failed due to width at the end\n",
      "10.7971500613\n",
      "Sanity Check Failed due to curvature\n",
      "0.0709112399709\n"
     ]
    },
    {
     "name": "stderr",
     "output_type": "stream",
     "text": [
      "\r",
      " 41%|████████████████████████████████▋                                              | 497/1200 [04:51<07:03,  1.66it/s]"
     ]
    },
    {
     "name": "stdout",
     "output_type": "stream",
     "text": [
      "Calculating Centroids\n",
      "Sanity Check Failed due to width at the start\n",
      "6.51502928716\n",
      "Sanity Check Failed due to width at the end\n",
      "9.00651926493\n"
     ]
    },
    {
     "name": "stderr",
     "output_type": "stream",
     "text": [
      "\r",
      " 42%|████████████████████████████████▊                                              | 498/1200 [04:51<07:02,  1.66it/s]"
     ]
    },
    {
     "name": "stdout",
     "output_type": "stream",
     "text": [
      "Calculating Centroids\n",
      "Sanity Check Failed due to width at the start\n",
      "6.49075815535\n",
      "Sanity Check Failed due to width at the end\n",
      "8.92328429523\n"
     ]
    },
    {
     "name": "stderr",
     "output_type": "stream",
     "text": [
      "\r",
      " 42%|████████████████████████████████▊                                              | 499/1200 [04:52<06:59,  1.67it/s]"
     ]
    },
    {
     "name": "stdout",
     "output_type": "stream",
     "text": [
      "Calculating Centroids\n",
      "Sanity Check Failed due to width at the start\n",
      "6.43163116213\n",
      "Sanity Check Failed due to width at the end\n",
      "8.70495161961\n"
     ]
    },
    {
     "name": "stderr",
     "output_type": "stream",
     "text": [
      "\r",
      " 42%|████████████████████████████████▉                                              | 500/1200 [04:53<07:05,  1.65it/s]"
     ]
    },
    {
     "name": "stdout",
     "output_type": "stream",
     "text": [
      "Calculating Centroids\n",
      "Sanity Check Failed due to width at the start\n",
      "6.34601758233\n",
      "Sanity Check Failed due to width at the end\n",
      "8.29751722282\n"
     ]
    },
    {
     "name": "stderr",
     "output_type": "stream",
     "text": [
      "\r",
      " 42%|████████████████████████████████▉                                              | 501/1200 [04:53<07:05,  1.64it/s]"
     ]
    },
    {
     "name": "stdout",
     "output_type": "stream",
     "text": [
      "Calculating Centroids\n",
      "Sanity Check Failed due to width at the start\n",
      "6.34773812264\n",
      "Sanity Check Failed due to width at the end\n",
      "8.28441410304\n"
     ]
    },
    {
     "name": "stderr",
     "output_type": "stream",
     "text": [
      "\r",
      " 42%|█████████████████████████████████                                              | 502/1200 [04:54<07:07,  1.63it/s]"
     ]
    },
    {
     "name": "stdout",
     "output_type": "stream",
     "text": [
      "Calculating Centroids\n",
      "Sanity Check Failed due to width at the start\n",
      "6.42095365614\n",
      "Sanity Check Failed due to width at the end\n",
      "8.25917179609\n"
     ]
    },
    {
     "name": "stderr",
     "output_type": "stream",
     "text": [
      "\r",
      " 42%|█████████████████████████████████                                              | 503/1200 [04:54<07:06,  1.63it/s]"
     ]
    },
    {
     "name": "stdout",
     "output_type": "stream",
     "text": [
      "Calculating Centroids\n",
      "Sanity Check Failed due to width at the start\n",
      "6.42872837263\n",
      "Sanity Check Failed due to width at the end\n",
      "8.23285606481\n"
     ]
    },
    {
     "name": "stderr",
     "output_type": "stream",
     "text": [
      "\r",
      " 42%|█████████████████████████████████▏                                             | 504/1200 [04:55<07:07,  1.63it/s]"
     ]
    },
    {
     "name": "stdout",
     "output_type": "stream",
     "text": [
      "Calculating Centroids\n",
      "Sanity Check Failed due to width at the start\n",
      "6.46987213913\n",
      "Sanity Check Failed due to width at the end\n",
      "8.2396114114\n"
     ]
    },
    {
     "name": "stderr",
     "output_type": "stream",
     "text": [
      "\r",
      " 42%|█████████████████████████████████▏                                             | 505/1200 [04:56<07:09,  1.62it/s]"
     ]
    },
    {
     "name": "stdout",
     "output_type": "stream",
     "text": [
      "Calculating Centroids\n",
      "Sanity Check Failed due to width at the start\n",
      "6.42903327625\n",
      "Sanity Check Failed due to width at the end\n",
      "8.19752270462\n"
     ]
    },
    {
     "name": "stderr",
     "output_type": "stream",
     "text": [
      "\r",
      " 42%|█████████████████████████████████▎                                             | 506/1200 [04:56<07:08,  1.62it/s]"
     ]
    },
    {
     "name": "stdout",
     "output_type": "stream",
     "text": [
      "Calculating Centroids\n",
      "Sanity Check Failed due to width at the start\n",
      "6.50738802133\n",
      "Sanity Check Failed due to width at the end\n",
      "8.36352814955\n"
     ]
    },
    {
     "name": "stderr",
     "output_type": "stream",
     "text": [
      "\r",
      " 42%|█████████████████████████████████▍                                             | 507/1200 [04:57<07:12,  1.60it/s]"
     ]
    },
    {
     "name": "stdout",
     "output_type": "stream",
     "text": [
      "Calculating Centroids\n",
      "Sanity Check Failed due to width at the start\n",
      "6.47374448177\n",
      "Sanity Check Failed due to width at the end\n",
      "8.2331163471\n"
     ]
    },
    {
     "name": "stderr",
     "output_type": "stream",
     "text": [
      "\r",
      " 42%|█████████████████████████████████▍                                             | 508/1200 [04:58<07:06,  1.62it/s]"
     ]
    },
    {
     "name": "stdout",
     "output_type": "stream",
     "text": [
      "Calculating Centroids\n",
      "Sanity Check Failed due to width at the start\n",
      "6.39994871072\n",
      "Sanity Check Failed due to width at the end\n",
      "7.9503660468\n"
     ]
    },
    {
     "name": "stderr",
     "output_type": "stream",
     "text": [
      "\r",
      " 42%|█████████████████████████████████▌                                             | 509/1200 [04:58<07:07,  1.61it/s]"
     ]
    },
    {
     "name": "stdout",
     "output_type": "stream",
     "text": [
      "Calculating Centroids\n",
      "Sanity Check Failed due to width at the start\n",
      "6.40891623406\n",
      "Sanity Check Failed due to width at the end\n",
      "7.96523348455\n"
     ]
    },
    {
     "name": "stderr",
     "output_type": "stream",
     "text": [
      "\r",
      " 42%|█████████████████████████████████▌                                             | 510/1200 [04:59<07:10,  1.60it/s]"
     ]
    },
    {
     "name": "stdout",
     "output_type": "stream",
     "text": [
      "Calculating Centroids\n",
      "Sanity Check Failed due to width at the start\n",
      "6.35219863459\n",
      "Sanity Check Failed due to width at the end\n",
      "7.54654386172\n"
     ]
    },
    {
     "name": "stderr",
     "output_type": "stream",
     "text": [
      "\r",
      " 43%|█████████████████████████████████▋                                             | 511/1200 [04:59<07:06,  1.61it/s]"
     ]
    },
    {
     "name": "stdout",
     "output_type": "stream",
     "text": [
      "Calculating Centroids\n",
      "Sanity Check Failed due to width at the start\n",
      "6.39436125766\n",
      "Sanity Check Failed due to width at the end\n",
      "7.65904528252\n"
     ]
    },
    {
     "name": "stderr",
     "output_type": "stream",
     "text": [
      "\r",
      " 43%|█████████████████████████████████▋                                             | 512/1200 [05:00<07:05,  1.62it/s]"
     ]
    },
    {
     "name": "stdout",
     "output_type": "stream",
     "text": [
      "Calculating Centroids\n",
      "Sanity Check Failed due to width at the start\n",
      "6.45119897104\n",
      "Sanity Check Failed due to width at the end\n",
      "7.83433570846\n"
     ]
    },
    {
     "name": "stderr",
     "output_type": "stream",
     "text": [
      "\r",
      " 43%|█████████████████████████████████▊                                             | 513/1200 [05:01<07:06,  1.61it/s]"
     ]
    },
    {
     "name": "stdout",
     "output_type": "stream",
     "text": [
      "Calculating Centroids\n",
      "Sanity Check Failed due to width at the start\n",
      "6.51578250881\n",
      "Sanity Check Failed due to width at the end\n",
      "8.00432158691\n"
     ]
    },
    {
     "name": "stderr",
     "output_type": "stream",
     "text": [
      "\r",
      " 43%|█████████████████████████████████▊                                             | 514/1200 [05:01<07:02,  1.62it/s]"
     ]
    },
    {
     "name": "stdout",
     "output_type": "stream",
     "text": [
      "Calculating Centroids\n",
      "Sanity Check Failed due to width at the start\n",
      "6.56458946698\n",
      "Sanity Check Failed due to width at the end\n",
      "8.14541351751\n"
     ]
    },
    {
     "name": "stderr",
     "output_type": "stream",
     "text": [
      "\r",
      " 43%|█████████████████████████████████▉                                             | 515/1200 [05:02<06:58,  1.64it/s]"
     ]
    },
    {
     "name": "stdout",
     "output_type": "stream",
     "text": [
      "Calculating Centroids\n",
      "Sanity Check Failed due to width at the start\n",
      "6.58948847652\n",
      "Sanity Check Failed due to width at the end\n",
      "8.13534132022\n"
     ]
    },
    {
     "name": "stderr",
     "output_type": "stream",
     "text": [
      "\r",
      " 43%|█████████████████████████████████▉                                             | 516/1200 [05:02<06:59,  1.63it/s]"
     ]
    },
    {
     "name": "stdout",
     "output_type": "stream",
     "text": [
      "Calculating Centroids\n",
      "Sanity Check Failed due to width at the start\n",
      "6.61189168042\n",
      "Sanity Check Failed due to width at the end\n",
      "8.04594017267\n"
     ]
    },
    {
     "name": "stderr",
     "output_type": "stream",
     "text": [
      "\r",
      " 43%|██████████████████████████████████                                             | 517/1200 [05:03<06:58,  1.63it/s]"
     ]
    },
    {
     "name": "stdout",
     "output_type": "stream",
     "text": [
      "Calculating Centroids\n",
      "Sanity Check Failed due to width at the start\n",
      "6.66897107205\n",
      "Sanity Check Failed due to width at the end\n",
      "8.19039836437\n"
     ]
    },
    {
     "name": "stderr",
     "output_type": "stream",
     "text": [
      "\r",
      " 43%|██████████████████████████████████                                             | 518/1200 [05:04<06:58,  1.63it/s]"
     ]
    },
    {
     "name": "stdout",
     "output_type": "stream",
     "text": [
      "Calculating Centroids\n",
      "Sanity Check Failed due to width at the start\n",
      "6.72786904181\n",
      "Sanity Check Failed due to width at the end\n",
      "8.24344278033\n"
     ]
    },
    {
     "name": "stderr",
     "output_type": "stream",
     "text": [
      "\r",
      " 43%|██████████████████████████████████▏                                            | 519/1200 [05:04<06:58,  1.63it/s]"
     ]
    },
    {
     "name": "stdout",
     "output_type": "stream",
     "text": [
      "Calculating Centroids\n",
      "Sanity Check Failed due to width at the start\n",
      "6.75913813818\n",
      "Sanity Check Failed due to width at the end\n",
      "8.33806984098\n"
     ]
    },
    {
     "name": "stderr",
     "output_type": "stream",
     "text": [
      "\r",
      " 43%|██████████████████████████████████▏                                            | 520/1200 [05:05<06:59,  1.62it/s]"
     ]
    },
    {
     "name": "stdout",
     "output_type": "stream",
     "text": [
      "Calculating Centroids\n",
      "Sanity Check Failed due to width at the start\n",
      "6.73336750148\n",
      "Sanity Check Failed due to width at the end\n",
      "7.95173863402\n"
     ]
    },
    {
     "name": "stderr",
     "output_type": "stream",
     "text": [
      "\r",
      " 43%|██████████████████████████████████▎                                            | 521/1200 [05:06<06:59,  1.62it/s]"
     ]
    },
    {
     "name": "stdout",
     "output_type": "stream",
     "text": [
      "Calculating Centroids\n",
      "Sanity Check Failed due to width at the start\n",
      "6.79693630261\n",
      "Sanity Check Failed due to width at the end\n",
      "8.21671204311\n"
     ]
    },
    {
     "name": "stderr",
     "output_type": "stream",
     "text": [
      "\r",
      " 44%|██████████████████████████████████▎                                            | 522/1200 [05:06<06:59,  1.62it/s]"
     ]
    },
    {
     "name": "stdout",
     "output_type": "stream",
     "text": [
      "Calculating Centroids\n",
      "Sanity Check Failed due to width at the start\n",
      "6.73020730806\n",
      "Sanity Check Failed due to width at the end\n",
      "7.86915730807\n"
     ]
    },
    {
     "name": "stderr",
     "output_type": "stream",
     "text": [
      "\r",
      " 44%|██████████████████████████████████▍                                            | 523/1200 [05:07<06:57,  1.62it/s]"
     ]
    },
    {
     "name": "stdout",
     "output_type": "stream",
     "text": [
      "Calculating Centroids\n",
      "Sanity Check Failed due to width at the start\n",
      "6.69595595412\n",
      "Sanity Check Failed due to width at the end\n",
      "7.79780199386\n"
     ]
    },
    {
     "name": "stderr",
     "output_type": "stream",
     "text": [
      "\r",
      " 44%|██████████████████████████████████▍                                            | 524/1200 [05:07<06:55,  1.63it/s]"
     ]
    },
    {
     "name": "stdout",
     "output_type": "stream",
     "text": [
      "Calculating Centroids\n",
      "Sanity Check Failed due to width at the start\n",
      "6.60143317216\n",
      "Sanity Check Failed due to width at the end\n",
      "7.15697509798\n"
     ]
    },
    {
     "name": "stderr",
     "output_type": "stream",
     "text": [
      "\r",
      " 44%|██████████████████████████████████▌                                            | 525/1200 [05:08<06:53,  1.63it/s]"
     ]
    },
    {
     "name": "stdout",
     "output_type": "stream",
     "text": [
      "Calculating Centroids\n",
      "Sanity Check Failed due to width at the start\n",
      "6.54620770005\n",
      "Sanity Check Failed due to width at the end\n",
      "7.33203796444\n"
     ]
    },
    {
     "name": "stderr",
     "output_type": "stream",
     "text": [
      "\r",
      " 44%|██████████████████████████████████▋                                            | 526/1200 [05:09<06:48,  1.65it/s]"
     ]
    },
    {
     "name": "stdout",
     "output_type": "stream",
     "text": [
      "Calculating Centroids\n",
      "Sanity Check Failed due to width at the start\n",
      "6.49504595159\n",
      "Sanity Check Failed due to width at the end\n",
      "6.9377079541\n"
     ]
    },
    {
     "name": "stderr",
     "output_type": "stream",
     "text": [
      "\r",
      " 44%|██████████████████████████████████▋                                            | 527/1200 [05:09<06:43,  1.67it/s]"
     ]
    },
    {
     "name": "stdout",
     "output_type": "stream",
     "text": [
      "Calculating Centroids\n",
      "Sanity Check Failed due to width at the start\n",
      "6.18826515086\n"
     ]
    },
    {
     "name": "stderr",
     "output_type": "stream",
     "text": [
      "\r",
      " 44%|██████████████████████████████████▊                                            | 528/1200 [05:10<06:43,  1.66it/s]"
     ]
    },
    {
     "name": "stdout",
     "output_type": "stream",
     "text": [
      "Calculating Centroids\n",
      "Sanity Check Failed due to width at the start\n",
      "6.27621127385\n"
     ]
    },
    {
     "name": "stderr",
     "output_type": "stream",
     "text": [
      "\r",
      " 44%|██████████████████████████████████▊                                            | 529/1200 [05:10<06:37,  1.69it/s]"
     ]
    },
    {
     "name": "stdout",
     "output_type": "stream",
     "text": [
      "Calculating Centroids\n",
      "Sanity Check Failed due to width at the start\n",
      "6.46136401895\n",
      "Sanity Check Failed due to width at the end\n",
      "7.88555697648\n"
     ]
    },
    {
     "name": "stderr",
     "output_type": "stream",
     "text": [
      "\r",
      " 44%|██████████████████████████████████▉                                            | 530/1200 [05:11<06:34,  1.70it/s]"
     ]
    },
    {
     "name": "stdout",
     "output_type": "stream",
     "text": [
      "Calculating Centroids\n",
      "Sanity Check Failed due to width at the start\n",
      "6.44558495905\n",
      "Sanity Check Failed due to width at the end\n",
      "7.95707481957\n"
     ]
    },
    {
     "name": "stderr",
     "output_type": "stream",
     "text": [
      "\r",
      " 44%|██████████████████████████████████▉                                            | 531/1200 [05:12<06:36,  1.69it/s]"
     ]
    },
    {
     "name": "stdout",
     "output_type": "stream",
     "text": [
      "Calculating Centroids\n",
      "Sanity Check Failed due to width at the start\n",
      "6.51582949824\n",
      "Sanity Check Failed due to width at the end\n",
      "8.01479617373\n"
     ]
    },
    {
     "name": "stderr",
     "output_type": "stream",
     "text": [
      "\r",
      " 44%|███████████████████████████████████                                            | 532/1200 [05:12<06:39,  1.67it/s]"
     ]
    },
    {
     "name": "stdout",
     "output_type": "stream",
     "text": [
      "Calculating Centroids\n",
      "Sanity Check Failed due to width at the start\n",
      "6.53615758911\n",
      "Sanity Check Failed due to width at the end\n",
      "7.98124412668\n"
     ]
    },
    {
     "name": "stderr",
     "output_type": "stream",
     "text": [
      "\r",
      " 44%|███████████████████████████████████                                            | 533/1200 [05:13<06:37,  1.68it/s]"
     ]
    },
    {
     "name": "stdout",
     "output_type": "stream",
     "text": [
      "Calculating Centroids\n",
      "Sanity Check Failed due to width at the start\n",
      "6.5289611354\n",
      "Sanity Check Failed due to width at the end\n",
      "7.99394322909\n"
     ]
    },
    {
     "name": "stderr",
     "output_type": "stream",
     "text": [
      "\r",
      " 44%|███████████████████████████████████▏                                           | 534/1200 [05:13<06:40,  1.66it/s]"
     ]
    },
    {
     "name": "stdout",
     "output_type": "stream",
     "text": [
      "Calculating Centroids\n"
     ]
    },
    {
     "name": "stderr",
     "output_type": "stream",
     "text": [
      " 46%|████████████████████████████████████                                           | 547/1200 [05:20<05:53,  1.85it/s]"
     ]
    },
    {
     "name": "stdout",
     "output_type": "stream",
     "text": [
      "Sanity Check Failed due to width at the end\n",
      "3.85389873109\n"
     ]
    },
    {
     "name": "stderr",
     "output_type": "stream",
     "text": [
      "\r",
      " 46%|████████████████████████████████████                                           | 548/1200 [05:21<05:49,  1.87it/s]"
     ]
    },
    {
     "name": "stdout",
     "output_type": "stream",
     "text": [
      "Sanity Check Failed due to width at the end\n",
      "3.57904043175\n"
     ]
    },
    {
     "name": "stderr",
     "output_type": "stream",
     "text": [
      " 46%|████████████████████████████████████▏                                          | 550/1200 [05:22<05:47,  1.87it/s]"
     ]
    },
    {
     "name": "stdout",
     "output_type": "stream",
     "text": [
      "Sanity Check Failed due to width at the end\n",
      "3.80411694702\n"
     ]
    },
    {
     "name": "stderr",
     "output_type": "stream",
     "text": [
      " 46%|████████████████████████████████████▎                                          | 552/1200 [05:23<05:41,  1.90it/s]"
     ]
    },
    {
     "name": "stdout",
     "output_type": "stream",
     "text": [
      "Sanity Check Failed due to width at the end\n",
      "4.15245591215\n"
     ]
    },
    {
     "name": "stderr",
     "output_type": "stream",
     "text": [
      "\r",
      " 46%|████████████████████████████████████▍                                          | 553/1200 [05:24<05:51,  1.84it/s]"
     ]
    },
    {
     "name": "stdout",
     "output_type": "stream",
     "text": [
      "Sanity Check Failed due to width at the end\n",
      "3.60480165444\n"
     ]
    },
    {
     "name": "stderr",
     "output_type": "stream",
     "text": [
      " 46%|████████████████████████████████████▌                                          | 556/1200 [05:25<05:41,  1.88it/s]"
     ]
    },
    {
     "name": "stdout",
     "output_type": "stream",
     "text": [
      "Sanity Check Failed due to width at the end\n",
      "1.16702882916\n"
     ]
    },
    {
     "name": "stderr",
     "output_type": "stream",
     "text": [
      "\r",
      " 46%|████████████████████████████████████▋                                          | 557/1200 [05:26<05:35,  1.92it/s]"
     ]
    },
    {
     "name": "stdout",
     "output_type": "stream",
     "text": [
      "Sanity Check Failed due to width at the end\n",
      "-0.977629357871\n",
      "Sanity Check Failed due to curvature\n",
      "-8.68142765036\n"
     ]
    },
    {
     "name": "stderr",
     "output_type": "stream",
     "text": [
      "\r",
      " 46%|████████████████████████████████████▋                                          | 558/1200 [05:26<05:36,  1.91it/s]"
     ]
    },
    {
     "name": "stdout",
     "output_type": "stream",
     "text": [
      "Sanity Check Failed due to width at the end\n",
      "-3.67088741777\n"
     ]
    },
    {
     "name": "stderr",
     "output_type": "stream",
     "text": [
      "\r",
      " 47%|████████████████████████████████████▊                                          | 559/1200 [05:27<05:32,  1.93it/s]"
     ]
    },
    {
     "name": "stdout",
     "output_type": "stream",
     "text": [
      "Sanity Check Failed due to width at the end\n",
      "-6.14189443541\n"
     ]
    },
    {
     "name": "stderr",
     "output_type": "stream",
     "text": [
      "\r",
      " 47%|████████████████████████████████████▊                                          | 560/1200 [05:27<05:33,  1.92it/s]"
     ]
    },
    {
     "name": "stdout",
     "output_type": "stream",
     "text": [
      "Sanity Check Failed due to width at the end\n",
      "-10.6137885351\n"
     ]
    },
    {
     "name": "stderr",
     "output_type": "stream",
     "text": [
      "\r",
      " 47%|████████████████████████████████████▉                                          | 561/1200 [05:28<05:33,  1.92it/s]"
     ]
    },
    {
     "name": "stdout",
     "output_type": "stream",
     "text": [
      "Sanity Check Failed due to width at the end\n",
      "-6.3903051453\n"
     ]
    },
    {
     "name": "stderr",
     "output_type": "stream",
     "text": [
      "\r",
      " 47%|████████████████████████████████████▉                                          | 562/1200 [05:28<05:31,  1.93it/s]"
     ]
    },
    {
     "name": "stdout",
     "output_type": "stream",
     "text": [
      "Sanity Check Failed due to width at the end\n",
      "-2.08518018902\n",
      "Sanity Check Failed due to curvature\n",
      "-8.45515406562\n"
     ]
    },
    {
     "name": "stderr",
     "output_type": "stream",
     "text": [
      "\r",
      " 47%|█████████████████████████████████████                                          | 563/1200 [05:29<05:33,  1.91it/s]"
     ]
    },
    {
     "name": "stdout",
     "output_type": "stream",
     "text": [
      "Sanity Check Failed due to width at the end\n",
      "1.02763796272\n"
     ]
    },
    {
     "name": "stderr",
     "output_type": "stream",
     "text": [
      "\r",
      " 47%|█████████████████████████████████████▏                                         | 564/1200 [05:29<05:31,  1.92it/s]"
     ]
    },
    {
     "name": "stdout",
     "output_type": "stream",
     "text": [
      "Sanity Check Failed due to width at the end\n",
      "0.380697830364\n",
      "Sanity Check Failed due to curvature\n",
      "-6.36317971117\n"
     ]
    },
    {
     "name": "stderr",
     "output_type": "stream",
     "text": [
      "\r",
      " 47%|█████████████████████████████████████▏                                         | 565/1200 [05:30<05:27,  1.94it/s]"
     ]
    },
    {
     "name": "stdout",
     "output_type": "stream",
     "text": [
      "Sanity Check Failed due to width at the end\n",
      "-3.90577515781\n"
     ]
    },
    {
     "name": "stderr",
     "output_type": "stream",
     "text": [
      "\r",
      " 47%|█████████████████████████████████████▎                                         | 566/1200 [05:30<05:32,  1.91it/s]"
     ]
    },
    {
     "name": "stdout",
     "output_type": "stream",
     "text": [
      "Calculating Centroids\n",
      "Sanity Check Failed due to width at the start\n",
      "2.7206590538\n",
      "Sanity Check Failed due to width at the end\n",
      "5.48561474883\n",
      "Sanity Check Failed due to curvature\n",
      "0.0591784465397\n"
     ]
    },
    {
     "name": "stderr",
     "output_type": "stream",
     "text": [
      "\r",
      " 47%|█████████████████████████████████████▎                                         | 567/1200 [05:31<05:39,  1.86it/s]"
     ]
    },
    {
     "name": "stdout",
     "output_type": "stream",
     "text": [
      "Calculating Centroids\n",
      "Sanity Check Failed due to width at the end\n",
      "11.7782705547\n",
      "Sanity Check Failed due to curvature\n",
      "0.0205185314685\n"
     ]
    },
    {
     "name": "stderr",
     "output_type": "stream",
     "text": [
      "\r",
      " 47%|█████████████████████████████████████▍                                         | 568/1200 [05:32<05:48,  1.81it/s]"
     ]
    },
    {
     "name": "stdout",
     "output_type": "stream",
     "text": [
      "Calculating Centroids\n",
      "Sanity Check Failed due to width at the end\n",
      "17.0140332408\n",
      "Sanity Check Failed due to curvature\n",
      "0.0146853658144\n"
     ]
    },
    {
     "name": "stderr",
     "output_type": "stream",
     "text": [
      "\r",
      " 47%|█████████████████████████████████████▍                                         | 569/1200 [05:32<05:50,  1.80it/s]"
     ]
    },
    {
     "name": "stdout",
     "output_type": "stream",
     "text": [
      "Calculating Centroids\n",
      "Sanity Check Failed due to width at the end\n",
      "19.2218387441\n",
      "Sanity Check Failed due to curvature\n",
      "0.0109007998687\n"
     ]
    },
    {
     "name": "stderr",
     "output_type": "stream",
     "text": [
      "\r",
      " 48%|█████████████████████████████████████▌                                         | 570/1200 [05:33<05:54,  1.78it/s]"
     ]
    },
    {
     "name": "stdout",
     "output_type": "stream",
     "text": [
      "Calculating Centroids\n",
      "Sanity Check Failed due to width at the end\n",
      "13.931319779\n",
      "Sanity Check Failed due to curvature\n",
      "0.0109080804756\n"
     ]
    },
    {
     "name": "stderr",
     "output_type": "stream",
     "text": [
      "\r",
      " 48%|█████████████████████████████████████▌                                         | 571/1200 [05:33<05:53,  1.78it/s]"
     ]
    },
    {
     "name": "stdout",
     "output_type": "stream",
     "text": [
      "Calculating Centroids\n",
      "Sanity Check Failed due to width at the end\n",
      "23.3571475253\n",
      "Sanity Check Failed due to curvature\n",
      "0.00598617693164\n"
     ]
    },
    {
     "name": "stderr",
     "output_type": "stream",
     "text": [
      "\r",
      " 48%|█████████████████████████████████████▋                                         | 572/1200 [05:34<05:50,  1.79it/s]"
     ]
    },
    {
     "name": "stdout",
     "output_type": "stream",
     "text": [
      "Calculating Centroids\n",
      "Sanity Check Failed due to width at the end\n",
      "12.9665863866\n",
      "Sanity Check Failed due to curvature\n",
      "0.00192839862043\n"
     ]
    },
    {
     "name": "stderr",
     "output_type": "stream",
     "text": [
      "\r",
      " 48%|█████████████████████████████████████▋                                         | 573/1200 [05:34<05:51,  1.79it/s]"
     ]
    },
    {
     "name": "stdout",
     "output_type": "stream",
     "text": [
      "Calculating Centroids\n",
      "Sanity Check Failed due to width at the start\n",
      "2.14545502391\n",
      "Sanity Check Failed due to width at the end\n",
      "6.1254106934\n",
      "Sanity Check Failed due to curvature\n",
      "0.0149281435649\n"
     ]
    },
    {
     "name": "stderr",
     "output_type": "stream",
     "text": [
      "\r",
      " 48%|█████████████████████████████████████▊                                         | 574/1200 [05:35<05:52,  1.77it/s]"
     ]
    },
    {
     "name": "stdout",
     "output_type": "stream",
     "text": [
      "Calculating Centroids\n",
      "Sanity Check Failed due to width at the start\n",
      "2.1286652238\n",
      "Sanity Check Failed due to width at the end\n",
      "2.86443223677\n",
      "Sanity Check Failed due to curvature\n",
      "8.09266979833e-06\n"
     ]
    },
    {
     "name": "stderr",
     "output_type": "stream",
     "text": [
      "\r",
      " 48%|█████████████████████████████████████▊                                         | 575/1200 [05:36<05:52,  1.77it/s]"
     ]
    },
    {
     "name": "stdout",
     "output_type": "stream",
     "text": [
      "Calculating Centroids\n",
      "Sanity Check Failed due to width at the start\n",
      "0.859880037746\n",
      "Sanity Check Failed due to width at the end\n",
      "-0.979759152358\n"
     ]
    },
    {
     "name": "stderr",
     "output_type": "stream",
     "text": [
      "\r",
      " 48%|█████████████████████████████████████▉                                         | 576/1200 [05:36<05:57,  1.75it/s]"
     ]
    },
    {
     "name": "stdout",
     "output_type": "stream",
     "text": [
      "Calculating Centroids\n",
      "Sanity Check Failed due to width at the start\n",
      "0.557173064539\n",
      "Sanity Check Failed due to width at the end\n",
      "1.96768366921\n",
      "Sanity Check Failed due to curvature\n",
      "-0.153651285329\n"
     ]
    },
    {
     "name": "stderr",
     "output_type": "stream",
     "text": [
      "\r",
      " 48%|█████████████████████████████████████▉                                         | 577/1200 [05:37<06:02,  1.72it/s]"
     ]
    },
    {
     "name": "stdout",
     "output_type": "stream",
     "text": [
      "Calculating Centroids\n",
      "Sanity Check Failed due to width at the start\n",
      "0.471307652776\n",
      "Sanity Check Failed due to width at the end\n",
      "2.09072286356\n"
     ]
    },
    {
     "name": "stderr",
     "output_type": "stream",
     "text": [
      "\r",
      " 48%|██████████████████████████████████████                                         | 578/1200 [05:37<06:04,  1.71it/s]"
     ]
    },
    {
     "name": "stdout",
     "output_type": "stream",
     "text": [
      "Calculating Centroids\n",
      "Sanity Check Failed due to width at the start\n",
      "0.489480568651\n",
      "Sanity Check Failed due to width at the end\n",
      "2.4669252852\n"
     ]
    },
    {
     "name": "stderr",
     "output_type": "stream",
     "text": [
      "\r",
      " 48%|██████████████████████████████████████                                         | 579/1200 [05:38<06:00,  1.72it/s]"
     ]
    },
    {
     "name": "stdout",
     "output_type": "stream",
     "text": [
      "Calculating Centroids\n",
      "Sanity Check Failed due to width at the start\n",
      "0.524955099177\n",
      "Sanity Check Failed due to width at the end\n",
      "4.68427972488\n"
     ]
    },
    {
     "name": "stderr",
     "output_type": "stream",
     "text": [
      "\r",
      " 48%|██████████████████████████████████████▏                                        | 580/1200 [05:38<06:02,  1.71it/s]"
     ]
    },
    {
     "name": "stdout",
     "output_type": "stream",
     "text": [
      "Calculating Centroids\n",
      "Sanity Check Failed due to width at the start\n",
      "2.12789909274\n",
      "Sanity Check Failed due to width at the end\n",
      "7.8202928707\n",
      "Sanity Check Failed due to curvature\n",
      "0.0551438723409\n"
     ]
    },
    {
     "name": "stderr",
     "output_type": "stream",
     "text": [
      "\r",
      " 48%|██████████████████████████████████████▏                                        | 581/1200 [05:39<05:56,  1.74it/s]"
     ]
    },
    {
     "name": "stdout",
     "output_type": "stream",
     "text": [
      "Calculating Centroids\n",
      "Sanity Check Failed due to width at the start\n",
      "2.13334183858\n",
      "Sanity Check Failed due to width at the end\n",
      "7.82207767178\n",
      "Sanity Check Failed due to curvature\n",
      "0.0352884787193\n"
     ]
    },
    {
     "name": "stderr",
     "output_type": "stream",
     "text": [
      "\r",
      " 48%|██████████████████████████████████████▎                                        | 582/1200 [05:40<05:53,  1.75it/s]"
     ]
    },
    {
     "name": "stdout",
     "output_type": "stream",
     "text": [
      "Calculating Centroids\n",
      "Sanity Check Failed due to width at the start\n",
      "2.13635838\n",
      "Sanity Check Failed due to width at the end\n",
      "5.54880100263\n",
      "Sanity Check Failed due to curvature\n",
      "0.0585555689092\n"
     ]
    },
    {
     "name": "stderr",
     "output_type": "stream",
     "text": [
      "\r",
      " 49%|██████████████████████████████████████▍                                        | 583/1200 [05:40<05:53,  1.74it/s]"
     ]
    },
    {
     "name": "stdout",
     "output_type": "stream",
     "text": [
      "Calculating Centroids\n",
      "Sanity Check Failed due to width at the end\n",
      "-5.45571018972\n",
      "Sanity Check Failed due to curvature\n",
      "-0.153881488084\n"
     ]
    },
    {
     "name": "stderr",
     "output_type": "stream",
     "text": [
      "\r",
      " 49%|██████████████████████████████████████▍                                        | 584/1200 [05:41<05:52,  1.75it/s]"
     ]
    },
    {
     "name": "stdout",
     "output_type": "stream",
     "text": [
      "Calculating Centroids\n",
      "Sanity Check Failed due to width at the end\n",
      "0.454628213346\n"
     ]
    },
    {
     "name": "stderr",
     "output_type": "stream",
     "text": [
      "\r",
      " 49%|██████████████████████████████████████▌                                        | 585/1200 [05:41<05:47,  1.77it/s]"
     ]
    },
    {
     "name": "stdout",
     "output_type": "stream",
     "text": [
      "Calculating Centroids\n",
      "Sanity Check Failed due to width at the start\n",
      "4.50387173814\n",
      "Sanity Check Failed due to width at the end\n",
      "-5.60214096352\n"
     ]
    },
    {
     "name": "stderr",
     "output_type": "stream",
     "text": [
      "\r",
      " 49%|██████████████████████████████████████▌                                        | 586/1200 [05:42<05:50,  1.75it/s]"
     ]
    },
    {
     "name": "stdout",
     "output_type": "stream",
     "text": [
      "Calculating Centroids\n",
      "Sanity Check Failed due to width at the start\n",
      "4.51091587348\n",
      "Sanity Check Failed due to width at the end\n",
      "13.282741398\n",
      "Sanity Check Failed due to curvature\n",
      "0.0141044659527\n"
     ]
    },
    {
     "name": "stderr",
     "output_type": "stream",
     "text": [
      "\r",
      " 49%|██████████████████████████████████████▋                                        | 587/1200 [05:42<05:46,  1.77it/s]"
     ]
    },
    {
     "name": "stdout",
     "output_type": "stream",
     "text": [
      "Calculating Centroids\n",
      "Sanity Check Failed due to width at the end\n",
      "7.6650959729\n",
      "Sanity Check Failed due to curvature\n",
      "0.0867972593549\n"
     ]
    },
    {
     "name": "stderr",
     "output_type": "stream",
     "text": [
      "\r",
      " 49%|██████████████████████████████████████▋                                        | 588/1200 [05:43<05:48,  1.76it/s]"
     ]
    },
    {
     "name": "stdout",
     "output_type": "stream",
     "text": [
      "Calculating Centroids\n",
      "Sanity Check Failed due to width at the start\n",
      "4.41614117026\n",
      "Sanity Check Failed due to width at the end\n",
      "17.0344252131\n",
      "Sanity Check Failed due to curvature\n",
      "0.0402300160513\n"
     ]
    },
    {
     "name": "stderr",
     "output_type": "stream",
     "text": [
      "\r",
      " 49%|██████████████████████████████████████▊                                        | 589/1200 [05:44<05:47,  1.76it/s]"
     ]
    },
    {
     "name": "stdout",
     "output_type": "stream",
     "text": [
      "Calculating Centroids\n",
      "Sanity Check Failed due to width at the end\n",
      "4.23272379312\n"
     ]
    },
    {
     "name": "stderr",
     "output_type": "stream",
     "text": [
      "\r",
      " 49%|██████████████████████████████████████▊                                        | 590/1200 [05:44<05:49,  1.75it/s]"
     ]
    },
    {
     "name": "stdout",
     "output_type": "stream",
     "text": [
      "Calculating Centroids\n",
      "Sanity Check Failed due to width at the end\n",
      "5.32604236978\n"
     ]
    },
    {
     "name": "stderr",
     "output_type": "stream",
     "text": [
      "\r",
      " 49%|██████████████████████████████████████▉                                        | 591/1200 [05:45<05:44,  1.77it/s]"
     ]
    },
    {
     "name": "stdout",
     "output_type": "stream",
     "text": [
      "Calculating Centroids\n",
      "Sanity Check Failed due to width at the end\n",
      "5.49404003209\n",
      "Sanity Check Failed due to curvature\n",
      "0.126255396823\n"
     ]
    },
    {
     "name": "stderr",
     "output_type": "stream",
     "text": [
      "\r",
      " 49%|██████████████████████████████████████▉                                        | 592/1200 [05:45<05:45,  1.76it/s]"
     ]
    },
    {
     "name": "stdout",
     "output_type": "stream",
     "text": [
      "Calculating Centroids\n",
      "Sanity Check Failed due to width at the end\n",
      "8.17361091005\n",
      "Sanity Check Failed due to curvature\n",
      "-0.00584799721175\n"
     ]
    },
    {
     "name": "stderr",
     "output_type": "stream",
     "text": [
      "\r",
      " 49%|███████████████████████████████████████                                        | 593/1200 [05:46<05:40,  1.78it/s]"
     ]
    },
    {
     "name": "stdout",
     "output_type": "stream",
     "text": [
      "Calculating Centroids\n",
      "Sanity Check Failed due to width at the start\n",
      "1.96518068162\n",
      "Sanity Check Failed due to width at the end\n",
      "-4.2440226735\n"
     ]
    },
    {
     "name": "stderr",
     "output_type": "stream",
     "text": [
      "\r",
      " 50%|███████████████████████████████████████                                        | 594/1200 [05:46<05:40,  1.78it/s]"
     ]
    },
    {
     "name": "stdout",
     "output_type": "stream",
     "text": [
      "Calculating Centroids\n",
      "Sanity Check Failed due to width at the start\n",
      "2.6022547384\n",
      "Sanity Check Failed due to width at the end\n",
      "13.7013793561\n"
     ]
    },
    {
     "name": "stderr",
     "output_type": "stream",
     "text": [
      "\r",
      " 50%|███████████████████████████████████████▏                                       | 595/1200 [05:47<05:42,  1.77it/s]"
     ]
    },
    {
     "name": "stdout",
     "output_type": "stream",
     "text": [
      "Calculating Centroids\n",
      "Sanity Check Failed due to width at the end\n",
      "8.03579154193\n",
      "Sanity Check Failed due to curvature\n",
      "0.0616026432022\n"
     ]
    },
    {
     "name": "stderr",
     "output_type": "stream",
     "text": [
      "\r",
      " 50%|███████████████████████████████████████▏                                       | 596/1200 [05:47<05:39,  1.78it/s]"
     ]
    },
    {
     "name": "stdout",
     "output_type": "stream",
     "text": [
      "Calculating Centroids\n",
      "Sanity Check Failed due to width at the start\n",
      "2.05204741711\n",
      "Sanity Check Failed due to width at the end\n",
      "-0.580319758533\n"
     ]
    },
    {
     "name": "stderr",
     "output_type": "stream",
     "text": [
      "\r",
      " 50%|███████████████████████████████████████▎                                       | 597/1200 [05:48<05:46,  1.74it/s]"
     ]
    },
    {
     "name": "stdout",
     "output_type": "stream",
     "text": [
      "Calculating Centroids\n",
      "Sanity Check Failed due to width at the start\n",
      "0.50586622816\n",
      "Sanity Check Failed due to width at the end\n",
      "-3.04369199552\n"
     ]
    },
    {
     "name": "stderr",
     "output_type": "stream",
     "text": [
      "\r",
      " 50%|███████████████████████████████████████▎                                       | 598/1200 [05:49<05:47,  1.73it/s]"
     ]
    },
    {
     "name": "stdout",
     "output_type": "stream",
     "text": [
      "Calculating Centroids\n",
      "Sanity Check Failed due to width at the start\n",
      "4.59090230496\n",
      "Sanity Check Failed due to width at the end\n",
      "8.53545745611\n",
      "Sanity Check Failed due to curvature\n",
      "-0.0161230727045\n"
     ]
    },
    {
     "name": "stderr",
     "output_type": "stream",
     "text": [
      "\r",
      " 50%|███████████████████████████████████████▍                                       | 599/1200 [05:49<05:47,  1.73it/s]"
     ]
    },
    {
     "name": "stdout",
     "output_type": "stream",
     "text": [
      "Calculating Centroids\n",
      "Sanity Check Failed due to width at the start\n",
      "4.58573234342\n",
      "Sanity Check Failed due to width at the end\n",
      "7.29089239624\n",
      "Sanity Check Failed due to curvature\n",
      "-0.0367666784897\n"
     ]
    },
    {
     "name": "stderr",
     "output_type": "stream",
     "text": [
      "\r",
      " 50%|███████████████████████████████████████▌                                       | 600/1200 [05:50<05:41,  1.75it/s]"
     ]
    },
    {
     "name": "stdout",
     "output_type": "stream",
     "text": [
      "Calculating Centroids\n",
      "Sanity Check Failed due to width at the start\n",
      "2.30734774485\n",
      "Sanity Check Failed due to width at the end\n",
      "543.593446331\n"
     ]
    },
    {
     "name": "stderr",
     "output_type": "stream",
     "text": [
      "\r",
      " 50%|███████████████████████████████████████▌                                       | 601/1200 [05:50<05:37,  1.78it/s]"
     ]
    },
    {
     "name": "stdout",
     "output_type": "stream",
     "text": [
      "Calculating Centroids\n",
      "No Right Pixels\n"
     ]
    },
    {
     "name": "stderr",
     "output_type": "stream",
     "text": [
      "\r",
      " 50%|███████████████████████████████████████▋                                       | 602/1200 [05:51<05:27,  1.83it/s]"
     ]
    },
    {
     "name": "stdout",
     "output_type": "stream",
     "text": [
      "Calculating Centroids\n",
      "Sanity Check Failed due to width at the end\n",
      "31.6920310857\n",
      "Sanity Check Failed due to curvature\n",
      "-0.0448549805403\n"
     ]
    },
    {
     "name": "stderr",
     "output_type": "stream",
     "text": [
      "\r",
      " 50%|███████████████████████████████████████▋                                       | 603/1200 [05:51<05:21,  1.86it/s]"
     ]
    },
    {
     "name": "stdout",
     "output_type": "stream",
     "text": [
      "Calculating Centroids\n",
      "No Right Pixels\n"
     ]
    },
    {
     "name": "stderr",
     "output_type": "stream",
     "text": [
      "\r",
      " 50%|███████████████████████████████████████▊                                       | 604/1200 [05:52<05:15,  1.89it/s]"
     ]
    },
    {
     "name": "stdout",
     "output_type": "stream",
     "text": [
      "Calculating Centroids\n",
      "Sanity Check Failed due to width at the start\n",
      "10.0448796435\n",
      "Sanity Check Failed due to width at the end\n",
      "1007.16266178\n"
     ]
    },
    {
     "name": "stderr",
     "output_type": "stream",
     "text": [
      "\r",
      " 50%|███████████████████████████████████████▊                                       | 605/1200 [05:52<05:16,  1.88it/s]"
     ]
    },
    {
     "name": "stdout",
     "output_type": "stream",
     "text": [
      "Calculating Centroids\n",
      "No Right Pixels\n"
     ]
    },
    {
     "name": "stderr",
     "output_type": "stream",
     "text": [
      "\r",
      " 50%|███████████████████████████████████████▉                                       | 606/1200 [05:53<05:13,  1.89it/s]"
     ]
    },
    {
     "name": "stdout",
     "output_type": "stream",
     "text": [
      "Calculating Centroids\n",
      "No Right Pixels\n"
     ]
    },
    {
     "name": "stderr",
     "output_type": "stream",
     "text": [
      "\r",
      " 51%|███████████████████████████████████████▉                                       | 607/1200 [05:53<05:05,  1.94it/s]"
     ]
    },
    {
     "name": "stdout",
     "output_type": "stream",
     "text": [
      "Calculating Centroids\n",
      "No Right Pixels\n"
     ]
    },
    {
     "name": "stderr",
     "output_type": "stream",
     "text": [
      "\r",
      " 51%|████████████████████████████████████████                                       | 608/1200 [05:54<04:59,  1.98it/s]"
     ]
    },
    {
     "name": "stdout",
     "output_type": "stream",
     "text": [
      "Calculating Centroids\n",
      "No Right Pixels\n"
     ]
    },
    {
     "name": "stderr",
     "output_type": "stream",
     "text": [
      "\r",
      " 51%|████████████████████████████████████████                                       | 609/1200 [05:54<04:57,  1.99it/s]"
     ]
    },
    {
     "name": "stdout",
     "output_type": "stream",
     "text": [
      "Calculating Centroids\n"
     ]
    },
    {
     "name": "stderr",
     "output_type": "stream",
     "text": [
      " 52%|████████████████████████████████████████▊                                      | 620/1200 [06:01<05:26,  1.78it/s]"
     ]
    },
    {
     "name": "stdout",
     "output_type": "stream",
     "text": [
      "Sanity Check Failed due to width at the start\n",
      "4.44234066547\n"
     ]
    },
    {
     "name": "stderr",
     "output_type": "stream",
     "text": [
      "\r",
      " 52%|████████████████████████████████████████▉                                      | 621/1200 [06:01<05:33,  1.74it/s]"
     ]
    },
    {
     "name": "stdout",
     "output_type": "stream",
     "text": [
      "Sanity Check Failed due to width at the start\n",
      "4.42011949712\n"
     ]
    },
    {
     "name": "stderr",
     "output_type": "stream",
     "text": [
      " 52%|█████████████████████████████████████████                                      | 623/1200 [06:02<05:38,  1.70it/s]"
     ]
    },
    {
     "name": "stdout",
     "output_type": "stream",
     "text": [
      "Sanity Check Failed due to width at the start\n",
      "4.43446901611\n"
     ]
    },
    {
     "name": "stderr",
     "output_type": "stream",
     "text": [
      "\r",
      " 52%|█████████████████████████████████████████                                      | 624/1200 [06:03<05:41,  1.68it/s]"
     ]
    },
    {
     "name": "stdout",
     "output_type": "stream",
     "text": [
      "Sanity Check Failed due to width at the start\n",
      "4.47112752419\n"
     ]
    },
    {
     "name": "stderr",
     "output_type": "stream",
     "text": [
      "\r",
      " 52%|█████████████████████████████████████████▏                                     | 625/1200 [06:04<05:45,  1.67it/s]"
     ]
    },
    {
     "name": "stdout",
     "output_type": "stream",
     "text": [
      "Sanity Check Failed due to width at the start\n",
      "4.47205670991\n"
     ]
    },
    {
     "name": "stderr",
     "output_type": "stream",
     "text": [
      "\r",
      " 52%|█████████████████████████████████████████▏                                     | 626/1200 [06:04<05:49,  1.64it/s]"
     ]
    },
    {
     "name": "stdout",
     "output_type": "stream",
     "text": [
      "Sanity Check Failed due to width at the start\n",
      "4.42668915967\n"
     ]
    },
    {
     "name": "stderr",
     "output_type": "stream",
     "text": [
      " 52%|█████████████████████████████████████████▍                                     | 629/1200 [06:06<05:51,  1.62it/s]"
     ]
    },
    {
     "name": "stdout",
     "output_type": "stream",
     "text": [
      "Sanity Check Failed due to width at the start\n",
      "4.42006604974\n"
     ]
    },
    {
     "name": "stderr",
     "output_type": "stream",
     "text": [
      "\r",
      " 52%|█████████████████████████████████████████▍                                     | 630/1200 [06:07<05:50,  1.63it/s]"
     ]
    },
    {
     "name": "stdout",
     "output_type": "stream",
     "text": [
      "Sanity Check Failed due to width at the start\n",
      "4.44917605734\n"
     ]
    },
    {
     "name": "stderr",
     "output_type": "stream",
     "text": [
      "\r",
      " 53%|█████████████████████████████████████████▌                                     | 631/1200 [06:07<05:54,  1.60it/s]"
     ]
    },
    {
     "name": "stdout",
     "output_type": "stream",
     "text": [
      "Sanity Check Failed due to width at the start\n",
      "4.4604930408\n"
     ]
    },
    {
     "name": "stderr",
     "output_type": "stream",
     "text": [
      "\r",
      " 53%|█████████████████████████████████████████▌                                     | 632/1200 [06:08<05:56,  1.59it/s]"
     ]
    },
    {
     "name": "stdout",
     "output_type": "stream",
     "text": [
      "Sanity Check Failed due to width at the start\n",
      "4.46263512983\n"
     ]
    },
    {
     "name": "stderr",
     "output_type": "stream",
     "text": [
      "\r",
      " 53%|█████████████████████████████████████████▋                                     | 633/1200 [06:09<05:54,  1.60it/s]"
     ]
    },
    {
     "name": "stdout",
     "output_type": "stream",
     "text": [
      "Sanity Check Failed due to width at the start\n",
      "4.47005469198\n"
     ]
    },
    {
     "name": "stderr",
     "output_type": "stream",
     "text": [
      "\r",
      " 53%|█████████████████████████████████████████▋                                     | 634/1200 [06:09<05:58,  1.58it/s]"
     ]
    },
    {
     "name": "stdout",
     "output_type": "stream",
     "text": [
      "Sanity Check Failed due to width at the start\n",
      "4.43635983117\n"
     ]
    },
    {
     "name": "stderr",
     "output_type": "stream",
     "text": [
      " 53%|█████████████████████████████████████████▊                                     | 636/1200 [06:10<05:53,  1.59it/s]"
     ]
    },
    {
     "name": "stdout",
     "output_type": "stream",
     "text": [
      "Sanity Check Failed due to width at the start\n",
      "4.47842358137\n"
     ]
    },
    {
     "name": "stderr",
     "output_type": "stream",
     "text": [
      "\r",
      " 53%|█████████████████████████████████████████▉                                     | 637/1200 [06:11<05:55,  1.58it/s]"
     ]
    },
    {
     "name": "stdout",
     "output_type": "stream",
     "text": [
      "Sanity Check Failed due to width at the start\n",
      "4.44544374506\n"
     ]
    },
    {
     "name": "stderr",
     "output_type": "stream",
     "text": [
      " 53%|██████████████████████████████████████████▏                                    | 640/1200 [06:13<05:57,  1.57it/s]"
     ]
    },
    {
     "ename": "KeyboardInterrupt",
     "evalue": "",
     "output_type": "error",
     "traceback": [
      "\u001b[0;31m---------------------------------------------------------------------------\u001b[0m",
      "\u001b[0;31mKeyboardInterrupt\u001b[0m                         Traceback (most recent call last)",
      "\u001b[0;32m<ipython-input-14-4443770a55c5>\u001b[0m in \u001b[0;36m<module>\u001b[0;34m()\u001b[0m\n\u001b[1;32m      4\u001b[0m \u001b[0mclip1\u001b[0m \u001b[1;33m=\u001b[0m \u001b[0mVideoFileClip\u001b[0m\u001b[1;33m(\u001b[0m\u001b[1;34m\"harder_challenge_video.mp4\"\u001b[0m\u001b[1;33m)\u001b[0m\u001b[1;33m\u001b[0m\u001b[0m\n\u001b[1;32m      5\u001b[0m \u001b[0mvideo_output_clip\u001b[0m \u001b[1;33m=\u001b[0m \u001b[0mclip1\u001b[0m\u001b[1;33m.\u001b[0m\u001b[0mfl_image\u001b[0m\u001b[1;33m(\u001b[0m\u001b[0mprocess_image\u001b[0m\u001b[1;33m)\u001b[0m \u001b[1;31m#NOTE: this function expects color images!!\u001b[0m\u001b[1;33m\u001b[0m\u001b[0m\n\u001b[0;32m----> 6\u001b[0;31m \u001b[0mget_ipython\u001b[0m\u001b[1;33m(\u001b[0m\u001b[1;33m)\u001b[0m\u001b[1;33m.\u001b[0m\u001b[0mmagic\u001b[0m\u001b[1;33m(\u001b[0m\u001b[1;34m'time video_output_clip.write_videofile(video_output, audio=False)'\u001b[0m\u001b[1;33m)\u001b[0m\u001b[1;33m\u001b[0m\u001b[0m\n\u001b[0m",
      "\u001b[0;32mC:\\ProgramData\\Miniconda3\\envs\\carnd-term1-gpu\\lib\\site-packages\\IPython\\core\\interactiveshell.py\u001b[0m in \u001b[0;36mmagic\u001b[0;34m(self, arg_s)\u001b[0m\n\u001b[1;32m   2156\u001b[0m         \u001b[0mmagic_name\u001b[0m\u001b[1;33m,\u001b[0m \u001b[0m_\u001b[0m\u001b[1;33m,\u001b[0m \u001b[0mmagic_arg_s\u001b[0m \u001b[1;33m=\u001b[0m \u001b[0marg_s\u001b[0m\u001b[1;33m.\u001b[0m\u001b[0mpartition\u001b[0m\u001b[1;33m(\u001b[0m\u001b[1;34m' '\u001b[0m\u001b[1;33m)\u001b[0m\u001b[1;33m\u001b[0m\u001b[0m\n\u001b[1;32m   2157\u001b[0m         \u001b[0mmagic_name\u001b[0m \u001b[1;33m=\u001b[0m \u001b[0mmagic_name\u001b[0m\u001b[1;33m.\u001b[0m\u001b[0mlstrip\u001b[0m\u001b[1;33m(\u001b[0m\u001b[0mprefilter\u001b[0m\u001b[1;33m.\u001b[0m\u001b[0mESC_MAGIC\u001b[0m\u001b[1;33m)\u001b[0m\u001b[1;33m\u001b[0m\u001b[0m\n\u001b[0;32m-> 2158\u001b[0;31m         \u001b[1;32mreturn\u001b[0m \u001b[0mself\u001b[0m\u001b[1;33m.\u001b[0m\u001b[0mrun_line_magic\u001b[0m\u001b[1;33m(\u001b[0m\u001b[0mmagic_name\u001b[0m\u001b[1;33m,\u001b[0m \u001b[0mmagic_arg_s\u001b[0m\u001b[1;33m)\u001b[0m\u001b[1;33m\u001b[0m\u001b[0m\n\u001b[0m\u001b[1;32m   2159\u001b[0m \u001b[1;33m\u001b[0m\u001b[0m\n\u001b[1;32m   2160\u001b[0m     \u001b[1;31m#-------------------------------------------------------------------------\u001b[0m\u001b[1;33m\u001b[0m\u001b[1;33m\u001b[0m\u001b[0m\n",
      "\u001b[0;32mC:\\ProgramData\\Miniconda3\\envs\\carnd-term1-gpu\\lib\\site-packages\\IPython\\core\\interactiveshell.py\u001b[0m in \u001b[0;36mrun_line_magic\u001b[0;34m(self, magic_name, line)\u001b[0m\n\u001b[1;32m   2077\u001b[0m                 \u001b[0mkwargs\u001b[0m\u001b[1;33m[\u001b[0m\u001b[1;34m'local_ns'\u001b[0m\u001b[1;33m]\u001b[0m \u001b[1;33m=\u001b[0m \u001b[0msys\u001b[0m\u001b[1;33m.\u001b[0m\u001b[0m_getframe\u001b[0m\u001b[1;33m(\u001b[0m\u001b[0mstack_depth\u001b[0m\u001b[1;33m)\u001b[0m\u001b[1;33m.\u001b[0m\u001b[0mf_locals\u001b[0m\u001b[1;33m\u001b[0m\u001b[0m\n\u001b[1;32m   2078\u001b[0m             \u001b[1;32mwith\u001b[0m \u001b[0mself\u001b[0m\u001b[1;33m.\u001b[0m\u001b[0mbuiltin_trap\u001b[0m\u001b[1;33m:\u001b[0m\u001b[1;33m\u001b[0m\u001b[0m\n\u001b[0;32m-> 2079\u001b[0;31m                 \u001b[0mresult\u001b[0m \u001b[1;33m=\u001b[0m \u001b[0mfn\u001b[0m\u001b[1;33m(\u001b[0m\u001b[1;33m*\u001b[0m\u001b[0margs\u001b[0m\u001b[1;33m,\u001b[0m\u001b[1;33m**\u001b[0m\u001b[0mkwargs\u001b[0m\u001b[1;33m)\u001b[0m\u001b[1;33m\u001b[0m\u001b[0m\n\u001b[0m\u001b[1;32m   2080\u001b[0m             \u001b[1;32mreturn\u001b[0m \u001b[0mresult\u001b[0m\u001b[1;33m\u001b[0m\u001b[0m\n\u001b[1;32m   2081\u001b[0m \u001b[1;33m\u001b[0m\u001b[0m\n",
      "\u001b[0;32m<decorator-gen-60>\u001b[0m in \u001b[0;36mtime\u001b[0;34m(self, line, cell, local_ns)\u001b[0m\n",
      "\u001b[0;32mC:\\ProgramData\\Miniconda3\\envs\\carnd-term1-gpu\\lib\\site-packages\\IPython\\core\\magic.py\u001b[0m in \u001b[0;36m<lambda>\u001b[0;34m(f, *a, **k)\u001b[0m\n\u001b[1;32m    186\u001b[0m     \u001b[1;31m# but it's overkill for just that one bit of state.\u001b[0m\u001b[1;33m\u001b[0m\u001b[1;33m\u001b[0m\u001b[0m\n\u001b[1;32m    187\u001b[0m     \u001b[1;32mdef\u001b[0m \u001b[0mmagic_deco\u001b[0m\u001b[1;33m(\u001b[0m\u001b[0marg\u001b[0m\u001b[1;33m)\u001b[0m\u001b[1;33m:\u001b[0m\u001b[1;33m\u001b[0m\u001b[0m\n\u001b[0;32m--> 188\u001b[0;31m         \u001b[0mcall\u001b[0m \u001b[1;33m=\u001b[0m \u001b[1;32mlambda\u001b[0m \u001b[0mf\u001b[0m\u001b[1;33m,\u001b[0m \u001b[1;33m*\u001b[0m\u001b[0ma\u001b[0m\u001b[1;33m,\u001b[0m \u001b[1;33m**\u001b[0m\u001b[0mk\u001b[0m\u001b[1;33m:\u001b[0m \u001b[0mf\u001b[0m\u001b[1;33m(\u001b[0m\u001b[1;33m*\u001b[0m\u001b[0ma\u001b[0m\u001b[1;33m,\u001b[0m \u001b[1;33m**\u001b[0m\u001b[0mk\u001b[0m\u001b[1;33m)\u001b[0m\u001b[1;33m\u001b[0m\u001b[0m\n\u001b[0m\u001b[1;32m    189\u001b[0m \u001b[1;33m\u001b[0m\u001b[0m\n\u001b[1;32m    190\u001b[0m         \u001b[1;32mif\u001b[0m \u001b[0mcallable\u001b[0m\u001b[1;33m(\u001b[0m\u001b[0marg\u001b[0m\u001b[1;33m)\u001b[0m\u001b[1;33m:\u001b[0m\u001b[1;33m\u001b[0m\u001b[0m\n",
      "\u001b[0;32mC:\\ProgramData\\Miniconda3\\envs\\carnd-term1-gpu\\lib\\site-packages\\IPython\\core\\magics\\execution.py\u001b[0m in \u001b[0;36mtime\u001b[0;34m(self, line, cell, local_ns)\u001b[0m\n\u001b[1;32m   1179\u001b[0m         \u001b[1;32mif\u001b[0m \u001b[0mmode\u001b[0m\u001b[1;33m==\u001b[0m\u001b[1;34m'eval'\u001b[0m\u001b[1;33m:\u001b[0m\u001b[1;33m\u001b[0m\u001b[0m\n\u001b[1;32m   1180\u001b[0m             \u001b[0mst\u001b[0m \u001b[1;33m=\u001b[0m \u001b[0mclock2\u001b[0m\u001b[1;33m(\u001b[0m\u001b[1;33m)\u001b[0m\u001b[1;33m\u001b[0m\u001b[0m\n\u001b[0;32m-> 1181\u001b[0;31m             \u001b[0mout\u001b[0m \u001b[1;33m=\u001b[0m \u001b[0meval\u001b[0m\u001b[1;33m(\u001b[0m\u001b[0mcode\u001b[0m\u001b[1;33m,\u001b[0m \u001b[0mglob\u001b[0m\u001b[1;33m,\u001b[0m \u001b[0mlocal_ns\u001b[0m\u001b[1;33m)\u001b[0m\u001b[1;33m\u001b[0m\u001b[0m\n\u001b[0m\u001b[1;32m   1182\u001b[0m             \u001b[0mend\u001b[0m \u001b[1;33m=\u001b[0m \u001b[0mclock2\u001b[0m\u001b[1;33m(\u001b[0m\u001b[1;33m)\u001b[0m\u001b[1;33m\u001b[0m\u001b[0m\n\u001b[1;32m   1183\u001b[0m         \u001b[1;32melse\u001b[0m\u001b[1;33m:\u001b[0m\u001b[1;33m\u001b[0m\u001b[0m\n",
      "\u001b[0;32m<timed eval>\u001b[0m in \u001b[0;36m<module>\u001b[0;34m()\u001b[0m\n",
      "\u001b[0;32m<decorator-gen-173>\u001b[0m in \u001b[0;36mwrite_videofile\u001b[0;34m(self, filename, fps, codec, bitrate, audio, audio_fps, preset, audio_nbytes, audio_codec, audio_bitrate, audio_bufsize, temp_audiofile, rewrite_audio, remove_temp, write_logfile, verbose, threads, ffmpeg_params)\u001b[0m\n",
      "\u001b[0;32mC:\\ProgramData\\Miniconda3\\envs\\carnd-term1-gpu\\lib\\site-packages\\moviepy\\decorators.py\u001b[0m in \u001b[0;36mrequires_duration\u001b[0;34m(f, clip, *a, **k)\u001b[0m\n\u001b[1;32m     52\u001b[0m         \u001b[1;32mraise\u001b[0m \u001b[0mValueError\u001b[0m\u001b[1;33m(\u001b[0m\u001b[1;34m\"Attribute 'duration' not set\"\u001b[0m\u001b[1;33m)\u001b[0m\u001b[1;33m\u001b[0m\u001b[0m\n\u001b[1;32m     53\u001b[0m     \u001b[1;32melse\u001b[0m\u001b[1;33m:\u001b[0m\u001b[1;33m\u001b[0m\u001b[0m\n\u001b[0;32m---> 54\u001b[0;31m         \u001b[1;32mreturn\u001b[0m \u001b[0mf\u001b[0m\u001b[1;33m(\u001b[0m\u001b[0mclip\u001b[0m\u001b[1;33m,\u001b[0m \u001b[1;33m*\u001b[0m\u001b[0ma\u001b[0m\u001b[1;33m,\u001b[0m \u001b[1;33m**\u001b[0m\u001b[0mk\u001b[0m\u001b[1;33m)\u001b[0m\u001b[1;33m\u001b[0m\u001b[0m\n\u001b[0m\u001b[1;32m     55\u001b[0m \u001b[1;33m\u001b[0m\u001b[0m\n\u001b[1;32m     56\u001b[0m \u001b[1;33m\u001b[0m\u001b[0m\n",
      "\u001b[0;32m<decorator-gen-172>\u001b[0m in \u001b[0;36mwrite_videofile\u001b[0;34m(self, filename, fps, codec, bitrate, audio, audio_fps, preset, audio_nbytes, audio_codec, audio_bitrate, audio_bufsize, temp_audiofile, rewrite_audio, remove_temp, write_logfile, verbose, threads, ffmpeg_params)\u001b[0m\n",
      "\u001b[0;32mC:\\ProgramData\\Miniconda3\\envs\\carnd-term1-gpu\\lib\\site-packages\\moviepy\\decorators.py\u001b[0m in \u001b[0;36muse_clip_fps_by_default\u001b[0;34m(f, clip, *a, **k)\u001b[0m\n\u001b[1;32m    135\u001b[0m              for (k,v) in k.items()}\n\u001b[1;32m    136\u001b[0m \u001b[1;33m\u001b[0m\u001b[0m\n\u001b[0;32m--> 137\u001b[0;31m     \u001b[1;32mreturn\u001b[0m \u001b[0mf\u001b[0m\u001b[1;33m(\u001b[0m\u001b[0mclip\u001b[0m\u001b[1;33m,\u001b[0m \u001b[1;33m*\u001b[0m\u001b[0mnew_a\u001b[0m\u001b[1;33m,\u001b[0m \u001b[1;33m**\u001b[0m\u001b[0mnew_kw\u001b[0m\u001b[1;33m)\u001b[0m\u001b[1;33m\u001b[0m\u001b[0m\n\u001b[0m",
      "\u001b[0;32m<decorator-gen-171>\u001b[0m in \u001b[0;36mwrite_videofile\u001b[0;34m(self, filename, fps, codec, bitrate, audio, audio_fps, preset, audio_nbytes, audio_codec, audio_bitrate, audio_bufsize, temp_audiofile, rewrite_audio, remove_temp, write_logfile, verbose, threads, ffmpeg_params)\u001b[0m\n",
      "\u001b[0;32mC:\\ProgramData\\Miniconda3\\envs\\carnd-term1-gpu\\lib\\site-packages\\moviepy\\decorators.py\u001b[0m in \u001b[0;36mconvert_masks_to_RGB\u001b[0;34m(f, clip, *a, **k)\u001b[0m\n\u001b[1;32m     20\u001b[0m     \u001b[1;32mif\u001b[0m \u001b[0mclip\u001b[0m\u001b[1;33m.\u001b[0m\u001b[0mismask\u001b[0m\u001b[1;33m:\u001b[0m\u001b[1;33m\u001b[0m\u001b[0m\n\u001b[1;32m     21\u001b[0m         \u001b[0mclip\u001b[0m \u001b[1;33m=\u001b[0m \u001b[0mclip\u001b[0m\u001b[1;33m.\u001b[0m\u001b[0mto_RGB\u001b[0m\u001b[1;33m(\u001b[0m\u001b[1;33m)\u001b[0m\u001b[1;33m\u001b[0m\u001b[0m\n\u001b[0;32m---> 22\u001b[0;31m     \u001b[1;32mreturn\u001b[0m \u001b[0mf\u001b[0m\u001b[1;33m(\u001b[0m\u001b[0mclip\u001b[0m\u001b[1;33m,\u001b[0m \u001b[1;33m*\u001b[0m\u001b[0ma\u001b[0m\u001b[1;33m,\u001b[0m \u001b[1;33m**\u001b[0m\u001b[0mk\u001b[0m\u001b[1;33m)\u001b[0m\u001b[1;33m\u001b[0m\u001b[0m\n\u001b[0m\u001b[1;32m     23\u001b[0m \u001b[1;33m\u001b[0m\u001b[0m\n\u001b[1;32m     24\u001b[0m \u001b[1;33m@\u001b[0m\u001b[0mdecorator\u001b[0m\u001b[1;33m.\u001b[0m\u001b[0mdecorator\u001b[0m\u001b[1;33m\u001b[0m\u001b[0m\n",
      "\u001b[0;32mC:\\ProgramData\\Miniconda3\\envs\\carnd-term1-gpu\\lib\\site-packages\\moviepy\\video\\VideoClip.py\u001b[0m in \u001b[0;36mwrite_videofile\u001b[0;34m(self, filename, fps, codec, bitrate, audio, audio_fps, preset, audio_nbytes, audio_codec, audio_bitrate, audio_bufsize, temp_audiofile, rewrite_audio, remove_temp, write_logfile, verbose, threads, ffmpeg_params)\u001b[0m\n\u001b[1;32m    336\u001b[0m                            \u001b[0maudiofile\u001b[0m \u001b[1;33m=\u001b[0m \u001b[0maudiofile\u001b[0m\u001b[1;33m,\u001b[0m\u001b[1;33m\u001b[0m\u001b[0m\n\u001b[1;32m    337\u001b[0m                            \u001b[0mverbose\u001b[0m\u001b[1;33m=\u001b[0m\u001b[0mverbose\u001b[0m\u001b[1;33m,\u001b[0m \u001b[0mthreads\u001b[0m\u001b[1;33m=\u001b[0m\u001b[0mthreads\u001b[0m\u001b[1;33m,\u001b[0m\u001b[1;33m\u001b[0m\u001b[0m\n\u001b[0;32m--> 338\u001b[0;31m                            ffmpeg_params=ffmpeg_params)\n\u001b[0m\u001b[1;32m    339\u001b[0m \u001b[1;33m\u001b[0m\u001b[0m\n\u001b[1;32m    340\u001b[0m         \u001b[1;32mif\u001b[0m \u001b[0mremove_temp\u001b[0m \u001b[1;32mand\u001b[0m \u001b[0mmake_audio\u001b[0m\u001b[1;33m:\u001b[0m\u001b[1;33m\u001b[0m\u001b[0m\n",
      "\u001b[0;32mC:\\ProgramData\\Miniconda3\\envs\\carnd-term1-gpu\\lib\\site-packages\\moviepy\\video\\io\\ffmpeg_writer.py\u001b[0m in \u001b[0;36mffmpeg_write_video\u001b[0;34m(clip, filename, fps, codec, bitrate, preset, withmask, write_logfile, audiofile, verbose, threads, ffmpeg_params)\u001b[0m\n\u001b[1;32m    214\u001b[0m \u001b[1;33m\u001b[0m\u001b[0m\n\u001b[1;32m    215\u001b[0m     for t,frame in clip.iter_frames(progress_bar=True, with_times=True,\n\u001b[0;32m--> 216\u001b[0;31m                                     fps=fps, dtype=\"uint8\"):\n\u001b[0m\u001b[1;32m    217\u001b[0m         \u001b[1;32mif\u001b[0m \u001b[0mwithmask\u001b[0m\u001b[1;33m:\u001b[0m\u001b[1;33m\u001b[0m\u001b[0m\n\u001b[1;32m    218\u001b[0m             \u001b[0mmask\u001b[0m \u001b[1;33m=\u001b[0m \u001b[1;33m(\u001b[0m\u001b[1;36m255\u001b[0m\u001b[1;33m*\u001b[0m\u001b[0mclip\u001b[0m\u001b[1;33m.\u001b[0m\u001b[0mmask\u001b[0m\u001b[1;33m.\u001b[0m\u001b[0mget_frame\u001b[0m\u001b[1;33m(\u001b[0m\u001b[0mt\u001b[0m\u001b[1;33m)\u001b[0m\u001b[1;33m)\u001b[0m\u001b[1;33m\u001b[0m\u001b[0m\n",
      "\u001b[0;32mC:\\ProgramData\\Miniconda3\\envs\\carnd-term1-gpu\\lib\\site-packages\\tqdm\\_tqdm.py\u001b[0m in \u001b[0;36m__iter__\u001b[0;34m(self)\u001b[0m\n\u001b[1;32m    831\u001b[0m \"\"\", fp_write=getattr(self.fp, 'write', sys.stderr.write))\n\u001b[1;32m    832\u001b[0m \u001b[1;33m\u001b[0m\u001b[0m\n\u001b[0;32m--> 833\u001b[0;31m             \u001b[1;32mfor\u001b[0m \u001b[0mobj\u001b[0m \u001b[1;32min\u001b[0m \u001b[0miterable\u001b[0m\u001b[1;33m:\u001b[0m\u001b[1;33m\u001b[0m\u001b[0m\n\u001b[0m\u001b[1;32m    834\u001b[0m                 \u001b[1;32myield\u001b[0m \u001b[0mobj\u001b[0m\u001b[1;33m\u001b[0m\u001b[0m\n\u001b[1;32m    835\u001b[0m                 \u001b[1;31m# Update and print the progressbar.\u001b[0m\u001b[1;33m\u001b[0m\u001b[1;33m\u001b[0m\u001b[0m\n",
      "\u001b[0;32mC:\\ProgramData\\Miniconda3\\envs\\carnd-term1-gpu\\lib\\site-packages\\moviepy\\Clip.py\u001b[0m in \u001b[0;36mgenerator\u001b[0;34m()\u001b[0m\n\u001b[1;32m    471\u001b[0m             \u001b[1;32mfor\u001b[0m \u001b[0mt\u001b[0m \u001b[1;32min\u001b[0m \u001b[0mnp\u001b[0m\u001b[1;33m.\u001b[0m\u001b[0marange\u001b[0m\u001b[1;33m(\u001b[0m\u001b[1;36m0\u001b[0m\u001b[1;33m,\u001b[0m \u001b[0mself\u001b[0m\u001b[1;33m.\u001b[0m\u001b[0mduration\u001b[0m\u001b[1;33m,\u001b[0m \u001b[1;36m1.0\u001b[0m\u001b[1;33m/\u001b[0m\u001b[0mfps\u001b[0m\u001b[1;33m)\u001b[0m\u001b[1;33m:\u001b[0m\u001b[1;33m\u001b[0m\u001b[0m\n\u001b[1;32m    472\u001b[0m \u001b[1;33m\u001b[0m\u001b[0m\n\u001b[0;32m--> 473\u001b[0;31m                 \u001b[0mframe\u001b[0m \u001b[1;33m=\u001b[0m \u001b[0mself\u001b[0m\u001b[1;33m.\u001b[0m\u001b[0mget_frame\u001b[0m\u001b[1;33m(\u001b[0m\u001b[0mt\u001b[0m\u001b[1;33m)\u001b[0m\u001b[1;33m\u001b[0m\u001b[0m\n\u001b[0m\u001b[1;32m    474\u001b[0m \u001b[1;33m\u001b[0m\u001b[0m\n\u001b[1;32m    475\u001b[0m                 \u001b[1;32mif\u001b[0m \u001b[1;33m(\u001b[0m\u001b[0mdtype\u001b[0m \u001b[1;32mis\u001b[0m \u001b[1;32mnot\u001b[0m \u001b[1;32mNone\u001b[0m\u001b[1;33m)\u001b[0m \u001b[1;32mand\u001b[0m \u001b[1;33m(\u001b[0m\u001b[0mframe\u001b[0m\u001b[1;33m.\u001b[0m\u001b[0mdtype\u001b[0m \u001b[1;33m!=\u001b[0m \u001b[0mdtype\u001b[0m\u001b[1;33m)\u001b[0m\u001b[1;33m:\u001b[0m\u001b[1;33m\u001b[0m\u001b[0m\n",
      "\u001b[0;32m<decorator-gen-136>\u001b[0m in \u001b[0;36mget_frame\u001b[0;34m(self, t)\u001b[0m\n",
      "\u001b[0;32mC:\\ProgramData\\Miniconda3\\envs\\carnd-term1-gpu\\lib\\site-packages\\moviepy\\decorators.py\u001b[0m in \u001b[0;36mwrapper\u001b[0;34m(f, *a, **kw)\u001b[0m\n\u001b[1;32m     87\u001b[0m         new_kw = {k: fun(v) if k in varnames else v\n\u001b[1;32m     88\u001b[0m                  for (k,v) in kw.items()}\n\u001b[0;32m---> 89\u001b[0;31m         \u001b[1;32mreturn\u001b[0m \u001b[0mf\u001b[0m\u001b[1;33m(\u001b[0m\u001b[1;33m*\u001b[0m\u001b[0mnew_a\u001b[0m\u001b[1;33m,\u001b[0m \u001b[1;33m**\u001b[0m\u001b[0mnew_kw\u001b[0m\u001b[1;33m)\u001b[0m\u001b[1;33m\u001b[0m\u001b[0m\n\u001b[0m\u001b[1;32m     90\u001b[0m     \u001b[1;32mreturn\u001b[0m \u001b[0mdecorator\u001b[0m\u001b[1;33m.\u001b[0m\u001b[0mdecorator\u001b[0m\u001b[1;33m(\u001b[0m\u001b[0mwrapper\u001b[0m\u001b[1;33m)\u001b[0m\u001b[1;33m\u001b[0m\u001b[0m\n\u001b[1;32m     91\u001b[0m \u001b[1;33m\u001b[0m\u001b[0m\n",
      "\u001b[0;32mC:\\ProgramData\\Miniconda3\\envs\\carnd-term1-gpu\\lib\\site-packages\\moviepy\\Clip.py\u001b[0m in \u001b[0;36mget_frame\u001b[0;34m(self, t)\u001b[0m\n\u001b[1;32m     93\u001b[0m                 \u001b[1;32mreturn\u001b[0m \u001b[0mframe\u001b[0m\u001b[1;33m\u001b[0m\u001b[0m\n\u001b[1;32m     94\u001b[0m         \u001b[1;32melse\u001b[0m\u001b[1;33m:\u001b[0m\u001b[1;33m\u001b[0m\u001b[0m\n\u001b[0;32m---> 95\u001b[0;31m             \u001b[1;32mreturn\u001b[0m \u001b[0mself\u001b[0m\u001b[1;33m.\u001b[0m\u001b[0mmake_frame\u001b[0m\u001b[1;33m(\u001b[0m\u001b[0mt\u001b[0m\u001b[1;33m)\u001b[0m\u001b[1;33m\u001b[0m\u001b[0m\n\u001b[0m\u001b[1;32m     96\u001b[0m \u001b[1;33m\u001b[0m\u001b[0m\n\u001b[1;32m     97\u001b[0m     \u001b[1;32mdef\u001b[0m \u001b[0mfl\u001b[0m\u001b[1;33m(\u001b[0m\u001b[0mself\u001b[0m\u001b[1;33m,\u001b[0m \u001b[0mfun\u001b[0m\u001b[1;33m,\u001b[0m \u001b[0mapply_to\u001b[0m\u001b[1;33m=\u001b[0m\u001b[1;33m[\u001b[0m\u001b[1;33m]\u001b[0m \u001b[1;33m,\u001b[0m \u001b[0mkeep_duration\u001b[0m\u001b[1;33m=\u001b[0m\u001b[1;32mTrue\u001b[0m\u001b[1;33m)\u001b[0m\u001b[1;33m:\u001b[0m\u001b[1;33m\u001b[0m\u001b[0m\n",
      "\u001b[0;32mC:\\ProgramData\\Miniconda3\\envs\\carnd-term1-gpu\\lib\\site-packages\\moviepy\\Clip.py\u001b[0m in \u001b[0;36m<lambda>\u001b[0;34m(t)\u001b[0m\n\u001b[1;32m    134\u001b[0m \u001b[1;33m\u001b[0m\u001b[0m\n\u001b[1;32m    135\u001b[0m         \u001b[1;31m#mf = copy(self.make_frame)\u001b[0m\u001b[1;33m\u001b[0m\u001b[1;33m\u001b[0m\u001b[0m\n\u001b[0;32m--> 136\u001b[0;31m         \u001b[0mnewclip\u001b[0m \u001b[1;33m=\u001b[0m \u001b[0mself\u001b[0m\u001b[1;33m.\u001b[0m\u001b[0mset_make_frame\u001b[0m\u001b[1;33m(\u001b[0m\u001b[1;32mlambda\u001b[0m \u001b[0mt\u001b[0m\u001b[1;33m:\u001b[0m \u001b[0mfun\u001b[0m\u001b[1;33m(\u001b[0m\u001b[0mself\u001b[0m\u001b[1;33m.\u001b[0m\u001b[0mget_frame\u001b[0m\u001b[1;33m,\u001b[0m \u001b[0mt\u001b[0m\u001b[1;33m)\u001b[0m\u001b[1;33m)\u001b[0m\u001b[1;33m\u001b[0m\u001b[0m\n\u001b[0m\u001b[1;32m    137\u001b[0m \u001b[1;33m\u001b[0m\u001b[0m\n\u001b[1;32m    138\u001b[0m         \u001b[1;32mif\u001b[0m \u001b[1;32mnot\u001b[0m \u001b[0mkeep_duration\u001b[0m\u001b[1;33m:\u001b[0m\u001b[1;33m\u001b[0m\u001b[0m\n",
      "\u001b[0;32mC:\\ProgramData\\Miniconda3\\envs\\carnd-term1-gpu\\lib\\site-packages\\moviepy\\video\\VideoClip.py\u001b[0m in \u001b[0;36m<lambda>\u001b[0;34m(gf, t)\u001b[0m\n\u001b[1;32m    511\u001b[0m         \u001b[0;31m`\u001b[0m\u001b[0mget_frame\u001b[0m\u001b[1;33m(\u001b[0m\u001b[0mt\u001b[0m\u001b[1;33m)\u001b[0m\u001b[0;31m`\u001b[0m \u001b[0mby\u001b[0m \u001b[0manother\u001b[0m \u001b[0mframe\u001b[0m\u001b[1;33m,\u001b[0m\u001b[0;31m \u001b[0m\u001b[0;31m \u001b[0m\u001b[0;31m`\u001b[0m\u001b[0mimage_func\u001b[0m\u001b[1;33m(\u001b[0m\u001b[0mget_frame\u001b[0m\u001b[1;33m(\u001b[0m\u001b[0mt\u001b[0m\u001b[1;33m)\u001b[0m\u001b[1;33m)\u001b[0m\u001b[0;31m`\u001b[0m\u001b[1;33m\u001b[0m\u001b[0m\n\u001b[1;32m    512\u001b[0m         \"\"\"\n\u001b[0;32m--> 513\u001b[0;31m         \u001b[1;32mreturn\u001b[0m \u001b[0mself\u001b[0m\u001b[1;33m.\u001b[0m\u001b[0mfl\u001b[0m\u001b[1;33m(\u001b[0m\u001b[1;32mlambda\u001b[0m \u001b[0mgf\u001b[0m\u001b[1;33m,\u001b[0m \u001b[0mt\u001b[0m\u001b[1;33m:\u001b[0m \u001b[0mimage_func\u001b[0m\u001b[1;33m(\u001b[0m\u001b[0mgf\u001b[0m\u001b[1;33m(\u001b[0m\u001b[0mt\u001b[0m\u001b[1;33m)\u001b[0m\u001b[1;33m)\u001b[0m\u001b[1;33m,\u001b[0m \u001b[0mapply_to\u001b[0m\u001b[1;33m)\u001b[0m\u001b[1;33m\u001b[0m\u001b[0m\n\u001b[0m\u001b[1;32m    514\u001b[0m \u001b[1;33m\u001b[0m\u001b[0m\n\u001b[1;32m    515\u001b[0m     \u001b[1;31m# --------------------------------------------------------------\u001b[0m\u001b[1;33m\u001b[0m\u001b[1;33m\u001b[0m\u001b[0m\n",
      "\u001b[0;32m<ipython-input-10-feb766f6543a>\u001b[0m in \u001b[0;36mprocess_image\u001b[0;34m(img)\u001b[0m\n\u001b[1;32m     40\u001b[0m         \u001b[0mwindow_centroids\u001b[0m \u001b[1;33m=\u001b[0m \u001b[1;32mNone\u001b[0m\u001b[1;33m\u001b[0m\u001b[0m\n\u001b[1;32m     41\u001b[0m \u001b[1;33m\u001b[0m\u001b[0m\n\u001b[0;32m---> 42\u001b[0;31m     \u001b[0mmasked_warped\u001b[0m\u001b[1;33m,\u001b[0m \u001b[0mwindows_warped\u001b[0m\u001b[1;33m,\u001b[0m \u001b[0mpixels_left\u001b[0m\u001b[1;33m,\u001b[0m \u001b[0mpixels_right\u001b[0m \u001b[1;33m=\u001b[0m  \u001b[0mmask_lines\u001b[0m\u001b[1;33m(\u001b[0m\u001b[0mwarped\u001b[0m\u001b[1;33m,\u001b[0m \u001b[0mwindow_centroids\u001b[0m\u001b[1;33m,\u001b[0m\u001b[0mbest_fit\u001b[0m\u001b[1;33m,\u001b[0m \u001b[0mwindow_width\u001b[0m\u001b[1;33m,\u001b[0m\u001b[0mwindow_height\u001b[0m\u001b[1;33m,\u001b[0m \u001b[0mmargin\u001b[0m\u001b[1;33m)\u001b[0m\u001b[1;33m\u001b[0m\u001b[0m\n\u001b[0m\u001b[1;32m     43\u001b[0m     \u001b[1;31m#print(pixels_left)\u001b[0m\u001b[1;33m\u001b[0m\u001b[1;33m\u001b[0m\u001b[0m\n\u001b[1;32m     44\u001b[0m     \u001b[1;31m#print(pixels_right)\u001b[0m\u001b[1;33m\u001b[0m\u001b[1;33m\u001b[0m\u001b[0m\n",
      "\u001b[0;32m<ipython-input-5-999aa39bd615>\u001b[0m in \u001b[0;36mmask_lines\u001b[0;34m(warped, window_centroids, previous_fit, window_width, window_height, margin)\u001b[0m\n\u001b[1;32m     88\u001b[0m         \u001b[0mright_fit\u001b[0m \u001b[1;33m=\u001b[0m \u001b[0mprevious_fit\u001b[0m\u001b[1;33m[\u001b[0m\u001b[1;36m1\u001b[0m\u001b[1;33m]\u001b[0m\u001b[1;33m\u001b[0m\u001b[0m\n\u001b[1;32m     89\u001b[0m         \u001b[0mleft_lane_inds\u001b[0m \u001b[1;33m=\u001b[0m \u001b[1;33m(\u001b[0m\u001b[1;33m(\u001b[0m\u001b[0mnonzerox\u001b[0m \u001b[1;33m>\u001b[0m \u001b[1;33m(\u001b[0m\u001b[0mleft_fit\u001b[0m\u001b[1;33m[\u001b[0m\u001b[1;36m0\u001b[0m\u001b[1;33m]\u001b[0m\u001b[1;33m*\u001b[0m\u001b[1;33m(\u001b[0m\u001b[0mnonzeroy\u001b[0m\u001b[1;33m**\u001b[0m\u001b[1;36m2\u001b[0m\u001b[1;33m)\u001b[0m \u001b[1;33m+\u001b[0m \u001b[0mleft_fit\u001b[0m\u001b[1;33m[\u001b[0m\u001b[1;36m1\u001b[0m\u001b[1;33m]\u001b[0m\u001b[1;33m*\u001b[0m\u001b[0mnonzeroy\u001b[0m \u001b[1;33m+\u001b[0m \u001b[0mleft_fit\u001b[0m\u001b[1;33m[\u001b[0m\u001b[1;36m2\u001b[0m\u001b[1;33m]\u001b[0m \u001b[1;33m-\u001b[0m \u001b[0mmargin\u001b[0m\u001b[1;33m)\u001b[0m\u001b[1;33m)\u001b[0m \u001b[1;33m&\u001b[0m \u001b[1;33m(\u001b[0m\u001b[0mnonzerox\u001b[0m \u001b[1;33m<\u001b[0m \u001b[1;33m(\u001b[0m\u001b[0mleft_fit\u001b[0m\u001b[1;33m[\u001b[0m\u001b[1;36m0\u001b[0m\u001b[1;33m]\u001b[0m\u001b[1;33m*\u001b[0m\u001b[1;33m(\u001b[0m\u001b[0mnonzeroy\u001b[0m\u001b[1;33m**\u001b[0m\u001b[1;36m2\u001b[0m\u001b[1;33m)\u001b[0m \u001b[1;33m+\u001b[0m \u001b[0mleft_fit\u001b[0m\u001b[1;33m[\u001b[0m\u001b[1;36m1\u001b[0m\u001b[1;33m]\u001b[0m\u001b[1;33m*\u001b[0m\u001b[0mnonzeroy\u001b[0m \u001b[1;33m+\u001b[0m \u001b[0mleft_fit\u001b[0m\u001b[1;33m[\u001b[0m\u001b[1;36m2\u001b[0m\u001b[1;33m]\u001b[0m \u001b[1;33m+\u001b[0m \u001b[0mmargin\u001b[0m\u001b[1;33m)\u001b[0m\u001b[1;33m)\u001b[0m\u001b[1;33m)\u001b[0m\u001b[1;33m\u001b[0m\u001b[0m\n\u001b[0;32m---> 90\u001b[0;31m         \u001b[0mright_lane_inds\u001b[0m \u001b[1;33m=\u001b[0m \u001b[1;33m(\u001b[0m\u001b[1;33m(\u001b[0m\u001b[0mnonzerox\u001b[0m \u001b[1;33m>\u001b[0m \u001b[1;33m(\u001b[0m\u001b[0mright_fit\u001b[0m\u001b[1;33m[\u001b[0m\u001b[1;36m0\u001b[0m\u001b[1;33m]\u001b[0m\u001b[1;33m*\u001b[0m\u001b[1;33m(\u001b[0m\u001b[0mnonzeroy\u001b[0m\u001b[1;33m**\u001b[0m\u001b[1;36m2\u001b[0m\u001b[1;33m)\u001b[0m \u001b[1;33m+\u001b[0m \u001b[0mright_fit\u001b[0m\u001b[1;33m[\u001b[0m\u001b[1;36m1\u001b[0m\u001b[1;33m]\u001b[0m\u001b[1;33m*\u001b[0m\u001b[0mnonzeroy\u001b[0m \u001b[1;33m+\u001b[0m \u001b[0mright_fit\u001b[0m\u001b[1;33m[\u001b[0m\u001b[1;36m2\u001b[0m\u001b[1;33m]\u001b[0m \u001b[1;33m-\u001b[0m \u001b[0mmargin\u001b[0m\u001b[1;33m)\u001b[0m\u001b[1;33m)\u001b[0m \u001b[1;33m&\u001b[0m \u001b[1;33m(\u001b[0m\u001b[0mnonzerox\u001b[0m \u001b[1;33m<\u001b[0m \u001b[1;33m(\u001b[0m\u001b[0mright_fit\u001b[0m\u001b[1;33m[\u001b[0m\u001b[1;36m0\u001b[0m\u001b[1;33m]\u001b[0m\u001b[1;33m*\u001b[0m\u001b[1;33m(\u001b[0m\u001b[0mnonzeroy\u001b[0m\u001b[1;33m**\u001b[0m\u001b[1;36m2\u001b[0m\u001b[1;33m)\u001b[0m \u001b[1;33m+\u001b[0m \u001b[0mright_fit\u001b[0m\u001b[1;33m[\u001b[0m\u001b[1;36m1\u001b[0m\u001b[1;33m]\u001b[0m\u001b[1;33m*\u001b[0m\u001b[0mnonzeroy\u001b[0m \u001b[1;33m+\u001b[0m \u001b[0mright_fit\u001b[0m\u001b[1;33m[\u001b[0m\u001b[1;36m2\u001b[0m\u001b[1;33m]\u001b[0m \u001b[1;33m+\u001b[0m \u001b[0mmargin\u001b[0m\u001b[1;33m)\u001b[0m\u001b[1;33m)\u001b[0m\u001b[1;33m)\u001b[0m\u001b[1;33m\u001b[0m\u001b[0m\n\u001b[0m\u001b[1;32m     91\u001b[0m         \u001b[1;31m#print(left_fit)\u001b[0m\u001b[1;33m\u001b[0m\u001b[1;33m\u001b[0m\u001b[0m\n\u001b[1;32m     92\u001b[0m         \u001b[1;31m#print(right_fit)\u001b[0m\u001b[1;33m\u001b[0m\u001b[1;33m\u001b[0m\u001b[0m\n",
      "\u001b[0;31mKeyboardInterrupt\u001b[0m: "
     ]
    }
   ],
   "source": [
    "left_line = Line()\n",
    "right_line = Line()\n",
    "video_output = 'harder_challenge_video_out.mp4'\n",
    "clip1 = VideoFileClip(\"harder_challenge_video.mp4\")\n",
    "video_output_clip = clip1.fl_image(process_image) #NOTE: this function expects color images!!\n",
    "%time video_output_clip.write_videofile(video_output, audio=False)"
   ]
  },
  {
   "cell_type": "code",
   "execution_count": null,
   "metadata": {
    "collapsed": true,
    "deletable": true,
    "editable": true
   },
   "outputs": [],
   "source": []
  }
 ],
 "metadata": {
  "kernelspec": {
   "display_name": "Python 3",
   "language": "python",
   "name": "python3"
  },
  "language_info": {
   "codemirror_mode": {
    "name": "ipython",
    "version": 3
   },
   "file_extension": ".py",
   "mimetype": "text/x-python",
   "name": "python",
   "nbconvert_exporter": "python",
   "pygments_lexer": "ipython3",
   "version": "3.5.2"
  },
  "widgets": {
   "state": {},
   "version": "1.1.2"
  }
 },
 "nbformat": 4,
 "nbformat_minor": 2
}
